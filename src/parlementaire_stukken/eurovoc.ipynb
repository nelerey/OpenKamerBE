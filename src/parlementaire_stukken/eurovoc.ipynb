{
 "cells": [
  {
   "cell_type": "code",
   "execution_count": 1,
   "metadata": {},
   "outputs": [
    {
     "data": {
      "text/plain": [
       "<Graph identifier=N7625426e505d4a3087b554750e682fd3 (<class 'rdflib.graph.Graph'>)>"
      ]
     },
     "execution_count": 1,
     "metadata": {},
     "output_type": "execute_result"
    }
   ],
   "source": [
    "from rdflib import Graph\n",
    "g = Graph()\n",
    "g.parse(\"../../resources/eurovoc-skos-ap-eu.rdf\")"
   ]
  },
  {
   "cell_type": "code",
   "execution_count": 2,
   "metadata": {},
   "outputs": [
    {
     "data": {
      "text/plain": [
       "<Graph identifier=N7625426e505d4a3087b554750e682fd3 (<class 'rdflib.graph.Graph'>)>"
      ]
     },
     "execution_count": 2,
     "metadata": {},
     "output_type": "execute_result"
    }
   ],
   "source": [
    "g"
   ]
  },
  {
   "cell_type": "code",
   "execution_count": 5,
   "metadata": {},
   "outputs": [
    {
     "name": "stdout",
     "output_type": "stream",
     "text": [
      "(rdflib.term.URIRef('http://eurovoc.europa.eu/81'), rdflib.term.URIRef('http://www.w3.org/2004/02/skos/core#altLabel'), rdflib.term.Literal(\"women's position\", lang='en'))\n",
      "(rdflib.term.URIRef('http://eurovoc.europa.eu/5176'), rdflib.term.URIRef('http://www.w3.org/2008/05/skos-xl#prefLabel'), rdflib.term.URIRef('http://eurovoc.europa.eu/110652'))\n",
      "(rdflib.term.URIRef('http://eurovoc.europa.eu/438643'), rdflib.term.URIRef('http://purl.org/dc/terms/type'), rdflib.term.URIRef('http://publications.europa.eu/resource/authority/label-type/STANDARDLABEL'))\n",
      "(rdflib.term.URIRef('http://eurovoc.europa.eu/3035'), rdflib.term.URIRef('http://www.w3.org/2004/02/skos/core#altLabel'), rdflib.term.Literal('vēlēšanu likumības pārbaude', lang='lv'))\n",
      "(rdflib.term.URIRef('http://eurovoc.europa.eu/156298'), rdflib.term.URIRef('http://www.w3.org/2008/05/skos-xl#literalForm'), rdflib.term.Literal('association', lang='da'))\n",
      "(rdflib.term.URIRef('http://eurovoc.europa.eu/496773'), rdflib.term.URIRef('http://www.w3.org/2008/05/skos-xl#literalForm'), rdflib.term.Literal('eursko područje', lang='hr'))\n",
      "(rdflib.term.URIRef('http://eurovoc.europa.eu/1537'), rdflib.term.URIRef('http://www.w3.org/2008/05/skos-xl#altLabel'), rdflib.term.URIRef('http://eurovoc.europa.eu/118157'))\n",
      "(rdflib.term.URIRef('http://eurovoc.europa.eu/284109'), rdflib.term.URIRef('http://www.w3.org/2002/07/owl#versionInfo'), rdflib.term.Literal('n/a'))\n",
      "(rdflib.term.URIRef('http://eurovoc.europa.eu/4650'), rdflib.term.URIRef('http://www.w3.org/2004/02/skos/core#prefLabel'), rdflib.term.Literal('теле', lang='bg'))\n",
      "(rdflib.term.URIRef('http://eurovoc.europa.eu/348168'), rdflib.term.URIRef('http://purl.org/dc/terms/type'), rdflib.term.URIRef('http://publications.europa.eu/resource/authority/label-type/STANDARDLABEL'))\n",
      "(rdflib.term.URIRef('http://eurovoc.europa.eu/4302'), rdflib.term.URIRef('http://www.w3.org/2008/05/skos-xl#altLabel'), rdflib.term.URIRef('http://eurovoc.europa.eu/294096'))\n"
     ]
    }
   ],
   "source": [
    "for i, (s, p, o) in enumerate(g):\n",
    "    print((s, p, o))\n",
    "    if i == 10:\n",
    "        break"
   ]
  },
  {
   "cell_type": "code",
   "execution_count": 23,
   "metadata": {},
   "outputs": [
    {
     "data": {
      "text/plain": [
       "'16 ECONOMIE'"
      ]
     },
     "execution_count": 23,
     "metadata": {},
     "output_type": "execute_result"
    }
   ],
   "source": [
    "from rdflib import Graph, Literal, URIRef\n",
    "from unidecode import unidecode\n",
    "import logging\n",
    "\n",
    "\n",
    "# Function to search concepts by literal string\n",
    "def search_concepts_fast(graph, literal_string):\n",
    "    results = []\n",
    "    # Search for the literal in the graph\n",
    "    for s, p, o in graph.triples((None, URIRef('http://www.w3.org/2004/02/skos/core#prefLabel'), Literal(literal_string, lang='nl'))):\n",
    "        results.append(s)\n",
    "    return results\n",
    "\n",
    "def search_concepts_slow(graph, literal_string):\n",
    "    results = []\n",
    "    # Iterate over all triples with the prefLabel property\n",
    "    for s, p, o in graph.triples((None, URIRef('http://www.w3.org/2004/02/skos/core#prefLabel'), None)):\n",
    "        # Check if the object's value matches the literal_string, ignoring case\n",
    "        if o.language == 'nl' and unidecode(o.lower()) == unidecode(literal_string.lower()):\n",
    "            results.append(s)\n",
    "    \n",
    "    if results:\n",
    "        return results\n",
    "    \n",
    "    results = []\n",
    "    # Iterate over all triples with the prefLabel property\n",
    "    for s, p, o in graph.triples((None, URIRef('http://www.w3.org/2004/02/skos/core#altLabel'), None)):\n",
    "        # Check if the object's value matches the literal_string, ignoring case\n",
    "        if o.language == 'nl' and unidecode(o.lower()) == unidecode(literal_string.lower()):\n",
    "            results.append(s)\n",
    "    \n",
    "    if results:\n",
    "        return results\n",
    "    \n",
    "    results = []\n",
    "    # Iterate over all triples with the prefLabel property\n",
    "    for s, p, o in graph.triples((None, URIRef('http://www.w3.org/2004/02/skos/core#prefLabel'), None)):\n",
    "        # Check if the object's value matches the literal_string, ignoring case\n",
    "        if o.language == 'nl' and \"\".join(unidecode(literal_string.lower()).split()) in \"\".join(unidecode(o.lower()).split()):\n",
    "            results.append(s)\n",
    "    \n",
    "    if results:\n",
    "        return results\n",
    "    \n",
    "    results = []\n",
    "    # Iterate over all triples with the prefLabel property\n",
    "    for s, p, o in graph.triples((None, URIRef('http://www.w3.org/2004/02/skos/core#altLabel'), None)):\n",
    "        # Check if the object's value matches the literal_string, ignoring case\n",
    "        if o.language == 'nl' and \"\".join(unidecode(literal_string.lower()).split()) in \"\".join(unidecode(o.lower()).split()):\n",
    "            results.append(s)\n",
    "    \n",
    "    if results:\n",
    "        return results\n",
    "    \n",
    "    return []\n",
    "    \n",
    "\n",
    "\n",
    "# Function to retrieve broader concepts\n",
    "def find_broader_concepts(graph, concept_uri):\n",
    "    broader_concepts = []\n",
    "    for s, p, o in graph.triples((concept_uri, URIRef('http://www.w3.org/2004/02/skos/core#broader'), None)):\n",
    "        broader_concepts.append((s, p, o))\n",
    "        broader_concepts.extend(find_broader_concepts(graph, o))  # Recursively find broader concepts\n",
    "    return broader_concepts\n",
    "\n",
    "# Function to find Top Concept Of the broadest concept\n",
    "def find_top_concept_of(graph, concept_uri):\n",
    "    top_concept_of = []\n",
    "    for s, p, o in graph.triples((concept_uri, URIRef('http://www.w3.org/2004/02/skos/core#topConceptOf'), None)):\n",
    "        top_concept_of.append((s, p, o))\n",
    "        top_concept_of.extend(find_top_concept_of(graph, o))  # Recursively find broader concepts\n",
    "    return top_concept_of\n",
    "\n",
    "# Function to find Domain of a Top Concept\n",
    "def find_domain(graph, top_concept_uri):\n",
    "    domain = []\n",
    "    for s, p, o in graph.triples((top_concept_uri, URIRef('http://publications.europa.eu/ontology/euvoc#domain'), None)):\n",
    "        domain.append((s, p, o))\n",
    "        domain.extend(find_domain(graph, o))  # Recursively find broader concepts\n",
    "    return domain\n",
    "\n",
    "# Function to search concepts by literal string\n",
    "def search_literal(graph, domain_uri):\n",
    "    results = []\n",
    "    # Search for the prefLabel property in the given domain_uri specifically in Dutch\n",
    "    for s, p, o in graph.triples((domain_uri, SKOS.prefLabel, None)):\n",
    "        if o.language == 'nl':\n",
    "            results.append((s, p, str(o)))  # Convert Literal to string for better readability\n",
    "    return results\n",
    "\n",
    "\n",
    "def get_domain(query):\n",
    "    # Example usage\n",
    "    concept_search = query.lower()\n",
    "    concepts = search_concepts_fast(g, concept_search)\n",
    "    if not concepts:\n",
    "        concepts = search_concepts_slow(g, concept_search)\n",
    "    # print(\"Found concepts:\", concepts)\n",
    "    # print(search_literal(g, concepts[0])[0][2])\n",
    "    # print(\"\\n\")\n",
    "\n",
    "    # Concepts error handling\n",
    "    if len(concepts) == 0:\n",
    "        raise ValueError(\"Concept not found\")\n",
    "    elif len(concepts) > 1:\n",
    "        logging.warning(f\"More than 1 concept found? {[search_literal(g, c)[0][2] for c in concepts]}\\nPicking first one.\")\n",
    "\n",
    "    concept = concepts[0]\n",
    "\n",
    "    # Get broader concepts for a found concept\n",
    "    broader = find_broader_concepts(g, concept)\n",
    "    # print(\"Broader concepts:\", broader)\n",
    "\n",
    "    if broader:\n",
    "        # print(search_literal(g, broader[-1][2])[0][2])\n",
    "        concept = broader[-1][2]\n",
    "\n",
    "    # print(\"\\n\")\n",
    "\n",
    "    # Get the top concept of the broadest concept\n",
    "    top = find_top_concept_of(g, concept)\n",
    "    # print(\"Top concepts:\", top)\n",
    "    # print(search_literal(g, top[-1][2])[0][2])\n",
    "\n",
    "    # print(\"\\n\")\n",
    "\n",
    "    # Get the top concept of the broadest concept\n",
    "    domain = find_domain(g, top[-1][2])\n",
    "    # print(\"Domain:\", domain)\n",
    "    # print(search_literal(g, domain[0][2])[0][2])\n",
    "\n",
    "    return search_literal(g, domain[0][2])[0][2]\n",
    "\n",
    "get_domain(\"COMMUNAUTAIRE HULP\")"
   ]
  },
  {
   "cell_type": "code",
   "execution_count": 24,
   "metadata": {},
   "outputs": [
    {
     "name": "stdout",
     "output_type": "stream",
     "text": [
      "4015\n"
     ]
    }
   ],
   "source": [
    "import json\n",
    "import os\n",
    "\n",
    "folder_path = \"../../src/parlementaire_stukken/json\"\n",
    "\n",
    "kamerstukken = []\n",
    "for filename in os.listdir(folder_path):\n",
    "    if filename.endswith(\".json\"):\n",
    "        file_path = os.path.join(folder_path, filename)\n",
    "        with open(file_path, \"r\", encoding=\"utf-8\") as file:\n",
    "            data = json.load(file)\n",
    "        kamerstukken.append((filename, data))\n",
    "print(len(kamerstukken))"
   ]
  },
  {
   "cell_type": "code",
   "execution_count": 34,
   "metadata": {},
   "outputs": [],
   "source": [
    "import json\n",
    "\n",
    "from common.text_corrections import fix_name\n",
    "\n",
    "with open(\"../../members.json\", \"r\") as fp:\n",
    "    name_metadata = json.load(fp)\n",
    "name_to_party = {fix_name(n[\"name\"], swap_first_last_name=True): n[\"party\"] for n in name_metadata}"
   ]
  },
  {
   "cell_type": "code",
   "execution_count": 49,
   "metadata": {},
   "outputs": [
    {
     "name": "stderr",
     "output_type": "stream",
     "text": [
      "  0%|          | 0/4015 [00:00<?, ?it/s]"
     ]
    },
    {
     "name": "stderr",
     "output_type": "stream",
     "text": [
      "  0%|          | 3/4015 [00:00<15:50,  4.22it/s]"
     ]
    },
    {
     "name": "stdout",
     "output_type": "stream",
     "text": [
      "55K0374.json\n"
     ]
    },
    {
     "name": "stderr",
     "output_type": "stream",
     "text": [
      "  1%|          | 27/4015 [00:05<17:13,  3.86it/s]"
     ]
    },
    {
     "name": "stdout",
     "output_type": "stream",
     "text": [
      "55K1899.json\n"
     ]
    },
    {
     "name": "stderr",
     "output_type": "stream",
     "text": [
      "  2%|▏         | 95/4015 [00:13<07:17,  8.96it/s]"
     ]
    },
    {
     "name": "stdout",
     "output_type": "stream",
     "text": [
      "55K0776.json\n",
      "55K2759.json\n",
      "55K3899.json\n"
     ]
    },
    {
     "name": "stderr",
     "output_type": "stream",
     "text": [
      "WARNING:root:More than 1 concept found? ['Eurogroep (NAVO)', 'Eurogroep (eurozone)']\n",
      "Picking first one.\n",
      "  3%|▎         | 117/4015 [00:19<13:15,  4.90it/s]WARNING:root:More than 1 concept found? ['persoon met een lichamelijke beperking', 'persoon met een verstandelijke beperking', 'persoon met een verstandelijke beperking', 'faciliteiten voor mensen met een beperking', 'werknemer met een beperking', 'buitengewoon onderwijs']\n",
      "Picking first one.\n",
      "  3%|▎         | 133/4015 [00:23<14:26,  4.48it/s]WARNING:root:More than 1 concept found? ['overheidsopdrachten', 'Overeenkomst inzake overheidsopdrachten', 'overheidsopdracht voor leveringen', 'overheidsopdracht voor werken', 'groene overheidsopdracht']\n",
      "Picking first one.\n",
      "  4%|▎         | 143/4015 [00:25<13:42,  4.71it/s]"
     ]
    },
    {
     "name": "stdout",
     "output_type": "stream",
     "text": [
      "55K0960.json\n"
     ]
    },
    {
     "name": "stderr",
     "output_type": "stream",
     "text": [
      "  5%|▍         | 191/4015 [00:30<08:23,  7.60it/s]"
     ]
    },
    {
     "name": "stdout",
     "output_type": "stream",
     "text": [
      "55K2075.json\n"
     ]
    },
    {
     "name": "stderr",
     "output_type": "stream",
     "text": [
      "  5%|▌         | 208/4015 [00:39<27:35,  2.30it/s]"
     ]
    },
    {
     "name": "stdout",
     "output_type": "stream",
     "text": [
      "55K0609.json\n",
      "55K1993.json\n"
     ]
    },
    {
     "name": "stderr",
     "output_type": "stream",
     "text": [
      "  6%|▌         | 249/4015 [00:44<11:11,  5.61it/s]WARNING:root:More than 1 concept found? ['personeelsbenoeming', 'benoeming van de leden', 'benoemingsbevoegdheid']\n",
      "Picking first one.\n",
      "  6%|▋         | 256/4015 [00:46<12:56,  4.84it/s]WARNING:root:More than 1 concept found? ['persoon met een lichamelijke beperking', 'persoon met een verstandelijke beperking', 'persoon met een verstandelijke beperking', 'faciliteiten voor mensen met een beperking', 'werknemer met een beperking', 'buitengewoon onderwijs']\n",
      "Picking first one.\n",
      "  8%|▊         | 319/4015 [01:00<11:03,  5.57it/s]"
     ]
    },
    {
     "name": "stdout",
     "output_type": "stream",
     "text": [
      "55K3910.json\n",
      "55K2608.json\n"
     ]
    },
    {
     "name": "stderr",
     "output_type": "stream",
     "text": [
      "  9%|▊         | 344/4015 [01:00<04:48, 12.74it/s]"
     ]
    },
    {
     "name": "stdout",
     "output_type": "stream",
     "text": [
      "55K2040.json\n",
      "55K0923.json\n"
     ]
    },
    {
     "name": "stderr",
     "output_type": "stream",
     "text": [
      " 10%|▉         | 383/4015 [01:04<05:41, 10.63it/s]"
     ]
    },
    {
     "name": "stdout",
     "output_type": "stream",
     "text": [
      "55K0564.json\n"
     ]
    },
    {
     "name": "stderr",
     "output_type": "stream",
     "text": [
      " 10%|▉         | 397/4015 [01:08<09:07,  6.60it/s]"
     ]
    },
    {
     "name": "stdout",
     "output_type": "stream",
     "text": [
      "55K1445.json\n"
     ]
    },
    {
     "name": "stderr",
     "output_type": "stream",
     "text": [
      " 12%|█▏        | 482/4015 [01:11<02:23, 24.68it/s]WARNING:root:More than 1 concept found? ['persoon met een lichamelijke beperking', 'persoon met een verstandelijke beperking', 'persoon met een verstandelijke beperking', 'faciliteiten voor mensen met een beperking', 'werknemer met een beperking', 'buitengewoon onderwijs']\n",
      "Picking first one.\n",
      " 12%|█▏        | 486/4015 [01:14<05:20, 11.00it/s]"
     ]
    },
    {
     "name": "stdout",
     "output_type": "stream",
     "text": [
      "55K1022.json\n"
     ]
    },
    {
     "name": "stderr",
     "output_type": "stream",
     "text": [
      " 13%|█▎        | 528/4015 [01:17<04:53, 11.90it/s]"
     ]
    },
    {
     "name": "stdout",
     "output_type": "stream",
     "text": [
      "55K2101.json\n"
     ]
    },
    {
     "name": "stderr",
     "output_type": "stream",
     "text": [
      " 14%|█▍        | 560/4015 [01:22<11:14,  5.12it/s]"
     ]
    },
    {
     "name": "stdout",
     "output_type": "stream",
     "text": [
      "55K1913.json\n"
     ]
    },
    {
     "name": "stderr",
     "output_type": "stream",
     "text": [
      " 15%|█▍        | 595/4015 [01:25<06:58,  8.16it/s]WARNING:root:More than 1 concept found? ['Eurogroep (NAVO)', 'Eurogroep (eurozone)']\n",
      "Picking first one.\n",
      " 15%|█▍        | 600/4015 [01:28<11:05,  5.13it/s]"
     ]
    },
    {
     "name": "stdout",
     "output_type": "stream",
     "text": [
      "55K2160.json\n"
     ]
    },
    {
     "name": "stderr",
     "output_type": "stream",
     "text": [
      " 16%|█▌        | 625/4015 [01:30<07:16,  7.77it/s]"
     ]
    },
    {
     "name": "stdout",
     "output_type": "stream",
     "text": [
      "55K1998.json\n",
      "55K0834.json\n",
      "55K0220.json\n"
     ]
    },
    {
     "name": "stderr",
     "output_type": "stream",
     "text": [
      " 17%|█▋        | 680/4015 [01:33<04:13, 13.14it/s]"
     ]
    },
    {
     "name": "stdout",
     "output_type": "stream",
     "text": [
      "55K2109.json\n"
     ]
    },
    {
     "name": "stderr",
     "output_type": "stream",
     "text": [
      " 18%|█▊        | 706/4015 [01:34<02:58, 18.51it/s]"
     ]
    },
    {
     "name": "stdout",
     "output_type": "stream",
     "text": [
      "55K0880.json\n"
     ]
    },
    {
     "name": "stderr",
     "output_type": "stream",
     "text": [
      " 18%|█▊        | 726/4015 [01:37<04:54, 11.16it/s]"
     ]
    },
    {
     "name": "stdout",
     "output_type": "stream",
     "text": [
      "55K2583.json\n"
     ]
    },
    {
     "name": "stderr",
     "output_type": "stream",
     "text": [
      " 21%|██        | 834/4015 [01:48<02:44, 19.35it/s]"
     ]
    },
    {
     "name": "stdout",
     "output_type": "stream",
     "text": [
      "55K2539.json\n"
     ]
    },
    {
     "name": "stderr",
     "output_type": "stream",
     "text": [
      " 21%|██        | 838/4015 [01:51<05:41,  9.31it/s]"
     ]
    },
    {
     "name": "stdout",
     "output_type": "stream",
     "text": [
      "55K0811.json\n",
      "55K2483.json\n"
     ]
    },
    {
     "name": "stderr",
     "output_type": "stream",
     "text": [
      " 22%|██▏       | 878/4015 [01:56<05:22,  9.72it/s]"
     ]
    },
    {
     "name": "stdout",
     "output_type": "stream",
     "text": [
      "55K0363.json\n"
     ]
    },
    {
     "name": "stderr",
     "output_type": "stream",
     "text": [
      " 23%|██▎       | 931/4015 [02:00<05:56,  8.65it/s]"
     ]
    },
    {
     "name": "stdout",
     "output_type": "stream",
     "text": [
      "55K0875.json\n"
     ]
    },
    {
     "name": "stderr",
     "output_type": "stream",
     "text": [
      " 24%|██▎       | 946/4015 [02:05<12:09,  4.20it/s]WARNING:root:More than 1 concept found? ['persoon met een lichamelijke beperking', 'persoon met een verstandelijke beperking', 'persoon met een verstandelijke beperking', 'faciliteiten voor mensen met een beperking', 'werknemer met een beperking', 'buitengewoon onderwijs']\n",
      "Picking first one.\n",
      " 24%|██▍       | 965/4015 [02:08<08:57,  5.67it/s]"
     ]
    },
    {
     "name": "stdout",
     "output_type": "stream",
     "text": [
      "55K0390.json\n"
     ]
    },
    {
     "name": "stderr",
     "output_type": "stream",
     "text": [
      " 24%|██▍       | 976/4015 [02:10<09:41,  5.22it/s]"
     ]
    },
    {
     "name": "stdout",
     "output_type": "stream",
     "text": [
      "55K1161.json\n"
     ]
    },
    {
     "name": "stderr",
     "output_type": "stream",
     "text": [
      " 24%|██▍       | 980/4015 [02:11<11:08,  4.54it/s]"
     ]
    },
    {
     "name": "stdout",
     "output_type": "stream",
     "text": [
      "55K1905.json\n"
     ]
    },
    {
     "name": "stderr",
     "output_type": "stream",
     "text": [
      " 25%|██▌       | 1008/4015 [02:15<08:04,  6.21it/s]WARNING:root:More than 1 concept found? ['persoon met een lichamelijke beperking', 'persoon met een verstandelijke beperking', 'persoon met een verstandelijke beperking', 'faciliteiten voor mensen met een beperking', 'werknemer met een beperking', 'buitengewoon onderwijs']\n",
      "Picking first one.\n",
      " 25%|██▌       | 1023/4015 [02:19<09:42,  5.13it/s]"
     ]
    },
    {
     "name": "stdout",
     "output_type": "stream",
     "text": [
      "55K0126.json\n"
     ]
    },
    {
     "name": "stderr",
     "output_type": "stream",
     "text": [
      " 26%|██▌       | 1046/4015 [02:21<06:10,  8.01it/s]WARNING:root:More than 1 concept found? ['persoon met een lichamelijke beperking', 'persoon met een verstandelijke beperking', 'persoon met een verstandelijke beperking', 'faciliteiten voor mensen met een beperking', 'werknemer met een beperking', 'buitengewoon onderwijs']\n",
      "Picking first one.\n",
      " 27%|██▋       | 1093/4015 [02:27<06:18,  7.73it/s]"
     ]
    },
    {
     "name": "stdout",
     "output_type": "stream",
     "text": [
      "55K0859.json\n"
     ]
    },
    {
     "name": "stderr",
     "output_type": "stream",
     "text": [
      " 29%|██▊       | 1152/4015 [02:32<04:06, 11.63it/s]"
     ]
    },
    {
     "name": "stdout",
     "output_type": "stream",
     "text": [
      "55K3159.json\n"
     ]
    },
    {
     "name": "stderr",
     "output_type": "stream",
     "text": [
      " 30%|██▉       | 1185/4015 [02:32<02:05, 22.56it/s]WARNING:root:More than 1 concept found? ['persoon met een lichamelijke beperking', 'persoon met een verstandelijke beperking', 'persoon met een verstandelijke beperking', 'faciliteiten voor mensen met een beperking', 'werknemer met een beperking', 'buitengewoon onderwijs']\n",
      "Picking first one.\n",
      " 31%|███▏      | 1255/4015 [02:41<04:21, 10.55it/s]"
     ]
    },
    {
     "name": "stdout",
     "output_type": "stream",
     "text": [
      "55K0649.json\n"
     ]
    },
    {
     "name": "stderr",
     "output_type": "stream",
     "text": [
      " 32%|███▏      | 1300/4015 [02:48<07:06,  6.37it/s]"
     ]
    },
    {
     "name": "stdout",
     "output_type": "stream",
     "text": [
      "55K0900.json\n"
     ]
    },
    {
     "name": "stderr",
     "output_type": "stream",
     "text": [
      " 33%|███▎      | 1306/4015 [02:49<06:35,  6.84it/s]"
     ]
    },
    {
     "name": "stdout",
     "output_type": "stream",
     "text": [
      "55K3637.json\n"
     ]
    },
    {
     "name": "stderr",
     "output_type": "stream",
     "text": [
      " 33%|███▎      | 1321/4015 [02:50<05:34,  8.05it/s]"
     ]
    },
    {
     "name": "stdout",
     "output_type": "stream",
     "text": [
      "55K2126.json\n",
      "55K1989.json\n"
     ]
    },
    {
     "name": "stderr",
     "output_type": "stream",
     "text": [
      " 33%|███▎      | 1326/4015 [02:51<05:35,  8.03it/s]"
     ]
    },
    {
     "name": "stdout",
     "output_type": "stream",
     "text": [
      "55K2637.json\n"
     ]
    },
    {
     "name": "stderr",
     "output_type": "stream",
     "text": [
      " 34%|███▎      | 1351/4015 [02:57<13:22,  3.32it/s]"
     ]
    },
    {
     "name": "stdout",
     "output_type": "stream",
     "text": [
      "55K0469.json\n"
     ]
    },
    {
     "name": "stderr",
     "output_type": "stream",
     "text": [
      " 34%|███▍      | 1375/4015 [02:59<06:43,  6.54it/s]"
     ]
    },
    {
     "name": "stdout",
     "output_type": "stream",
     "text": [
      "55K0844.json\n"
     ]
    },
    {
     "name": "stderr",
     "output_type": "stream",
     "text": [
      " 35%|███▍      | 1387/4015 [03:01<05:45,  7.61it/s]"
     ]
    },
    {
     "name": "stdout",
     "output_type": "stream",
     "text": [
      "55K2344.json\n"
     ]
    },
    {
     "name": "stderr",
     "output_type": "stream",
     "text": [
      " 36%|███▌      | 1438/4015 [03:04<04:11, 10.24it/s]WARNING:root:More than 1 concept found? ['persoon met een lichamelijke beperking', 'persoon met een verstandelijke beperking', 'persoon met een verstandelijke beperking', 'faciliteiten voor mensen met een beperking', 'werknemer met een beperking', 'buitengewoon onderwijs']\n",
      "Picking first one.\n",
      " 36%|███▌      | 1443/4015 [03:06<06:56,  6.17it/s]"
     ]
    },
    {
     "name": "stdout",
     "output_type": "stream",
     "text": [
      "55K2018.json\n",
      "55K2216.json\n",
      "55K0957.json\n",
      "55K0685.json\n"
     ]
    },
    {
     "name": "stderr",
     "output_type": "stream",
     "text": [
      " 37%|███▋      | 1475/4015 [03:14<11:06,  3.81it/s]"
     ]
    },
    {
     "name": "stdout",
     "output_type": "stream",
     "text": [
      "55K0702.json\n"
     ]
    },
    {
     "name": "stderr",
     "output_type": "stream",
     "text": [
      " 40%|███▉      | 1588/4015 [03:29<08:53,  4.55it/s]"
     ]
    },
    {
     "name": "stdout",
     "output_type": "stream",
     "text": [
      "55K0983.json\n"
     ]
    },
    {
     "name": "stderr",
     "output_type": "stream",
     "text": [
      " 40%|████      | 1622/4015 [03:31<04:06,  9.69it/s]WARNING:root:More than 1 concept found? ['persoon met een lichamelijke beperking', 'persoon met een verstandelijke beperking', 'persoon met een verstandelijke beperking', 'faciliteiten voor mensen met een beperking', 'werknemer met een beperking', 'buitengewoon onderwijs']\n",
      "Picking first one.\n",
      " 42%|████▏     | 1687/4015 [03:41<03:39, 10.58it/s]"
     ]
    },
    {
     "name": "stdout",
     "output_type": "stream",
     "text": [
      "55K0139.json\n"
     ]
    },
    {
     "name": "stderr",
     "output_type": "stream",
     "text": [
      " 43%|████▎     | 1729/4015 [03:45<03:50,  9.90it/s]"
     ]
    },
    {
     "name": "stdout",
     "output_type": "stream",
     "text": [
      "55K2045.json\n",
      "55K3474.json\n",
      "55K2580.json\n"
     ]
    },
    {
     "name": "stderr",
     "output_type": "stream",
     "text": [
      " 44%|████▍     | 1771/4015 [03:48<03:01, 12.36it/s]"
     ]
    },
    {
     "name": "stdout",
     "output_type": "stream",
     "text": [
      "55K2445.json\n"
     ]
    },
    {
     "name": "stderr",
     "output_type": "stream",
     "text": [
      " 44%|████▍     | 1774/4015 [03:48<03:23, 11.01it/s]"
     ]
    },
    {
     "name": "stdout",
     "output_type": "stream",
     "text": [
      "55K3649.json\n"
     ]
    },
    {
     "name": "stderr",
     "output_type": "stream",
     "text": [
      " 45%|████▍     | 1795/4015 [03:50<03:30, 10.55it/s]"
     ]
    },
    {
     "name": "stdout",
     "output_type": "stream",
     "text": [
      "55K1444.json\n",
      "55K2215.json\n"
     ]
    },
    {
     "name": "stderr",
     "output_type": "stream",
     "text": [
      " 45%|████▌     | 1820/4015 [03:53<04:28,  8.17it/s]"
     ]
    },
    {
     "name": "stdout",
     "output_type": "stream",
     "text": [
      "55K2057.json\n",
      "55K2360.json\n",
      "55K2340.json\n"
     ]
    },
    {
     "name": "stderr",
     "output_type": "stream",
     "text": [
      "WARNING:root:More than 1 concept found? ['overheidsopdrachten', 'Overeenkomst inzake overheidsopdrachten', 'overheidsopdracht voor leveringen', 'overheidsopdracht voor werken', 'groene overheidsopdracht']\n",
      "Picking first one.\n",
      " 46%|████▌     | 1852/4015 [03:55<03:27, 10.44it/s]"
     ]
    },
    {
     "name": "stdout",
     "output_type": "stream",
     "text": [
      "55K2561.json\n"
     ]
    },
    {
     "name": "stderr",
     "output_type": "stream",
     "text": [
      " 47%|████▋     | 1872/4015 [03:59<06:23,  5.58it/s]"
     ]
    },
    {
     "name": "stdout",
     "output_type": "stream",
     "text": [
      "55K0796.json\n"
     ]
    },
    {
     "name": "stderr",
     "output_type": "stream",
     "text": [
      " 47%|████▋     | 1899/4015 [04:00<02:41, 13.08it/s]"
     ]
    },
    {
     "name": "stdout",
     "output_type": "stream",
     "text": [
      "55K0298.json\n",
      "55K2943.json\n"
     ]
    },
    {
     "name": "stderr",
     "output_type": "stream",
     "text": [
      " 48%|████▊     | 1916/4015 [04:02<03:45,  9.30it/s]"
     ]
    },
    {
     "name": "stdout",
     "output_type": "stream",
     "text": [
      "55K1944.json\n"
     ]
    },
    {
     "name": "stderr",
     "output_type": "stream",
     "text": [
      " 48%|████▊     | 1922/4015 [04:03<03:45,  9.28it/s]"
     ]
    },
    {
     "name": "stdout",
     "output_type": "stream",
     "text": [
      "55K2661.json\n",
      "55K0971.json\n"
     ]
    },
    {
     "name": "stderr",
     "output_type": "stream",
     "text": [
      " 49%|████▉     | 1964/4015 [04:05<01:48, 18.87it/s]"
     ]
    },
    {
     "name": "stdout",
     "output_type": "stream",
     "text": [
      "55K0015.json\n"
     ]
    },
    {
     "name": "stderr",
     "output_type": "stream",
     "text": [
      " 49%|████▉     | 1973/4015 [04:07<03:24, 10.00it/s]WARNING:root:More than 1 concept found? ['personeelsbenoeming', 'benoeming van de leden', 'benoemingsbevoegdheid']\n",
      "Picking first one.\n",
      " 50%|████▉     | 1999/4015 [04:10<03:19, 10.11it/s]"
     ]
    },
    {
     "name": "stdout",
     "output_type": "stream",
     "text": [
      "55K0659.json\n"
     ]
    },
    {
     "name": "stderr",
     "output_type": "stream",
     "text": [
      " 50%|████▉     | 2004/4015 [04:11<03:24,  9.82it/s]WARNING:root:More than 1 concept found? ['persoon met een lichamelijke beperking', 'persoon met een verstandelijke beperking', 'persoon met een verstandelijke beperking', 'faciliteiten voor mensen met een beperking', 'werknemer met een beperking', 'buitengewoon onderwijs']\n",
      "Picking first one.\n",
      " 50%|████▉     | 2006/4015 [04:13<06:47,  4.94it/s]"
     ]
    },
    {
     "name": "stdout",
     "output_type": "stream",
     "text": [
      "55K3996.json\n"
     ]
    },
    {
     "name": "stderr",
     "output_type": "stream",
     "text": [
      " 50%|█████     | 2017/4015 [04:15<06:30,  5.11it/s]"
     ]
    },
    {
     "name": "stdout",
     "output_type": "stream",
     "text": [
      "55K2339.json\n"
     ]
    },
    {
     "name": "stderr",
     "output_type": "stream",
     "text": [
      " 52%|█████▏    | 2070/4015 [04:19<05:06,  6.34it/s]"
     ]
    },
    {
     "name": "stdout",
     "output_type": "stream",
     "text": [
      "55K2473.json\n"
     ]
    },
    {
     "name": "stderr",
     "output_type": "stream",
     "text": [
      " 52%|█████▏    | 2091/4015 [04:22<05:17,  6.06it/s]"
     ]
    },
    {
     "name": "stdout",
     "output_type": "stream",
     "text": [
      "55K0584.json\n"
     ]
    },
    {
     "name": "stderr",
     "output_type": "stream",
     "text": [
      " 52%|█████▏    | 2106/4015 [04:26<06:02,  5.26it/s]"
     ]
    },
    {
     "name": "stdout",
     "output_type": "stream",
     "text": [
      "55K2433.json\n"
     ]
    },
    {
     "name": "stderr",
     "output_type": "stream",
     "text": [
      " 53%|█████▎    | 2146/4015 [04:29<02:49, 11.03it/s]"
     ]
    },
    {
     "name": "stdout",
     "output_type": "stream",
     "text": [
      "55K3160.json\n",
      "55K1943.json\n",
      "55K0931.json\n"
     ]
    },
    {
     "name": "stderr",
     "output_type": "stream",
     "text": [
      " 54%|█████▍    | 2172/4015 [04:31<03:33,  8.64it/s]WARNING:root:More than 1 concept found? ['personeelsbenoeming', 'benoeming van de leden', 'benoemingsbevoegdheid']\n",
      "Picking first one.\n",
      " 55%|█████▌    | 2224/4015 [04:35<01:55, 15.45it/s]"
     ]
    },
    {
     "name": "stdout",
     "output_type": "stream",
     "text": [
      "55K0864.json\n"
     ]
    },
    {
     "name": "stderr",
     "output_type": "stream",
     "text": [
      " 56%|█████▋    | 2260/4015 [04:36<01:08, 25.64it/s]"
     ]
    },
    {
     "name": "stdout",
     "output_type": "stream",
     "text": [
      "55K3847.json\n"
     ]
    },
    {
     "name": "stderr",
     "output_type": "stream",
     "text": [
      " 56%|█████▋    | 2268/4015 [04:37<01:15, 23.16it/s]"
     ]
    },
    {
     "name": "stdout",
     "output_type": "stream",
     "text": [
      "55K0862.json\n"
     ]
    },
    {
     "name": "stderr",
     "output_type": "stream",
     "text": [
      " 59%|█████▊    | 2350/4015 [04:40<00:59, 27.76it/s]"
     ]
    },
    {
     "name": "stdout",
     "output_type": "stream",
     "text": [
      "55K2480.json\n"
     ]
    },
    {
     "name": "stderr",
     "output_type": "stream",
     "text": [
      " 61%|██████    | 2448/4015 [04:47<01:21, 19.20it/s]"
     ]
    },
    {
     "name": "stdout",
     "output_type": "stream",
     "text": [
      "55K2076.json\n"
     ]
    },
    {
     "name": "stderr",
     "output_type": "stream",
     "text": [
      " 61%|██████▏   | 2461/4015 [04:50<03:17,  7.85it/s]"
     ]
    },
    {
     "name": "stdout",
     "output_type": "stream",
     "text": [
      "55K2437.json\n",
      "55K2569.json\n"
     ]
    },
    {
     "name": "stderr",
     "output_type": "stream",
     "text": [
      " 63%|██████▎   | 2520/4015 [04:54<01:51, 13.40it/s]"
     ]
    },
    {
     "name": "stdout",
     "output_type": "stream",
     "text": [
      "55K2187.json\n"
     ]
    },
    {
     "name": "stderr",
     "output_type": "stream",
     "text": [
      " 65%|██████▍   | 2593/4015 [05:00<03:30,  6.76it/s]"
     ]
    },
    {
     "name": "stdout",
     "output_type": "stream",
     "text": [
      "55K2462.json\n"
     ]
    },
    {
     "name": "stderr",
     "output_type": "stream",
     "text": [
      " 66%|██████▌   | 2633/4015 [05:03<01:55, 12.01it/s]"
     ]
    },
    {
     "name": "stdout",
     "output_type": "stream",
     "text": [
      "55K0724.json\n",
      "55K0737.json\n"
     ]
    },
    {
     "name": "stderr",
     "output_type": "stream",
     "text": [
      " 67%|██████▋   | 2672/4015 [05:05<01:21, 16.52it/s]"
     ]
    },
    {
     "name": "stdout",
     "output_type": "stream",
     "text": [
      "55K2080.json\n"
     ]
    },
    {
     "name": "stderr",
     "output_type": "stream",
     "text": [
      " 68%|██████▊   | 2742/4015 [05:13<03:40,  5.76it/s]"
     ]
    },
    {
     "name": "stdout",
     "output_type": "stream",
     "text": [
      "55K4037.json\n"
     ]
    },
    {
     "name": "stderr",
     "output_type": "stream",
     "text": [
      " 69%|██████▉   | 2776/4015 [05:14<01:23, 14.79it/s]"
     ]
    },
    {
     "name": "stdout",
     "output_type": "stream",
     "text": [
      "55K0976.json\n"
     ]
    },
    {
     "name": "stderr",
     "output_type": "stream",
     "text": [
      " 70%|███████   | 2811/4015 [05:15<01:12, 16.72it/s]"
     ]
    },
    {
     "name": "stdout",
     "output_type": "stream",
     "text": [
      "55K1594.json\n"
     ]
    },
    {
     "name": "stderr",
     "output_type": "stream",
     "text": [
      " 70%|███████   | 2828/4015 [05:17<01:47, 11.08it/s]"
     ]
    },
    {
     "name": "stdout",
     "output_type": "stream",
     "text": [
      "55K0876.json\n"
     ]
    },
    {
     "name": "stderr",
     "output_type": "stream",
     "text": [
      " 71%|███████   | 2839/4015 [05:18<01:42, 11.47it/s]WARNING:root:More than 1 concept found? ['persoon met een lichamelijke beperking', 'persoon met een verstandelijke beperking', 'persoon met een verstandelijke beperking', 'faciliteiten voor mensen met een beperking', 'werknemer met een beperking', 'buitengewoon onderwijs']\n",
      "Picking first one.\n",
      " 72%|███████▏  | 2879/4015 [05:24<01:31, 12.46it/s]"
     ]
    },
    {
     "name": "stdout",
     "output_type": "stream",
     "text": [
      "55K2599.json\n"
     ]
    },
    {
     "name": "stderr",
     "output_type": "stream",
     "text": [
      " 73%|███████▎  | 2919/4015 [05:27<01:31, 11.95it/s]WARNING:root:More than 1 concept found? ['overheidsopdrachten', 'Overeenkomst inzake overheidsopdrachten', 'overheidsopdracht voor leveringen', 'overheidsopdracht voor werken', 'groene overheidsopdracht']\n",
      "Picking first one.\n",
      " 73%|███████▎  | 2924/4015 [05:28<02:13,  8.19it/s]"
     ]
    },
    {
     "name": "stdout",
     "output_type": "stream",
     "text": [
      "55K1927.json\n"
     ]
    },
    {
     "name": "stderr",
     "output_type": "stream",
     "text": [
      " 73%|███████▎  | 2942/4015 [05:30<01:56,  9.20it/s]"
     ]
    },
    {
     "name": "stdout",
     "output_type": "stream",
     "text": [
      "55K0753.json\n",
      "55K0590.json\n"
     ]
    },
    {
     "name": "stderr",
     "output_type": "stream",
     "text": [
      " 75%|███████▌  | 3026/4015 [05:32<00:44, 22.24it/s]"
     ]
    },
    {
     "name": "stdout",
     "output_type": "stream",
     "text": [
      "55K2636.json\n"
     ]
    },
    {
     "name": "stderr",
     "output_type": "stream",
     "text": [
      " 76%|███████▌  | 3044/4015 [05:36<02:06,  7.67it/s]"
     ]
    },
    {
     "name": "stdout",
     "output_type": "stream",
     "text": [
      "55K2925.json\n",
      "55K0962.json\n",
      "55K2203.json\n"
     ]
    },
    {
     "name": "stderr",
     "output_type": "stream",
     "text": [
      " 77%|███████▋  | 3089/4015 [05:37<00:47, 19.33it/s]"
     ]
    },
    {
     "name": "stdout",
     "output_type": "stream",
     "text": [
      "55K2085.json\n"
     ]
    },
    {
     "name": "stderr",
     "output_type": "stream",
     "text": [
      " 78%|███████▊  | 3121/4015 [05:38<00:47, 18.94it/s]WARNING:root:More than 1 concept found? ['persoon met een lichamelijke beperking', 'persoon met een verstandelijke beperking', 'persoon met een verstandelijke beperking', 'faciliteiten voor mensen met een beperking', 'werknemer met een beperking', 'buitengewoon onderwijs']\n",
      "Picking first one.\n",
      " 79%|███████▊  | 3157/4015 [05:45<01:26,  9.93it/s]"
     ]
    },
    {
     "name": "stdout",
     "output_type": "stream",
     "text": [
      "55K0788.json\n"
     ]
    },
    {
     "name": "stderr",
     "output_type": "stream",
     "text": [
      " 80%|███████▉  | 3195/4015 [05:48<01:10, 11.66it/s]"
     ]
    },
    {
     "name": "stdout",
     "output_type": "stream",
     "text": [
      "55K2132.json\n",
      "55K0953.json\n"
     ]
    },
    {
     "name": "stderr",
     "output_type": "stream",
     "text": [
      " 80%|███████▉  | 3204/4015 [05:48<00:59, 13.54it/s]"
     ]
    },
    {
     "name": "stdout",
     "output_type": "stream",
     "text": [
      "55K2421.json\n"
     ]
    },
    {
     "name": "stderr",
     "output_type": "stream",
     "text": [
      " 80%|████████  | 3227/4015 [05:51<01:45,  7.45it/s]"
     ]
    },
    {
     "name": "stdout",
     "output_type": "stream",
     "text": [
      "55K3158.json\n"
     ]
    },
    {
     "name": "stderr",
     "output_type": "stream",
     "text": [
      " 81%|████████  | 3236/4015 [05:52<01:14, 10.51it/s]"
     ]
    },
    {
     "name": "stdout",
     "output_type": "stream",
     "text": [
      "55K0684.json\n"
     ]
    },
    {
     "name": "stderr",
     "output_type": "stream",
     "text": [
      " 81%|████████▏ | 3263/4015 [05:54<00:52, 14.36it/s]WARNING:root:More than 1 concept found? ['overheidsopdrachten', 'Overeenkomst inzake overheidsopdrachten', 'overheidsopdracht voor leveringen', 'overheidsopdracht voor werken', 'groene overheidsopdracht']\n",
      "Picking first one.\n",
      " 81%|████████▏ | 3265/4015 [05:55<01:25,  8.82it/s]"
     ]
    },
    {
     "name": "stdout",
     "output_type": "stream",
     "text": [
      "55K2607.json\n",
      "55K1946.json\n"
     ]
    },
    {
     "name": "stderr",
     "output_type": "stream",
     "text": [
      " 82%|████████▏ | 3297/4015 [05:57<00:59, 12.02it/s]"
     ]
    },
    {
     "name": "stdout",
     "output_type": "stream",
     "text": [
      "55K2393.json\n"
     ]
    },
    {
     "name": "stderr",
     "output_type": "stream",
     "text": [
      " 83%|████████▎ | 3321/4015 [05:58<00:36, 19.04it/s]"
     ]
    },
    {
     "name": "stdout",
     "output_type": "stream",
     "text": [
      "55K1443.json\n"
     ]
    },
    {
     "name": "stderr",
     "output_type": "stream",
     "text": [
      " 83%|████████▎ | 3331/4015 [05:59<00:45, 14.89it/s]WARNING:root:More than 1 concept found? ['persoon met een lichamelijke beperking', 'persoon met een verstandelijke beperking', 'persoon met een verstandelijke beperking', 'faciliteiten voor mensen met een beperking', 'werknemer met een beperking', 'buitengewoon onderwijs']\n",
      "Picking first one.\n",
      " 83%|████████▎ | 3333/4015 [06:01<02:23,  4.75it/s]"
     ]
    },
    {
     "name": "stdout",
     "output_type": "stream",
     "text": [
      "55K2214.json\n"
     ]
    },
    {
     "name": "stderr",
     "output_type": "stream",
     "text": [
      " 83%|████████▎ | 3338/4015 [06:03<02:51,  3.96it/s]"
     ]
    },
    {
     "name": "stdout",
     "output_type": "stream",
     "text": [
      "55K2098.json\n"
     ]
    },
    {
     "name": "stderr",
     "output_type": "stream",
     "text": [
      " 85%|████████▌ | 3420/4015 [06:07<00:45, 12.94it/s]"
     ]
    },
    {
     "name": "stdout",
     "output_type": "stream",
     "text": [
      "55K1544.json\n"
     ]
    },
    {
     "name": "stderr",
     "output_type": "stream",
     "text": [
      " 86%|████████▌ | 3440/4015 [06:09<00:50, 11.39it/s]"
     ]
    },
    {
     "name": "stdout",
     "output_type": "stream",
     "text": [
      "55K1610.json\n"
     ]
    },
    {
     "name": "stderr",
     "output_type": "stream",
     "text": [
      " 86%|████████▌ | 3460/4015 [06:11<00:53, 10.38it/s]"
     ]
    },
    {
     "name": "stdout",
     "output_type": "stream",
     "text": [
      "55K0377.json\n"
     ]
    },
    {
     "name": "stderr",
     "output_type": "stream",
     "text": [
      " 87%|████████▋ | 3497/4015 [06:12<00:25, 20.03it/s]"
     ]
    },
    {
     "name": "stdout",
     "output_type": "stream",
     "text": [
      "55K2518.json\n",
      "55K0385.json\n"
     ]
    },
    {
     "name": "stderr",
     "output_type": "stream",
     "text": [
      " 88%|████████▊ | 3552/4015 [06:14<00:18, 25.10it/s]"
     ]
    },
    {
     "name": "stdout",
     "output_type": "stream",
     "text": [
      "55K2617.json\n"
     ]
    },
    {
     "name": "stderr",
     "output_type": "stream",
     "text": [
      " 89%|████████▉ | 3573/4015 [06:15<00:21, 21.04it/s]"
     ]
    },
    {
     "name": "stdout",
     "output_type": "stream",
     "text": [
      "55K2731.json\n"
     ]
    },
    {
     "name": "stderr",
     "output_type": "stream",
     "text": [
      " 90%|█████████ | 3616/4015 [06:20<00:40,  9.89it/s]"
     ]
    },
    {
     "name": "stdout",
     "output_type": "stream",
     "text": [
      "55K2843.json\n"
     ]
    },
    {
     "name": "stderr",
     "output_type": "stream",
     "text": [
      "WARNING:root:More than 1 concept found? ['persoon met een lichamelijke beperking', 'persoon met een verstandelijke beperking', 'persoon met een verstandelijke beperking', 'faciliteiten voor mensen met een beperking', 'werknemer met een beperking', 'buitengewoon onderwijs']\n",
      "Picking first one.\n",
      " 91%|█████████ | 3636/4015 [06:26<01:23,  4.54it/s]WARNING:root:More than 1 concept found? ['persoon met een lichamelijke beperking', 'persoon met een verstandelijke beperking', 'persoon met een verstandelijke beperking', 'faciliteiten voor mensen met een beperking', 'werknemer met een beperking', 'buitengewoon onderwijs']\n",
      "Picking first one.\n",
      " 91%|█████████ | 3637/4015 [06:28<02:15,  2.79it/s]WARNING:root:More than 1 concept found? ['personeelsbenoeming', 'benoeming van de leden', 'benoemingsbevoegdheid']\n",
      "Picking first one.\n",
      " 91%|█████████ | 3656/4015 [06:32<01:33,  3.84it/s]"
     ]
    },
    {
     "name": "stdout",
     "output_type": "stream",
     "text": [
      "55K0917.json\n",
      "55K2921.json\n"
     ]
    },
    {
     "name": "stderr",
     "output_type": "stream",
     "text": [
      " 92%|█████████▏| 3709/4015 [06:35<00:24, 12.45it/s]WARNING:root:More than 1 concept found? ['personeelsbenoeming', 'benoeming van de leden', 'benoemingsbevoegdheid']\n",
      "Picking first one.\n",
      " 93%|█████████▎| 3723/4015 [06:38<00:38,  7.54it/s]WARNING:root:More than 1 concept found? ['Europese Autoriteit voor verzekeringen en bedrijfspensioenen', 'cumuleren van pensioenen']\n",
      "Picking first one.\n",
      " 93%|█████████▎| 3725/4015 [06:40<00:50,  5.71it/s]"
     ]
    },
    {
     "name": "stdout",
     "output_type": "stream",
     "text": [
      "55K2223.json\n"
     ]
    },
    {
     "name": "stderr",
     "output_type": "stream",
     "text": [
      " 93%|█████████▎| 3754/4015 [06:40<00:21, 12.35it/s]"
     ]
    },
    {
     "name": "stdout",
     "output_type": "stream",
     "text": [
      "55K0751.json\n"
     ]
    },
    {
     "name": "stderr",
     "output_type": "stream",
     "text": [
      " 95%|█████████▌| 3825/4015 [06:49<00:23,  8.05it/s]"
     ]
    },
    {
     "name": "stdout",
     "output_type": "stream",
     "text": [
      "55K2211.json\n"
     ]
    },
    {
     "name": "stderr",
     "output_type": "stream",
     "text": [
      "WARNING:root:More than 1 concept found? ['Eurogroep (NAVO)', 'Eurogroep (eurozone)']\n",
      "Picking first one.\n",
      " 97%|█████████▋| 3876/4015 [06:54<00:16,  8.39it/s]WARNING:root:More than 1 concept found? ['overheidsopdrachten', 'Overeenkomst inzake overheidsopdrachten', 'overheidsopdracht voor leveringen', 'overheidsopdracht voor werken', 'groene overheidsopdracht']\n",
      "Picking first one.\n",
      " 97%|█████████▋| 3886/4015 [06:57<00:26,  4.93it/s]"
     ]
    },
    {
     "name": "stdout",
     "output_type": "stream",
     "text": [
      "55K2443.json\n"
     ]
    },
    {
     "name": "stderr",
     "output_type": "stream",
     "text": [
      " 97%|█████████▋| 3897/4015 [06:59<00:21,  5.43it/s]"
     ]
    },
    {
     "name": "stdout",
     "output_type": "stream",
     "text": [
      "55K2949.json\n"
     ]
    },
    {
     "name": "stderr",
     "output_type": "stream",
     "text": [
      " 97%|█████████▋| 3907/4015 [07:00<00:18,  5.84it/s]"
     ]
    },
    {
     "name": "stdout",
     "output_type": "stream",
     "text": [
      "55K2408.json\n"
     ]
    },
    {
     "name": "stderr",
     "output_type": "stream",
     "text": [
      "100%|██████████| 4015/4015 [07:06<00:00,  9.42it/s]\n"
     ]
    }
   ],
   "source": [
    "# Pseudocode\n",
    "from collections import defaultdict\n",
    "from tqdm import tqdm\n",
    "from common.text_corrections import fix_name\n",
    "\n",
    "\n",
    "parties_to_domains = defaultdict(lambda: defaultdict(int))\n",
    "for stukname, kamerstuk in tqdm(kamerstukken):\n",
    "    try:\n",
    "        hoofddescriptor = kamerstuk[\"Descriptoren, trefwoorden\"][\"Eurovoc-hoofddescriptor\"][\"NL\"]\n",
    "        auteurs = kamerstuk[\"Kamer en/of Senaat\"][\"Hoofddocument\"][-1][\"Auteur\"]\n",
    "\n",
    "        try:\n",
    "            domain = get_domain(hoofddescriptor)\n",
    "        except ValueError:\n",
    "            domain = hoofddescriptor\n",
    "        parties_seen = set()\n",
    "        for auteur in auteurs:\n",
    "            if auteur[\"Partij\"] == \"ZZZ\":\n",
    "                parties_to_domains[\"ZZZ\"][domain] += 1\n",
    "            else:\n",
    "                name = fix_name(f\"{auteur['Naam']} {auteur['Voornaam']}\", swap_first_last_name=False)\n",
    "                if name in name_to_party:\n",
    "                    party = name_to_party[name]\n",
    "                else:\n",
    "                    party = auteur[\"Partij\"]\n",
    "                if party not in parties_seen:\n",
    "                    parties_to_domains[party][domain] += 1\n",
    "                    parties_seen.add(party)\n",
    "    except KeyError:\n",
    "        print(stukname)\n"
   ]
  },
  {
   "cell_type": "code",
   "execution_count": 51,
   "metadata": {},
   "outputs": [
    {
     "data": {
      "text/plain": [
       "defaultdict(<function __main__.<lambda>()>,\n",
       "            {'ZZZ': defaultdict(int,\n",
       "                         {'08 INTERNATIONALE BETREKKINGEN': 98,\n",
       "                          '66 ENERGIE': 55,\n",
       "                          '28 SOCIALE VRAAGSTUKKEN': 158,\n",
       "                          '32 OPVOEDING, ONDERWIJS EN COMMUNICATIE': 31,\n",
       "                          '04 POLITIEK': 87,\n",
       "                          '12 RECHT': 121,\n",
       "                          '24 FINANCIËN': 146,\n",
       "                          '44 WERKGELEGENHEID EN ARBEID': 49,\n",
       "                          '48 TRANSPORT': 21,\n",
       "                          '52 MILIEU': 22,\n",
       "                          '40 ONDERNEMING EN CONCURRENTIE': 11,\n",
       "                          'GEESTELIJK GEHANDICAPTE': 1,\n",
       "                          '72 GEOGRAFIE': 3,\n",
       "                          '16 ECONOMIE': 19,\n",
       "                          '20 ECONOMIE, VERKEER EN HANDELSVERKEER': 20,\n",
       "                          '68 INDUSTRIE': 8,\n",
       "                          'PROGRAMMAWET': 5,\n",
       "                          '76 INTERNATIONALE ORGANISATIES': 10,\n",
       "                          '36 WETENSCHAPPEN': 3,\n",
       "                          '10 EUROPESE UNIE': 7,\n",
       "                          'NOTARIAAT': 1,\n",
       "                          'OPENBAARHEID VAN BESTUUR': 1,\n",
       "                          'RECHTERLIJKE INRICHTING': 3,\n",
       "                          '56 LANDBOUW, BOSBOUW, EN VISSERIJ': 7,\n",
       "                          '64 PRODUCTIE, TECHNOLOGIE EN ONDERZOEK': 4,\n",
       "                          'FACILITEITEN VOOR GEHANDICAPTEN': 3,\n",
       "                          'BELGISCH REKENHOF': 3,\n",
       "                          'HOGE RAAD VOOR DE JUSTITIE': 1,\n",
       "                          'RISICOPREVENTIE': 1,\n",
       "                          'CREG': 1,\n",
       "                          'JUSTITIELE SAMENWERKING EU': 1}),\n",
       "             'CD&V': defaultdict(int,\n",
       "                         {'76 INTERNATIONALE ORGANISATIES': 2,\n",
       "                          '28 SOCIALE VRAAGSTUKKEN': 168,\n",
       "                          '10 EUROPESE UNIE': 10,\n",
       "                          '04 POLITIEK': 51,\n",
       "                          '66 ENERGIE': 12,\n",
       "                          '40 ONDERNEMING EN CONCURRENTIE': 14,\n",
       "                          '12 RECHT': 64,\n",
       "                          '08 INTERNATIONALE BETREKKINGEN': 27,\n",
       "                          '72 GEOGRAFIE': 9,\n",
       "                          '48 TRANSPORT': 26,\n",
       "                          '32 OPVOEDING, ONDERWIJS EN COMMUNICATIE': 25,\n",
       "                          '24 FINANCIËN': 42,\n",
       "                          '16 ECONOMIE': 13,\n",
       "                          '20 ECONOMIE, VERKEER EN HANDELSVERKEER': 10,\n",
       "                          '44 WERKGELEGENHEID EN ARBEID': 23,\n",
       "                          'DEMOCRATISCHE REPUBLIEK KONGO': 2,\n",
       "                          '68 INDUSTRIE': 2,\n",
       "                          'COMITE P EN I': 1,\n",
       "                          'RECHTERLIJKE INRICHTING': 1,\n",
       "                          '36 WETENSCHAPPEN': 1,\n",
       "                          '52 MILIEU': 3,\n",
       "                          '60 LANDBOUWVOEDINGSMIDDELEN': 2}),\n",
       "             'VB': defaultdict(int,\n",
       "                         {'08 INTERNATIONALE BETREKKINGEN': 20,\n",
       "                          '28 SOCIALE VRAAGSTUKKEN': 36,\n",
       "                          '04 POLITIEK': 71,\n",
       "                          '40 ONDERNEMING EN CONCURRENTIE': 2,\n",
       "                          '66 ENERGIE': 9,\n",
       "                          '48 TRANSPORT': 9,\n",
       "                          '72 GEOGRAFIE': 14,\n",
       "                          '12 RECHT': 40,\n",
       "                          '44 WERKGELEGENHEID EN ARBEID': 6,\n",
       "                          '32 OPVOEDING, ONDERWIJS EN COMMUNICATIE': 5,\n",
       "                          '24 FINANCIËN': 10,\n",
       "                          '60 LANDBOUWVOEDINGSMIDDELEN': 1,\n",
       "                          '76 INTERNATIONALE ORGANISATIES': 2,\n",
       "                          'OPENBAARHEID VAN BESTUUR': 1,\n",
       "                          '52 MILIEU': 1,\n",
       "                          '20 ECONOMIE, VERKEER EN HANDELSVERKEER': 1,\n",
       "                          '16 ECONOMIE': 3,\n",
       "                          'TIBETKWESTIE': 1,\n",
       "                          'VLUCHTELINGENCENTRUM': 1}),\n",
       "             'Les Engagés': defaultdict(int,\n",
       "                         {'48 TRANSPORT': 11,\n",
       "                          '44 WERKGELEGENHEID EN ARBEID': 14,\n",
       "                          '28 SOCIALE VRAAGSTUKKEN': 85,\n",
       "                          '24 FINANCIËN': 30,\n",
       "                          '08 INTERNATIONALE BETREKKINGEN': 14,\n",
       "                          '16 ECONOMIE': 6,\n",
       "                          '12 RECHT': 35,\n",
       "                          '04 POLITIEK': 33,\n",
       "                          '20 ECONOMIE, VERKEER EN HANDELSVERKEER': 4,\n",
       "                          '60 LANDBOUWVOEDINGSMIDDELEN': 3,\n",
       "                          '52 MILIEU': 6,\n",
       "                          '32 OPVOEDING, ONDERWIJS EN COMMUNICATIE': 2,\n",
       "                          '10 EUROPESE UNIE': 1,\n",
       "                          '72 GEOGRAFIE': 6,\n",
       "                          '68 INDUSTRIE': 1,\n",
       "                          '66 ENERGIE': 3,\n",
       "                          '56 LANDBOUW, BOSBOUW, EN VISSERIJ': 3}),\n",
       "             'Vooruit': defaultdict(int,\n",
       "                         {'08 INTERNATIONALE BETREKKINGEN': 33,\n",
       "                          '28 SOCIALE VRAAGSTUKKEN': 122,\n",
       "                          '10 EUROPESE UNIE': 5,\n",
       "                          '04 POLITIEK': 37,\n",
       "                          '66 ENERGIE': 16,\n",
       "                          '12 RECHT': 69,\n",
       "                          '52 MILIEU': 11,\n",
       "                          '32 OPVOEDING, ONDERWIJS EN COMMUNICATIE': 15,\n",
       "                          '24 FINANCIËN': 52,\n",
       "                          '72 GEOGRAFIE': 9,\n",
       "                          '20 ECONOMIE, VERKEER EN HANDELSVERKEER': 11,\n",
       "                          '48 TRANSPORT': 23,\n",
       "                          '60 LANDBOUWVOEDINGSMIDDELEN': 1,\n",
       "                          '16 ECONOMIE': 11,\n",
       "                          '44 WERKGELEGENHEID EN ARBEID': 30,\n",
       "                          '40 ONDERNEMING EN CONCURRENTIE': 11,\n",
       "                          '56 LANDBOUW, BOSBOUW, EN VISSERIJ': 2,\n",
       "                          'DEMOCRATISCHE REPUBLIEK KONGO': 2,\n",
       "                          'COMITE P EN I': 1,\n",
       "                          '68 INDUSTRIE': 2,\n",
       "                          '76 INTERNATIONALE ORGANISATIES': 2}),\n",
       "             'Open Vld': defaultdict(int,\n",
       "                         {'12 RECHT': 68,\n",
       "                          '28 SOCIALE VRAAGSTUKKEN': 87,\n",
       "                          '04 POLITIEK': 68,\n",
       "                          '44 WERKGELEGENHEID EN ARBEID': 24,\n",
       "                          '76 INTERNATIONALE ORGANISATIES': 2,\n",
       "                          '08 INTERNATIONALE BETREKKINGEN': 22,\n",
       "                          '72 GEOGRAFIE': 11,\n",
       "                          '60 LANDBOUWVOEDINGSMIDDELEN': 2,\n",
       "                          '48 TRANSPORT': 22,\n",
       "                          '24 FINANCIËN': 25,\n",
       "                          '16 ECONOMIE': 12,\n",
       "                          '10 EUROPESE UNIE': 13,\n",
       "                          '66 ENERGIE': 8,\n",
       "                          '52 MILIEU': 6,\n",
       "                          'COMITE P EN COMITE I': 1,\n",
       "                          '64 PRODUCTIE, TECHNOLOGIE EN ONDERZOEK': 2,\n",
       "                          '32 OPVOEDING, ONDERWIJS EN COMMUNICATIE': 7,\n",
       "                          '56 LANDBOUW, BOSBOUW, EN VISSERIJ': 1,\n",
       "                          '20 ECONOMIE, VERKEER EN HANDELSVERKEER': 5,\n",
       "                          '40 ONDERNEMING EN CONCURRENTIE': 7,\n",
       "                          'DEMOCRATISCHE REPUBLIEK KONGO': 1,\n",
       "                          'COMITE P EN I': 1,\n",
       "                          'GEESTELIJK GEHANDICAPTE': 1,\n",
       "                          '68 INDUSTRIE': 1}),\n",
       "             'N-VA': defaultdict(int,\n",
       "                         {'28 SOCIALE VRAAGSTUKKEN': 127,\n",
       "                          '60 LANDBOUWVOEDINGSMIDDELEN': 2,\n",
       "                          '48 TRANSPORT': 24,\n",
       "                          '04 POLITIEK': 75,\n",
       "                          '32 OPVOEDING, ONDERWIJS EN COMMUNICATIE': 13,\n",
       "                          'NMBS': 2,\n",
       "                          '08 INTERNATIONALE BETREKKINGEN': 35,\n",
       "                          '12 RECHT': 79,\n",
       "                          '20 ECONOMIE, VERKEER EN HANDELSVERKEER': 7,\n",
       "                          'OPENBAARHEID VAN BESTUUR': 1,\n",
       "                          '24 FINANCIËN': 32,\n",
       "                          '44 WERKGELEGENHEID EN ARBEID': 20,\n",
       "                          '10 EUROPESE UNIE': 17,\n",
       "                          '16 ECONOMIE': 9,\n",
       "                          '64 PRODUCTIE, TECHNOLOGIE EN ONDERZOEK': 1,\n",
       "                          '66 ENERGIE': 19,\n",
       "                          '76 INTERNATIONALE ORGANISATIES': 8,\n",
       "                          '40 ONDERNEMING EN CONCURRENTIE': 5,\n",
       "                          '72 GEOGRAFIE': 10,\n",
       "                          '68 INDUSTRIE': 1,\n",
       "                          'RECHTERLIJKE INRICHTING': 1,\n",
       "                          '52 MILIEU': 2,\n",
       "                          'BELGISCH GRONDWETTELIJK HOF': 1,\n",
       "                          '56 LANDBOUW, BOSBOUW, EN VISSERIJ': 1,\n",
       "                          'QUATAR': 1}),\n",
       "             'MR': defaultdict(int,\n",
       "                         {'24 FINANCIËN': 31,\n",
       "                          '28 SOCIALE VRAAGSTUKKEN': 87,\n",
       "                          '72 GEOGRAFIE': 16,\n",
       "                          '04 POLITIEK': 55,\n",
       "                          '40 ONDERNEMING EN CONCURRENTIE': 7,\n",
       "                          '66 ENERGIE': 9,\n",
       "                          '44 WERKGELEGENHEID EN ARBEID': 15,\n",
       "                          '12 RECHT': 41,\n",
       "                          '76 INTERNATIONALE ORGANISATIES': 5,\n",
       "                          '16 ECONOMIE': 10,\n",
       "                          '08 INTERNATIONALE BETREKKINGEN': 26,\n",
       "                          '52 MILIEU': 6,\n",
       "                          'DEMOCRATISCHE REPUBLIEK KONGO': 2,\n",
       "                          '32 OPVOEDING, ONDERWIJS EN COMMUNICATIE': 9,\n",
       "                          '48 TRANSPORT': 13,\n",
       "                          '64 PRODUCTIE, TECHNOLOGIE EN ONDERZOEK': 1,\n",
       "                          '10 EUROPESE UNIE': 2,\n",
       "                          '68 INDUSTRIE': 1,\n",
       "                          'COMITE P EN I': 1,\n",
       "                          'RECHTERLIJKE INRICHTING': 1,\n",
       "                          '60 LANDBOUWVOEDINGSMIDDELEN': 1,\n",
       "                          '20 ECONOMIE, VERKEER EN HANDELSVERKEER': 4}),\n",
       "             'Groen': defaultdict(int,\n",
       "                         {'24 FINANCIËN': 33,\n",
       "                          '28 SOCIALE VRAAGSTUKKEN': 97,\n",
       "                          '04 POLITIEK': 62,\n",
       "                          '32 OPVOEDING, ONDERWIJS EN COMMUNICATIE': 21,\n",
       "                          '12 RECHT': 47,\n",
       "                          '52 MILIEU': 21,\n",
       "                          '08 INTERNATIONALE BETREKKINGEN': 31,\n",
       "                          '72 GEOGRAFIE': 15,\n",
       "                          '40 ONDERNEMING EN CONCURRENTIE': 5,\n",
       "                          '10 EUROPESE UNIE': 11,\n",
       "                          '16 ECONOMIE': 12,\n",
       "                          '48 TRANSPORT': 29,\n",
       "                          '36 WETENSCHAPPEN': 1,\n",
       "                          '20 ECONOMIE, VERKEER EN HANDELSVERKEER': 3,\n",
       "                          '44 WERKGELEGENHEID EN ARBEID': 16,\n",
       "                          '66 ENERGIE': 15,\n",
       "                          'DEMOCRATISCHE REPUBLIEK KONGO': 2,\n",
       "                          'BUITENGRENS VAN DE GEMEENSCHAP': 1,\n",
       "                          'OPENBAARHEID VAN BESTUUR': 1,\n",
       "                          '68 INDUSTRIE': 1,\n",
       "                          'COMITE P EN I': 1,\n",
       "                          'INTERNERING': 1,\n",
       "                          'TAX SHELTER': 1,\n",
       "                          '76 INTERNATIONALE ORGANISATIES': 2,\n",
       "                          'QUATAR': 1,\n",
       "                          '60 LANDBOUWVOEDINGSMIDDELEN': 1,\n",
       "                          '56 LANDBOUW, BOSBOUW, EN VISSERIJ': 2}),\n",
       "             'Ecolo': defaultdict(int,\n",
       "                         {'24 FINANCIËN': 33,\n",
       "                          '28 SOCIALE VRAAGSTUKKEN': 103,\n",
       "                          '44 WERKGELEGENHEID EN ARBEID': 19,\n",
       "                          '04 POLITIEK': 62,\n",
       "                          '32 OPVOEDING, ONDERWIJS EN COMMUNICATIE': 25,\n",
       "                          '52 MILIEU': 25,\n",
       "                          '08 INTERNATIONALE BETREKKINGEN': 36,\n",
       "                          '72 GEOGRAFIE': 12,\n",
       "                          '40 ONDERNEMING EN CONCURRENTIE': 5,\n",
       "                          '16 ECONOMIE': 9,\n",
       "                          '48 TRANSPORT': 23,\n",
       "                          '36 WETENSCHAPPEN': 1,\n",
       "                          '12 RECHT': 53,\n",
       "                          '66 ENERGIE': 25,\n",
       "                          '20 ECONOMIE, VERKEER EN HANDELSVERKEER': 3,\n",
       "                          'DEMOCRATISCHE REPUBLIEK KONGO': 2,\n",
       "                          'BUITENGRENS VAN DE GEMEENSCHAP': 1,\n",
       "                          'OPENBAARHEID VAN BESTUUR': 1,\n",
       "                          '10 EUROPESE UNIE': 5,\n",
       "                          '68 INDUSTRIE': 1,\n",
       "                          'COMITE P EN I': 1,\n",
       "                          'INTERNERING': 1,\n",
       "                          'TAX SHELTER': 1,\n",
       "                          '76 INTERNATIONALE ORGANISATIES': 1,\n",
       "                          'QUATAR': 1,\n",
       "                          '60 LANDBOUWVOEDINGSMIDDELEN': 1,\n",
       "                          '56 LANDBOUW, BOSBOUW, EN VISSERIJ': 2}),\n",
       "             'PS': defaultdict(int,\n",
       "                         {'28 SOCIALE VRAAGSTUKKEN': 156,\n",
       "                          '24 FINANCIËN': 52,\n",
       "                          '04 POLITIEK': 77,\n",
       "                          '66 ENERGIE': 20,\n",
       "                          '08 INTERNATIONALE BETREKKINGEN': 41,\n",
       "                          '12 RECHT': 83,\n",
       "                          '10 EUROPESE UNIE': 46,\n",
       "                          '52 MILIEU': 17,\n",
       "                          '32 OPVOEDING, ONDERWIJS EN COMMUNICATIE': 22,\n",
       "                          '48 TRANSPORT': 15,\n",
       "                          '20 ECONOMIE, VERKEER EN HANDELSVERKEER': 15,\n",
       "                          '72 GEOGRAFIE': 19,\n",
       "                          '16 ECONOMIE': 14,\n",
       "                          '44 WERKGELEGENHEID EN ARBEID': 38,\n",
       "                          '40 ONDERNEMING EN CONCURRENTIE': 8,\n",
       "                          '76 INTERNATIONALE ORGANISATIES': 16,\n",
       "                          'BUITENGRENS VAN DE GEMEENSCHAP': 1,\n",
       "                          '60 LANDBOUWVOEDINGSMIDDELEN': 1,\n",
       "                          '68 INDUSTRIE': 2,\n",
       "                          '56 LANDBOUW, BOSBOUW, EN VISSERIJ': 2,\n",
       "                          'DEMOCRATISCHE REPUBLIEK KONGO': 2,\n",
       "                          'COMITE P EN I': 1,\n",
       "                          'SCHENDING VAN HET COMMUNAUTAIR RECHT': 1,\n",
       "                          'EG COMMISSIE': 1}),\n",
       "             'PTB': defaultdict(int,\n",
       "                         {'24 FINANCIËN': 17,\n",
       "                          '04 POLITIEK': 29,\n",
       "                          '66 ENERGIE': 12,\n",
       "                          '48 TRANSPORT': 8,\n",
       "                          '44 WERKGELEGENHEID EN ARBEID': 18,\n",
       "                          '08 INTERNATIONALE BETREKKINGEN': 11,\n",
       "                          '28 SOCIALE VRAAGSTUKKEN': 33,\n",
       "                          '72 GEOGRAFIE': 3,\n",
       "                          '32 OPVOEDING, ONDERWIJS EN COMMUNICATIE': 5,\n",
       "                          '16 ECONOMIE': 5,\n",
       "                          '52 MILIEU': 6,\n",
       "                          '12 RECHT': 10,\n",
       "                          '20 ECONOMIE, VERKEER EN HANDELSVERKEER': 1,\n",
       "                          'GEMEENSCHAPPELIJK DEFENSIEBELEID': 1,\n",
       "                          '10 EUROPESE UNIE': 3}),\n",
       "             'PVDA': defaultdict(int,\n",
       "                         {'24 FINANCIËN': 13,\n",
       "                          '66 ENERGIE': 11,\n",
       "                          '44 WERKGELEGENHEID EN ARBEID': 13,\n",
       "                          '08 INTERNATIONALE BETREKKINGEN': 10,\n",
       "                          '28 SOCIALE VRAAGSTUKKEN': 22,\n",
       "                          '72 GEOGRAFIE': 3,\n",
       "                          '04 POLITIEK': 16,\n",
       "                          '32 OPVOEDING, ONDERWIJS EN COMMUNICATIE': 5,\n",
       "                          '16 ECONOMIE': 5,\n",
       "                          '48 TRANSPORT': 3,\n",
       "                          '52 MILIEU': 7,\n",
       "                          '12 RECHT': 11,\n",
       "                          '20 ECONOMIE, VERKEER EN HANDELSVERKEER': 1,\n",
       "                          'GEMEENSCHAPPELIJK DEFENSIEBELEID': 1,\n",
       "                          '10 EUROPESE UNIE': 1}),\n",
       "             'DéFI': defaultdict(int,\n",
       "                         {'24 FINANCIËN': 8,\n",
       "                          '28 SOCIALE VRAAGSTUKKEN': 34,\n",
       "                          '08 INTERNATIONALE BETREKKINGEN': 11,\n",
       "                          '32 OPVOEDING, ONDERWIJS EN COMMUNICATIE': 4,\n",
       "                          'RECHTERLIJKE INRICHTING': 2,\n",
       "                          '04 POLITIEK': 14,\n",
       "                          '12 RECHT': 27,\n",
       "                          '48 TRANSPORT': 2,\n",
       "                          '52 MILIEU': 5,\n",
       "                          '44 WERKGELEGENHEID EN ARBEID': 1,\n",
       "                          '68 INDUSTRIE': 1,\n",
       "                          '72 GEOGRAFIE': 4,\n",
       "                          '66 ENERGIE': 3}),\n",
       "             'cd&v': defaultdict(int,\n",
       "                         {'04 POLITIEK': 1, '28 SOCIALE VRAAGSTUKKEN': 1})})"
      ]
     },
     "execution_count": 51,
     "metadata": {},
     "output_type": "execute_result"
    }
   ],
   "source": [
    "parties_to_domains"
   ]
  },
  {
   "cell_type": "code",
   "execution_count": 52,
   "metadata": {},
   "outputs": [
    {
     "data": {
      "application/vnd.plotly.v1+json": {
       "config": {
        "plotlyServerURL": "https://plot.ly"
       },
       "data": [
        {
         "name": "ZZZ",
         "type": "bar",
         "x": [
          "08 INTERNATIONALE BETREKKINGEN",
          "66 ENERGIE",
          "28 SOCIALE VRAAGSTUKKEN",
          "32 OPVOEDING, ONDERWIJS EN COMMUNICATIE",
          "04 POLITIEK",
          "12 RECHT",
          "24 FINANCIËN",
          "44 WERKGELEGENHEID EN ARBEID",
          "48 TRANSPORT",
          "52 MILIEU",
          "40 ONDERNEMING EN CONCURRENTIE",
          "GEESTELIJK GEHANDICAPTE",
          "72 GEOGRAFIE",
          "16 ECONOMIE",
          "20 ECONOMIE, VERKEER EN HANDELSVERKEER",
          "68 INDUSTRIE",
          "PROGRAMMAWET",
          "76 INTERNATIONALE ORGANISATIES",
          "36 WETENSCHAPPEN",
          "10 EUROPESE UNIE",
          "NOTARIAAT",
          "OPENBAARHEID VAN BESTUUR",
          "RECHTERLIJKE INRICHTING",
          "56 LANDBOUW, BOSBOUW, EN VISSERIJ",
          "64 PRODUCTIE, TECHNOLOGIE EN ONDERZOEK",
          "FACILITEITEN VOOR GEHANDICAPTEN",
          "BELGISCH REKENHOF",
          "HOGE RAAD VOOR DE JUSTITIE",
          "RISICOPREVENTIE",
          "CREG",
          "JUSTITIELE SAMENWERKING EU"
         ],
         "y": [
          98,
          55,
          158,
          31,
          87,
          121,
          146,
          49,
          21,
          22,
          11,
          1,
          3,
          19,
          20,
          8,
          5,
          10,
          3,
          7,
          1,
          1,
          3,
          7,
          4,
          3,
          3,
          1,
          1,
          1,
          1
         ]
        },
        {
         "name": "CD&V",
         "type": "bar",
         "x": [
          "76 INTERNATIONALE ORGANISATIES",
          "28 SOCIALE VRAAGSTUKKEN",
          "10 EUROPESE UNIE",
          "04 POLITIEK",
          "66 ENERGIE",
          "40 ONDERNEMING EN CONCURRENTIE",
          "12 RECHT",
          "08 INTERNATIONALE BETREKKINGEN",
          "72 GEOGRAFIE",
          "48 TRANSPORT",
          "32 OPVOEDING, ONDERWIJS EN COMMUNICATIE",
          "24 FINANCIËN",
          "16 ECONOMIE",
          "20 ECONOMIE, VERKEER EN HANDELSVERKEER",
          "44 WERKGELEGENHEID EN ARBEID",
          "DEMOCRATISCHE REPUBLIEK KONGO",
          "68 INDUSTRIE",
          "COMITE P EN I",
          "RECHTERLIJKE INRICHTING",
          "36 WETENSCHAPPEN",
          "52 MILIEU",
          "60 LANDBOUWVOEDINGSMIDDELEN"
         ],
         "y": [
          2,
          168,
          10,
          51,
          12,
          14,
          64,
          27,
          9,
          26,
          25,
          42,
          13,
          10,
          23,
          2,
          2,
          1,
          1,
          1,
          3,
          2
         ]
        },
        {
         "name": "VB",
         "type": "bar",
         "x": [
          "08 INTERNATIONALE BETREKKINGEN",
          "28 SOCIALE VRAAGSTUKKEN",
          "04 POLITIEK",
          "40 ONDERNEMING EN CONCURRENTIE",
          "66 ENERGIE",
          "48 TRANSPORT",
          "72 GEOGRAFIE",
          "12 RECHT",
          "44 WERKGELEGENHEID EN ARBEID",
          "32 OPVOEDING, ONDERWIJS EN COMMUNICATIE",
          "24 FINANCIËN",
          "60 LANDBOUWVOEDINGSMIDDELEN",
          "76 INTERNATIONALE ORGANISATIES",
          "OPENBAARHEID VAN BESTUUR",
          "52 MILIEU",
          "20 ECONOMIE, VERKEER EN HANDELSVERKEER",
          "16 ECONOMIE",
          "TIBETKWESTIE",
          "VLUCHTELINGENCENTRUM"
         ],
         "y": [
          20,
          36,
          71,
          2,
          9,
          9,
          14,
          40,
          6,
          5,
          10,
          1,
          2,
          1,
          1,
          1,
          3,
          1,
          1
         ]
        },
        {
         "name": "Les Engagés",
         "type": "bar",
         "x": [
          "48 TRANSPORT",
          "44 WERKGELEGENHEID EN ARBEID",
          "28 SOCIALE VRAAGSTUKKEN",
          "24 FINANCIËN",
          "08 INTERNATIONALE BETREKKINGEN",
          "16 ECONOMIE",
          "12 RECHT",
          "04 POLITIEK",
          "20 ECONOMIE, VERKEER EN HANDELSVERKEER",
          "60 LANDBOUWVOEDINGSMIDDELEN",
          "52 MILIEU",
          "32 OPVOEDING, ONDERWIJS EN COMMUNICATIE",
          "10 EUROPESE UNIE",
          "72 GEOGRAFIE",
          "68 INDUSTRIE",
          "66 ENERGIE",
          "56 LANDBOUW, BOSBOUW, EN VISSERIJ"
         ],
         "y": [
          11,
          14,
          85,
          30,
          14,
          6,
          35,
          33,
          4,
          3,
          6,
          2,
          1,
          6,
          1,
          3,
          3
         ]
        },
        {
         "name": "Vooruit",
         "type": "bar",
         "x": [
          "08 INTERNATIONALE BETREKKINGEN",
          "28 SOCIALE VRAAGSTUKKEN",
          "10 EUROPESE UNIE",
          "04 POLITIEK",
          "66 ENERGIE",
          "12 RECHT",
          "52 MILIEU",
          "32 OPVOEDING, ONDERWIJS EN COMMUNICATIE",
          "24 FINANCIËN",
          "72 GEOGRAFIE",
          "20 ECONOMIE, VERKEER EN HANDELSVERKEER",
          "48 TRANSPORT",
          "60 LANDBOUWVOEDINGSMIDDELEN",
          "16 ECONOMIE",
          "44 WERKGELEGENHEID EN ARBEID",
          "40 ONDERNEMING EN CONCURRENTIE",
          "56 LANDBOUW, BOSBOUW, EN VISSERIJ",
          "DEMOCRATISCHE REPUBLIEK KONGO",
          "COMITE P EN I",
          "68 INDUSTRIE",
          "76 INTERNATIONALE ORGANISATIES"
         ],
         "y": [
          33,
          122,
          5,
          37,
          16,
          69,
          11,
          15,
          52,
          9,
          11,
          23,
          1,
          11,
          30,
          11,
          2,
          2,
          1,
          2,
          2
         ]
        },
        {
         "name": "Open Vld",
         "type": "bar",
         "x": [
          "12 RECHT",
          "28 SOCIALE VRAAGSTUKKEN",
          "04 POLITIEK",
          "44 WERKGELEGENHEID EN ARBEID",
          "76 INTERNATIONALE ORGANISATIES",
          "08 INTERNATIONALE BETREKKINGEN",
          "72 GEOGRAFIE",
          "60 LANDBOUWVOEDINGSMIDDELEN",
          "48 TRANSPORT",
          "24 FINANCIËN",
          "16 ECONOMIE",
          "10 EUROPESE UNIE",
          "66 ENERGIE",
          "52 MILIEU",
          "COMITE P EN COMITE I",
          "64 PRODUCTIE, TECHNOLOGIE EN ONDERZOEK",
          "32 OPVOEDING, ONDERWIJS EN COMMUNICATIE",
          "56 LANDBOUW, BOSBOUW, EN VISSERIJ",
          "20 ECONOMIE, VERKEER EN HANDELSVERKEER",
          "40 ONDERNEMING EN CONCURRENTIE",
          "DEMOCRATISCHE REPUBLIEK KONGO",
          "COMITE P EN I",
          "GEESTELIJK GEHANDICAPTE",
          "68 INDUSTRIE"
         ],
         "y": [
          68,
          87,
          68,
          24,
          2,
          22,
          11,
          2,
          22,
          25,
          12,
          13,
          8,
          6,
          1,
          2,
          7,
          1,
          5,
          7,
          1,
          1,
          1,
          1
         ]
        },
        {
         "name": "N-VA",
         "type": "bar",
         "x": [
          "28 SOCIALE VRAAGSTUKKEN",
          "60 LANDBOUWVOEDINGSMIDDELEN",
          "48 TRANSPORT",
          "04 POLITIEK",
          "32 OPVOEDING, ONDERWIJS EN COMMUNICATIE",
          "NMBS",
          "08 INTERNATIONALE BETREKKINGEN",
          "12 RECHT",
          "20 ECONOMIE, VERKEER EN HANDELSVERKEER",
          "OPENBAARHEID VAN BESTUUR",
          "24 FINANCIËN",
          "44 WERKGELEGENHEID EN ARBEID",
          "10 EUROPESE UNIE",
          "16 ECONOMIE",
          "64 PRODUCTIE, TECHNOLOGIE EN ONDERZOEK",
          "66 ENERGIE",
          "76 INTERNATIONALE ORGANISATIES",
          "40 ONDERNEMING EN CONCURRENTIE",
          "72 GEOGRAFIE",
          "68 INDUSTRIE",
          "RECHTERLIJKE INRICHTING",
          "52 MILIEU",
          "BELGISCH GRONDWETTELIJK HOF",
          "56 LANDBOUW, BOSBOUW, EN VISSERIJ",
          "QUATAR"
         ],
         "y": [
          127,
          2,
          24,
          75,
          13,
          2,
          35,
          79,
          7,
          1,
          32,
          20,
          17,
          9,
          1,
          19,
          8,
          5,
          10,
          1,
          1,
          2,
          1,
          1,
          1
         ]
        },
        {
         "name": "MR",
         "type": "bar",
         "x": [
          "24 FINANCIËN",
          "28 SOCIALE VRAAGSTUKKEN",
          "72 GEOGRAFIE",
          "04 POLITIEK",
          "40 ONDERNEMING EN CONCURRENTIE",
          "66 ENERGIE",
          "44 WERKGELEGENHEID EN ARBEID",
          "12 RECHT",
          "76 INTERNATIONALE ORGANISATIES",
          "16 ECONOMIE",
          "08 INTERNATIONALE BETREKKINGEN",
          "52 MILIEU",
          "DEMOCRATISCHE REPUBLIEK KONGO",
          "32 OPVOEDING, ONDERWIJS EN COMMUNICATIE",
          "48 TRANSPORT",
          "64 PRODUCTIE, TECHNOLOGIE EN ONDERZOEK",
          "10 EUROPESE UNIE",
          "68 INDUSTRIE",
          "COMITE P EN I",
          "RECHTERLIJKE INRICHTING",
          "60 LANDBOUWVOEDINGSMIDDELEN",
          "20 ECONOMIE, VERKEER EN HANDELSVERKEER"
         ],
         "y": [
          31,
          87,
          16,
          55,
          7,
          9,
          15,
          41,
          5,
          10,
          26,
          6,
          2,
          9,
          13,
          1,
          2,
          1,
          1,
          1,
          1,
          4
         ]
        },
        {
         "name": "Groen",
         "type": "bar",
         "x": [
          "24 FINANCIËN",
          "28 SOCIALE VRAAGSTUKKEN",
          "04 POLITIEK",
          "32 OPVOEDING, ONDERWIJS EN COMMUNICATIE",
          "12 RECHT",
          "52 MILIEU",
          "08 INTERNATIONALE BETREKKINGEN",
          "72 GEOGRAFIE",
          "40 ONDERNEMING EN CONCURRENTIE",
          "10 EUROPESE UNIE",
          "16 ECONOMIE",
          "48 TRANSPORT",
          "36 WETENSCHAPPEN",
          "20 ECONOMIE, VERKEER EN HANDELSVERKEER",
          "44 WERKGELEGENHEID EN ARBEID",
          "66 ENERGIE",
          "DEMOCRATISCHE REPUBLIEK KONGO",
          "BUITENGRENS VAN DE GEMEENSCHAP",
          "OPENBAARHEID VAN BESTUUR",
          "68 INDUSTRIE",
          "COMITE P EN I",
          "INTERNERING",
          "TAX SHELTER",
          "76 INTERNATIONALE ORGANISATIES",
          "QUATAR",
          "60 LANDBOUWVOEDINGSMIDDELEN",
          "56 LANDBOUW, BOSBOUW, EN VISSERIJ"
         ],
         "y": [
          33,
          97,
          62,
          21,
          47,
          21,
          31,
          15,
          5,
          11,
          12,
          29,
          1,
          3,
          16,
          15,
          2,
          1,
          1,
          1,
          1,
          1,
          1,
          2,
          1,
          1,
          2
         ]
        },
        {
         "name": "Ecolo",
         "type": "bar",
         "x": [
          "24 FINANCIËN",
          "28 SOCIALE VRAAGSTUKKEN",
          "44 WERKGELEGENHEID EN ARBEID",
          "04 POLITIEK",
          "32 OPVOEDING, ONDERWIJS EN COMMUNICATIE",
          "52 MILIEU",
          "08 INTERNATIONALE BETREKKINGEN",
          "72 GEOGRAFIE",
          "40 ONDERNEMING EN CONCURRENTIE",
          "16 ECONOMIE",
          "48 TRANSPORT",
          "36 WETENSCHAPPEN",
          "12 RECHT",
          "66 ENERGIE",
          "20 ECONOMIE, VERKEER EN HANDELSVERKEER",
          "DEMOCRATISCHE REPUBLIEK KONGO",
          "BUITENGRENS VAN DE GEMEENSCHAP",
          "OPENBAARHEID VAN BESTUUR",
          "10 EUROPESE UNIE",
          "68 INDUSTRIE",
          "COMITE P EN I",
          "INTERNERING",
          "TAX SHELTER",
          "76 INTERNATIONALE ORGANISATIES",
          "QUATAR",
          "60 LANDBOUWVOEDINGSMIDDELEN",
          "56 LANDBOUW, BOSBOUW, EN VISSERIJ"
         ],
         "y": [
          33,
          103,
          19,
          62,
          25,
          25,
          36,
          12,
          5,
          9,
          23,
          1,
          53,
          25,
          3,
          2,
          1,
          1,
          5,
          1,
          1,
          1,
          1,
          1,
          1,
          1,
          2
         ]
        },
        {
         "name": "PS",
         "type": "bar",
         "x": [
          "28 SOCIALE VRAAGSTUKKEN",
          "24 FINANCIËN",
          "04 POLITIEK",
          "66 ENERGIE",
          "08 INTERNATIONALE BETREKKINGEN",
          "12 RECHT",
          "10 EUROPESE UNIE",
          "52 MILIEU",
          "32 OPVOEDING, ONDERWIJS EN COMMUNICATIE",
          "48 TRANSPORT",
          "20 ECONOMIE, VERKEER EN HANDELSVERKEER",
          "72 GEOGRAFIE",
          "16 ECONOMIE",
          "44 WERKGELEGENHEID EN ARBEID",
          "40 ONDERNEMING EN CONCURRENTIE",
          "76 INTERNATIONALE ORGANISATIES",
          "BUITENGRENS VAN DE GEMEENSCHAP",
          "60 LANDBOUWVOEDINGSMIDDELEN",
          "68 INDUSTRIE",
          "56 LANDBOUW, BOSBOUW, EN VISSERIJ",
          "DEMOCRATISCHE REPUBLIEK KONGO",
          "COMITE P EN I",
          "SCHENDING VAN HET COMMUNAUTAIR RECHT",
          "EG COMMISSIE"
         ],
         "y": [
          156,
          52,
          77,
          20,
          41,
          83,
          46,
          17,
          22,
          15,
          15,
          19,
          14,
          38,
          8,
          16,
          1,
          1,
          2,
          2,
          2,
          1,
          1,
          1
         ]
        },
        {
         "name": "PTB",
         "type": "bar",
         "x": [
          "24 FINANCIËN",
          "04 POLITIEK",
          "66 ENERGIE",
          "48 TRANSPORT",
          "44 WERKGELEGENHEID EN ARBEID",
          "08 INTERNATIONALE BETREKKINGEN",
          "28 SOCIALE VRAAGSTUKKEN",
          "72 GEOGRAFIE",
          "32 OPVOEDING, ONDERWIJS EN COMMUNICATIE",
          "16 ECONOMIE",
          "52 MILIEU",
          "12 RECHT",
          "20 ECONOMIE, VERKEER EN HANDELSVERKEER",
          "GEMEENSCHAPPELIJK DEFENSIEBELEID",
          "10 EUROPESE UNIE"
         ],
         "y": [
          17,
          29,
          12,
          8,
          18,
          11,
          33,
          3,
          5,
          5,
          6,
          10,
          1,
          1,
          3
         ]
        },
        {
         "name": "PVDA",
         "type": "bar",
         "x": [
          "24 FINANCIËN",
          "66 ENERGIE",
          "44 WERKGELEGENHEID EN ARBEID",
          "08 INTERNATIONALE BETREKKINGEN",
          "28 SOCIALE VRAAGSTUKKEN",
          "72 GEOGRAFIE",
          "04 POLITIEK",
          "32 OPVOEDING, ONDERWIJS EN COMMUNICATIE",
          "16 ECONOMIE",
          "48 TRANSPORT",
          "52 MILIEU",
          "12 RECHT",
          "20 ECONOMIE, VERKEER EN HANDELSVERKEER",
          "GEMEENSCHAPPELIJK DEFENSIEBELEID",
          "10 EUROPESE UNIE"
         ],
         "y": [
          13,
          11,
          13,
          10,
          22,
          3,
          16,
          5,
          5,
          3,
          7,
          11,
          1,
          1,
          1
         ]
        },
        {
         "name": "DéFI",
         "type": "bar",
         "x": [
          "24 FINANCIËN",
          "28 SOCIALE VRAAGSTUKKEN",
          "08 INTERNATIONALE BETREKKINGEN",
          "32 OPVOEDING, ONDERWIJS EN COMMUNICATIE",
          "RECHTERLIJKE INRICHTING",
          "04 POLITIEK",
          "12 RECHT",
          "48 TRANSPORT",
          "52 MILIEU",
          "44 WERKGELEGENHEID EN ARBEID",
          "68 INDUSTRIE",
          "72 GEOGRAFIE",
          "66 ENERGIE"
         ],
         "y": [
          8,
          34,
          11,
          4,
          2,
          14,
          27,
          2,
          5,
          1,
          1,
          4,
          3
         ]
        },
        {
         "name": "cd&v",
         "type": "bar",
         "x": [
          "04 POLITIEK",
          "28 SOCIALE VRAAGSTUKKEN"
         ],
         "y": [
          1,
          1
         ]
        }
       ],
       "layout": {
        "barmode": "group",
        "height": 800,
        "template": {
         "data": {
          "bar": [
           {
            "error_x": {
             "color": "#2a3f5f"
            },
            "error_y": {
             "color": "#2a3f5f"
            },
            "marker": {
             "line": {
              "color": "#E5ECF6",
              "width": 0.5
             },
             "pattern": {
              "fillmode": "overlay",
              "size": 10,
              "solidity": 0.2
             }
            },
            "type": "bar"
           }
          ],
          "barpolar": [
           {
            "marker": {
             "line": {
              "color": "#E5ECF6",
              "width": 0.5
             },
             "pattern": {
              "fillmode": "overlay",
              "size": 10,
              "solidity": 0.2
             }
            },
            "type": "barpolar"
           }
          ],
          "carpet": [
           {
            "aaxis": {
             "endlinecolor": "#2a3f5f",
             "gridcolor": "white",
             "linecolor": "white",
             "minorgridcolor": "white",
             "startlinecolor": "#2a3f5f"
            },
            "baxis": {
             "endlinecolor": "#2a3f5f",
             "gridcolor": "white",
             "linecolor": "white",
             "minorgridcolor": "white",
             "startlinecolor": "#2a3f5f"
            },
            "type": "carpet"
           }
          ],
          "choropleth": [
           {
            "colorbar": {
             "outlinewidth": 0,
             "ticks": ""
            },
            "type": "choropleth"
           }
          ],
          "contour": [
           {
            "colorbar": {
             "outlinewidth": 0,
             "ticks": ""
            },
            "colorscale": [
             [
              0,
              "#0d0887"
             ],
             [
              0.1111111111111111,
              "#46039f"
             ],
             [
              0.2222222222222222,
              "#7201a8"
             ],
             [
              0.3333333333333333,
              "#9c179e"
             ],
             [
              0.4444444444444444,
              "#bd3786"
             ],
             [
              0.5555555555555556,
              "#d8576b"
             ],
             [
              0.6666666666666666,
              "#ed7953"
             ],
             [
              0.7777777777777778,
              "#fb9f3a"
             ],
             [
              0.8888888888888888,
              "#fdca26"
             ],
             [
              1,
              "#f0f921"
             ]
            ],
            "type": "contour"
           }
          ],
          "contourcarpet": [
           {
            "colorbar": {
             "outlinewidth": 0,
             "ticks": ""
            },
            "type": "contourcarpet"
           }
          ],
          "heatmap": [
           {
            "colorbar": {
             "outlinewidth": 0,
             "ticks": ""
            },
            "colorscale": [
             [
              0,
              "#0d0887"
             ],
             [
              0.1111111111111111,
              "#46039f"
             ],
             [
              0.2222222222222222,
              "#7201a8"
             ],
             [
              0.3333333333333333,
              "#9c179e"
             ],
             [
              0.4444444444444444,
              "#bd3786"
             ],
             [
              0.5555555555555556,
              "#d8576b"
             ],
             [
              0.6666666666666666,
              "#ed7953"
             ],
             [
              0.7777777777777778,
              "#fb9f3a"
             ],
             [
              0.8888888888888888,
              "#fdca26"
             ],
             [
              1,
              "#f0f921"
             ]
            ],
            "type": "heatmap"
           }
          ],
          "heatmapgl": [
           {
            "colorbar": {
             "outlinewidth": 0,
             "ticks": ""
            },
            "colorscale": [
             [
              0,
              "#0d0887"
             ],
             [
              0.1111111111111111,
              "#46039f"
             ],
             [
              0.2222222222222222,
              "#7201a8"
             ],
             [
              0.3333333333333333,
              "#9c179e"
             ],
             [
              0.4444444444444444,
              "#bd3786"
             ],
             [
              0.5555555555555556,
              "#d8576b"
             ],
             [
              0.6666666666666666,
              "#ed7953"
             ],
             [
              0.7777777777777778,
              "#fb9f3a"
             ],
             [
              0.8888888888888888,
              "#fdca26"
             ],
             [
              1,
              "#f0f921"
             ]
            ],
            "type": "heatmapgl"
           }
          ],
          "histogram": [
           {
            "marker": {
             "pattern": {
              "fillmode": "overlay",
              "size": 10,
              "solidity": 0.2
             }
            },
            "type": "histogram"
           }
          ],
          "histogram2d": [
           {
            "colorbar": {
             "outlinewidth": 0,
             "ticks": ""
            },
            "colorscale": [
             [
              0,
              "#0d0887"
             ],
             [
              0.1111111111111111,
              "#46039f"
             ],
             [
              0.2222222222222222,
              "#7201a8"
             ],
             [
              0.3333333333333333,
              "#9c179e"
             ],
             [
              0.4444444444444444,
              "#bd3786"
             ],
             [
              0.5555555555555556,
              "#d8576b"
             ],
             [
              0.6666666666666666,
              "#ed7953"
             ],
             [
              0.7777777777777778,
              "#fb9f3a"
             ],
             [
              0.8888888888888888,
              "#fdca26"
             ],
             [
              1,
              "#f0f921"
             ]
            ],
            "type": "histogram2d"
           }
          ],
          "histogram2dcontour": [
           {
            "colorbar": {
             "outlinewidth": 0,
             "ticks": ""
            },
            "colorscale": [
             [
              0,
              "#0d0887"
             ],
             [
              0.1111111111111111,
              "#46039f"
             ],
             [
              0.2222222222222222,
              "#7201a8"
             ],
             [
              0.3333333333333333,
              "#9c179e"
             ],
             [
              0.4444444444444444,
              "#bd3786"
             ],
             [
              0.5555555555555556,
              "#d8576b"
             ],
             [
              0.6666666666666666,
              "#ed7953"
             ],
             [
              0.7777777777777778,
              "#fb9f3a"
             ],
             [
              0.8888888888888888,
              "#fdca26"
             ],
             [
              1,
              "#f0f921"
             ]
            ],
            "type": "histogram2dcontour"
           }
          ],
          "mesh3d": [
           {
            "colorbar": {
             "outlinewidth": 0,
             "ticks": ""
            },
            "type": "mesh3d"
           }
          ],
          "parcoords": [
           {
            "line": {
             "colorbar": {
              "outlinewidth": 0,
              "ticks": ""
             }
            },
            "type": "parcoords"
           }
          ],
          "pie": [
           {
            "automargin": true,
            "type": "pie"
           }
          ],
          "scatter": [
           {
            "fillpattern": {
             "fillmode": "overlay",
             "size": 10,
             "solidity": 0.2
            },
            "type": "scatter"
           }
          ],
          "scatter3d": [
           {
            "line": {
             "colorbar": {
              "outlinewidth": 0,
              "ticks": ""
             }
            },
            "marker": {
             "colorbar": {
              "outlinewidth": 0,
              "ticks": ""
             }
            },
            "type": "scatter3d"
           }
          ],
          "scattercarpet": [
           {
            "marker": {
             "colorbar": {
              "outlinewidth": 0,
              "ticks": ""
             }
            },
            "type": "scattercarpet"
           }
          ],
          "scattergeo": [
           {
            "marker": {
             "colorbar": {
              "outlinewidth": 0,
              "ticks": ""
             }
            },
            "type": "scattergeo"
           }
          ],
          "scattergl": [
           {
            "marker": {
             "colorbar": {
              "outlinewidth": 0,
              "ticks": ""
             }
            },
            "type": "scattergl"
           }
          ],
          "scattermapbox": [
           {
            "marker": {
             "colorbar": {
              "outlinewidth": 0,
              "ticks": ""
             }
            },
            "type": "scattermapbox"
           }
          ],
          "scatterpolar": [
           {
            "marker": {
             "colorbar": {
              "outlinewidth": 0,
              "ticks": ""
             }
            },
            "type": "scatterpolar"
           }
          ],
          "scatterpolargl": [
           {
            "marker": {
             "colorbar": {
              "outlinewidth": 0,
              "ticks": ""
             }
            },
            "type": "scatterpolargl"
           }
          ],
          "scatterternary": [
           {
            "marker": {
             "colorbar": {
              "outlinewidth": 0,
              "ticks": ""
             }
            },
            "type": "scatterternary"
           }
          ],
          "surface": [
           {
            "colorbar": {
             "outlinewidth": 0,
             "ticks": ""
            },
            "colorscale": [
             [
              0,
              "#0d0887"
             ],
             [
              0.1111111111111111,
              "#46039f"
             ],
             [
              0.2222222222222222,
              "#7201a8"
             ],
             [
              0.3333333333333333,
              "#9c179e"
             ],
             [
              0.4444444444444444,
              "#bd3786"
             ],
             [
              0.5555555555555556,
              "#d8576b"
             ],
             [
              0.6666666666666666,
              "#ed7953"
             ],
             [
              0.7777777777777778,
              "#fb9f3a"
             ],
             [
              0.8888888888888888,
              "#fdca26"
             ],
             [
              1,
              "#f0f921"
             ]
            ],
            "type": "surface"
           }
          ],
          "table": [
           {
            "cells": {
             "fill": {
              "color": "#EBF0F8"
             },
             "line": {
              "color": "white"
             }
            },
            "header": {
             "fill": {
              "color": "#C8D4E3"
             },
             "line": {
              "color": "white"
             }
            },
            "type": "table"
           }
          ]
         },
         "layout": {
          "annotationdefaults": {
           "arrowcolor": "#2a3f5f",
           "arrowhead": 0,
           "arrowwidth": 1
          },
          "autotypenumbers": "strict",
          "coloraxis": {
           "colorbar": {
            "outlinewidth": 0,
            "ticks": ""
           }
          },
          "colorscale": {
           "diverging": [
            [
             0,
             "#8e0152"
            ],
            [
             0.1,
             "#c51b7d"
            ],
            [
             0.2,
             "#de77ae"
            ],
            [
             0.3,
             "#f1b6da"
            ],
            [
             0.4,
             "#fde0ef"
            ],
            [
             0.5,
             "#f7f7f7"
            ],
            [
             0.6,
             "#e6f5d0"
            ],
            [
             0.7,
             "#b8e186"
            ],
            [
             0.8,
             "#7fbc41"
            ],
            [
             0.9,
             "#4d9221"
            ],
            [
             1,
             "#276419"
            ]
           ],
           "sequential": [
            [
             0,
             "#0d0887"
            ],
            [
             0.1111111111111111,
             "#46039f"
            ],
            [
             0.2222222222222222,
             "#7201a8"
            ],
            [
             0.3333333333333333,
             "#9c179e"
            ],
            [
             0.4444444444444444,
             "#bd3786"
            ],
            [
             0.5555555555555556,
             "#d8576b"
            ],
            [
             0.6666666666666666,
             "#ed7953"
            ],
            [
             0.7777777777777778,
             "#fb9f3a"
            ],
            [
             0.8888888888888888,
             "#fdca26"
            ],
            [
             1,
             "#f0f921"
            ]
           ],
           "sequentialminus": [
            [
             0,
             "#0d0887"
            ],
            [
             0.1111111111111111,
             "#46039f"
            ],
            [
             0.2222222222222222,
             "#7201a8"
            ],
            [
             0.3333333333333333,
             "#9c179e"
            ],
            [
             0.4444444444444444,
             "#bd3786"
            ],
            [
             0.5555555555555556,
             "#d8576b"
            ],
            [
             0.6666666666666666,
             "#ed7953"
            ],
            [
             0.7777777777777778,
             "#fb9f3a"
            ],
            [
             0.8888888888888888,
             "#fdca26"
            ],
            [
             1,
             "#f0f921"
            ]
           ]
          },
          "colorway": [
           "#636efa",
           "#EF553B",
           "#00cc96",
           "#ab63fa",
           "#FFA15A",
           "#19d3f3",
           "#FF6692",
           "#B6E880",
           "#FF97FF",
           "#FECB52"
          ],
          "font": {
           "color": "#2a3f5f"
          },
          "geo": {
           "bgcolor": "white",
           "lakecolor": "white",
           "landcolor": "#E5ECF6",
           "showlakes": true,
           "showland": true,
           "subunitcolor": "white"
          },
          "hoverlabel": {
           "align": "left"
          },
          "hovermode": "closest",
          "mapbox": {
           "style": "light"
          },
          "paper_bgcolor": "white",
          "plot_bgcolor": "#E5ECF6",
          "polar": {
           "angularaxis": {
            "gridcolor": "white",
            "linecolor": "white",
            "ticks": ""
           },
           "bgcolor": "#E5ECF6",
           "radialaxis": {
            "gridcolor": "white",
            "linecolor": "white",
            "ticks": ""
           }
          },
          "scene": {
           "xaxis": {
            "backgroundcolor": "#E5ECF6",
            "gridcolor": "white",
            "gridwidth": 2,
            "linecolor": "white",
            "showbackground": true,
            "ticks": "",
            "zerolinecolor": "white"
           },
           "yaxis": {
            "backgroundcolor": "#E5ECF6",
            "gridcolor": "white",
            "gridwidth": 2,
            "linecolor": "white",
            "showbackground": true,
            "ticks": "",
            "zerolinecolor": "white"
           },
           "zaxis": {
            "backgroundcolor": "#E5ECF6",
            "gridcolor": "white",
            "gridwidth": 2,
            "linecolor": "white",
            "showbackground": true,
            "ticks": "",
            "zerolinecolor": "white"
           }
          },
          "shapedefaults": {
           "line": {
            "color": "#2a3f5f"
           }
          },
          "ternary": {
           "aaxis": {
            "gridcolor": "white",
            "linecolor": "white",
            "ticks": ""
           },
           "baxis": {
            "gridcolor": "white",
            "linecolor": "white",
            "ticks": ""
           },
           "bgcolor": "#E5ECF6",
           "caxis": {
            "gridcolor": "white",
            "linecolor": "white",
            "ticks": ""
           }
          },
          "title": {
           "x": 0.05
          },
          "xaxis": {
           "automargin": true,
           "gridcolor": "white",
           "linecolor": "white",
           "ticks": "",
           "title": {
            "standoff": 15
           },
           "zerolinecolor": "white",
           "zerolinewidth": 2
          },
          "yaxis": {
           "automargin": true,
           "gridcolor": "white",
           "linecolor": "white",
           "ticks": "",
           "title": {
            "standoff": 15
           },
           "zerolinecolor": "white",
           "zerolinewidth": 2
          }
         }
        },
        "title": {
         "text": "Absolute Amounts per Subject by Party"
        },
        "xaxis": {
         "categoryorder": "total descending",
         "title": {
          "text": "Subject"
         }
        },
        "yaxis": {
         "title": {
          "text": "Amount"
         }
        }
       }
      }
     },
     "metadata": {},
     "output_type": "display_data"
    }
   ],
   "source": [
    "import plotly.graph_objects as go\n",
    "\n",
    "# Setup data for absolute amounts\n",
    "def plot_absolute(data):\n",
    "    fig = go.Figure()\n",
    "    for party, subjects in data.items():\n",
    "        fig.add_trace(go.Bar(\n",
    "            name=party,\n",
    "            x=list(subjects.keys()),\n",
    "            y=list(subjects.values()),\n",
    "        ))\n",
    "    fig.update_layout(\n",
    "        title=\"Absolute Amounts per Subject by Party\",\n",
    "        xaxis_title=\"Subject\",\n",
    "        yaxis_title=\"Amount\",\n",
    "        barmode='group',\n",
    "        xaxis={'categoryorder':'total descending'},\n",
    "        height=800\n",
    "    )\n",
    "    fig.show()\n",
    "\n",
    "plot_absolute(parties_to_domains)"
   ]
  },
  {
   "cell_type": "code",
   "execution_count": 53,
   "metadata": {},
   "outputs": [
    {
     "data": {
      "application/vnd.plotly.v1+json": {
       "config": {
        "plotlyServerURL": "https://plot.ly"
       },
       "data": [
        {
         "marker": {
          "color": "#1D1D1D"
         },
         "name": "ZZZ",
         "type": "bar",
         "x": [
          "08 INTERNATIONALE BETREKKINGEN",
          "66 ENERGIE",
          "28 SOCIALE VRAAGSTUKKEN",
          "32 OPVOEDING, ONDERWIJS EN COMMUNICATIE",
          "04 POLITIEK",
          "12 RECHT",
          "24 FINANCIËN",
          "44 WERKGELEGENHEID EN ARBEID",
          "48 TRANSPORT",
          "52 MILIEU",
          "40 ONDERNEMING EN CONCURRENTIE",
          "GEESTELIJK GEHANDICAPTE",
          "72 GEOGRAFIE",
          "16 ECONOMIE",
          "20 ECONOMIE, VERKEER EN HANDELSVERKEER",
          "68 INDUSTRIE",
          "PROGRAMMAWET",
          "76 INTERNATIONALE ORGANISATIES",
          "36 WETENSCHAPPEN",
          "10 EUROPESE UNIE",
          "NOTARIAAT",
          "OPENBAARHEID VAN BESTUUR",
          "RECHTERLIJKE INRICHTING",
          "56 LANDBOUW, BOSBOUW, EN VISSERIJ",
          "64 PRODUCTIE, TECHNOLOGIE EN ONDERZOEK",
          "FACILITEITEN VOOR GEHANDICAPTEN",
          "BELGISCH REKENHOF",
          "HOGE RAAD VOOR DE JUSTITIE",
          "RISICOPREVENTIE",
          "CREG",
          "JUSTITIELE SAMENWERKING EU"
         ],
         "y": [
          0.10876803551609324,
          0.06104328523862375,
          0.1753607103218646,
          0.03440621531631521,
          0.09655937846836848,
          0.13429522752497225,
          0.16204217536071033,
          0.05438401775804662,
          0.023307436182019976,
          0.0244173140954495,
          0.01220865704772475,
          0.0011098779134295228,
          0.003329633740288568,
          0.021087680355160933,
          0.022197558268590455,
          0.008879023307436182,
          0.005549389567147614,
          0.011098779134295227,
          0.003329633740288568,
          0.00776914539400666,
          0.0011098779134295228,
          0.0011098779134295228,
          0.003329633740288568,
          0.00776914539400666,
          0.004439511653718091,
          0.003329633740288568,
          0.003329633740288568,
          0.0011098779134295228,
          0.0011098779134295228,
          0.0011098779134295228,
          0.0011098779134295228
         ]
        },
        {
         "marker": {
          "color": "#FF6347"
         },
         "name": "CD&V",
         "type": "bar",
         "x": [
          "76 INTERNATIONALE ORGANISATIES",
          "28 SOCIALE VRAAGSTUKKEN",
          "10 EUROPESE UNIE",
          "04 POLITIEK",
          "66 ENERGIE",
          "40 ONDERNEMING EN CONCURRENTIE",
          "12 RECHT",
          "08 INTERNATIONALE BETREKKINGEN",
          "72 GEOGRAFIE",
          "48 TRANSPORT",
          "32 OPVOEDING, ONDERWIJS EN COMMUNICATIE",
          "24 FINANCIËN",
          "16 ECONOMIE",
          "20 ECONOMIE, VERKEER EN HANDELSVERKEER",
          "44 WERKGELEGENHEID EN ARBEID",
          "DEMOCRATISCHE REPUBLIEK KONGO",
          "68 INDUSTRIE",
          "COMITE P EN I",
          "RECHTERLIJKE INRICHTING",
          "36 WETENSCHAPPEN",
          "52 MILIEU",
          "60 LANDBOUWVOEDINGSMIDDELEN"
         ],
         "y": [
          0.003937007874015748,
          0.33070866141732286,
          0.01968503937007874,
          0.10039370078740158,
          0.023622047244094488,
          0.027559055118110236,
          0.12598425196850394,
          0.0531496062992126,
          0.017716535433070866,
          0.051181102362204724,
          0.04921259842519685,
          0.08267716535433071,
          0.025590551181102362,
          0.01968503937007874,
          0.045275590551181105,
          0.003937007874015748,
          0.003937007874015748,
          0.001968503937007874,
          0.001968503937007874,
          0.001968503937007874,
          0.005905511811023622,
          0.003937007874015748
         ]
        },
        {
         "marker": {
          "color": "#000000"
         },
         "name": "VB",
         "type": "bar",
         "x": [
          "08 INTERNATIONALE BETREKKINGEN",
          "28 SOCIALE VRAAGSTUKKEN",
          "04 POLITIEK",
          "40 ONDERNEMING EN CONCURRENTIE",
          "66 ENERGIE",
          "48 TRANSPORT",
          "72 GEOGRAFIE",
          "12 RECHT",
          "44 WERKGELEGENHEID EN ARBEID",
          "32 OPVOEDING, ONDERWIJS EN COMMUNICATIE",
          "24 FINANCIËN",
          "60 LANDBOUWVOEDINGSMIDDELEN",
          "76 INTERNATIONALE ORGANISATIES",
          "OPENBAARHEID VAN BESTUUR",
          "52 MILIEU",
          "20 ECONOMIE, VERKEER EN HANDELSVERKEER",
          "16 ECONOMIE",
          "TIBETKWESTIE",
          "VLUCHTELINGENCENTRUM"
         ],
         "y": [
          0.08583690987124463,
          0.15450643776824036,
          0.30472103004291845,
          0.008583690987124463,
          0.03862660944206009,
          0.03862660944206009,
          0.060085836909871244,
          0.17167381974248927,
          0.02575107296137339,
          0.02145922746781116,
          0.04291845493562232,
          0.004291845493562232,
          0.008583690987124463,
          0.004291845493562232,
          0.004291845493562232,
          0.004291845493562232,
          0.012875536480686695,
          0.004291845493562232,
          0.004291845493562232
         ]
        },
        {
         "marker": {
          "color": "#FF8C00"
         },
         "name": "Les Engagés",
         "type": "bar",
         "x": [
          "48 TRANSPORT",
          "44 WERKGELEGENHEID EN ARBEID",
          "28 SOCIALE VRAAGSTUKKEN",
          "24 FINANCIËN",
          "08 INTERNATIONALE BETREKKINGEN",
          "16 ECONOMIE",
          "12 RECHT",
          "04 POLITIEK",
          "20 ECONOMIE, VERKEER EN HANDELSVERKEER",
          "60 LANDBOUWVOEDINGSMIDDELEN",
          "52 MILIEU",
          "32 OPVOEDING, ONDERWIJS EN COMMUNICATIE",
          "10 EUROPESE UNIE",
          "72 GEOGRAFIE",
          "68 INDUSTRIE",
          "66 ENERGIE",
          "56 LANDBOUW, BOSBOUW, EN VISSERIJ"
         ],
         "y": [
          0.042801556420233464,
          0.054474708171206226,
          0.33073929961089493,
          0.11673151750972763,
          0.054474708171206226,
          0.023346303501945526,
          0.13618677042801555,
          0.12840466926070038,
          0.01556420233463035,
          0.011673151750972763,
          0.023346303501945526,
          0.007782101167315175,
          0.0038910505836575876,
          0.023346303501945526,
          0.0038910505836575876,
          0.011673151750972763,
          0.011673151750972763
         ]
        },
        {
         "marker": {
          "color": "#DC143C"
         },
         "name": "Vooruit",
         "type": "bar",
         "x": [
          "08 INTERNATIONALE BETREKKINGEN",
          "28 SOCIALE VRAAGSTUKKEN",
          "10 EUROPESE UNIE",
          "04 POLITIEK",
          "66 ENERGIE",
          "12 RECHT",
          "52 MILIEU",
          "32 OPVOEDING, ONDERWIJS EN COMMUNICATIE",
          "24 FINANCIËN",
          "72 GEOGRAFIE",
          "20 ECONOMIE, VERKEER EN HANDELSVERKEER",
          "48 TRANSPORT",
          "60 LANDBOUWVOEDINGSMIDDELEN",
          "16 ECONOMIE",
          "44 WERKGELEGENHEID EN ARBEID",
          "40 ONDERNEMING EN CONCURRENTIE",
          "56 LANDBOUW, BOSBOUW, EN VISSERIJ",
          "DEMOCRATISCHE REPUBLIEK KONGO",
          "COMITE P EN I",
          "68 INDUSTRIE",
          "76 INTERNATIONALE ORGANISATIES"
         ],
         "y": [
          0.07096774193548387,
          0.2623655913978495,
          0.010752688172043012,
          0.07956989247311828,
          0.034408602150537634,
          0.14838709677419354,
          0.023655913978494623,
          0.03225806451612903,
          0.11182795698924732,
          0.01935483870967742,
          0.023655913978494623,
          0.04946236559139785,
          0.002150537634408602,
          0.023655913978494623,
          0.06451612903225806,
          0.023655913978494623,
          0.004301075268817204,
          0.004301075268817204,
          0.002150537634408602,
          0.004301075268817204,
          0.004301075268817204
         ]
        },
        {
         "marker": {
          "color": "#1E90FF"
         },
         "name": "Open Vld",
         "type": "bar",
         "x": [
          "12 RECHT",
          "28 SOCIALE VRAAGSTUKKEN",
          "04 POLITIEK",
          "44 WERKGELEGENHEID EN ARBEID",
          "76 INTERNATIONALE ORGANISATIES",
          "08 INTERNATIONALE BETREKKINGEN",
          "72 GEOGRAFIE",
          "60 LANDBOUWVOEDINGSMIDDELEN",
          "48 TRANSPORT",
          "24 FINANCIËN",
          "16 ECONOMIE",
          "10 EUROPESE UNIE",
          "66 ENERGIE",
          "52 MILIEU",
          "COMITE P EN COMITE I",
          "64 PRODUCTIE, TECHNOLOGIE EN ONDERZOEK",
          "32 OPVOEDING, ONDERWIJS EN COMMUNICATIE",
          "56 LANDBOUW, BOSBOUW, EN VISSERIJ",
          "20 ECONOMIE, VERKEER EN HANDELSVERKEER",
          "40 ONDERNEMING EN CONCURRENTIE",
          "DEMOCRATISCHE REPUBLIEK KONGO",
          "COMITE P EN I",
          "GEESTELIJK GEHANDICAPTE",
          "68 INDUSTRIE"
         ],
         "y": [
          0.1712846347607053,
          0.21914357682619648,
          0.1712846347607053,
          0.060453400503778336,
          0.005037783375314861,
          0.055415617128463476,
          0.027707808564231738,
          0.005037783375314861,
          0.055415617128463476,
          0.06297229219143577,
          0.030226700251889168,
          0.0327455919395466,
          0.020151133501259445,
          0.015113350125944584,
          0.0025188916876574307,
          0.005037783375314861,
          0.017632241813602016,
          0.0025188916876574307,
          0.012594458438287154,
          0.017632241813602016,
          0.0025188916876574307,
          0.0025188916876574307,
          0.0025188916876574307,
          0.0025188916876574307
         ]
        },
        {
         "marker": {
          "color": "#FFD700"
         },
         "name": "N-VA",
         "type": "bar",
         "x": [
          "28 SOCIALE VRAAGSTUKKEN",
          "60 LANDBOUWVOEDINGSMIDDELEN",
          "48 TRANSPORT",
          "04 POLITIEK",
          "32 OPVOEDING, ONDERWIJS EN COMMUNICATIE",
          "NMBS",
          "08 INTERNATIONALE BETREKKINGEN",
          "12 RECHT",
          "20 ECONOMIE, VERKEER EN HANDELSVERKEER",
          "OPENBAARHEID VAN BESTUUR",
          "24 FINANCIËN",
          "44 WERKGELEGENHEID EN ARBEID",
          "10 EUROPESE UNIE",
          "16 ECONOMIE",
          "64 PRODUCTIE, TECHNOLOGIE EN ONDERZOEK",
          "66 ENERGIE",
          "76 INTERNATIONALE ORGANISATIES",
          "40 ONDERNEMING EN CONCURRENTIE",
          "72 GEOGRAFIE",
          "68 INDUSTRIE",
          "RECHTERLIJKE INRICHTING",
          "52 MILIEU",
          "BELGISCH GRONDWETTELIJK HOF",
          "56 LANDBOUW, BOSBOUW, EN VISSERIJ",
          "QUATAR"
         ],
         "y": [
          0.25760649087221094,
          0.004056795131845842,
          0.0486815415821501,
          0.15212981744421908,
          0.02636916835699797,
          0.004056795131845842,
          0.07099391480730223,
          0.16024340770791076,
          0.014198782961460446,
          0.002028397565922921,
          0.06490872210953347,
          0.04056795131845842,
          0.034482758620689655,
          0.018255578093306288,
          0.002028397565922921,
          0.038539553752535496,
          0.016227180527383367,
          0.010141987829614604,
          0.02028397565922921,
          0.002028397565922921,
          0.002028397565922921,
          0.004056795131845842,
          0.002028397565922921,
          0.002028397565922921,
          0.002028397565922921
         ]
        },
        {
         "marker": {
          "color": "#87CEEB"
         },
         "name": "MR",
         "type": "bar",
         "x": [
          "24 FINANCIËN",
          "28 SOCIALE VRAAGSTUKKEN",
          "72 GEOGRAFIE",
          "04 POLITIEK",
          "40 ONDERNEMING EN CONCURRENTIE",
          "66 ENERGIE",
          "44 WERKGELEGENHEID EN ARBEID",
          "12 RECHT",
          "76 INTERNATIONALE ORGANISATIES",
          "16 ECONOMIE",
          "08 INTERNATIONALE BETREKKINGEN",
          "52 MILIEU",
          "DEMOCRATISCHE REPUBLIEK KONGO",
          "32 OPVOEDING, ONDERWIJS EN COMMUNICATIE",
          "48 TRANSPORT",
          "64 PRODUCTIE, TECHNOLOGIE EN ONDERZOEK",
          "10 EUROPESE UNIE",
          "68 INDUSTRIE",
          "COMITE P EN I",
          "RECHTERLIJKE INRICHTING",
          "60 LANDBOUWVOEDINGSMIDDELEN",
          "20 ECONOMIE, VERKEER EN HANDELSVERKEER"
         ],
         "y": [
          0.09037900874635568,
          0.2536443148688047,
          0.04664723032069971,
          0.16034985422740525,
          0.02040816326530612,
          0.026239067055393587,
          0.043731778425655975,
          0.119533527696793,
          0.014577259475218658,
          0.029154518950437316,
          0.07580174927113703,
          0.01749271137026239,
          0.0058309037900874635,
          0.026239067055393587,
          0.037900874635568516,
          0.0029154518950437317,
          0.0058309037900874635,
          0.0029154518950437317,
          0.0029154518950437317,
          0.0029154518950437317,
          0.0029154518950437317,
          0.011661807580174927
         ]
        },
        {
         "marker": {
          "color": "#32CD32"
         },
         "name": "Groen",
         "type": "bar",
         "x": [
          "24 FINANCIËN",
          "28 SOCIALE VRAAGSTUKKEN",
          "04 POLITIEK",
          "32 OPVOEDING, ONDERWIJS EN COMMUNICATIE",
          "12 RECHT",
          "52 MILIEU",
          "08 INTERNATIONALE BETREKKINGEN",
          "72 GEOGRAFIE",
          "40 ONDERNEMING EN CONCURRENTIE",
          "10 EUROPESE UNIE",
          "16 ECONOMIE",
          "48 TRANSPORT",
          "36 WETENSCHAPPEN",
          "20 ECONOMIE, VERKEER EN HANDELSVERKEER",
          "44 WERKGELEGENHEID EN ARBEID",
          "66 ENERGIE",
          "DEMOCRATISCHE REPUBLIEK KONGO",
          "BUITENGRENS VAN DE GEMEENSCHAP",
          "OPENBAARHEID VAN BESTUUR",
          "68 INDUSTRIE",
          "COMITE P EN I",
          "INTERNERING",
          "TAX SHELTER",
          "76 INTERNATIONALE ORGANISATIES",
          "QUATAR",
          "60 LANDBOUWVOEDINGSMIDDELEN",
          "56 LANDBOUW, BOSBOUW, EN VISSERIJ"
         ],
         "y": [
          0.07621247113163972,
          0.22401847575057737,
          0.14318706697459585,
          0.04849884526558892,
          0.10854503464203233,
          0.04849884526558892,
          0.07159353348729793,
          0.03464203233256351,
          0.011547344110854504,
          0.025404157043879907,
          0.02771362586605081,
          0.06697459584295612,
          0.0023094688221709007,
          0.006928406466512702,
          0.03695150115473441,
          0.03464203233256351,
          0.004618937644341801,
          0.0023094688221709007,
          0.0023094688221709007,
          0.0023094688221709007,
          0.0023094688221709007,
          0.0023094688221709007,
          0.0023094688221709007,
          0.004618937644341801,
          0.0023094688221709007,
          0.0023094688221709007,
          0.004618937644341801
         ]
        },
        {
         "marker": {
          "color": "#228B22"
         },
         "name": "Ecolo",
         "type": "bar",
         "x": [
          "24 FINANCIËN",
          "28 SOCIALE VRAAGSTUKKEN",
          "44 WERKGELEGENHEID EN ARBEID",
          "04 POLITIEK",
          "32 OPVOEDING, ONDERWIJS EN COMMUNICATIE",
          "52 MILIEU",
          "08 INTERNATIONALE BETREKKINGEN",
          "72 GEOGRAFIE",
          "40 ONDERNEMING EN CONCURRENTIE",
          "16 ECONOMIE",
          "48 TRANSPORT",
          "36 WETENSCHAPPEN",
          "12 RECHT",
          "66 ENERGIE",
          "20 ECONOMIE, VERKEER EN HANDELSVERKEER",
          "DEMOCRATISCHE REPUBLIEK KONGO",
          "BUITENGRENS VAN DE GEMEENSCHAP",
          "OPENBAARHEID VAN BESTUUR",
          "10 EUROPESE UNIE",
          "68 INDUSTRIE",
          "COMITE P EN I",
          "INTERNERING",
          "TAX SHELTER",
          "76 INTERNATIONALE ORGANISATIES",
          "QUATAR",
          "60 LANDBOUWVOEDINGSMIDDELEN",
          "56 LANDBOUW, BOSBOUW, EN VISSERIJ"
         ],
         "y": [
          0.07300884955752213,
          0.22787610619469026,
          0.0420353982300885,
          0.13716814159292035,
          0.05530973451327434,
          0.05530973451327434,
          0.07964601769911504,
          0.02654867256637168,
          0.011061946902654867,
          0.01991150442477876,
          0.05088495575221239,
          0.0022123893805309734,
          0.1172566371681416,
          0.05530973451327434,
          0.00663716814159292,
          0.004424778761061947,
          0.0022123893805309734,
          0.0022123893805309734,
          0.011061946902654867,
          0.0022123893805309734,
          0.0022123893805309734,
          0.0022123893805309734,
          0.0022123893805309734,
          0.0022123893805309734,
          0.0022123893805309734,
          0.0022123893805309734,
          0.004424778761061947
         ]
        },
        {
         "marker": {
          "color": "#B22222"
         },
         "name": "PS",
         "type": "bar",
         "x": [
          "28 SOCIALE VRAAGSTUKKEN",
          "24 FINANCIËN",
          "04 POLITIEK",
          "66 ENERGIE",
          "08 INTERNATIONALE BETREKKINGEN",
          "12 RECHT",
          "10 EUROPESE UNIE",
          "52 MILIEU",
          "32 OPVOEDING, ONDERWIJS EN COMMUNICATIE",
          "48 TRANSPORT",
          "20 ECONOMIE, VERKEER EN HANDELSVERKEER",
          "72 GEOGRAFIE",
          "16 ECONOMIE",
          "44 WERKGELEGENHEID EN ARBEID",
          "40 ONDERNEMING EN CONCURRENTIE",
          "76 INTERNATIONALE ORGANISATIES",
          "BUITENGRENS VAN DE GEMEENSCHAP",
          "60 LANDBOUWVOEDINGSMIDDELEN",
          "68 INDUSTRIE",
          "56 LANDBOUW, BOSBOUW, EN VISSERIJ",
          "DEMOCRATISCHE REPUBLIEK KONGO",
          "COMITE P EN I",
          "SCHENDING VAN HET COMMUNAUTAIR RECHT",
          "EG COMMISSIE"
         ],
         "y": [
          0.24,
          0.08,
          0.11846153846153847,
          0.03076923076923077,
          0.06307692307692307,
          0.1276923076923077,
          0.07076923076923076,
          0.026153846153846153,
          0.033846153846153845,
          0.023076923076923078,
          0.023076923076923078,
          0.02923076923076923,
          0.021538461538461538,
          0.05846153846153846,
          0.012307692307692308,
          0.024615384615384615,
          0.0015384615384615385,
          0.0015384615384615385,
          0.003076923076923077,
          0.003076923076923077,
          0.003076923076923077,
          0.0015384615384615385,
          0.0015384615384615385,
          0.0015384615384615385
         ]
        },
        {
         "marker": {
          "color": "#CD5C5C"
         },
         "name": "PTB",
         "type": "bar",
         "x": [
          "24 FINANCIËN",
          "04 POLITIEK",
          "66 ENERGIE",
          "48 TRANSPORT",
          "44 WERKGELEGENHEID EN ARBEID",
          "08 INTERNATIONALE BETREKKINGEN",
          "28 SOCIALE VRAAGSTUKKEN",
          "72 GEOGRAFIE",
          "32 OPVOEDING, ONDERWIJS EN COMMUNICATIE",
          "16 ECONOMIE",
          "52 MILIEU",
          "12 RECHT",
          "20 ECONOMIE, VERKEER EN HANDELSVERKEER",
          "GEMEENSCHAPPELIJK DEFENSIEBELEID",
          "10 EUROPESE UNIE"
         ],
         "y": [
          0.10493827160493827,
          0.17901234567901234,
          0.07407407407407407,
          0.04938271604938271,
          0.1111111111111111,
          0.06790123456790123,
          0.2037037037037037,
          0.018518518518518517,
          0.030864197530864196,
          0.030864197530864196,
          0.037037037037037035,
          0.06172839506172839,
          0.006172839506172839,
          0.006172839506172839,
          0.018518518518518517
         ]
        },
        {
         "marker": {
          "color": "#FF0000"
         },
         "name": "PVDA",
         "type": "bar",
         "x": [
          "24 FINANCIËN",
          "66 ENERGIE",
          "44 WERKGELEGENHEID EN ARBEID",
          "08 INTERNATIONALE BETREKKINGEN",
          "28 SOCIALE VRAAGSTUKKEN",
          "72 GEOGRAFIE",
          "04 POLITIEK",
          "32 OPVOEDING, ONDERWIJS EN COMMUNICATIE",
          "16 ECONOMIE",
          "48 TRANSPORT",
          "52 MILIEU",
          "12 RECHT",
          "20 ECONOMIE, VERKEER EN HANDELSVERKEER",
          "GEMEENSCHAPPELIJK DEFENSIEBELEID",
          "10 EUROPESE UNIE"
         ],
         "y": [
          0.10655737704918032,
          0.09016393442622951,
          0.10655737704918032,
          0.08196721311475409,
          0.18032786885245902,
          0.02459016393442623,
          0.13114754098360656,
          0.040983606557377046,
          0.040983606557377046,
          0.02459016393442623,
          0.05737704918032787,
          0.09016393442622951,
          0.00819672131147541,
          0.00819672131147541,
          0.00819672131147541
         ]
        },
        {
         "marker": {
          "color": "#FFA500"
         },
         "name": "DéFI",
         "type": "bar",
         "x": [
          "24 FINANCIËN",
          "28 SOCIALE VRAAGSTUKKEN",
          "08 INTERNATIONALE BETREKKINGEN",
          "32 OPVOEDING, ONDERWIJS EN COMMUNICATIE",
          "RECHTERLIJKE INRICHTING",
          "04 POLITIEK",
          "12 RECHT",
          "48 TRANSPORT",
          "52 MILIEU",
          "44 WERKGELEGENHEID EN ARBEID",
          "68 INDUSTRIE",
          "72 GEOGRAFIE",
          "66 ENERGIE"
         ],
         "y": [
          0.06896551724137931,
          0.29310344827586204,
          0.09482758620689655,
          0.034482758620689655,
          0.017241379310344827,
          0.1206896551724138,
          0.23275862068965517,
          0.017241379310344827,
          0.04310344827586207,
          0.008620689655172414,
          0.008620689655172414,
          0.034482758620689655,
          0.02586206896551724
         ]
        },
        {
         "marker": {
          "color": "#FFF"
         },
         "name": "cd&v",
         "type": "bar",
         "x": [
          "04 POLITIEK",
          "28 SOCIALE VRAAGSTUKKEN"
         ],
         "y": [
          0.5,
          0.5
         ]
        }
       ],
       "layout": {
        "barmode": "group",
        "height": 1080,
        "template": {
         "data": {
          "bar": [
           {
            "error_x": {
             "color": "#2a3f5f"
            },
            "error_y": {
             "color": "#2a3f5f"
            },
            "marker": {
             "line": {
              "color": "#E5ECF6",
              "width": 0.5
             },
             "pattern": {
              "fillmode": "overlay",
              "size": 10,
              "solidity": 0.2
             }
            },
            "type": "bar"
           }
          ],
          "barpolar": [
           {
            "marker": {
             "line": {
              "color": "#E5ECF6",
              "width": 0.5
             },
             "pattern": {
              "fillmode": "overlay",
              "size": 10,
              "solidity": 0.2
             }
            },
            "type": "barpolar"
           }
          ],
          "carpet": [
           {
            "aaxis": {
             "endlinecolor": "#2a3f5f",
             "gridcolor": "white",
             "linecolor": "white",
             "minorgridcolor": "white",
             "startlinecolor": "#2a3f5f"
            },
            "baxis": {
             "endlinecolor": "#2a3f5f",
             "gridcolor": "white",
             "linecolor": "white",
             "minorgridcolor": "white",
             "startlinecolor": "#2a3f5f"
            },
            "type": "carpet"
           }
          ],
          "choropleth": [
           {
            "colorbar": {
             "outlinewidth": 0,
             "ticks": ""
            },
            "type": "choropleth"
           }
          ],
          "contour": [
           {
            "colorbar": {
             "outlinewidth": 0,
             "ticks": ""
            },
            "colorscale": [
             [
              0,
              "#0d0887"
             ],
             [
              0.1111111111111111,
              "#46039f"
             ],
             [
              0.2222222222222222,
              "#7201a8"
             ],
             [
              0.3333333333333333,
              "#9c179e"
             ],
             [
              0.4444444444444444,
              "#bd3786"
             ],
             [
              0.5555555555555556,
              "#d8576b"
             ],
             [
              0.6666666666666666,
              "#ed7953"
             ],
             [
              0.7777777777777778,
              "#fb9f3a"
             ],
             [
              0.8888888888888888,
              "#fdca26"
             ],
             [
              1,
              "#f0f921"
             ]
            ],
            "type": "contour"
           }
          ],
          "contourcarpet": [
           {
            "colorbar": {
             "outlinewidth": 0,
             "ticks": ""
            },
            "type": "contourcarpet"
           }
          ],
          "heatmap": [
           {
            "colorbar": {
             "outlinewidth": 0,
             "ticks": ""
            },
            "colorscale": [
             [
              0,
              "#0d0887"
             ],
             [
              0.1111111111111111,
              "#46039f"
             ],
             [
              0.2222222222222222,
              "#7201a8"
             ],
             [
              0.3333333333333333,
              "#9c179e"
             ],
             [
              0.4444444444444444,
              "#bd3786"
             ],
             [
              0.5555555555555556,
              "#d8576b"
             ],
             [
              0.6666666666666666,
              "#ed7953"
             ],
             [
              0.7777777777777778,
              "#fb9f3a"
             ],
             [
              0.8888888888888888,
              "#fdca26"
             ],
             [
              1,
              "#f0f921"
             ]
            ],
            "type": "heatmap"
           }
          ],
          "heatmapgl": [
           {
            "colorbar": {
             "outlinewidth": 0,
             "ticks": ""
            },
            "colorscale": [
             [
              0,
              "#0d0887"
             ],
             [
              0.1111111111111111,
              "#46039f"
             ],
             [
              0.2222222222222222,
              "#7201a8"
             ],
             [
              0.3333333333333333,
              "#9c179e"
             ],
             [
              0.4444444444444444,
              "#bd3786"
             ],
             [
              0.5555555555555556,
              "#d8576b"
             ],
             [
              0.6666666666666666,
              "#ed7953"
             ],
             [
              0.7777777777777778,
              "#fb9f3a"
             ],
             [
              0.8888888888888888,
              "#fdca26"
             ],
             [
              1,
              "#f0f921"
             ]
            ],
            "type": "heatmapgl"
           }
          ],
          "histogram": [
           {
            "marker": {
             "pattern": {
              "fillmode": "overlay",
              "size": 10,
              "solidity": 0.2
             }
            },
            "type": "histogram"
           }
          ],
          "histogram2d": [
           {
            "colorbar": {
             "outlinewidth": 0,
             "ticks": ""
            },
            "colorscale": [
             [
              0,
              "#0d0887"
             ],
             [
              0.1111111111111111,
              "#46039f"
             ],
             [
              0.2222222222222222,
              "#7201a8"
             ],
             [
              0.3333333333333333,
              "#9c179e"
             ],
             [
              0.4444444444444444,
              "#bd3786"
             ],
             [
              0.5555555555555556,
              "#d8576b"
             ],
             [
              0.6666666666666666,
              "#ed7953"
             ],
             [
              0.7777777777777778,
              "#fb9f3a"
             ],
             [
              0.8888888888888888,
              "#fdca26"
             ],
             [
              1,
              "#f0f921"
             ]
            ],
            "type": "histogram2d"
           }
          ],
          "histogram2dcontour": [
           {
            "colorbar": {
             "outlinewidth": 0,
             "ticks": ""
            },
            "colorscale": [
             [
              0,
              "#0d0887"
             ],
             [
              0.1111111111111111,
              "#46039f"
             ],
             [
              0.2222222222222222,
              "#7201a8"
             ],
             [
              0.3333333333333333,
              "#9c179e"
             ],
             [
              0.4444444444444444,
              "#bd3786"
             ],
             [
              0.5555555555555556,
              "#d8576b"
             ],
             [
              0.6666666666666666,
              "#ed7953"
             ],
             [
              0.7777777777777778,
              "#fb9f3a"
             ],
             [
              0.8888888888888888,
              "#fdca26"
             ],
             [
              1,
              "#f0f921"
             ]
            ],
            "type": "histogram2dcontour"
           }
          ],
          "mesh3d": [
           {
            "colorbar": {
             "outlinewidth": 0,
             "ticks": ""
            },
            "type": "mesh3d"
           }
          ],
          "parcoords": [
           {
            "line": {
             "colorbar": {
              "outlinewidth": 0,
              "ticks": ""
             }
            },
            "type": "parcoords"
           }
          ],
          "pie": [
           {
            "automargin": true,
            "type": "pie"
           }
          ],
          "scatter": [
           {
            "fillpattern": {
             "fillmode": "overlay",
             "size": 10,
             "solidity": 0.2
            },
            "type": "scatter"
           }
          ],
          "scatter3d": [
           {
            "line": {
             "colorbar": {
              "outlinewidth": 0,
              "ticks": ""
             }
            },
            "marker": {
             "colorbar": {
              "outlinewidth": 0,
              "ticks": ""
             }
            },
            "type": "scatter3d"
           }
          ],
          "scattercarpet": [
           {
            "marker": {
             "colorbar": {
              "outlinewidth": 0,
              "ticks": ""
             }
            },
            "type": "scattercarpet"
           }
          ],
          "scattergeo": [
           {
            "marker": {
             "colorbar": {
              "outlinewidth": 0,
              "ticks": ""
             }
            },
            "type": "scattergeo"
           }
          ],
          "scattergl": [
           {
            "marker": {
             "colorbar": {
              "outlinewidth": 0,
              "ticks": ""
             }
            },
            "type": "scattergl"
           }
          ],
          "scattermapbox": [
           {
            "marker": {
             "colorbar": {
              "outlinewidth": 0,
              "ticks": ""
             }
            },
            "type": "scattermapbox"
           }
          ],
          "scatterpolar": [
           {
            "marker": {
             "colorbar": {
              "outlinewidth": 0,
              "ticks": ""
             }
            },
            "type": "scatterpolar"
           }
          ],
          "scatterpolargl": [
           {
            "marker": {
             "colorbar": {
              "outlinewidth": 0,
              "ticks": ""
             }
            },
            "type": "scatterpolargl"
           }
          ],
          "scatterternary": [
           {
            "marker": {
             "colorbar": {
              "outlinewidth": 0,
              "ticks": ""
             }
            },
            "type": "scatterternary"
           }
          ],
          "surface": [
           {
            "colorbar": {
             "outlinewidth": 0,
             "ticks": ""
            },
            "colorscale": [
             [
              0,
              "#0d0887"
             ],
             [
              0.1111111111111111,
              "#46039f"
             ],
             [
              0.2222222222222222,
              "#7201a8"
             ],
             [
              0.3333333333333333,
              "#9c179e"
             ],
             [
              0.4444444444444444,
              "#bd3786"
             ],
             [
              0.5555555555555556,
              "#d8576b"
             ],
             [
              0.6666666666666666,
              "#ed7953"
             ],
             [
              0.7777777777777778,
              "#fb9f3a"
             ],
             [
              0.8888888888888888,
              "#fdca26"
             ],
             [
              1,
              "#f0f921"
             ]
            ],
            "type": "surface"
           }
          ],
          "table": [
           {
            "cells": {
             "fill": {
              "color": "#EBF0F8"
             },
             "line": {
              "color": "white"
             }
            },
            "header": {
             "fill": {
              "color": "#C8D4E3"
             },
             "line": {
              "color": "white"
             }
            },
            "type": "table"
           }
          ]
         },
         "layout": {
          "annotationdefaults": {
           "arrowcolor": "#2a3f5f",
           "arrowhead": 0,
           "arrowwidth": 1
          },
          "autotypenumbers": "strict",
          "coloraxis": {
           "colorbar": {
            "outlinewidth": 0,
            "ticks": ""
           }
          },
          "colorscale": {
           "diverging": [
            [
             0,
             "#8e0152"
            ],
            [
             0.1,
             "#c51b7d"
            ],
            [
             0.2,
             "#de77ae"
            ],
            [
             0.3,
             "#f1b6da"
            ],
            [
             0.4,
             "#fde0ef"
            ],
            [
             0.5,
             "#f7f7f7"
            ],
            [
             0.6,
             "#e6f5d0"
            ],
            [
             0.7,
             "#b8e186"
            ],
            [
             0.8,
             "#7fbc41"
            ],
            [
             0.9,
             "#4d9221"
            ],
            [
             1,
             "#276419"
            ]
           ],
           "sequential": [
            [
             0,
             "#0d0887"
            ],
            [
             0.1111111111111111,
             "#46039f"
            ],
            [
             0.2222222222222222,
             "#7201a8"
            ],
            [
             0.3333333333333333,
             "#9c179e"
            ],
            [
             0.4444444444444444,
             "#bd3786"
            ],
            [
             0.5555555555555556,
             "#d8576b"
            ],
            [
             0.6666666666666666,
             "#ed7953"
            ],
            [
             0.7777777777777778,
             "#fb9f3a"
            ],
            [
             0.8888888888888888,
             "#fdca26"
            ],
            [
             1,
             "#f0f921"
            ]
           ],
           "sequentialminus": [
            [
             0,
             "#0d0887"
            ],
            [
             0.1111111111111111,
             "#46039f"
            ],
            [
             0.2222222222222222,
             "#7201a8"
            ],
            [
             0.3333333333333333,
             "#9c179e"
            ],
            [
             0.4444444444444444,
             "#bd3786"
            ],
            [
             0.5555555555555556,
             "#d8576b"
            ],
            [
             0.6666666666666666,
             "#ed7953"
            ],
            [
             0.7777777777777778,
             "#fb9f3a"
            ],
            [
             0.8888888888888888,
             "#fdca26"
            ],
            [
             1,
             "#f0f921"
            ]
           ]
          },
          "colorway": [
           "#636efa",
           "#EF553B",
           "#00cc96",
           "#ab63fa",
           "#FFA15A",
           "#19d3f3",
           "#FF6692",
           "#B6E880",
           "#FF97FF",
           "#FECB52"
          ],
          "font": {
           "color": "#2a3f5f"
          },
          "geo": {
           "bgcolor": "white",
           "lakecolor": "white",
           "landcolor": "#E5ECF6",
           "showlakes": true,
           "showland": true,
           "subunitcolor": "white"
          },
          "hoverlabel": {
           "align": "left"
          },
          "hovermode": "closest",
          "mapbox": {
           "style": "light"
          },
          "paper_bgcolor": "white",
          "plot_bgcolor": "#E5ECF6",
          "polar": {
           "angularaxis": {
            "gridcolor": "white",
            "linecolor": "white",
            "ticks": ""
           },
           "bgcolor": "#E5ECF6",
           "radialaxis": {
            "gridcolor": "white",
            "linecolor": "white",
            "ticks": ""
           }
          },
          "scene": {
           "xaxis": {
            "backgroundcolor": "#E5ECF6",
            "gridcolor": "white",
            "gridwidth": 2,
            "linecolor": "white",
            "showbackground": true,
            "ticks": "",
            "zerolinecolor": "white"
           },
           "yaxis": {
            "backgroundcolor": "#E5ECF6",
            "gridcolor": "white",
            "gridwidth": 2,
            "linecolor": "white",
            "showbackground": true,
            "ticks": "",
            "zerolinecolor": "white"
           },
           "zaxis": {
            "backgroundcolor": "#E5ECF6",
            "gridcolor": "white",
            "gridwidth": 2,
            "linecolor": "white",
            "showbackground": true,
            "ticks": "",
            "zerolinecolor": "white"
           }
          },
          "shapedefaults": {
           "line": {
            "color": "#2a3f5f"
           }
          },
          "ternary": {
           "aaxis": {
            "gridcolor": "white",
            "linecolor": "white",
            "ticks": ""
           },
           "baxis": {
            "gridcolor": "white",
            "linecolor": "white",
            "ticks": ""
           },
           "bgcolor": "#E5ECF6",
           "caxis": {
            "gridcolor": "white",
            "linecolor": "white",
            "ticks": ""
           }
          },
          "title": {
           "x": 0.05
          },
          "xaxis": {
           "automargin": true,
           "gridcolor": "white",
           "linecolor": "white",
           "ticks": "",
           "title": {
            "standoff": 15
           },
           "zerolinecolor": "white",
           "zerolinewidth": 2
          },
          "yaxis": {
           "automargin": true,
           "gridcolor": "white",
           "linecolor": "white",
           "ticks": "",
           "title": {
            "standoff": 15
           },
           "zerolinecolor": "white",
           "zerolinewidth": 2
          }
         }
        },
        "title": {
         "text": "Relative Amounts per Subject by Party"
        },
        "width": 1920,
        "xaxis": {
         "categoryorder": "total descending",
         "title": {
          "text": "Subject"
         }
        },
        "yaxis": {
         "title": {
          "text": "Percentage"
         }
        }
       }
      }
     },
     "metadata": {},
     "output_type": "display_data"
    }
   ],
   "source": [
    "colors = {\n",
    "    \"DéFI\": \"#FFA500\",       # Orange\n",
    "    \"N-VA\": \"#FFD700\",       # Yellow\n",
    "    \"Les Engagés\": \"#FF8C00\",# Darker Orange\n",
    "    \"VB\": \"#000000\",         # Black\n",
    "    \"PVDA\": \"#FF0000\",       # Bright Red\n",
    "    \"Open Vld\": \"#1E90FF\",   # Dodger Blue\n",
    "    \"PTB\": \"#CD5C5C\",        # Indian Red\n",
    "    \"MR\": \"#87CEEB\",         # Sky Blue\n",
    "    \"Vooruit\": \"#DC143C\",    # Crimson\n",
    "    \"Ecolo\": \"#228B22\",      # Forest Green\n",
    "    \"Groen\": \"#32CD32\",      # Lime Green\n",
    "    \"CD&V\": \"#FF6347\",       # Tomato\n",
    "    \"PS\": \"#B22222\",         # Firebrick Red\n",
    "    \"cd&v\": \"#FFF\",          # White\n",
    "    \"ZZZ\": \"#1D1D1D\"         # Grey\n",
    "}\n",
    "\n",
    "\n",
    "def calculate_relative(data):\n",
    "    relative_data = {}\n",
    "    for party, subjects in data.items():\n",
    "        total = sum(subjects.values())\n",
    "        relative_data[party] = {subject: value / total for subject, value in subjects.items()}\n",
    "    return relative_data\n",
    "\n",
    "def plot_relative(data):\n",
    "    relative_data = calculate_relative(data)\n",
    "    fig = go.Figure()\n",
    "    for party, subjects in relative_data.items():\n",
    "        fig.add_trace(go.Bar(\n",
    "            name=party,\n",
    "            x=list(subjects.keys()),\n",
    "            y=list(subjects.values()),\n",
    "            marker_color=colors[party]\n",
    "        ))\n",
    "    fig.update_layout(\n",
    "        title=\"Relative Amounts per Subject by Party\",\n",
    "        xaxis_title=\"Subject\",\n",
    "        yaxis_title=\"Percentage\",\n",
    "        barmode='group',\n",
    "        xaxis={'categoryorder':'total descending'},\n",
    "        height=1080,\n",
    "        width=1920\n",
    "    )\n",
    "    fig.show()\n",
    "\n",
    "plot_relative(parties_to_domains)"
   ]
  },
  {
   "cell_type": "code",
   "execution_count": null,
   "metadata": {},
   "outputs": [],
   "source": []
  }
 ],
 "metadata": {
  "kernelspec": {
   "display_name": ".venv",
   "language": "python",
   "name": "python3"
  },
  "language_info": {
   "codemirror_mode": {
    "name": "ipython",
    "version": 3
   },
   "file_extension": ".py",
   "mimetype": "text/x-python",
   "name": "python",
   "nbconvert_exporter": "python",
   "pygments_lexer": "ipython3",
   "version": "3.12.3"
  }
 },
 "nbformat": 4,
 "nbformat_minor": 2
}
