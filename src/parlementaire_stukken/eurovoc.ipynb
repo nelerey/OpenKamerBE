{
 "cells": [
  {
   "cell_type": "code",
   "execution_count": 7,
   "metadata": {},
   "outputs": [
    {
     "data": {
      "text/plain": [
       "<Graph identifier=Ne22f6ec57c1f4a668e8dc476dd1cd781 (<class 'rdflib.graph.Graph'>)>"
      ]
     },
     "execution_count": 7,
     "metadata": {},
     "output_type": "execute_result"
    }
   ],
   "source": [
    "from rdflib import Graph\n",
    "g = Graph()\n",
    "g.parse(\"../../resources/eurovoc-skos-ap-eu.rdf\")"
   ]
  },
  {
   "cell_type": "code",
   "execution_count": 8,
   "metadata": {},
   "outputs": [
    {
     "data": {
      "text/plain": [
       "<Graph identifier=Ne22f6ec57c1f4a668e8dc476dd1cd781 (<class 'rdflib.graph.Graph'>)>"
      ]
     },
     "execution_count": 8,
     "metadata": {},
     "output_type": "execute_result"
    }
   ],
   "source": [
    "g"
   ]
  },
  {
   "cell_type": "code",
   "execution_count": 9,
   "metadata": {},
   "outputs": [
    {
     "name": "stdout",
     "output_type": "stream",
     "text": [
      "(rdflib.term.URIRef('http://eurovoc.europa.eu/xl_fi_5faf1954'), rdflib.term.URIRef('http://www.w3.org/1999/02/22-rdf-syntax-ns#type'), rdflib.term.URIRef('http://www.w3.org/2008/05/skos-xl#Label'))\n",
      "(rdflib.term.URIRef('http://eurovoc.europa.eu/844'), rdflib.term.URIRef('http://www.w3.org/2004/02/skos/core#altLabel'), rdflib.term.Literal('еколошки дисбаланс', lang='mk'))\n",
      "(rdflib.term.URIRef('http://eurovoc.europa.eu/2225'), rdflib.term.URIRef('http://www.w3.org/2008/05/skos-xl#prefLabel'), rdflib.term.URIRef('http://eurovoc.europa.eu/466502'))\n",
      "(rdflib.term.URIRef('http://eurovoc.europa.eu/175161'), rdflib.term.URIRef('http://www.w3.org/2002/07/owl#versionInfo'), rdflib.term.Literal('n/a'))\n",
      "(rdflib.term.URIRef('http://eurovoc.europa.eu/140616'), rdflib.term.URIRef('http://www.w3.org/2002/07/owl#versionInfo'), rdflib.term.Literal('n/a'))\n",
      "(rdflib.term.URIRef('http://eurovoc.europa.eu/6755'), rdflib.term.URIRef('http://www.w3.org/2004/02/skos/core#altLabel'), rdflib.term.Literal('start-up', lang='it'))\n",
      "(rdflib.term.URIRef('http://eurovoc.europa.eu/114597'), rdflib.term.URIRef('http://www.w3.org/2002/07/owl#versionInfo'), rdflib.term.Literal('n/a'))\n",
      "(rdflib.term.URIRef('http://eurovoc.europa.eu/xl_mk_489a5605'), rdflib.term.URIRef('http://www.w3.org/2002/07/owl#versionInfo'), rdflib.term.Literal('4.10.1'))\n",
      "(rdflib.term.URIRef('http://eurovoc.europa.eu/354701'), rdflib.term.URIRef('http://publications.europa.eu/ontology/euvoc#status'), rdflib.term.URIRef('http://publications.europa.eu/resource/authority/concept-status/CURRENT'))\n",
      "(rdflib.term.URIRef('http://eurovoc.europa.eu/label_4efc7a0d90b308a6407a24073ba27230'), rdflib.term.URIRef('http://publications.europa.eu/ontology/euvoc#startDate'), rdflib.term.Literal('2019-11-01', datatype=rdflib.term.URIRef('http://www.w3.org/2001/XMLSchema#date')))\n",
      "(rdflib.term.URIRef('http://eurovoc.europa.eu/482161'), rdflib.term.URIRef('http://www.w3.org/2008/05/skos-xl#literalForm'), rdflib.term.Literal('предводник на опозицијата', lang='mk'))\n"
     ]
    }
   ],
   "source": [
    "for i, (s, p, o) in enumerate(g):\n",
    "    print((s, p, o))\n",
    "    if i == 10:\n",
    "        break"
   ]
  },
  {
   "cell_type": "code",
   "execution_count": 11,
   "metadata": {},
   "outputs": [
    {
     "data": {
      "text/plain": [
       "'16 ECONOMIE'"
      ]
     },
     "execution_count": 11,
     "metadata": {},
     "output_type": "execute_result"
    }
   ],
   "source": [
    "from rdflib import SKOS, Graph, Literal, URIRef\n",
    "from unidecode import unidecode\n",
    "import logging\n",
    "\n",
    "\n",
    "# Function to search concepts by literal string\n",
    "def search_concepts_fast(graph, literal_string):\n",
    "    results = []\n",
    "    # Search for the literal in the graph\n",
    "    for s, p, o in graph.triples((None, URIRef('http://www.w3.org/2004/02/skos/core#prefLabel'), Literal(literal_string, lang='nl'))):\n",
    "        results.append(s)\n",
    "    return results\n",
    "\n",
    "def search_concepts_slow(graph, literal_string):\n",
    "    results = []\n",
    "    # Iterate over all triples with the prefLabel property\n",
    "    for s, p, o in graph.triples((None, URIRef('http://www.w3.org/2004/02/skos/core#prefLabel'), None)):\n",
    "        # Check if the object's value matches the literal_string, ignoring case\n",
    "        if o.language == 'nl' and unidecode(o.lower()) == unidecode(literal_string.lower()):\n",
    "            results.append(s)\n",
    "    \n",
    "    if results:\n",
    "        return results\n",
    "    \n",
    "    results = []\n",
    "    # Iterate over all triples with the prefLabel property\n",
    "    for s, p, o in graph.triples((None, URIRef('http://www.w3.org/2004/02/skos/core#altLabel'), None)):\n",
    "        # Check if the object's value matches the literal_string, ignoring case\n",
    "        if o.language == 'nl' and unidecode(o.lower()) == unidecode(literal_string.lower()):\n",
    "            results.append(s)\n",
    "    \n",
    "    if results:\n",
    "        return results\n",
    "    \n",
    "    results = []\n",
    "    # Iterate over all triples with the prefLabel property\n",
    "    for s, p, o in graph.triples((None, URIRef('http://www.w3.org/2004/02/skos/core#prefLabel'), None)):\n",
    "        # Check if the object's value matches the literal_string, ignoring case\n",
    "        if o.language == 'nl' and \"\".join(unidecode(literal_string.lower()).split()) in \"\".join(unidecode(o.lower()).split()):\n",
    "            results.append(s)\n",
    "    \n",
    "    if results:\n",
    "        return results\n",
    "    \n",
    "    results = []\n",
    "    # Iterate over all triples with the prefLabel property\n",
    "    for s, p, o in graph.triples((None, URIRef('http://www.w3.org/2004/02/skos/core#altLabel'), None)):\n",
    "        # Check if the object's value matches the literal_string, ignoring case\n",
    "        if o.language == 'nl' and \"\".join(unidecode(literal_string.lower()).split()) in \"\".join(unidecode(o.lower()).split()):\n",
    "            results.append(s)\n",
    "    \n",
    "    if results:\n",
    "        return results\n",
    "    \n",
    "    return []\n",
    "    \n",
    "\n",
    "\n",
    "# Function to retrieve broader concepts\n",
    "def find_broader_concepts(graph, concept_uri):\n",
    "    broader_concepts = []\n",
    "    for s, p, o in graph.triples((concept_uri, URIRef('http://www.w3.org/2004/02/skos/core#broader'), None)):\n",
    "        broader_concepts.append((s, p, o))\n",
    "        broader_concepts.extend(find_broader_concepts(graph, o))  # Recursively find broader concepts\n",
    "    return broader_concepts\n",
    "\n",
    "# Function to find Top Concept Of the broadest concept\n",
    "def find_top_concept_of(graph, concept_uri):\n",
    "    top_concept_of = []\n",
    "    for s, p, o in graph.triples((concept_uri, URIRef('http://www.w3.org/2004/02/skos/core#topConceptOf'), None)):\n",
    "        top_concept_of.append((s, p, o))\n",
    "        top_concept_of.extend(find_top_concept_of(graph, o))  # Recursively find broader concepts\n",
    "    return top_concept_of\n",
    "\n",
    "# Function to find Domain of a Top Concept\n",
    "def find_domain(graph, top_concept_uri):\n",
    "    domain = []\n",
    "    for s, p, o in graph.triples((top_concept_uri, URIRef('http://publications.europa.eu/ontology/euvoc#domain'), None)):\n",
    "        domain.append((s, p, o))\n",
    "        domain.extend(find_domain(graph, o))  # Recursively find broader concepts\n",
    "    return domain\n",
    "\n",
    "# Function to search concepts by literal string\n",
    "def search_literal(graph, domain_uri):\n",
    "    results = []\n",
    "    # Search for the prefLabel property in the given domain_uri specifically in Dutch\n",
    "    for s, p, o in graph.triples((domain_uri, SKOS.prefLabel, None)):\n",
    "        if o.language == 'nl':\n",
    "            results.append((s, p, str(o)))  # Convert Literal to string for better readability\n",
    "    return results\n",
    "\n",
    "\n",
    "def get_domain(query):\n",
    "    # Example usage\n",
    "    concept_search = query.lower()\n",
    "    concepts = search_concepts_fast(g, concept_search)\n",
    "    if not concepts:\n",
    "        concepts = search_concepts_slow(g, concept_search)\n",
    "    # print(\"Found concepts:\", concepts)\n",
    "    # print(search_literal(g, concepts[0])[0][2])\n",
    "    # print(\"\\n\")\n",
    "\n",
    "    # Concepts error handling\n",
    "    if len(concepts) == 0:\n",
    "        raise ValueError(\"Concept not found\")\n",
    "    elif len(concepts) > 1:\n",
    "        logging.warning(f\"More than 1 concept found? {[search_literal(g, c)[0][2] for c in concepts]}\\nPicking first one.\")\n",
    "\n",
    "    concept = concepts[0]\n",
    "\n",
    "    # Get broader concepts for a found concept\n",
    "    broader = find_broader_concepts(g, concept)\n",
    "    # print(\"Broader concepts:\", broader)\n",
    "\n",
    "    if broader:\n",
    "        # print(search_literal(g, broader[-1][2])[0][2])\n",
    "        concept = broader[-1][2]\n",
    "\n",
    "    # print(\"\\n\")\n",
    "\n",
    "    # Get the top concept of the broadest concept\n",
    "    top = find_top_concept_of(g, concept)\n",
    "    # print(\"Top concepts:\", top)\n",
    "    # print(search_literal(g, top[-1][2])[0][2])\n",
    "\n",
    "    # print(\"\\n\")\n",
    "\n",
    "    # Get the top concept of the broadest concept\n",
    "    domain = find_domain(g, top[-1][2])\n",
    "    # print(\"Domain:\", domain)\n",
    "    # print(search_literal(g, domain[0][2])[0][2])\n",
    "\n",
    "    return search_literal(g, domain[0][2])[0][2]\n",
    "\n",
    "get_domain(\"COMMUNAUTAIRE HULP\")"
   ]
  },
  {
   "cell_type": "code",
   "execution_count": 12,
   "metadata": {},
   "outputs": [
    {
     "name": "stdout",
     "output_type": "stream",
     "text": [
      "4015\n"
     ]
    }
   ],
   "source": [
    "import json\n",
    "import os\n",
    "\n",
    "folder_path = \"../../src/parlementaire_stukken/json\"\n",
    "\n",
    "kamerstukken = []\n",
    "for filename in os.listdir(folder_path):\n",
    "    if filename.endswith(\".json\"):\n",
    "        file_path = os.path.join(folder_path, filename)\n",
    "        with open(file_path, \"r\", encoding=\"utf-8\") as file:\n",
    "            data = json.load(file)\n",
    "        kamerstukken.append((filename, data))\n",
    "print(len(kamerstukken))"
   ]
  },
  {
   "cell_type": "code",
   "execution_count": 13,
   "metadata": {},
   "outputs": [],
   "source": [
    "import json\n",
    "\n",
    "from common.text_corrections import fix_name\n",
    "\n",
    "with open(\"../../members.json\", \"r\") as fp:\n",
    "    name_metadata = json.load(fp)\n",
    "name_to_party = {fix_name(n[\"name\"], swap_first_last_name=True): n[\"party\"] for n in name_metadata}"
   ]
  },
  {
   "cell_type": "code",
   "execution_count": 15,
   "metadata": {},
   "outputs": [
    {
     "name": "stderr",
     "output_type": "stream",
     "text": [
      "  3%|▎         | 111/4015 [00:10<05:21, 12.13it/s]WARNING:root:More than 1 concept found? ['persoon met een lichamelijke beperking', 'persoon met een verstandelijke beperking', 'persoon met een verstandelijke beperking', 'faciliteiten voor mensen met een beperking', 'werknemer met een beperking', 'buitengewoon onderwijs']\n",
      "Picking first one.\n",
      "  3%|▎         | 133/4015 [00:13<06:46,  9.55it/s]WARNING:root:More than 1 concept found? ['overheidsopdrachten', 'Overeenkomst inzake overheidsopdrachten', 'overheidsopdracht voor leveringen', 'overheidsopdracht voor werken', 'groene overheidsopdracht']\n",
      "Picking first one.\n",
      "  6%|▌         | 249/4015 [00:27<08:27,  7.42it/s]WARNING:root:More than 1 concept found? ['personeelsbenoeming', 'benoeming van de leden', 'benoemingsbevoegdheid']\n",
      "Picking first one.\n",
      "  6%|▋         | 256/4015 [00:29<09:54,  6.32it/s]WARNING:root:More than 1 concept found? ['persoon met een lichamelijke beperking', 'persoon met een verstandelijke beperking', 'persoon met een verstandelijke beperking', 'faciliteiten voor mensen met een beperking', 'werknemer met een beperking', 'buitengewoon onderwijs']\n",
      "Picking first one.\n",
      " 10%|▉         | 397/4015 [00:44<05:50, 10.32it/s]"
     ]
    },
    {
     "name": "stdout",
     "output_type": "stream",
     "text": [
      "55K1445.json\n"
     ]
    },
    {
     "name": "stderr",
     "output_type": "stream",
     "text": [
      " 11%|█         | 431/4015 [00:46<03:59, 14.96it/s]WARNING:root:More than 1 concept found? ['persoon met een lichamelijke beperking', 'persoon met een verstandelijke beperking', 'persoon met een verstandelijke beperking', 'faciliteiten voor mensen met een beperking', 'werknemer met een beperking', 'buitengewoon onderwijs']\n",
      "Picking first one.\n",
      " 21%|██        | 838/4015 [01:09<03:05, 17.09it/s]"
     ]
    },
    {
     "name": "stdout",
     "output_type": "stream",
     "text": [
      "55K0811.json\n"
     ]
    },
    {
     "name": "stderr",
     "output_type": "stream",
     "text": [
      " 24%|██▎       | 946/4015 [01:18<06:29,  7.87it/s]WARNING:root:More than 1 concept found? ['persoon met een lichamelijke beperking', 'persoon met een verstandelijke beperking', 'persoon met een verstandelijke beperking', 'faciliteiten voor mensen met een beperking', 'werknemer met een beperking', 'buitengewoon onderwijs']\n",
      "Picking first one.\n",
      " 25%|██▌       | 1008/4015 [01:25<05:46,  8.68it/s]WARNING:root:More than 1 concept found? ['persoon met een lichamelijke beperking', 'persoon met een verstandelijke beperking', 'persoon met een verstandelijke beperking', 'faciliteiten voor mensen met een beperking', 'werknemer met een beperking', 'buitengewoon onderwijs']\n",
      "Picking first one.\n",
      " 26%|██▌       | 1046/4015 [01:29<04:33, 10.84it/s]WARNING:root:More than 1 concept found? ['persoon met een lichamelijke beperking', 'persoon met een verstandelijke beperking', 'persoon met een verstandelijke beperking', 'faciliteiten voor mensen met een beperking', 'werknemer met een beperking', 'buitengewoon onderwijs']\n",
      "Picking first one.\n",
      " 29%|██▊       | 1152/4015 [01:36<02:41, 17.69it/s]"
     ]
    },
    {
     "name": "stdout",
     "output_type": "stream",
     "text": [
      "55K3159.json\n"
     ]
    },
    {
     "name": "stderr",
     "output_type": "stream",
     "text": [
      "WARNING:root:More than 1 concept found? ['persoon met een lichamelijke beperking', 'persoon met een verstandelijke beperking', 'persoon met een verstandelijke beperking', 'faciliteiten voor mensen met een beperking', 'werknemer met een beperking', 'buitengewoon onderwijs']\n",
      "Picking first one.\n",
      " 33%|███▎      | 1306/4015 [01:46<03:57, 11.39it/s]"
     ]
    },
    {
     "name": "stdout",
     "output_type": "stream",
     "text": [
      "55K3637.json\n"
     ]
    },
    {
     "name": "stderr",
     "output_type": "stream",
     "text": [
      " 36%|███▌      | 1440/4015 [01:55<02:07, 20.26it/s]WARNING:root:More than 1 concept found? ['persoon met een lichamelijke beperking', 'persoon met een verstandelijke beperking', 'persoon met een verstandelijke beperking', 'faciliteiten voor mensen met een beperking', 'werknemer met een beperking', 'buitengewoon onderwijs']\n",
      "Picking first one.\n",
      " 40%|████      | 1622/4015 [02:14<02:36, 15.28it/s]WARNING:root:More than 1 concept found? ['persoon met een lichamelijke beperking', 'persoon met een verstandelijke beperking', 'persoon met een verstandelijke beperking', 'faciliteiten voor mensen met een beperking', 'werknemer met een beperking', 'buitengewoon onderwijs']\n",
      "Picking first one.\n",
      " 44%|████▍     | 1774/4015 [02:27<02:15, 16.59it/s]"
     ]
    },
    {
     "name": "stdout",
     "output_type": "stream",
     "text": [
      "55K3649.json\n",
      "55K1444.json\n"
     ]
    },
    {
     "name": "stderr",
     "output_type": "stream",
     "text": [
      " 45%|████▌     | 1821/4015 [02:28<01:28, 24.77it/s]WARNING:root:More than 1 concept found? ['overheidsopdrachten', 'Overeenkomst inzake overheidsopdrachten', 'overheidsopdracht voor leveringen', 'overheidsopdracht voor werken', 'groene overheidsopdracht']\n",
      "Picking first one.\n",
      " 49%|████▉     | 1964/4015 [02:37<01:22, 24.92it/s]"
     ]
    },
    {
     "name": "stdout",
     "output_type": "stream",
     "text": [
      "55K0015.json\n"
     ]
    },
    {
     "name": "stderr",
     "output_type": "stream",
     "text": [
      " 49%|████▉     | 1973/4015 [02:39<02:33, 13.28it/s]WARNING:root:More than 1 concept found? ['personeelsbenoeming', 'benoeming van de leden', 'benoemingsbevoegdheid']\n",
      "Picking first one.\n",
      " 50%|████▉     | 1999/4015 [02:42<03:01, 11.08it/s]WARNING:root:More than 1 concept found? ['persoon met een lichamelijke beperking', 'persoon met een verstandelijke beperking', 'persoon met een verstandelijke beperking', 'faciliteiten voor mensen met een beperking', 'werknemer met een beperking', 'buitengewoon onderwijs']\n",
      "Picking first one.\n",
      " 53%|█████▎    | 2139/4015 [02:59<02:38, 11.86it/s]"
     ]
    },
    {
     "name": "stdout",
     "output_type": "stream",
     "text": [
      "55K3160.json\n"
     ]
    },
    {
     "name": "stderr",
     "output_type": "stream",
     "text": [
      " 54%|█████▍    | 2172/4015 [03:01<02:25, 12.63it/s]WARNING:root:More than 1 concept found? ['personeelsbenoeming', 'benoeming van de leden', 'benoemingsbevoegdheid']\n",
      "Picking first one.\n",
      " 71%|███████   | 2839/4015 [03:40<01:16, 15.36it/s]WARNING:root:More than 1 concept found? ['persoon met een lichamelijke beperking', 'persoon met een verstandelijke beperking', 'persoon met een verstandelijke beperking', 'faciliteiten voor mensen met een beperking', 'werknemer met een beperking', 'buitengewoon onderwijs']\n",
      "Picking first one.\n",
      " 73%|███████▎  | 2914/4015 [03:48<01:24, 13.09it/s]WARNING:root:More than 1 concept found? ['overheidsopdrachten', 'Overeenkomst inzake overheidsopdrachten', 'overheidsopdracht voor leveringen', 'overheidsopdracht voor werken', 'groene overheidsopdracht']\n",
      "Picking first one.\n",
      " 77%|███████▋  | 3111/4015 [03:57<00:36, 24.58it/s]WARNING:root:More than 1 concept found? ['persoon met een lichamelijke beperking', 'persoon met een verstandelijke beperking', 'persoon met een verstandelijke beperking', 'faciliteiten voor mensen met een beperking', 'werknemer met een beperking', 'buitengewoon onderwijs']\n",
      "Picking first one.\n",
      " 80%|████████  | 3223/4015 [04:11<01:55,  6.87it/s]"
     ]
    },
    {
     "name": "stdout",
     "output_type": "stream",
     "text": [
      "55K3158.json\n"
     ]
    },
    {
     "name": "stderr",
     "output_type": "stream",
     "text": [
      " 81%|████████▏ | 3263/4015 [04:13<00:54, 13.68it/s]WARNING:root:More than 1 concept found? ['overheidsopdrachten', 'Overeenkomst inzake overheidsopdrachten', 'overheidsopdracht voor leveringen', 'overheidsopdracht voor werken', 'groene overheidsopdracht']\n",
      "Picking first one.\n",
      " 82%|████████▏ | 3312/4015 [04:17<00:42, 16.68it/s]"
     ]
    },
    {
     "name": "stdout",
     "output_type": "stream",
     "text": [
      "55K1443.json\n"
     ]
    },
    {
     "name": "stderr",
     "output_type": "stream",
     "text": [
      " 83%|████████▎ | 3332/4015 [04:19<01:03, 10.77it/s]WARNING:root:More than 1 concept found? ['persoon met een lichamelijke beperking', 'persoon met een verstandelijke beperking', 'persoon met een verstandelijke beperking', 'faciliteiten voor mensen met een beperking', 'werknemer met een beperking', 'buitengewoon onderwijs']\n",
      "Picking first one.\n",
      " 86%|████████▌ | 3438/4015 [04:27<00:33, 17.02it/s]"
     ]
    },
    {
     "name": "stdout",
     "output_type": "stream",
     "text": [
      "55K1610.json\n"
     ]
    },
    {
     "name": "stderr",
     "output_type": "stream",
     "text": [
      " 90%|█████████ | 3616/4015 [04:40<00:42,  9.33it/s]WARNING:root:More than 1 concept found? ['persoon met een lichamelijke beperking', 'persoon met een verstandelijke beperking', 'persoon met een verstandelijke beperking', 'faciliteiten voor mensen met een beperking', 'werknemer met een beperking', 'buitengewoon onderwijs']\n",
      "Picking first one.\n",
      " 91%|█████████ | 3636/4015 [04:45<01:27,  4.31it/s]WARNING:root:More than 1 concept found? ['persoon met een lichamelijke beperking', 'persoon met een verstandelijke beperking', 'persoon met een verstandelijke beperking', 'faciliteiten voor mensen met een beperking', 'werknemer met een beperking', 'buitengewoon onderwijs']\n",
      "Picking first one.\n",
      " 91%|█████████ | 3637/4015 [04:47<02:18,  2.74it/s]WARNING:root:More than 1 concept found? ['personeelsbenoeming', 'benoeming van de leden', 'benoemingsbevoegdheid']\n",
      "Picking first one.\n",
      " 92%|█████████▏| 3709/4015 [04:54<00:25, 11.85it/s]WARNING:root:More than 1 concept found? ['personeelsbenoeming', 'benoeming van de leden', 'benoemingsbevoegdheid']\n",
      "Picking first one.\n",
      " 93%|█████████▎| 3723/4015 [04:58<00:42,  6.95it/s]WARNING:root:More than 1 concept found? ['Europese Autoriteit voor verzekeringen en bedrijfspensioenen', 'cumuleren van pensioenen']\n",
      "Picking first one.\n",
      " 97%|█████████▋| 3876/4015 [05:08<00:08, 15.65it/s]WARNING:root:More than 1 concept found? ['overheidsopdrachten', 'Overeenkomst inzake overheidsopdrachten', 'overheidsopdracht voor leveringen', 'overheidsopdracht voor werken', 'groene overheidsopdracht']\n",
      "Picking first one.\n",
      "100%|██████████| 4015/4015 [05:16<00:00, 12.70it/s]\n"
     ]
    }
   ],
   "source": [
    "# Pseudocode\n",
    "from collections import defaultdict\n",
    "from tqdm import tqdm\n",
    "from common.text_corrections import fix_name\n",
    "\n",
    "\n",
    "parties_to_domains = defaultdict(lambda: defaultdict(int))\n",
    "for stukname, kamerstuk in tqdm(kamerstukken):\n",
    "    try:\n",
    "        type_of_document = kamerstuk[\"Kamer en/of Senaat\"][\"Hoofddocument\"][-1][\"Type\"][-1][\"NL\"]\n",
    "        if type_of_document.lower() == \"verslag\":\n",
    "            continue\n",
    "\n",
    "        # Descriptors (either a hoofddescriptor or one of the subdescriptors)\n",
    "        if \"Eurovoc-hoofddescriptor\" in kamerstuk[\"Descriptoren, trefwoorden\"]:\n",
    "            hoofddescriptor = kamerstuk[\"Descriptoren, trefwoorden\"][\"Eurovoc-hoofddescriptor\"][\"NL\"]\n",
    "        else:\n",
    "            hoofddescriptor = kamerstuk[\"Descriptoren, trefwoorden\"][\"Eurovoc descriptoren\"][0][\"NL\"]\n",
    "\n",
    "        # Authors\n",
    "        auteurs = kamerstuk[\"Kamer en/of Senaat\"][\"Hoofddocument\"][-1][\"Auteur\"]\n",
    "\n",
    "        try:\n",
    "            domain = get_domain(hoofddescriptor)\n",
    "        except ValueError:\n",
    "            domain = hoofddescriptor\n",
    "        parties_seen = set()\n",
    "        for auteur in auteurs:\n",
    "            if auteur[\"Partij\"] == \"ZZZ\":\n",
    "                parties_to_domains[\"ZZZ\"][domain] += 1\n",
    "            else:\n",
    "                name = fix_name(f\"{auteur['Naam']} {auteur['Voornaam']}\", swap_first_last_name=False)\n",
    "                if name in name_to_party:\n",
    "                    party = name_to_party[name]\n",
    "                else:\n",
    "                    party = auteur[\"Partij\"]\n",
    "                if party not in parties_seen:\n",
    "                    parties_to_domains[party][domain] += 1\n",
    "                    parties_seen.add(party)\n",
    "    except KeyError:\n",
    "        print(stukname)\n"
   ]
  },
  {
   "cell_type": "code",
   "execution_count": 17,
   "metadata": {},
   "outputs": [
    {
     "data": {
      "text/plain": [
       "defaultdict(<function __main__.<lambda>()>,\n",
       "            {'ZZZ': defaultdict(int,\n",
       "                         {'08 INTERNATIONALE BETREKKINGEN': 97,\n",
       "                          '66 ENERGIE': 50,\n",
       "                          '28 SOCIALE VRAAGSTUKKEN': 156,\n",
       "                          '32 OPVOEDING, ONDERWIJS EN COMMUNICATIE': 30,\n",
       "                          '04 POLITIEK': 73,\n",
       "                          '12 RECHT': 110,\n",
       "                          '24 FINANCIËN': 144,\n",
       "                          '44 WERKGELEGENHEID EN ARBEID': 50,\n",
       "                          '48 TRANSPORT': 20,\n",
       "                          '40 ONDERNEMING EN CONCURRENTIE': 11,\n",
       "                          'GEESTELIJK GEHANDICAPTE': 1,\n",
       "                          '16 ECONOMIE': 17,\n",
       "                          '20 ECONOMIE, VERKEER EN HANDELSVERKEER': 18,\n",
       "                          '68 INDUSTRIE': 8,\n",
       "                          'PROGRAMMAWET': 5,\n",
       "                          '76 INTERNATIONALE ORGANISATIES': 9,\n",
       "                          '36 WETENSCHAPPEN': 3,\n",
       "                          '64 PRODUCTIE, TECHNOLOGIE EN ONDERZOEK': 5,\n",
       "                          '10 EUROPESE UNIE': 6,\n",
       "                          'NOTARIAAT': 1,\n",
       "                          '52 MILIEU': 17,\n",
       "                          'OPENBAARHEID VAN BESTUUR': 1,\n",
       "                          'RECHTERLIJKE INRICHTING': 3,\n",
       "                          '56 LANDBOUW, BOSBOUW, EN VISSERIJ': 7,\n",
       "                          'FACILITEITEN VOOR GEHANDICAPTEN': 3,\n",
       "                          '72 GEOGRAFIE': 2,\n",
       "                          'BELGISCH REKENHOF': 3,\n",
       "                          'CREG': 1,\n",
       "                          'JUSTITIELE SAMENWERKING EU': 1}),\n",
       "             'VB': defaultdict(int,\n",
       "                         {'08 INTERNATIONALE BETREKKINGEN': 14,\n",
       "                          '28 SOCIALE VRAAGSTUKKEN': 35,\n",
       "                          '04 POLITIEK': 63,\n",
       "                          '40 ONDERNEMING EN CONCURRENTIE': 2,\n",
       "                          '48 TRANSPORT': 9,\n",
       "                          '72 GEOGRAFIE': 13,\n",
       "                          '12 RECHT': 41,\n",
       "                          '66 ENERGIE': 4,\n",
       "                          '44 WERKGELEGENHEID EN ARBEID': 6,\n",
       "                          '32 OPVOEDING, ONDERWIJS EN COMMUNICATIE': 5,\n",
       "                          '60 LANDBOUWVOEDINGSMIDDELEN': 1,\n",
       "                          'OPENBAARHEID VAN BESTUUR': 1,\n",
       "                          '24 FINANCIËN': 6,\n",
       "                          '52 MILIEU': 1,\n",
       "                          '20 ECONOMIE, VERKEER EN HANDELSVERKEER': 1,\n",
       "                          '16 ECONOMIE': 3,\n",
       "                          '76 INTERNATIONALE ORGANISATIES': 1,\n",
       "                          'TIBETKWESTIE': 1,\n",
       "                          'VLUCHTELINGENCENTRUM': 1}),\n",
       "             'Les Engagés': defaultdict(int,\n",
       "                         {'48 TRANSPORT': 11,\n",
       "                          '44 WERKGELEGENHEID EN ARBEID': 16,\n",
       "                          '28 SOCIALE VRAAGSTUKKEN': 79,\n",
       "                          '24 FINANCIËN': 32,\n",
       "                          '08 INTERNATIONALE BETREKKINGEN': 14,\n",
       "                          '16 ECONOMIE': 6,\n",
       "                          '12 RECHT': 35,\n",
       "                          '04 POLITIEK': 30,\n",
       "                          '20 ECONOMIE, VERKEER EN HANDELSVERKEER': 5,\n",
       "                          '60 LANDBOUWVOEDINGSMIDDELEN': 3,\n",
       "                          '52 MILIEU': 6,\n",
       "                          '32 OPVOEDING, ONDERWIJS EN COMMUNICATIE': 2,\n",
       "                          '10 EUROPESE UNIE': 1,\n",
       "                          '72 GEOGRAFIE': 6,\n",
       "                          '68 INDUSTRIE': 1,\n",
       "                          '66 ENERGIE': 3,\n",
       "                          '56 LANDBOUW, BOSBOUW, EN VISSERIJ': 3}),\n",
       "             'N-VA': defaultdict(int,\n",
       "                         {'04 POLITIEK': 66,\n",
       "                          '28 SOCIALE VRAAGSTUKKEN': 122,\n",
       "                          '60 LANDBOUWVOEDINGSMIDDELEN': 2,\n",
       "                          '48 TRANSPORT': 24,\n",
       "                          '32 OPVOEDING, ONDERWIJS EN COMMUNICATIE': 10,\n",
       "                          'NMBS': 2,\n",
       "                          '08 INTERNATIONALE BETREKKINGEN': 24,\n",
       "                          '12 RECHT': 80,\n",
       "                          '20 ECONOMIE, VERKEER EN HANDELSVERKEER': 7,\n",
       "                          'OPENBAARHEID VAN BESTUUR': 1,\n",
       "                          '24 FINANCIËN': 27,\n",
       "                          '44 WERKGELEGENHEID EN ARBEID': 19,\n",
       "                          '16 ECONOMIE': 7,\n",
       "                          '64 PRODUCTIE, TECHNOLOGIE EN ONDERZOEK': 1,\n",
       "                          '66 ENERGIE': 14,\n",
       "                          '76 INTERNATIONALE ORGANISATIES': 3,\n",
       "                          '40 ONDERNEMING EN CONCURRENTIE': 6,\n",
       "                          '72 GEOGRAFIE': 9,\n",
       "                          '68 INDUSTRIE': 1,\n",
       "                          'RECHTERLIJKE INRICHTING': 1,\n",
       "                          '52 MILIEU': 2,\n",
       "                          'BELGISCH GRONDWETTELIJK HOF': 1,\n",
       "                          '10 EUROPESE UNIE': 3,\n",
       "                          '56 LANDBOUW, BOSBOUW, EN VISSERIJ': 1,\n",
       "                          'QUATAR': 1}),\n",
       "             'Open Vld': defaultdict(int,\n",
       "                         {'12 RECHT': 65,\n",
       "                          '28 SOCIALE VRAAGSTUKKEN': 86,\n",
       "                          '04 POLITIEK': 64,\n",
       "                          '44 WERKGELEGENHEID EN ARBEID': 26,\n",
       "                          '08 INTERNATIONALE BETREKKINGEN': 21,\n",
       "                          '72 GEOGRAFIE': 11,\n",
       "                          '60 LANDBOUWVOEDINGSMIDDELEN': 2,\n",
       "                          '48 TRANSPORT': 22,\n",
       "                          '16 ECONOMIE': 12,\n",
       "                          '24 FINANCIËN': 15,\n",
       "                          '76 INTERNATIONALE ORGANISATIES': 1,\n",
       "                          '66 ENERGIE': 6,\n",
       "                          '52 MILIEU': 7,\n",
       "                          'COMITE P EN COMITE I': 1,\n",
       "                          '64 PRODUCTIE, TECHNOLOGIE EN ONDERZOEK': 2,\n",
       "                          '32 OPVOEDING, ONDERWIJS EN COMMUNICATIE': 7,\n",
       "                          '56 LANDBOUW, BOSBOUW, EN VISSERIJ': 1,\n",
       "                          '10 EUROPESE UNIE': 2,\n",
       "                          '20 ECONOMIE, VERKEER EN HANDELSVERKEER': 4,\n",
       "                          '40 ONDERNEMING EN CONCURRENTIE': 6,\n",
       "                          'DEMOCRATISCHE REPUBLIEK KONGO': 1,\n",
       "                          'COMITE P EN I': 1,\n",
       "                          'GEESTELIJK GEHANDICAPTE': 1,\n",
       "                          '68 INDUSTRIE': 1}),\n",
       "             'CD&V': defaultdict(int,\n",
       "                         {'28 SOCIALE VRAAGSTUKKEN': 168,\n",
       "                          '10 EUROPESE UNIE': 4,\n",
       "                          '04 POLITIEK': 48,\n",
       "                          '66 ENERGIE': 9,\n",
       "                          '40 ONDERNEMING EN CONCURRENTIE': 14,\n",
       "                          '12 RECHT': 67,\n",
       "                          '08 INTERNATIONALE BETREKKINGEN': 23,\n",
       "                          '72 GEOGRAFIE': 9,\n",
       "                          '48 TRANSPORT': 25,\n",
       "                          '32 OPVOEDING, ONDERWIJS EN COMMUNICATIE': 23,\n",
       "                          '24 FINANCIËN': 41,\n",
       "                          '16 ECONOMIE': 13,\n",
       "                          '20 ECONOMIE, VERKEER EN HANDELSVERKEER': 10,\n",
       "                          '44 WERKGELEGENHEID EN ARBEID': 26,\n",
       "                          'DEMOCRATISCHE REPUBLIEK KONGO': 2,\n",
       "                          '68 INDUSTRIE': 2,\n",
       "                          'COMITE P EN I': 1,\n",
       "                          'RECHTERLIJKE INRICHTING': 1,\n",
       "                          '36 WETENSCHAPPEN': 1,\n",
       "                          '52 MILIEU': 4,\n",
       "                          '60 LANDBOUWVOEDINGSMIDDELEN': 2}),\n",
       "             'Groen': defaultdict(int,\n",
       "                         {'24 FINANCIËN': 29,\n",
       "                          '28 SOCIALE VRAAGSTUKKEN': 95,\n",
       "                          '04 POLITIEK': 56,\n",
       "                          '32 OPVOEDING, ONDERWIJS EN COMMUNICATIE': 20,\n",
       "                          '52 MILIEU': 23,\n",
       "                          '08 INTERNATIONALE BETREKKINGEN': 30,\n",
       "                          '72 GEOGRAFIE': 13,\n",
       "                          '40 ONDERNEMING EN CONCURRENTIE': 5,\n",
       "                          '16 ECONOMIE': 9,\n",
       "                          '48 TRANSPORT': 27,\n",
       "                          '36 WETENSCHAPPEN': 1,\n",
       "                          '12 RECHT': 46,\n",
       "                          '20 ECONOMIE, VERKEER EN HANDELSVERKEER': 3,\n",
       "                          '44 WERKGELEGENHEID EN ARBEID': 17,\n",
       "                          '66 ENERGIE': 13,\n",
       "                          'DEMOCRATISCHE REPUBLIEK KONGO': 2,\n",
       "                          'BUITENGRENS VAN DE GEMEENSCHAP': 1,\n",
       "                          'OPENBAARHEID VAN BESTUUR': 1,\n",
       "                          '10 EUROPESE UNIE': 3,\n",
       "                          '68 INDUSTRIE': 1,\n",
       "                          'COMITE P EN I': 1,\n",
       "                          'INTERNERING': 1,\n",
       "                          'TAX SHELTER': 1,\n",
       "                          '76 INTERNATIONALE ORGANISATIES': 1,\n",
       "                          'QUATAR': 1,\n",
       "                          '60 LANDBOUWVOEDINGSMIDDELEN': 1,\n",
       "                          '56 LANDBOUW, BOSBOUW, EN VISSERIJ': 2}),\n",
       "             'Ecolo': defaultdict(int,\n",
       "                         {'24 FINANCIËN': 28,\n",
       "                          '28 SOCIALE VRAAGSTUKKEN': 97,\n",
       "                          '44 WERKGELEGENHEID EN ARBEID': 20,\n",
       "                          '04 POLITIEK': 57,\n",
       "                          '32 OPVOEDING, ONDERWIJS EN COMMUNICATIE': 20,\n",
       "                          '52 MILIEU': 25,\n",
       "                          '08 INTERNATIONALE BETREKKINGEN': 30,\n",
       "                          '72 GEOGRAFIE': 12,\n",
       "                          '40 ONDERNEMING EN CONCURRENTIE': 5,\n",
       "                          '16 ECONOMIE': 9,\n",
       "                          '48 TRANSPORT': 24,\n",
       "                          '36 WETENSCHAPPEN': 1,\n",
       "                          '12 RECHT': 48,\n",
       "                          '66 ENERGIE': 15,\n",
       "                          '20 ECONOMIE, VERKEER EN HANDELSVERKEER': 3,\n",
       "                          'DEMOCRATISCHE REPUBLIEK KONGO': 2,\n",
       "                          'BUITENGRENS VAN DE GEMEENSCHAP': 1,\n",
       "                          'OPENBAARHEID VAN BESTUUR': 1,\n",
       "                          '10 EUROPESE UNIE': 3,\n",
       "                          '68 INDUSTRIE': 1,\n",
       "                          'COMITE P EN I': 1,\n",
       "                          'INTERNERING': 1,\n",
       "                          'TAX SHELTER': 1,\n",
       "                          '76 INTERNATIONALE ORGANISATIES': 1,\n",
       "                          'QUATAR': 1,\n",
       "                          '60 LANDBOUWVOEDINGSMIDDELEN': 1,\n",
       "                          '56 LANDBOUW, BOSBOUW, EN VISSERIJ': 2}),\n",
       "             'Vooruit': defaultdict(int,\n",
       "                         {'28 SOCIALE VRAAGSTUKKEN': 120,\n",
       "                          '04 POLITIEK': 36,\n",
       "                          '66 ENERGIE': 13,\n",
       "                          '12 RECHT': 69,\n",
       "                          '52 MILIEU': 12,\n",
       "                          '32 OPVOEDING, ONDERWIJS EN COMMUNICATIE': 16,\n",
       "                          '08 INTERNATIONALE BETREKKINGEN': 29,\n",
       "                          '24 FINANCIËN': 50,\n",
       "                          '72 GEOGRAFIE': 9,\n",
       "                          '20 ECONOMIE, VERKEER EN HANDELSVERKEER': 12,\n",
       "                          '48 TRANSPORT': 23,\n",
       "                          '60 LANDBOUWVOEDINGSMIDDELEN': 1,\n",
       "                          '16 ECONOMIE': 10,\n",
       "                          '44 WERKGELEGENHEID EN ARBEID': 30,\n",
       "                          '40 ONDERNEMING EN CONCURRENTIE': 9,\n",
       "                          '10 EUROPESE UNIE': 4,\n",
       "                          '56 LANDBOUW, BOSBOUW, EN VISSERIJ': 2,\n",
       "                          'DEMOCRATISCHE REPUBLIEK KONGO': 2,\n",
       "                          'COMITE P EN I': 1,\n",
       "                          '68 INDUSTRIE': 2,\n",
       "                          '76 INTERNATIONALE ORGANISATIES': 2}),\n",
       "             'PS': defaultdict(int,\n",
       "                         {'28 SOCIALE VRAAGSTUKKEN': 148,\n",
       "                          '24 FINANCIËN': 48,\n",
       "                          '04 POLITIEK': 50,\n",
       "                          '66 ENERGIE': 15,\n",
       "                          '08 INTERNATIONALE BETREKKINGEN': 36,\n",
       "                          '12 RECHT': 81,\n",
       "                          '52 MILIEU': 18,\n",
       "                          '32 OPVOEDING, ONDERWIJS EN COMMUNICATIE': 20,\n",
       "                          '48 TRANSPORT': 15,\n",
       "                          '20 ECONOMIE, VERKEER EN HANDELSVERKEER': 15,\n",
       "                          '72 GEOGRAFIE': 12,\n",
       "                          '16 ECONOMIE': 12,\n",
       "                          '44 WERKGELEGENHEID EN ARBEID': 38,\n",
       "                          '40 ONDERNEMING EN CONCURRENTIE': 6,\n",
       "                          'BUITENGRENS VAN DE GEMEENSCHAP': 1,\n",
       "                          '60 LANDBOUWVOEDINGSMIDDELEN': 1,\n",
       "                          '10 EUROPESE UNIE': 3,\n",
       "                          '68 INDUSTRIE': 2,\n",
       "                          '56 LANDBOUW, BOSBOUW, EN VISSERIJ': 2,\n",
       "                          'DEMOCRATISCHE REPUBLIEK KONGO': 2,\n",
       "                          'COMITE P EN I': 1,\n",
       "                          '76 INTERNATIONALE ORGANISATIES': 3,\n",
       "                          'SCHENDING VAN HET COMMUNAUTAIR RECHT': 1}),\n",
       "             'MR': defaultdict(int,\n",
       "                         {'28 SOCIALE VRAAGSTUKKEN': 88,\n",
       "                          '04 POLITIEK': 46,\n",
       "                          '24 FINANCIËN': 18,\n",
       "                          '40 ONDERNEMING EN CONCURRENTIE': 7,\n",
       "                          '44 WERKGELEGENHEID EN ARBEID': 14,\n",
       "                          '12 RECHT': 42,\n",
       "                          '16 ECONOMIE': 10,\n",
       "                          '08 INTERNATIONALE BETREKKINGEN': 24,\n",
       "                          '72 GEOGRAFIE': 14,\n",
       "                          '52 MILIEU': 7,\n",
       "                          '32 OPVOEDING, ONDERWIJS EN COMMUNICATIE': 9,\n",
       "                          '48 TRANSPORT': 13,\n",
       "                          '76 INTERNATIONALE ORGANISATIES': 2,\n",
       "                          '64 PRODUCTIE, TECHNOLOGIE EN ONDERZOEK': 1,\n",
       "                          '66 ENERGIE': 7,\n",
       "                          '10 EUROPESE UNIE': 1,\n",
       "                          '68 INDUSTRIE': 1,\n",
       "                          'DEMOCRATISCHE REPUBLIEK KONGO': 1,\n",
       "                          'COMITE P EN I': 1,\n",
       "                          'RECHTERLIJKE INRICHTING': 1,\n",
       "                          '60 LANDBOUWVOEDINGSMIDDELEN': 1,\n",
       "                          '20 ECONOMIE, VERKEER EN HANDELSVERKEER': 4}),\n",
       "             'PTB': defaultdict(int,\n",
       "                         {'24 FINANCIËN': 16,\n",
       "                          '04 POLITIEK': 29,\n",
       "                          '66 ENERGIE': 12,\n",
       "                          '48 TRANSPORT': 8,\n",
       "                          '44 WERKGELEGENHEID EN ARBEID': 18,\n",
       "                          '08 INTERNATIONALE BETREKKINGEN': 11,\n",
       "                          '28 SOCIALE VRAAGSTUKKEN': 33,\n",
       "                          '72 GEOGRAFIE': 3,\n",
       "                          '32 OPVOEDING, ONDERWIJS EN COMMUNICATIE': 5,\n",
       "                          '16 ECONOMIE': 5,\n",
       "                          '52 MILIEU': 6,\n",
       "                          '12 RECHT': 10,\n",
       "                          '20 ECONOMIE, VERKEER EN HANDELSVERKEER': 1,\n",
       "                          'GEMEENSCHAPPELIJK DEFENSIEBELEID': 1,\n",
       "                          '10 EUROPESE UNIE': 1}),\n",
       "             'PVDA': defaultdict(int,\n",
       "                         {'24 FINANCIËN': 14,\n",
       "                          '04 POLITIEK': 17,\n",
       "                          '66 ENERGIE': 11,\n",
       "                          '44 WERKGELEGENHEID EN ARBEID': 13,\n",
       "                          '08 INTERNATIONALE BETREKKINGEN': 10,\n",
       "                          '28 SOCIALE VRAAGSTUKKEN': 22,\n",
       "                          '72 GEOGRAFIE': 3,\n",
       "                          '32 OPVOEDING, ONDERWIJS EN COMMUNICATIE': 5,\n",
       "                          '16 ECONOMIE': 5,\n",
       "                          '48 TRANSPORT': 3,\n",
       "                          '52 MILIEU': 7,\n",
       "                          '12 RECHT': 10,\n",
       "                          '20 ECONOMIE, VERKEER EN HANDELSVERKEER': 1,\n",
       "                          'GEMEENSCHAPPELIJK DEFENSIEBELEID': 1,\n",
       "                          '10 EUROPESE UNIE': 1}),\n",
       "             'DéFI': defaultdict(int,\n",
       "                         {'24 FINANCIËN': 8,\n",
       "                          '28 SOCIALE VRAAGSTUKKEN': 33,\n",
       "                          '08 INTERNATIONALE BETREKKINGEN': 11,\n",
       "                          '32 OPVOEDING, ONDERWIJS EN COMMUNICATIE': 4,\n",
       "                          'RECHTERLIJKE INRICHTING': 2,\n",
       "                          '04 POLITIEK': 15,\n",
       "                          '12 RECHT': 27,\n",
       "                          '48 TRANSPORT': 2,\n",
       "                          '52 MILIEU': 5,\n",
       "                          '44 WERKGELEGENHEID EN ARBEID': 1,\n",
       "                          '68 INDUSTRIE': 1,\n",
       "                          '72 GEOGRAFIE': 4,\n",
       "                          '66 ENERGIE': 3}),\n",
       "             'cd&v': defaultdict(int, {'28 SOCIALE VRAAGSTUKKEN': 1})})"
      ]
     },
     "execution_count": 17,
     "metadata": {},
     "output_type": "execute_result"
    }
   ],
   "source": [
    "parties_to_domains"
   ]
  },
  {
   "cell_type": "code",
   "execution_count": 19,
   "metadata": {},
   "outputs": [
    {
     "data": {
      "application/vnd.plotly.v1+json": {
       "config": {
        "plotlyServerURL": "https://plot.ly"
       },
       "data": [
        {
         "name": "ZZZ",
         "type": "bar",
         "x": [
          "08 INTERNATIONALE BETREKKINGEN",
          "66 ENERGIE",
          "28 SOCIALE VRAAGSTUKKEN",
          "32 OPVOEDING, ONDERWIJS EN COMMUNICATIE",
          "04 POLITIEK",
          "12 RECHT",
          "24 FINANCIËN",
          "44 WERKGELEGENHEID EN ARBEID",
          "48 TRANSPORT",
          "40 ONDERNEMING EN CONCURRENTIE",
          "GEESTELIJK GEHANDICAPTE",
          "16 ECONOMIE",
          "20 ECONOMIE, VERKEER EN HANDELSVERKEER",
          "68 INDUSTRIE",
          "PROGRAMMAWET",
          "76 INTERNATIONALE ORGANISATIES",
          "36 WETENSCHAPPEN",
          "64 PRODUCTIE, TECHNOLOGIE EN ONDERZOEK",
          "10 EUROPESE UNIE",
          "NOTARIAAT",
          "52 MILIEU",
          "OPENBAARHEID VAN BESTUUR",
          "RECHTERLIJKE INRICHTING",
          "56 LANDBOUW, BOSBOUW, EN VISSERIJ",
          "FACILITEITEN VOOR GEHANDICAPTEN",
          "72 GEOGRAFIE",
          "BELGISCH REKENHOF",
          "CREG",
          "JUSTITIELE SAMENWERKING EU"
         ],
         "y": [
          97,
          50,
          156,
          30,
          73,
          110,
          144,
          50,
          20,
          11,
          1,
          17,
          18,
          8,
          5,
          9,
          3,
          5,
          6,
          1,
          17,
          1,
          3,
          7,
          3,
          2,
          3,
          1,
          1
         ]
        },
        {
         "name": "VB",
         "type": "bar",
         "x": [
          "08 INTERNATIONALE BETREKKINGEN",
          "28 SOCIALE VRAAGSTUKKEN",
          "04 POLITIEK",
          "40 ONDERNEMING EN CONCURRENTIE",
          "48 TRANSPORT",
          "72 GEOGRAFIE",
          "12 RECHT",
          "66 ENERGIE",
          "44 WERKGELEGENHEID EN ARBEID",
          "32 OPVOEDING, ONDERWIJS EN COMMUNICATIE",
          "60 LANDBOUWVOEDINGSMIDDELEN",
          "OPENBAARHEID VAN BESTUUR",
          "24 FINANCIËN",
          "52 MILIEU",
          "20 ECONOMIE, VERKEER EN HANDELSVERKEER",
          "16 ECONOMIE",
          "76 INTERNATIONALE ORGANISATIES",
          "TIBETKWESTIE",
          "VLUCHTELINGENCENTRUM"
         ],
         "y": [
          14,
          35,
          63,
          2,
          9,
          13,
          41,
          4,
          6,
          5,
          1,
          1,
          6,
          1,
          1,
          3,
          1,
          1,
          1
         ]
        },
        {
         "name": "Les Engagés",
         "type": "bar",
         "x": [
          "48 TRANSPORT",
          "44 WERKGELEGENHEID EN ARBEID",
          "28 SOCIALE VRAAGSTUKKEN",
          "24 FINANCIËN",
          "08 INTERNATIONALE BETREKKINGEN",
          "16 ECONOMIE",
          "12 RECHT",
          "04 POLITIEK",
          "20 ECONOMIE, VERKEER EN HANDELSVERKEER",
          "60 LANDBOUWVOEDINGSMIDDELEN",
          "52 MILIEU",
          "32 OPVOEDING, ONDERWIJS EN COMMUNICATIE",
          "10 EUROPESE UNIE",
          "72 GEOGRAFIE",
          "68 INDUSTRIE",
          "66 ENERGIE",
          "56 LANDBOUW, BOSBOUW, EN VISSERIJ"
         ],
         "y": [
          11,
          16,
          79,
          32,
          14,
          6,
          35,
          30,
          5,
          3,
          6,
          2,
          1,
          6,
          1,
          3,
          3
         ]
        },
        {
         "name": "N-VA",
         "type": "bar",
         "x": [
          "04 POLITIEK",
          "28 SOCIALE VRAAGSTUKKEN",
          "60 LANDBOUWVOEDINGSMIDDELEN",
          "48 TRANSPORT",
          "32 OPVOEDING, ONDERWIJS EN COMMUNICATIE",
          "NMBS",
          "08 INTERNATIONALE BETREKKINGEN",
          "12 RECHT",
          "20 ECONOMIE, VERKEER EN HANDELSVERKEER",
          "OPENBAARHEID VAN BESTUUR",
          "24 FINANCIËN",
          "44 WERKGELEGENHEID EN ARBEID",
          "16 ECONOMIE",
          "64 PRODUCTIE, TECHNOLOGIE EN ONDERZOEK",
          "66 ENERGIE",
          "76 INTERNATIONALE ORGANISATIES",
          "40 ONDERNEMING EN CONCURRENTIE",
          "72 GEOGRAFIE",
          "68 INDUSTRIE",
          "RECHTERLIJKE INRICHTING",
          "52 MILIEU",
          "BELGISCH GRONDWETTELIJK HOF",
          "10 EUROPESE UNIE",
          "56 LANDBOUW, BOSBOUW, EN VISSERIJ",
          "QUATAR"
         ],
         "y": [
          66,
          122,
          2,
          24,
          10,
          2,
          24,
          80,
          7,
          1,
          27,
          19,
          7,
          1,
          14,
          3,
          6,
          9,
          1,
          1,
          2,
          1,
          3,
          1,
          1
         ]
        },
        {
         "name": "Open Vld",
         "type": "bar",
         "x": [
          "12 RECHT",
          "28 SOCIALE VRAAGSTUKKEN",
          "04 POLITIEK",
          "44 WERKGELEGENHEID EN ARBEID",
          "08 INTERNATIONALE BETREKKINGEN",
          "72 GEOGRAFIE",
          "60 LANDBOUWVOEDINGSMIDDELEN",
          "48 TRANSPORT",
          "16 ECONOMIE",
          "24 FINANCIËN",
          "76 INTERNATIONALE ORGANISATIES",
          "66 ENERGIE",
          "52 MILIEU",
          "COMITE P EN COMITE I",
          "64 PRODUCTIE, TECHNOLOGIE EN ONDERZOEK",
          "32 OPVOEDING, ONDERWIJS EN COMMUNICATIE",
          "56 LANDBOUW, BOSBOUW, EN VISSERIJ",
          "10 EUROPESE UNIE",
          "20 ECONOMIE, VERKEER EN HANDELSVERKEER",
          "40 ONDERNEMING EN CONCURRENTIE",
          "DEMOCRATISCHE REPUBLIEK KONGO",
          "COMITE P EN I",
          "GEESTELIJK GEHANDICAPTE",
          "68 INDUSTRIE"
         ],
         "y": [
          65,
          86,
          64,
          26,
          21,
          11,
          2,
          22,
          12,
          15,
          1,
          6,
          7,
          1,
          2,
          7,
          1,
          2,
          4,
          6,
          1,
          1,
          1,
          1
         ]
        },
        {
         "name": "CD&V",
         "type": "bar",
         "x": [
          "28 SOCIALE VRAAGSTUKKEN",
          "10 EUROPESE UNIE",
          "04 POLITIEK",
          "66 ENERGIE",
          "40 ONDERNEMING EN CONCURRENTIE",
          "12 RECHT",
          "08 INTERNATIONALE BETREKKINGEN",
          "72 GEOGRAFIE",
          "48 TRANSPORT",
          "32 OPVOEDING, ONDERWIJS EN COMMUNICATIE",
          "24 FINANCIËN",
          "16 ECONOMIE",
          "20 ECONOMIE, VERKEER EN HANDELSVERKEER",
          "44 WERKGELEGENHEID EN ARBEID",
          "DEMOCRATISCHE REPUBLIEK KONGO",
          "68 INDUSTRIE",
          "COMITE P EN I",
          "RECHTERLIJKE INRICHTING",
          "36 WETENSCHAPPEN",
          "52 MILIEU",
          "60 LANDBOUWVOEDINGSMIDDELEN"
         ],
         "y": [
          168,
          4,
          48,
          9,
          14,
          67,
          23,
          9,
          25,
          23,
          41,
          13,
          10,
          26,
          2,
          2,
          1,
          1,
          1,
          4,
          2
         ]
        },
        {
         "name": "Groen",
         "type": "bar",
         "x": [
          "24 FINANCIËN",
          "28 SOCIALE VRAAGSTUKKEN",
          "04 POLITIEK",
          "32 OPVOEDING, ONDERWIJS EN COMMUNICATIE",
          "52 MILIEU",
          "08 INTERNATIONALE BETREKKINGEN",
          "72 GEOGRAFIE",
          "40 ONDERNEMING EN CONCURRENTIE",
          "16 ECONOMIE",
          "48 TRANSPORT",
          "36 WETENSCHAPPEN",
          "12 RECHT",
          "20 ECONOMIE, VERKEER EN HANDELSVERKEER",
          "44 WERKGELEGENHEID EN ARBEID",
          "66 ENERGIE",
          "DEMOCRATISCHE REPUBLIEK KONGO",
          "BUITENGRENS VAN DE GEMEENSCHAP",
          "OPENBAARHEID VAN BESTUUR",
          "10 EUROPESE UNIE",
          "68 INDUSTRIE",
          "COMITE P EN I",
          "INTERNERING",
          "TAX SHELTER",
          "76 INTERNATIONALE ORGANISATIES",
          "QUATAR",
          "60 LANDBOUWVOEDINGSMIDDELEN",
          "56 LANDBOUW, BOSBOUW, EN VISSERIJ"
         ],
         "y": [
          29,
          95,
          56,
          20,
          23,
          30,
          13,
          5,
          9,
          27,
          1,
          46,
          3,
          17,
          13,
          2,
          1,
          1,
          3,
          1,
          1,
          1,
          1,
          1,
          1,
          1,
          2
         ]
        },
        {
         "name": "Ecolo",
         "type": "bar",
         "x": [
          "24 FINANCIËN",
          "28 SOCIALE VRAAGSTUKKEN",
          "44 WERKGELEGENHEID EN ARBEID",
          "04 POLITIEK",
          "32 OPVOEDING, ONDERWIJS EN COMMUNICATIE",
          "52 MILIEU",
          "08 INTERNATIONALE BETREKKINGEN",
          "72 GEOGRAFIE",
          "40 ONDERNEMING EN CONCURRENTIE",
          "16 ECONOMIE",
          "48 TRANSPORT",
          "36 WETENSCHAPPEN",
          "12 RECHT",
          "66 ENERGIE",
          "20 ECONOMIE, VERKEER EN HANDELSVERKEER",
          "DEMOCRATISCHE REPUBLIEK KONGO",
          "BUITENGRENS VAN DE GEMEENSCHAP",
          "OPENBAARHEID VAN BESTUUR",
          "10 EUROPESE UNIE",
          "68 INDUSTRIE",
          "COMITE P EN I",
          "INTERNERING",
          "TAX SHELTER",
          "76 INTERNATIONALE ORGANISATIES",
          "QUATAR",
          "60 LANDBOUWVOEDINGSMIDDELEN",
          "56 LANDBOUW, BOSBOUW, EN VISSERIJ"
         ],
         "y": [
          28,
          97,
          20,
          57,
          20,
          25,
          30,
          12,
          5,
          9,
          24,
          1,
          48,
          15,
          3,
          2,
          1,
          1,
          3,
          1,
          1,
          1,
          1,
          1,
          1,
          1,
          2
         ]
        },
        {
         "name": "Vooruit",
         "type": "bar",
         "x": [
          "28 SOCIALE VRAAGSTUKKEN",
          "04 POLITIEK",
          "66 ENERGIE",
          "12 RECHT",
          "52 MILIEU",
          "32 OPVOEDING, ONDERWIJS EN COMMUNICATIE",
          "08 INTERNATIONALE BETREKKINGEN",
          "24 FINANCIËN",
          "72 GEOGRAFIE",
          "20 ECONOMIE, VERKEER EN HANDELSVERKEER",
          "48 TRANSPORT",
          "60 LANDBOUWVOEDINGSMIDDELEN",
          "16 ECONOMIE",
          "44 WERKGELEGENHEID EN ARBEID",
          "40 ONDERNEMING EN CONCURRENTIE",
          "10 EUROPESE UNIE",
          "56 LANDBOUW, BOSBOUW, EN VISSERIJ",
          "DEMOCRATISCHE REPUBLIEK KONGO",
          "COMITE P EN I",
          "68 INDUSTRIE",
          "76 INTERNATIONALE ORGANISATIES"
         ],
         "y": [
          120,
          36,
          13,
          69,
          12,
          16,
          29,
          50,
          9,
          12,
          23,
          1,
          10,
          30,
          9,
          4,
          2,
          2,
          1,
          2,
          2
         ]
        },
        {
         "name": "PS",
         "type": "bar",
         "x": [
          "28 SOCIALE VRAAGSTUKKEN",
          "24 FINANCIËN",
          "04 POLITIEK",
          "66 ENERGIE",
          "08 INTERNATIONALE BETREKKINGEN",
          "12 RECHT",
          "52 MILIEU",
          "32 OPVOEDING, ONDERWIJS EN COMMUNICATIE",
          "48 TRANSPORT",
          "20 ECONOMIE, VERKEER EN HANDELSVERKEER",
          "72 GEOGRAFIE",
          "16 ECONOMIE",
          "44 WERKGELEGENHEID EN ARBEID",
          "40 ONDERNEMING EN CONCURRENTIE",
          "BUITENGRENS VAN DE GEMEENSCHAP",
          "60 LANDBOUWVOEDINGSMIDDELEN",
          "10 EUROPESE UNIE",
          "68 INDUSTRIE",
          "56 LANDBOUW, BOSBOUW, EN VISSERIJ",
          "DEMOCRATISCHE REPUBLIEK KONGO",
          "COMITE P EN I",
          "76 INTERNATIONALE ORGANISATIES",
          "SCHENDING VAN HET COMMUNAUTAIR RECHT"
         ],
         "y": [
          148,
          48,
          50,
          15,
          36,
          81,
          18,
          20,
          15,
          15,
          12,
          12,
          38,
          6,
          1,
          1,
          3,
          2,
          2,
          2,
          1,
          3,
          1
         ]
        },
        {
         "name": "MR",
         "type": "bar",
         "x": [
          "28 SOCIALE VRAAGSTUKKEN",
          "04 POLITIEK",
          "24 FINANCIËN",
          "40 ONDERNEMING EN CONCURRENTIE",
          "44 WERKGELEGENHEID EN ARBEID",
          "12 RECHT",
          "16 ECONOMIE",
          "08 INTERNATIONALE BETREKKINGEN",
          "72 GEOGRAFIE",
          "52 MILIEU",
          "32 OPVOEDING, ONDERWIJS EN COMMUNICATIE",
          "48 TRANSPORT",
          "76 INTERNATIONALE ORGANISATIES",
          "64 PRODUCTIE, TECHNOLOGIE EN ONDERZOEK",
          "66 ENERGIE",
          "10 EUROPESE UNIE",
          "68 INDUSTRIE",
          "DEMOCRATISCHE REPUBLIEK KONGO",
          "COMITE P EN I",
          "RECHTERLIJKE INRICHTING",
          "60 LANDBOUWVOEDINGSMIDDELEN",
          "20 ECONOMIE, VERKEER EN HANDELSVERKEER"
         ],
         "y": [
          88,
          46,
          18,
          7,
          14,
          42,
          10,
          24,
          14,
          7,
          9,
          13,
          2,
          1,
          7,
          1,
          1,
          1,
          1,
          1,
          1,
          4
         ]
        },
        {
         "name": "PTB",
         "type": "bar",
         "x": [
          "24 FINANCIËN",
          "04 POLITIEK",
          "66 ENERGIE",
          "48 TRANSPORT",
          "44 WERKGELEGENHEID EN ARBEID",
          "08 INTERNATIONALE BETREKKINGEN",
          "28 SOCIALE VRAAGSTUKKEN",
          "72 GEOGRAFIE",
          "32 OPVOEDING, ONDERWIJS EN COMMUNICATIE",
          "16 ECONOMIE",
          "52 MILIEU",
          "12 RECHT",
          "20 ECONOMIE, VERKEER EN HANDELSVERKEER",
          "GEMEENSCHAPPELIJK DEFENSIEBELEID",
          "10 EUROPESE UNIE"
         ],
         "y": [
          16,
          29,
          12,
          8,
          18,
          11,
          33,
          3,
          5,
          5,
          6,
          10,
          1,
          1,
          1
         ]
        },
        {
         "name": "PVDA",
         "type": "bar",
         "x": [
          "24 FINANCIËN",
          "04 POLITIEK",
          "66 ENERGIE",
          "44 WERKGELEGENHEID EN ARBEID",
          "08 INTERNATIONALE BETREKKINGEN",
          "28 SOCIALE VRAAGSTUKKEN",
          "72 GEOGRAFIE",
          "32 OPVOEDING, ONDERWIJS EN COMMUNICATIE",
          "16 ECONOMIE",
          "48 TRANSPORT",
          "52 MILIEU",
          "12 RECHT",
          "20 ECONOMIE, VERKEER EN HANDELSVERKEER",
          "GEMEENSCHAPPELIJK DEFENSIEBELEID",
          "10 EUROPESE UNIE"
         ],
         "y": [
          14,
          17,
          11,
          13,
          10,
          22,
          3,
          5,
          5,
          3,
          7,
          10,
          1,
          1,
          1
         ]
        },
        {
         "name": "DéFI",
         "type": "bar",
         "x": [
          "24 FINANCIËN",
          "28 SOCIALE VRAAGSTUKKEN",
          "08 INTERNATIONALE BETREKKINGEN",
          "32 OPVOEDING, ONDERWIJS EN COMMUNICATIE",
          "RECHTERLIJKE INRICHTING",
          "04 POLITIEK",
          "12 RECHT",
          "48 TRANSPORT",
          "52 MILIEU",
          "44 WERKGELEGENHEID EN ARBEID",
          "68 INDUSTRIE",
          "72 GEOGRAFIE",
          "66 ENERGIE"
         ],
         "y": [
          8,
          33,
          11,
          4,
          2,
          15,
          27,
          2,
          5,
          1,
          1,
          4,
          3
         ]
        },
        {
         "name": "cd&v",
         "type": "bar",
         "x": [
          "28 SOCIALE VRAAGSTUKKEN"
         ],
         "y": [
          1
         ]
        }
       ],
       "layout": {
        "barmode": "group",
        "height": 1080,
        "template": {
         "data": {
          "bar": [
           {
            "error_x": {
             "color": "#2a3f5f"
            },
            "error_y": {
             "color": "#2a3f5f"
            },
            "marker": {
             "line": {
              "color": "#E5ECF6",
              "width": 0.5
             },
             "pattern": {
              "fillmode": "overlay",
              "size": 10,
              "solidity": 0.2
             }
            },
            "type": "bar"
           }
          ],
          "barpolar": [
           {
            "marker": {
             "line": {
              "color": "#E5ECF6",
              "width": 0.5
             },
             "pattern": {
              "fillmode": "overlay",
              "size": 10,
              "solidity": 0.2
             }
            },
            "type": "barpolar"
           }
          ],
          "carpet": [
           {
            "aaxis": {
             "endlinecolor": "#2a3f5f",
             "gridcolor": "white",
             "linecolor": "white",
             "minorgridcolor": "white",
             "startlinecolor": "#2a3f5f"
            },
            "baxis": {
             "endlinecolor": "#2a3f5f",
             "gridcolor": "white",
             "linecolor": "white",
             "minorgridcolor": "white",
             "startlinecolor": "#2a3f5f"
            },
            "type": "carpet"
           }
          ],
          "choropleth": [
           {
            "colorbar": {
             "outlinewidth": 0,
             "ticks": ""
            },
            "type": "choropleth"
           }
          ],
          "contour": [
           {
            "colorbar": {
             "outlinewidth": 0,
             "ticks": ""
            },
            "colorscale": [
             [
              0,
              "#0d0887"
             ],
             [
              0.1111111111111111,
              "#46039f"
             ],
             [
              0.2222222222222222,
              "#7201a8"
             ],
             [
              0.3333333333333333,
              "#9c179e"
             ],
             [
              0.4444444444444444,
              "#bd3786"
             ],
             [
              0.5555555555555556,
              "#d8576b"
             ],
             [
              0.6666666666666666,
              "#ed7953"
             ],
             [
              0.7777777777777778,
              "#fb9f3a"
             ],
             [
              0.8888888888888888,
              "#fdca26"
             ],
             [
              1,
              "#f0f921"
             ]
            ],
            "type": "contour"
           }
          ],
          "contourcarpet": [
           {
            "colorbar": {
             "outlinewidth": 0,
             "ticks": ""
            },
            "type": "contourcarpet"
           }
          ],
          "heatmap": [
           {
            "colorbar": {
             "outlinewidth": 0,
             "ticks": ""
            },
            "colorscale": [
             [
              0,
              "#0d0887"
             ],
             [
              0.1111111111111111,
              "#46039f"
             ],
             [
              0.2222222222222222,
              "#7201a8"
             ],
             [
              0.3333333333333333,
              "#9c179e"
             ],
             [
              0.4444444444444444,
              "#bd3786"
             ],
             [
              0.5555555555555556,
              "#d8576b"
             ],
             [
              0.6666666666666666,
              "#ed7953"
             ],
             [
              0.7777777777777778,
              "#fb9f3a"
             ],
             [
              0.8888888888888888,
              "#fdca26"
             ],
             [
              1,
              "#f0f921"
             ]
            ],
            "type": "heatmap"
           }
          ],
          "heatmapgl": [
           {
            "colorbar": {
             "outlinewidth": 0,
             "ticks": ""
            },
            "colorscale": [
             [
              0,
              "#0d0887"
             ],
             [
              0.1111111111111111,
              "#46039f"
             ],
             [
              0.2222222222222222,
              "#7201a8"
             ],
             [
              0.3333333333333333,
              "#9c179e"
             ],
             [
              0.4444444444444444,
              "#bd3786"
             ],
             [
              0.5555555555555556,
              "#d8576b"
             ],
             [
              0.6666666666666666,
              "#ed7953"
             ],
             [
              0.7777777777777778,
              "#fb9f3a"
             ],
             [
              0.8888888888888888,
              "#fdca26"
             ],
             [
              1,
              "#f0f921"
             ]
            ],
            "type": "heatmapgl"
           }
          ],
          "histogram": [
           {
            "marker": {
             "pattern": {
              "fillmode": "overlay",
              "size": 10,
              "solidity": 0.2
             }
            },
            "type": "histogram"
           }
          ],
          "histogram2d": [
           {
            "colorbar": {
             "outlinewidth": 0,
             "ticks": ""
            },
            "colorscale": [
             [
              0,
              "#0d0887"
             ],
             [
              0.1111111111111111,
              "#46039f"
             ],
             [
              0.2222222222222222,
              "#7201a8"
             ],
             [
              0.3333333333333333,
              "#9c179e"
             ],
             [
              0.4444444444444444,
              "#bd3786"
             ],
             [
              0.5555555555555556,
              "#d8576b"
             ],
             [
              0.6666666666666666,
              "#ed7953"
             ],
             [
              0.7777777777777778,
              "#fb9f3a"
             ],
             [
              0.8888888888888888,
              "#fdca26"
             ],
             [
              1,
              "#f0f921"
             ]
            ],
            "type": "histogram2d"
           }
          ],
          "histogram2dcontour": [
           {
            "colorbar": {
             "outlinewidth": 0,
             "ticks": ""
            },
            "colorscale": [
             [
              0,
              "#0d0887"
             ],
             [
              0.1111111111111111,
              "#46039f"
             ],
             [
              0.2222222222222222,
              "#7201a8"
             ],
             [
              0.3333333333333333,
              "#9c179e"
             ],
             [
              0.4444444444444444,
              "#bd3786"
             ],
             [
              0.5555555555555556,
              "#d8576b"
             ],
             [
              0.6666666666666666,
              "#ed7953"
             ],
             [
              0.7777777777777778,
              "#fb9f3a"
             ],
             [
              0.8888888888888888,
              "#fdca26"
             ],
             [
              1,
              "#f0f921"
             ]
            ],
            "type": "histogram2dcontour"
           }
          ],
          "mesh3d": [
           {
            "colorbar": {
             "outlinewidth": 0,
             "ticks": ""
            },
            "type": "mesh3d"
           }
          ],
          "parcoords": [
           {
            "line": {
             "colorbar": {
              "outlinewidth": 0,
              "ticks": ""
             }
            },
            "type": "parcoords"
           }
          ],
          "pie": [
           {
            "automargin": true,
            "type": "pie"
           }
          ],
          "scatter": [
           {
            "fillpattern": {
             "fillmode": "overlay",
             "size": 10,
             "solidity": 0.2
            },
            "type": "scatter"
           }
          ],
          "scatter3d": [
           {
            "line": {
             "colorbar": {
              "outlinewidth": 0,
              "ticks": ""
             }
            },
            "marker": {
             "colorbar": {
              "outlinewidth": 0,
              "ticks": ""
             }
            },
            "type": "scatter3d"
           }
          ],
          "scattercarpet": [
           {
            "marker": {
             "colorbar": {
              "outlinewidth": 0,
              "ticks": ""
             }
            },
            "type": "scattercarpet"
           }
          ],
          "scattergeo": [
           {
            "marker": {
             "colorbar": {
              "outlinewidth": 0,
              "ticks": ""
             }
            },
            "type": "scattergeo"
           }
          ],
          "scattergl": [
           {
            "marker": {
             "colorbar": {
              "outlinewidth": 0,
              "ticks": ""
             }
            },
            "type": "scattergl"
           }
          ],
          "scattermapbox": [
           {
            "marker": {
             "colorbar": {
              "outlinewidth": 0,
              "ticks": ""
             }
            },
            "type": "scattermapbox"
           }
          ],
          "scatterpolar": [
           {
            "marker": {
             "colorbar": {
              "outlinewidth": 0,
              "ticks": ""
             }
            },
            "type": "scatterpolar"
           }
          ],
          "scatterpolargl": [
           {
            "marker": {
             "colorbar": {
              "outlinewidth": 0,
              "ticks": ""
             }
            },
            "type": "scatterpolargl"
           }
          ],
          "scatterternary": [
           {
            "marker": {
             "colorbar": {
              "outlinewidth": 0,
              "ticks": ""
             }
            },
            "type": "scatterternary"
           }
          ],
          "surface": [
           {
            "colorbar": {
             "outlinewidth": 0,
             "ticks": ""
            },
            "colorscale": [
             [
              0,
              "#0d0887"
             ],
             [
              0.1111111111111111,
              "#46039f"
             ],
             [
              0.2222222222222222,
              "#7201a8"
             ],
             [
              0.3333333333333333,
              "#9c179e"
             ],
             [
              0.4444444444444444,
              "#bd3786"
             ],
             [
              0.5555555555555556,
              "#d8576b"
             ],
             [
              0.6666666666666666,
              "#ed7953"
             ],
             [
              0.7777777777777778,
              "#fb9f3a"
             ],
             [
              0.8888888888888888,
              "#fdca26"
             ],
             [
              1,
              "#f0f921"
             ]
            ],
            "type": "surface"
           }
          ],
          "table": [
           {
            "cells": {
             "fill": {
              "color": "#EBF0F8"
             },
             "line": {
              "color": "white"
             }
            },
            "header": {
             "fill": {
              "color": "#C8D4E3"
             },
             "line": {
              "color": "white"
             }
            },
            "type": "table"
           }
          ]
         },
         "layout": {
          "annotationdefaults": {
           "arrowcolor": "#2a3f5f",
           "arrowhead": 0,
           "arrowwidth": 1
          },
          "autotypenumbers": "strict",
          "coloraxis": {
           "colorbar": {
            "outlinewidth": 0,
            "ticks": ""
           }
          },
          "colorscale": {
           "diverging": [
            [
             0,
             "#8e0152"
            ],
            [
             0.1,
             "#c51b7d"
            ],
            [
             0.2,
             "#de77ae"
            ],
            [
             0.3,
             "#f1b6da"
            ],
            [
             0.4,
             "#fde0ef"
            ],
            [
             0.5,
             "#f7f7f7"
            ],
            [
             0.6,
             "#e6f5d0"
            ],
            [
             0.7,
             "#b8e186"
            ],
            [
             0.8,
             "#7fbc41"
            ],
            [
             0.9,
             "#4d9221"
            ],
            [
             1,
             "#276419"
            ]
           ],
           "sequential": [
            [
             0,
             "#0d0887"
            ],
            [
             0.1111111111111111,
             "#46039f"
            ],
            [
             0.2222222222222222,
             "#7201a8"
            ],
            [
             0.3333333333333333,
             "#9c179e"
            ],
            [
             0.4444444444444444,
             "#bd3786"
            ],
            [
             0.5555555555555556,
             "#d8576b"
            ],
            [
             0.6666666666666666,
             "#ed7953"
            ],
            [
             0.7777777777777778,
             "#fb9f3a"
            ],
            [
             0.8888888888888888,
             "#fdca26"
            ],
            [
             1,
             "#f0f921"
            ]
           ],
           "sequentialminus": [
            [
             0,
             "#0d0887"
            ],
            [
             0.1111111111111111,
             "#46039f"
            ],
            [
             0.2222222222222222,
             "#7201a8"
            ],
            [
             0.3333333333333333,
             "#9c179e"
            ],
            [
             0.4444444444444444,
             "#bd3786"
            ],
            [
             0.5555555555555556,
             "#d8576b"
            ],
            [
             0.6666666666666666,
             "#ed7953"
            ],
            [
             0.7777777777777778,
             "#fb9f3a"
            ],
            [
             0.8888888888888888,
             "#fdca26"
            ],
            [
             1,
             "#f0f921"
            ]
           ]
          },
          "colorway": [
           "#636efa",
           "#EF553B",
           "#00cc96",
           "#ab63fa",
           "#FFA15A",
           "#19d3f3",
           "#FF6692",
           "#B6E880",
           "#FF97FF",
           "#FECB52"
          ],
          "font": {
           "color": "#2a3f5f"
          },
          "geo": {
           "bgcolor": "white",
           "lakecolor": "white",
           "landcolor": "#E5ECF6",
           "showlakes": true,
           "showland": true,
           "subunitcolor": "white"
          },
          "hoverlabel": {
           "align": "left"
          },
          "hovermode": "closest",
          "mapbox": {
           "style": "light"
          },
          "paper_bgcolor": "white",
          "plot_bgcolor": "#E5ECF6",
          "polar": {
           "angularaxis": {
            "gridcolor": "white",
            "linecolor": "white",
            "ticks": ""
           },
           "bgcolor": "#E5ECF6",
           "radialaxis": {
            "gridcolor": "white",
            "linecolor": "white",
            "ticks": ""
           }
          },
          "scene": {
           "xaxis": {
            "backgroundcolor": "#E5ECF6",
            "gridcolor": "white",
            "gridwidth": 2,
            "linecolor": "white",
            "showbackground": true,
            "ticks": "",
            "zerolinecolor": "white"
           },
           "yaxis": {
            "backgroundcolor": "#E5ECF6",
            "gridcolor": "white",
            "gridwidth": 2,
            "linecolor": "white",
            "showbackground": true,
            "ticks": "",
            "zerolinecolor": "white"
           },
           "zaxis": {
            "backgroundcolor": "#E5ECF6",
            "gridcolor": "white",
            "gridwidth": 2,
            "linecolor": "white",
            "showbackground": true,
            "ticks": "",
            "zerolinecolor": "white"
           }
          },
          "shapedefaults": {
           "line": {
            "color": "#2a3f5f"
           }
          },
          "ternary": {
           "aaxis": {
            "gridcolor": "white",
            "linecolor": "white",
            "ticks": ""
           },
           "baxis": {
            "gridcolor": "white",
            "linecolor": "white",
            "ticks": ""
           },
           "bgcolor": "#E5ECF6",
           "caxis": {
            "gridcolor": "white",
            "linecolor": "white",
            "ticks": ""
           }
          },
          "title": {
           "x": 0.05
          },
          "xaxis": {
           "automargin": true,
           "gridcolor": "white",
           "linecolor": "white",
           "ticks": "",
           "title": {
            "standoff": 15
           },
           "zerolinecolor": "white",
           "zerolinewidth": 2
          },
          "yaxis": {
           "automargin": true,
           "gridcolor": "white",
           "linecolor": "white",
           "ticks": "",
           "title": {
            "standoff": 15
           },
           "zerolinecolor": "white",
           "zerolinewidth": 2
          }
         }
        },
        "title": {
         "text": "Absolute Amounts per Subject by Party"
        },
        "xaxis": {
         "categoryorder": "total descending",
         "title": {
          "text": "Subject"
         }
        },
        "yaxis": {
         "title": {
          "text": "Amount"
         }
        }
       }
      }
     },
     "metadata": {},
     "output_type": "display_data"
    }
   ],
   "source": [
    "import plotly.graph_objects as go\n",
    "\n",
    "# Setup data for absolute amounts\n",
    "def plot_absolute(data):\n",
    "    fig = go.Figure()\n",
    "    for party, subjects in data.items():\n",
    "        fig.add_trace(go.Bar(\n",
    "            name=party,\n",
    "            x=list(subjects.keys()),\n",
    "            y=list(subjects.values()),\n",
    "        ))\n",
    "    fig.update_layout(\n",
    "        title=\"Absolute Amounts per Subject by Party\",\n",
    "        xaxis_title=\"Subject\",\n",
    "        yaxis_title=\"Amount\",\n",
    "        barmode='group',\n",
    "        xaxis={'categoryorder':'total descending'},\n",
    "        height=1080\n",
    "    )\n",
    "    fig.show()\n",
    "\n",
    "plot_absolute(parties_to_domains)"
   ]
  },
  {
   "cell_type": "code",
   "execution_count": 22,
   "metadata": {},
   "outputs": [
    {
     "data": {
      "application/vnd.plotly.v1+json": {
       "config": {
        "plotlyServerURL": "https://plot.ly"
       },
       "data": [
        {
         "marker": {
          "color": "#1D1D1D"
         },
         "name": "ZZZ",
         "type": "bar",
         "x": [
          "08 INTERNATIONALE BETREKKINGEN",
          "66 ENERGIE",
          "28 SOCIALE VRAAGSTUKKEN",
          "32 OPVOEDING, ONDERWIJS EN COMMUNICATIE",
          "04 POLITIEK",
          "12 RECHT",
          "24 FINANCIËN",
          "44 WERKGELEGENHEID EN ARBEID",
          "48 TRANSPORT",
          "40 ONDERNEMING EN CONCURRENTIE",
          "GEESTELIJK GEHANDICAPTE",
          "16 ECONOMIE",
          "20 ECONOMIE, VERKEER EN HANDELSVERKEER",
          "68 INDUSTRIE",
          "PROGRAMMAWET",
          "76 INTERNATIONALE ORGANISATIES",
          "36 WETENSCHAPPEN",
          "64 PRODUCTIE, TECHNOLOGIE EN ONDERZOEK",
          "10 EUROPESE UNIE",
          "NOTARIAAT",
          "52 MILIEU",
          "OPENBAARHEID VAN BESTUUR",
          "RECHTERLIJKE INRICHTING",
          "56 LANDBOUW, BOSBOUW, EN VISSERIJ",
          "FACILITEITEN VOOR GEHANDICAPTEN",
          "72 GEOGRAFIE",
          "BELGISCH REKENHOF",
          "CREG",
          "JUSTITIELE SAMENWERKING EU"
         ],
         "y": [
          0.11384976525821597,
          0.05868544600938967,
          0.18309859154929578,
          0.035211267605633804,
          0.08568075117370892,
          0.12910798122065728,
          0.16901408450704225,
          0.05868544600938967,
          0.023474178403755867,
          0.012910798122065728,
          0.0011737089201877935,
          0.01995305164319249,
          0.02112676056338028,
          0.009389671361502348,
          0.005868544600938967,
          0.01056338028169014,
          0.0035211267605633804,
          0.005868544600938967,
          0.007042253521126761,
          0.0011737089201877935,
          0.01995305164319249,
          0.0011737089201877935,
          0.0035211267605633804,
          0.008215962441314555,
          0.0035211267605633804,
          0.002347417840375587,
          0.0035211267605633804,
          0.0011737089201877935,
          0.0011737089201877935
         ]
        },
        {
         "marker": {
          "color": "#000000"
         },
         "name": "VB",
         "type": "bar",
         "x": [
          "08 INTERNATIONALE BETREKKINGEN",
          "28 SOCIALE VRAAGSTUKKEN",
          "04 POLITIEK",
          "40 ONDERNEMING EN CONCURRENTIE",
          "48 TRANSPORT",
          "72 GEOGRAFIE",
          "12 RECHT",
          "66 ENERGIE",
          "44 WERKGELEGENHEID EN ARBEID",
          "32 OPVOEDING, ONDERWIJS EN COMMUNICATIE",
          "60 LANDBOUWVOEDINGSMIDDELEN",
          "OPENBAARHEID VAN BESTUUR",
          "24 FINANCIËN",
          "52 MILIEU",
          "20 ECONOMIE, VERKEER EN HANDELSVERKEER",
          "16 ECONOMIE",
          "76 INTERNATIONALE ORGANISATIES",
          "TIBETKWESTIE",
          "VLUCHTELINGENCENTRUM"
         ],
         "y": [
          0.0673076923076923,
          0.16826923076923078,
          0.30288461538461536,
          0.009615384615384616,
          0.04326923076923077,
          0.0625,
          0.1971153846153846,
          0.019230769230769232,
          0.028846153846153848,
          0.02403846153846154,
          0.004807692307692308,
          0.004807692307692308,
          0.028846153846153848,
          0.004807692307692308,
          0.004807692307692308,
          0.014423076923076924,
          0.004807692307692308,
          0.004807692307692308,
          0.004807692307692308
         ]
        },
        {
         "marker": {
          "color": "#FF8C00"
         },
         "name": "Les Engagés",
         "type": "bar",
         "x": [
          "48 TRANSPORT",
          "44 WERKGELEGENHEID EN ARBEID",
          "28 SOCIALE VRAAGSTUKKEN",
          "24 FINANCIËN",
          "08 INTERNATIONALE BETREKKINGEN",
          "16 ECONOMIE",
          "12 RECHT",
          "04 POLITIEK",
          "20 ECONOMIE, VERKEER EN HANDELSVERKEER",
          "60 LANDBOUWVOEDINGSMIDDELEN",
          "52 MILIEU",
          "32 OPVOEDING, ONDERWIJS EN COMMUNICATIE",
          "10 EUROPESE UNIE",
          "72 GEOGRAFIE",
          "68 INDUSTRIE",
          "66 ENERGIE",
          "56 LANDBOUW, BOSBOUW, EN VISSERIJ"
         ],
         "y": [
          0.043478260869565216,
          0.06324110671936758,
          0.31225296442687744,
          0.12648221343873517,
          0.05533596837944664,
          0.023715415019762844,
          0.1383399209486166,
          0.11857707509881422,
          0.019762845849802372,
          0.011857707509881422,
          0.023715415019762844,
          0.007905138339920948,
          0.003952569169960474,
          0.023715415019762844,
          0.003952569169960474,
          0.011857707509881422,
          0.011857707509881422
         ]
        },
        {
         "marker": {
          "color": "#FFD700"
         },
         "name": "N-VA",
         "type": "bar",
         "x": [
          "04 POLITIEK",
          "28 SOCIALE VRAAGSTUKKEN",
          "60 LANDBOUWVOEDINGSMIDDELEN",
          "48 TRANSPORT",
          "32 OPVOEDING, ONDERWIJS EN COMMUNICATIE",
          "NMBS",
          "08 INTERNATIONALE BETREKKINGEN",
          "12 RECHT",
          "20 ECONOMIE, VERKEER EN HANDELSVERKEER",
          "OPENBAARHEID VAN BESTUUR",
          "24 FINANCIËN",
          "44 WERKGELEGENHEID EN ARBEID",
          "16 ECONOMIE",
          "64 PRODUCTIE, TECHNOLOGIE EN ONDERZOEK",
          "66 ENERGIE",
          "76 INTERNATIONALE ORGANISATIES",
          "40 ONDERNEMING EN CONCURRENTIE",
          "72 GEOGRAFIE",
          "68 INDUSTRIE",
          "RECHTERLIJKE INRICHTING",
          "52 MILIEU",
          "BELGISCH GRONDWETTELIJK HOF",
          "10 EUROPESE UNIE",
          "56 LANDBOUW, BOSBOUW, EN VISSERIJ",
          "QUATAR"
         ],
         "y": [
          0.15207373271889402,
          0.28110599078341014,
          0.004608294930875576,
          0.055299539170506916,
          0.02304147465437788,
          0.004608294930875576,
          0.055299539170506916,
          0.18433179723502305,
          0.016129032258064516,
          0.002304147465437788,
          0.06221198156682028,
          0.04377880184331797,
          0.016129032258064516,
          0.002304147465437788,
          0.03225806451612903,
          0.0069124423963133645,
          0.013824884792626729,
          0.020737327188940093,
          0.002304147465437788,
          0.002304147465437788,
          0.004608294930875576,
          0.002304147465437788,
          0.0069124423963133645,
          0.002304147465437788,
          0.002304147465437788
         ]
        },
        {
         "marker": {
          "color": "#1E90FF"
         },
         "name": "Open Vld",
         "type": "bar",
         "x": [
          "12 RECHT",
          "28 SOCIALE VRAAGSTUKKEN",
          "04 POLITIEK",
          "44 WERKGELEGENHEID EN ARBEID",
          "08 INTERNATIONALE BETREKKINGEN",
          "72 GEOGRAFIE",
          "60 LANDBOUWVOEDINGSMIDDELEN",
          "48 TRANSPORT",
          "16 ECONOMIE",
          "24 FINANCIËN",
          "76 INTERNATIONALE ORGANISATIES",
          "66 ENERGIE",
          "52 MILIEU",
          "COMITE P EN COMITE I",
          "64 PRODUCTIE, TECHNOLOGIE EN ONDERZOEK",
          "32 OPVOEDING, ONDERWIJS EN COMMUNICATIE",
          "56 LANDBOUW, BOSBOUW, EN VISSERIJ",
          "10 EUROPESE UNIE",
          "20 ECONOMIE, VERKEER EN HANDELSVERKEER",
          "40 ONDERNEMING EN CONCURRENTIE",
          "DEMOCRATISCHE REPUBLIEK KONGO",
          "COMITE P EN I",
          "GEESTELIJK GEHANDICAPTE",
          "68 INDUSTRIE"
         ],
         "y": [
          0.1780821917808219,
          0.2356164383561644,
          0.17534246575342466,
          0.07123287671232877,
          0.057534246575342465,
          0.030136986301369864,
          0.005479452054794521,
          0.06027397260273973,
          0.03287671232876712,
          0.0410958904109589,
          0.0027397260273972603,
          0.01643835616438356,
          0.019178082191780823,
          0.0027397260273972603,
          0.005479452054794521,
          0.019178082191780823,
          0.0027397260273972603,
          0.005479452054794521,
          0.010958904109589041,
          0.01643835616438356,
          0.0027397260273972603,
          0.0027397260273972603,
          0.0027397260273972603,
          0.0027397260273972603
         ]
        },
        {
         "marker": {
          "color": "#FF7F00"
         },
         "name": "CD&V",
         "type": "bar",
         "x": [
          "28 SOCIALE VRAAGSTUKKEN",
          "10 EUROPESE UNIE",
          "04 POLITIEK",
          "66 ENERGIE",
          "40 ONDERNEMING EN CONCURRENTIE",
          "12 RECHT",
          "08 INTERNATIONALE BETREKKINGEN",
          "72 GEOGRAFIE",
          "48 TRANSPORT",
          "32 OPVOEDING, ONDERWIJS EN COMMUNICATIE",
          "24 FINANCIËN",
          "16 ECONOMIE",
          "20 ECONOMIE, VERKEER EN HANDELSVERKEER",
          "44 WERKGELEGENHEID EN ARBEID",
          "DEMOCRATISCHE REPUBLIEK KONGO",
          "68 INDUSTRIE",
          "COMITE P EN I",
          "RECHTERLIJKE INRICHTING",
          "36 WETENSCHAPPEN",
          "52 MILIEU",
          "60 LANDBOUWVOEDINGSMIDDELEN"
         ],
         "y": [
          0.3407707910750507,
          0.008113590263691683,
          0.0973630831643002,
          0.018255578093306288,
          0.028397565922920892,
          0.1359026369168357,
          0.04665314401622718,
          0.018255578093306288,
          0.05070993914807302,
          0.04665314401622718,
          0.08316430020283976,
          0.02636916835699797,
          0.02028397565922921,
          0.05273833671399594,
          0.004056795131845842,
          0.004056795131845842,
          0.002028397565922921,
          0.002028397565922921,
          0.002028397565922921,
          0.008113590263691683,
          0.004056795131845842
         ]
        },
        {
         "marker": {
          "color": "#32CD32"
         },
         "name": "Groen",
         "type": "bar",
         "x": [
          "24 FINANCIËN",
          "28 SOCIALE VRAAGSTUKKEN",
          "04 POLITIEK",
          "32 OPVOEDING, ONDERWIJS EN COMMUNICATIE",
          "52 MILIEU",
          "08 INTERNATIONALE BETREKKINGEN",
          "72 GEOGRAFIE",
          "40 ONDERNEMING EN CONCURRENTIE",
          "16 ECONOMIE",
          "48 TRANSPORT",
          "36 WETENSCHAPPEN",
          "12 RECHT",
          "20 ECONOMIE, VERKEER EN HANDELSVERKEER",
          "44 WERKGELEGENHEID EN ARBEID",
          "66 ENERGIE",
          "DEMOCRATISCHE REPUBLIEK KONGO",
          "BUITENGRENS VAN DE GEMEENSCHAP",
          "OPENBAARHEID VAN BESTUUR",
          "10 EUROPESE UNIE",
          "68 INDUSTRIE",
          "COMITE P EN I",
          "INTERNERING",
          "TAX SHELTER",
          "76 INTERNATIONALE ORGANISATIES",
          "QUATAR",
          "60 LANDBOUWVOEDINGSMIDDELEN",
          "56 LANDBOUW, BOSBOUW, EN VISSERIJ"
         ],
         "y": [
          0.07196029776674938,
          0.23573200992555832,
          0.13895781637717122,
          0.04962779156327544,
          0.05707196029776675,
          0.07444168734491315,
          0.03225806451612903,
          0.01240694789081886,
          0.022332506203473945,
          0.06699751861042183,
          0.0024813895781637717,
          0.1141439205955335,
          0.007444168734491315,
          0.04218362282878412,
          0.03225806451612903,
          0.004962779156327543,
          0.0024813895781637717,
          0.0024813895781637717,
          0.007444168734491315,
          0.0024813895781637717,
          0.0024813895781637717,
          0.0024813895781637717,
          0.0024813895781637717,
          0.0024813895781637717,
          0.0024813895781637717,
          0.0024813895781637717,
          0.004962779156327543
         ]
        },
        {
         "marker": {
          "color": "#228B22"
         },
         "name": "Ecolo",
         "type": "bar",
         "x": [
          "24 FINANCIËN",
          "28 SOCIALE VRAAGSTUKKEN",
          "44 WERKGELEGENHEID EN ARBEID",
          "04 POLITIEK",
          "32 OPVOEDING, ONDERWIJS EN COMMUNICATIE",
          "52 MILIEU",
          "08 INTERNATIONALE BETREKKINGEN",
          "72 GEOGRAFIE",
          "40 ONDERNEMING EN CONCURRENTIE",
          "16 ECONOMIE",
          "48 TRANSPORT",
          "36 WETENSCHAPPEN",
          "12 RECHT",
          "66 ENERGIE",
          "20 ECONOMIE, VERKEER EN HANDELSVERKEER",
          "DEMOCRATISCHE REPUBLIEK KONGO",
          "BUITENGRENS VAN DE GEMEENSCHAP",
          "OPENBAARHEID VAN BESTUUR",
          "10 EUROPESE UNIE",
          "68 INDUSTRIE",
          "COMITE P EN I",
          "INTERNERING",
          "TAX SHELTER",
          "76 INTERNATIONALE ORGANISATIES",
          "QUATAR",
          "60 LANDBOUWVOEDINGSMIDDELEN",
          "56 LANDBOUW, BOSBOUW, EN VISSERIJ"
         ],
         "y": [
          0.06829268292682927,
          0.23658536585365852,
          0.04878048780487805,
          0.13902439024390245,
          0.04878048780487805,
          0.06097560975609756,
          0.07317073170731707,
          0.02926829268292683,
          0.012195121951219513,
          0.02195121951219512,
          0.05853658536585366,
          0.0024390243902439024,
          0.11707317073170732,
          0.036585365853658534,
          0.007317073170731708,
          0.004878048780487805,
          0.0024390243902439024,
          0.0024390243902439024,
          0.007317073170731708,
          0.0024390243902439024,
          0.0024390243902439024,
          0.0024390243902439024,
          0.0024390243902439024,
          0.0024390243902439024,
          0.0024390243902439024,
          0.0024390243902439024,
          0.004878048780487805
         ]
        },
        {
         "marker": {
          "color": "#DC143C"
         },
         "name": "Vooruit",
         "type": "bar",
         "x": [
          "28 SOCIALE VRAAGSTUKKEN",
          "04 POLITIEK",
          "66 ENERGIE",
          "12 RECHT",
          "52 MILIEU",
          "32 OPVOEDING, ONDERWIJS EN COMMUNICATIE",
          "08 INTERNATIONALE BETREKKINGEN",
          "24 FINANCIËN",
          "72 GEOGRAFIE",
          "20 ECONOMIE, VERKEER EN HANDELSVERKEER",
          "48 TRANSPORT",
          "60 LANDBOUWVOEDINGSMIDDELEN",
          "16 ECONOMIE",
          "44 WERKGELEGENHEID EN ARBEID",
          "40 ONDERNEMING EN CONCURRENTIE",
          "10 EUROPESE UNIE",
          "56 LANDBOUW, BOSBOUW, EN VISSERIJ",
          "DEMOCRATISCHE REPUBLIEK KONGO",
          "COMITE P EN I",
          "68 INDUSTRIE",
          "76 INTERNATIONALE ORGANISATIES"
         ],
         "y": [
          0.26548672566371684,
          0.07964601769911504,
          0.028761061946902654,
          0.15265486725663716,
          0.02654867256637168,
          0.035398230088495575,
          0.06415929203539823,
          0.11061946902654868,
          0.01991150442477876,
          0.02654867256637168,
          0.05088495575221239,
          0.0022123893805309734,
          0.022123893805309734,
          0.06637168141592921,
          0.01991150442477876,
          0.008849557522123894,
          0.004424778761061947,
          0.004424778761061947,
          0.0022123893805309734,
          0.004424778761061947,
          0.004424778761061947
         ]
        },
        {
         "marker": {
          "color": "#B22222"
         },
         "name": "PS",
         "type": "bar",
         "x": [
          "28 SOCIALE VRAAGSTUKKEN",
          "24 FINANCIËN",
          "04 POLITIEK",
          "66 ENERGIE",
          "08 INTERNATIONALE BETREKKINGEN",
          "12 RECHT",
          "52 MILIEU",
          "32 OPVOEDING, ONDERWIJS EN COMMUNICATIE",
          "48 TRANSPORT",
          "20 ECONOMIE, VERKEER EN HANDELSVERKEER",
          "72 GEOGRAFIE",
          "16 ECONOMIE",
          "44 WERKGELEGENHEID EN ARBEID",
          "40 ONDERNEMING EN CONCURRENTIE",
          "BUITENGRENS VAN DE GEMEENSCHAP",
          "60 LANDBOUWVOEDINGSMIDDELEN",
          "10 EUROPESE UNIE",
          "68 INDUSTRIE",
          "56 LANDBOUW, BOSBOUW, EN VISSERIJ",
          "DEMOCRATISCHE REPUBLIEK KONGO",
          "COMITE P EN I",
          "76 INTERNATIONALE ORGANISATIES",
          "SCHENDING VAN HET COMMUNAUTAIR RECHT"
         ],
         "y": [
          0.2792452830188679,
          0.09056603773584905,
          0.09433962264150944,
          0.02830188679245283,
          0.06792452830188679,
          0.15283018867924528,
          0.033962264150943396,
          0.03773584905660377,
          0.02830188679245283,
          0.02830188679245283,
          0.022641509433962263,
          0.022641509433962263,
          0.07169811320754717,
          0.011320754716981131,
          0.0018867924528301887,
          0.0018867924528301887,
          0.005660377358490566,
          0.0037735849056603774,
          0.0037735849056603774,
          0.0037735849056603774,
          0.0018867924528301887,
          0.005660377358490566,
          0.0018867924528301887
         ]
        },
        {
         "marker": {
          "color": "#87CEEB"
         },
         "name": "MR",
         "type": "bar",
         "x": [
          "28 SOCIALE VRAAGSTUKKEN",
          "04 POLITIEK",
          "24 FINANCIËN",
          "40 ONDERNEMING EN CONCURRENTIE",
          "44 WERKGELEGENHEID EN ARBEID",
          "12 RECHT",
          "16 ECONOMIE",
          "08 INTERNATIONALE BETREKKINGEN",
          "72 GEOGRAFIE",
          "52 MILIEU",
          "32 OPVOEDING, ONDERWIJS EN COMMUNICATIE",
          "48 TRANSPORT",
          "76 INTERNATIONALE ORGANISATIES",
          "64 PRODUCTIE, TECHNOLOGIE EN ONDERZOEK",
          "66 ENERGIE",
          "10 EUROPESE UNIE",
          "68 INDUSTRIE",
          "DEMOCRATISCHE REPUBLIEK KONGO",
          "COMITE P EN I",
          "RECHTERLIJKE INRICHTING",
          "60 LANDBOUWVOEDINGSMIDDELEN",
          "20 ECONOMIE, VERKEER EN HANDELSVERKEER"
         ],
         "y": [
          0.28205128205128205,
          0.14743589743589744,
          0.057692307692307696,
          0.022435897435897436,
          0.04487179487179487,
          0.1346153846153846,
          0.03205128205128205,
          0.07692307692307693,
          0.04487179487179487,
          0.022435897435897436,
          0.028846153846153848,
          0.041666666666666664,
          0.00641025641025641,
          0.003205128205128205,
          0.022435897435897436,
          0.003205128205128205,
          0.003205128205128205,
          0.003205128205128205,
          0.003205128205128205,
          0.003205128205128205,
          0.003205128205128205,
          0.01282051282051282
         ]
        },
        {
         "marker": {
          "color": "#CD5C5C"
         },
         "name": "PTB",
         "type": "bar",
         "x": [
          "24 FINANCIËN",
          "04 POLITIEK",
          "66 ENERGIE",
          "48 TRANSPORT",
          "44 WERKGELEGENHEID EN ARBEID",
          "08 INTERNATIONALE BETREKKINGEN",
          "28 SOCIALE VRAAGSTUKKEN",
          "72 GEOGRAFIE",
          "32 OPVOEDING, ONDERWIJS EN COMMUNICATIE",
          "16 ECONOMIE",
          "52 MILIEU",
          "12 RECHT",
          "20 ECONOMIE, VERKEER EN HANDELSVERKEER",
          "GEMEENSCHAPPELIJK DEFENSIEBELEID",
          "10 EUROPESE UNIE"
         ],
         "y": [
          0.10062893081761007,
          0.18238993710691823,
          0.07547169811320754,
          0.050314465408805034,
          0.11320754716981132,
          0.06918238993710692,
          0.20754716981132076,
          0.018867924528301886,
          0.031446540880503145,
          0.031446540880503145,
          0.03773584905660377,
          0.06289308176100629,
          0.006289308176100629,
          0.006289308176100629,
          0.006289308176100629
         ]
        },
        {
         "marker": {
          "color": "#FF0000"
         },
         "name": "PVDA",
         "type": "bar",
         "x": [
          "24 FINANCIËN",
          "04 POLITIEK",
          "66 ENERGIE",
          "44 WERKGELEGENHEID EN ARBEID",
          "08 INTERNATIONALE BETREKKINGEN",
          "28 SOCIALE VRAAGSTUKKEN",
          "72 GEOGRAFIE",
          "32 OPVOEDING, ONDERWIJS EN COMMUNICATIE",
          "16 ECONOMIE",
          "48 TRANSPORT",
          "52 MILIEU",
          "12 RECHT",
          "20 ECONOMIE, VERKEER EN HANDELSVERKEER",
          "GEMEENSCHAPPELIJK DEFENSIEBELEID",
          "10 EUROPESE UNIE"
         ],
         "y": [
          0.11382113821138211,
          0.13821138211382114,
          0.08943089430894309,
          0.10569105691056911,
          0.08130081300813008,
          0.17886178861788618,
          0.024390243902439025,
          0.04065040650406504,
          0.04065040650406504,
          0.024390243902439025,
          0.056910569105691054,
          0.08130081300813008,
          0.008130081300813009,
          0.008130081300813009,
          0.008130081300813009
         ]
        },
        {
         "marker": {
          "color": "#FFA500"
         },
         "name": "DéFI",
         "type": "bar",
         "x": [
          "24 FINANCIËN",
          "28 SOCIALE VRAAGSTUKKEN",
          "08 INTERNATIONALE BETREKKINGEN",
          "32 OPVOEDING, ONDERWIJS EN COMMUNICATIE",
          "RECHTERLIJKE INRICHTING",
          "04 POLITIEK",
          "12 RECHT",
          "48 TRANSPORT",
          "52 MILIEU",
          "44 WERKGELEGENHEID EN ARBEID",
          "68 INDUSTRIE",
          "72 GEOGRAFIE",
          "66 ENERGIE"
         ],
         "y": [
          0.06896551724137931,
          0.28448275862068967,
          0.09482758620689655,
          0.034482758620689655,
          0.017241379310344827,
          0.12931034482758622,
          0.23275862068965517,
          0.017241379310344827,
          0.04310344827586207,
          0.008620689655172414,
          0.008620689655172414,
          0.034482758620689655,
          0.02586206896551724
         ]
        },
        {
         "marker": {
          "color": "#FFF"
         },
         "name": "cd&v",
         "type": "bar",
         "x": [
          "28 SOCIALE VRAAGSTUKKEN"
         ],
         "y": [
          1
         ]
        }
       ],
       "layout": {
        "barmode": "group",
        "height": 1080,
        "template": {
         "data": {
          "bar": [
           {
            "error_x": {
             "color": "#2a3f5f"
            },
            "error_y": {
             "color": "#2a3f5f"
            },
            "marker": {
             "line": {
              "color": "#E5ECF6",
              "width": 0.5
             },
             "pattern": {
              "fillmode": "overlay",
              "size": 10,
              "solidity": 0.2
             }
            },
            "type": "bar"
           }
          ],
          "barpolar": [
           {
            "marker": {
             "line": {
              "color": "#E5ECF6",
              "width": 0.5
             },
             "pattern": {
              "fillmode": "overlay",
              "size": 10,
              "solidity": 0.2
             }
            },
            "type": "barpolar"
           }
          ],
          "carpet": [
           {
            "aaxis": {
             "endlinecolor": "#2a3f5f",
             "gridcolor": "white",
             "linecolor": "white",
             "minorgridcolor": "white",
             "startlinecolor": "#2a3f5f"
            },
            "baxis": {
             "endlinecolor": "#2a3f5f",
             "gridcolor": "white",
             "linecolor": "white",
             "minorgridcolor": "white",
             "startlinecolor": "#2a3f5f"
            },
            "type": "carpet"
           }
          ],
          "choropleth": [
           {
            "colorbar": {
             "outlinewidth": 0,
             "ticks": ""
            },
            "type": "choropleth"
           }
          ],
          "contour": [
           {
            "colorbar": {
             "outlinewidth": 0,
             "ticks": ""
            },
            "colorscale": [
             [
              0,
              "#0d0887"
             ],
             [
              0.1111111111111111,
              "#46039f"
             ],
             [
              0.2222222222222222,
              "#7201a8"
             ],
             [
              0.3333333333333333,
              "#9c179e"
             ],
             [
              0.4444444444444444,
              "#bd3786"
             ],
             [
              0.5555555555555556,
              "#d8576b"
             ],
             [
              0.6666666666666666,
              "#ed7953"
             ],
             [
              0.7777777777777778,
              "#fb9f3a"
             ],
             [
              0.8888888888888888,
              "#fdca26"
             ],
             [
              1,
              "#f0f921"
             ]
            ],
            "type": "contour"
           }
          ],
          "contourcarpet": [
           {
            "colorbar": {
             "outlinewidth": 0,
             "ticks": ""
            },
            "type": "contourcarpet"
           }
          ],
          "heatmap": [
           {
            "colorbar": {
             "outlinewidth": 0,
             "ticks": ""
            },
            "colorscale": [
             [
              0,
              "#0d0887"
             ],
             [
              0.1111111111111111,
              "#46039f"
             ],
             [
              0.2222222222222222,
              "#7201a8"
             ],
             [
              0.3333333333333333,
              "#9c179e"
             ],
             [
              0.4444444444444444,
              "#bd3786"
             ],
             [
              0.5555555555555556,
              "#d8576b"
             ],
             [
              0.6666666666666666,
              "#ed7953"
             ],
             [
              0.7777777777777778,
              "#fb9f3a"
             ],
             [
              0.8888888888888888,
              "#fdca26"
             ],
             [
              1,
              "#f0f921"
             ]
            ],
            "type": "heatmap"
           }
          ],
          "heatmapgl": [
           {
            "colorbar": {
             "outlinewidth": 0,
             "ticks": ""
            },
            "colorscale": [
             [
              0,
              "#0d0887"
             ],
             [
              0.1111111111111111,
              "#46039f"
             ],
             [
              0.2222222222222222,
              "#7201a8"
             ],
             [
              0.3333333333333333,
              "#9c179e"
             ],
             [
              0.4444444444444444,
              "#bd3786"
             ],
             [
              0.5555555555555556,
              "#d8576b"
             ],
             [
              0.6666666666666666,
              "#ed7953"
             ],
             [
              0.7777777777777778,
              "#fb9f3a"
             ],
             [
              0.8888888888888888,
              "#fdca26"
             ],
             [
              1,
              "#f0f921"
             ]
            ],
            "type": "heatmapgl"
           }
          ],
          "histogram": [
           {
            "marker": {
             "pattern": {
              "fillmode": "overlay",
              "size": 10,
              "solidity": 0.2
             }
            },
            "type": "histogram"
           }
          ],
          "histogram2d": [
           {
            "colorbar": {
             "outlinewidth": 0,
             "ticks": ""
            },
            "colorscale": [
             [
              0,
              "#0d0887"
             ],
             [
              0.1111111111111111,
              "#46039f"
             ],
             [
              0.2222222222222222,
              "#7201a8"
             ],
             [
              0.3333333333333333,
              "#9c179e"
             ],
             [
              0.4444444444444444,
              "#bd3786"
             ],
             [
              0.5555555555555556,
              "#d8576b"
             ],
             [
              0.6666666666666666,
              "#ed7953"
             ],
             [
              0.7777777777777778,
              "#fb9f3a"
             ],
             [
              0.8888888888888888,
              "#fdca26"
             ],
             [
              1,
              "#f0f921"
             ]
            ],
            "type": "histogram2d"
           }
          ],
          "histogram2dcontour": [
           {
            "colorbar": {
             "outlinewidth": 0,
             "ticks": ""
            },
            "colorscale": [
             [
              0,
              "#0d0887"
             ],
             [
              0.1111111111111111,
              "#46039f"
             ],
             [
              0.2222222222222222,
              "#7201a8"
             ],
             [
              0.3333333333333333,
              "#9c179e"
             ],
             [
              0.4444444444444444,
              "#bd3786"
             ],
             [
              0.5555555555555556,
              "#d8576b"
             ],
             [
              0.6666666666666666,
              "#ed7953"
             ],
             [
              0.7777777777777778,
              "#fb9f3a"
             ],
             [
              0.8888888888888888,
              "#fdca26"
             ],
             [
              1,
              "#f0f921"
             ]
            ],
            "type": "histogram2dcontour"
           }
          ],
          "mesh3d": [
           {
            "colorbar": {
             "outlinewidth": 0,
             "ticks": ""
            },
            "type": "mesh3d"
           }
          ],
          "parcoords": [
           {
            "line": {
             "colorbar": {
              "outlinewidth": 0,
              "ticks": ""
             }
            },
            "type": "parcoords"
           }
          ],
          "pie": [
           {
            "automargin": true,
            "type": "pie"
           }
          ],
          "scatter": [
           {
            "fillpattern": {
             "fillmode": "overlay",
             "size": 10,
             "solidity": 0.2
            },
            "type": "scatter"
           }
          ],
          "scatter3d": [
           {
            "line": {
             "colorbar": {
              "outlinewidth": 0,
              "ticks": ""
             }
            },
            "marker": {
             "colorbar": {
              "outlinewidth": 0,
              "ticks": ""
             }
            },
            "type": "scatter3d"
           }
          ],
          "scattercarpet": [
           {
            "marker": {
             "colorbar": {
              "outlinewidth": 0,
              "ticks": ""
             }
            },
            "type": "scattercarpet"
           }
          ],
          "scattergeo": [
           {
            "marker": {
             "colorbar": {
              "outlinewidth": 0,
              "ticks": ""
             }
            },
            "type": "scattergeo"
           }
          ],
          "scattergl": [
           {
            "marker": {
             "colorbar": {
              "outlinewidth": 0,
              "ticks": ""
             }
            },
            "type": "scattergl"
           }
          ],
          "scattermapbox": [
           {
            "marker": {
             "colorbar": {
              "outlinewidth": 0,
              "ticks": ""
             }
            },
            "type": "scattermapbox"
           }
          ],
          "scatterpolar": [
           {
            "marker": {
             "colorbar": {
              "outlinewidth": 0,
              "ticks": ""
             }
            },
            "type": "scatterpolar"
           }
          ],
          "scatterpolargl": [
           {
            "marker": {
             "colorbar": {
              "outlinewidth": 0,
              "ticks": ""
             }
            },
            "type": "scatterpolargl"
           }
          ],
          "scatterternary": [
           {
            "marker": {
             "colorbar": {
              "outlinewidth": 0,
              "ticks": ""
             }
            },
            "type": "scatterternary"
           }
          ],
          "surface": [
           {
            "colorbar": {
             "outlinewidth": 0,
             "ticks": ""
            },
            "colorscale": [
             [
              0,
              "#0d0887"
             ],
             [
              0.1111111111111111,
              "#46039f"
             ],
             [
              0.2222222222222222,
              "#7201a8"
             ],
             [
              0.3333333333333333,
              "#9c179e"
             ],
             [
              0.4444444444444444,
              "#bd3786"
             ],
             [
              0.5555555555555556,
              "#d8576b"
             ],
             [
              0.6666666666666666,
              "#ed7953"
             ],
             [
              0.7777777777777778,
              "#fb9f3a"
             ],
             [
              0.8888888888888888,
              "#fdca26"
             ],
             [
              1,
              "#f0f921"
             ]
            ],
            "type": "surface"
           }
          ],
          "table": [
           {
            "cells": {
             "fill": {
              "color": "#EBF0F8"
             },
             "line": {
              "color": "white"
             }
            },
            "header": {
             "fill": {
              "color": "#C8D4E3"
             },
             "line": {
              "color": "white"
             }
            },
            "type": "table"
           }
          ]
         },
         "layout": {
          "annotationdefaults": {
           "arrowcolor": "#2a3f5f",
           "arrowhead": 0,
           "arrowwidth": 1
          },
          "autotypenumbers": "strict",
          "coloraxis": {
           "colorbar": {
            "outlinewidth": 0,
            "ticks": ""
           }
          },
          "colorscale": {
           "diverging": [
            [
             0,
             "#8e0152"
            ],
            [
             0.1,
             "#c51b7d"
            ],
            [
             0.2,
             "#de77ae"
            ],
            [
             0.3,
             "#f1b6da"
            ],
            [
             0.4,
             "#fde0ef"
            ],
            [
             0.5,
             "#f7f7f7"
            ],
            [
             0.6,
             "#e6f5d0"
            ],
            [
             0.7,
             "#b8e186"
            ],
            [
             0.8,
             "#7fbc41"
            ],
            [
             0.9,
             "#4d9221"
            ],
            [
             1,
             "#276419"
            ]
           ],
           "sequential": [
            [
             0,
             "#0d0887"
            ],
            [
             0.1111111111111111,
             "#46039f"
            ],
            [
             0.2222222222222222,
             "#7201a8"
            ],
            [
             0.3333333333333333,
             "#9c179e"
            ],
            [
             0.4444444444444444,
             "#bd3786"
            ],
            [
             0.5555555555555556,
             "#d8576b"
            ],
            [
             0.6666666666666666,
             "#ed7953"
            ],
            [
             0.7777777777777778,
             "#fb9f3a"
            ],
            [
             0.8888888888888888,
             "#fdca26"
            ],
            [
             1,
             "#f0f921"
            ]
           ],
           "sequentialminus": [
            [
             0,
             "#0d0887"
            ],
            [
             0.1111111111111111,
             "#46039f"
            ],
            [
             0.2222222222222222,
             "#7201a8"
            ],
            [
             0.3333333333333333,
             "#9c179e"
            ],
            [
             0.4444444444444444,
             "#bd3786"
            ],
            [
             0.5555555555555556,
             "#d8576b"
            ],
            [
             0.6666666666666666,
             "#ed7953"
            ],
            [
             0.7777777777777778,
             "#fb9f3a"
            ],
            [
             0.8888888888888888,
             "#fdca26"
            ],
            [
             1,
             "#f0f921"
            ]
           ]
          },
          "colorway": [
           "#636efa",
           "#EF553B",
           "#00cc96",
           "#ab63fa",
           "#FFA15A",
           "#19d3f3",
           "#FF6692",
           "#B6E880",
           "#FF97FF",
           "#FECB52"
          ],
          "font": {
           "color": "#2a3f5f"
          },
          "geo": {
           "bgcolor": "white",
           "lakecolor": "white",
           "landcolor": "#E5ECF6",
           "showlakes": true,
           "showland": true,
           "subunitcolor": "white"
          },
          "hoverlabel": {
           "align": "left"
          },
          "hovermode": "closest",
          "mapbox": {
           "style": "light"
          },
          "paper_bgcolor": "white",
          "plot_bgcolor": "#E5ECF6",
          "polar": {
           "angularaxis": {
            "gridcolor": "white",
            "linecolor": "white",
            "ticks": ""
           },
           "bgcolor": "#E5ECF6",
           "radialaxis": {
            "gridcolor": "white",
            "linecolor": "white",
            "ticks": ""
           }
          },
          "scene": {
           "xaxis": {
            "backgroundcolor": "#E5ECF6",
            "gridcolor": "white",
            "gridwidth": 2,
            "linecolor": "white",
            "showbackground": true,
            "ticks": "",
            "zerolinecolor": "white"
           },
           "yaxis": {
            "backgroundcolor": "#E5ECF6",
            "gridcolor": "white",
            "gridwidth": 2,
            "linecolor": "white",
            "showbackground": true,
            "ticks": "",
            "zerolinecolor": "white"
           },
           "zaxis": {
            "backgroundcolor": "#E5ECF6",
            "gridcolor": "white",
            "gridwidth": 2,
            "linecolor": "white",
            "showbackground": true,
            "ticks": "",
            "zerolinecolor": "white"
           }
          },
          "shapedefaults": {
           "line": {
            "color": "#2a3f5f"
           }
          },
          "ternary": {
           "aaxis": {
            "gridcolor": "white",
            "linecolor": "white",
            "ticks": ""
           },
           "baxis": {
            "gridcolor": "white",
            "linecolor": "white",
            "ticks": ""
           },
           "bgcolor": "#E5ECF6",
           "caxis": {
            "gridcolor": "white",
            "linecolor": "white",
            "ticks": ""
           }
          },
          "title": {
           "x": 0.05
          },
          "xaxis": {
           "automargin": true,
           "gridcolor": "white",
           "linecolor": "white",
           "ticks": "",
           "title": {
            "standoff": 15
           },
           "zerolinecolor": "white",
           "zerolinewidth": 2
          },
          "yaxis": {
           "automargin": true,
           "gridcolor": "white",
           "linecolor": "white",
           "ticks": "",
           "title": {
            "standoff": 15
           },
           "zerolinecolor": "white",
           "zerolinewidth": 2
          }
         }
        },
        "title": {
         "text": "Amount of legislation documents with at least one author of a party, split by EuroVoc Domain, relative to the amount of seats for that party"
        },
        "width": 1920,
        "xaxis": {
         "categoryorder": "total descending",
         "title": {
          "text": "Subject"
         }
        },
        "yaxis": {
         "title": {
          "text": "Percentage"
         }
        }
       }
      }
     },
     "metadata": {},
     "output_type": "display_data"
    }
   ],
   "source": [
    "colors = {\n",
    "    \"DéFI\": \"#FFA500\",       # Orange\n",
    "    \"N-VA\": \"#FFD700\",       # Yellow\n",
    "    \"Les Engagés\": \"#FF8C00\",# Darker Orange\n",
    "    \"VB\": \"#000000\",         # Black\n",
    "    \"PVDA\": \"#FF0000\",       # Bright Red\n",
    "    \"Open Vld\": \"#1E90FF\",   # Dodger Blue\n",
    "    \"PTB\": \"#CD5C5C\",        # Indian Red\n",
    "    \"MR\": \"#87CEEB\",         # Sky Blue\n",
    "    \"Vooruit\": \"#DC143C\",    # Crimson\n",
    "    \"Ecolo\": \"#228B22\",      # Forest Green\n",
    "    \"Groen\": \"#32CD32\",      # Lime Green\n",
    "    \"CD&V\": \"#FF7F00\",       # Deep Orange\n",
    "    \"PS\": \"#B22222\",         # Firebrick Red\n",
    "    \"cd&v\": \"#FFF\",          # White\n",
    "    \"ZZZ\": \"#1D1D1D\"         # Grey\n",
    "}\n",
    "\n",
    "\n",
    "def calculate_relative(data):\n",
    "    relative_data = {}\n",
    "    for party, subjects in data.items():\n",
    "        total = sum(subjects.values())\n",
    "        relative_data[party] = {subject: value / total for subject, value in subjects.items()}\n",
    "    return relative_data\n",
    "\n",
    "def plot_relative(data):\n",
    "    relative_data = calculate_relative(data)\n",
    "    fig = go.Figure()\n",
    "    for party, subjects in relative_data.items():\n",
    "        fig.add_trace(go.Bar(\n",
    "            name=party,\n",
    "            x=list(subjects.keys()),\n",
    "            y=list(subjects.values()),\n",
    "            marker_color=colors[party]\n",
    "        ))\n",
    "    fig.update_layout(\n",
    "        title=\"Amount of legislation documents with at least one author of a party, split by EuroVoc Domain, relative to the amount of seats for that party\",\n",
    "        xaxis_title=\"Subject\",\n",
    "        yaxis_title=\"Percentage\",\n",
    "        barmode='group',\n",
    "        xaxis={'categoryorder':'total descending'},\n",
    "        height=1080,\n",
    "        width=1920\n",
    "    )\n",
    "    fig.show()\n",
    "\n",
    "plot_relative(parties_to_domains)"
   ]
  },
  {
   "cell_type": "code",
   "execution_count": null,
   "metadata": {},
   "outputs": [],
   "source": []
  }
 ],
 "metadata": {
  "kernelspec": {
   "display_name": ".venv",
   "language": "python",
   "name": "python3"
  },
  "language_info": {
   "codemirror_mode": {
    "name": "ipython",
    "version": 3
   },
   "file_extension": ".py",
   "mimetype": "text/x-python",
   "name": "python",
   "nbconvert_exporter": "python",
   "pygments_lexer": "ipython3",
   "version": "3.12.3"
  }
 },
 "nbformat": 4,
 "nbformat_minor": 2
}
