{
 "cells": [
  {
   "cell_type": "code",
   "execution_count": 1,
   "metadata": {},
   "outputs": [
    {
     "data": {
      "text/plain": [
       "<Graph identifier=N7625426e505d4a3087b554750e682fd3 (<class 'rdflib.graph.Graph'>)>"
      ]
     },
     "execution_count": 1,
     "metadata": {},
     "output_type": "execute_result"
    }
   ],
   "source": [
    "from rdflib import Graph\n",
    "g = Graph()\n",
    "g.parse(\"../../resources/eurovoc-skos-ap-eu.rdf\")"
   ]
  },
  {
   "cell_type": "code",
   "execution_count": 2,
   "metadata": {},
   "outputs": [
    {
     "data": {
      "text/plain": [
       "<Graph identifier=N7625426e505d4a3087b554750e682fd3 (<class 'rdflib.graph.Graph'>)>"
      ]
     },
     "execution_count": 2,
     "metadata": {},
     "output_type": "execute_result"
    }
   ],
   "source": [
    "g"
   ]
  },
  {
   "cell_type": "code",
   "execution_count": 5,
   "metadata": {},
   "outputs": [
    {
     "name": "stdout",
     "output_type": "stream",
     "text": [
      "(rdflib.term.URIRef('http://eurovoc.europa.eu/81'), rdflib.term.URIRef('http://www.w3.org/2004/02/skos/core#altLabel'), rdflib.term.Literal(\"women's position\", lang='en'))\n",
      "(rdflib.term.URIRef('http://eurovoc.europa.eu/5176'), rdflib.term.URIRef('http://www.w3.org/2008/05/skos-xl#prefLabel'), rdflib.term.URIRef('http://eurovoc.europa.eu/110652'))\n",
      "(rdflib.term.URIRef('http://eurovoc.europa.eu/438643'), rdflib.term.URIRef('http://purl.org/dc/terms/type'), rdflib.term.URIRef('http://publications.europa.eu/resource/authority/label-type/STANDARDLABEL'))\n",
      "(rdflib.term.URIRef('http://eurovoc.europa.eu/3035'), rdflib.term.URIRef('http://www.w3.org/2004/02/skos/core#altLabel'), rdflib.term.Literal('vēlēšanu likumības pārbaude', lang='lv'))\n",
      "(rdflib.term.URIRef('http://eurovoc.europa.eu/156298'), rdflib.term.URIRef('http://www.w3.org/2008/05/skos-xl#literalForm'), rdflib.term.Literal('association', lang='da'))\n",
      "(rdflib.term.URIRef('http://eurovoc.europa.eu/496773'), rdflib.term.URIRef('http://www.w3.org/2008/05/skos-xl#literalForm'), rdflib.term.Literal('eursko područje', lang='hr'))\n",
      "(rdflib.term.URIRef('http://eurovoc.europa.eu/1537'), rdflib.term.URIRef('http://www.w3.org/2008/05/skos-xl#altLabel'), rdflib.term.URIRef('http://eurovoc.europa.eu/118157'))\n",
      "(rdflib.term.URIRef('http://eurovoc.europa.eu/284109'), rdflib.term.URIRef('http://www.w3.org/2002/07/owl#versionInfo'), rdflib.term.Literal('n/a'))\n",
      "(rdflib.term.URIRef('http://eurovoc.europa.eu/4650'), rdflib.term.URIRef('http://www.w3.org/2004/02/skos/core#prefLabel'), rdflib.term.Literal('теле', lang='bg'))\n",
      "(rdflib.term.URIRef('http://eurovoc.europa.eu/348168'), rdflib.term.URIRef('http://purl.org/dc/terms/type'), rdflib.term.URIRef('http://publications.europa.eu/resource/authority/label-type/STANDARDLABEL'))\n",
      "(rdflib.term.URIRef('http://eurovoc.europa.eu/4302'), rdflib.term.URIRef('http://www.w3.org/2008/05/skos-xl#altLabel'), rdflib.term.URIRef('http://eurovoc.europa.eu/294096'))\n"
     ]
    }
   ],
   "source": [
    "for i, (s, p, o) in enumerate(g):\n",
    "    print((s, p, o))\n",
    "    if i == 10:\n",
    "        break"
   ]
  },
  {
   "cell_type": "code",
   "execution_count": 23,
   "metadata": {},
   "outputs": [
    {
     "data": {
      "text/plain": [
       "'16 ECONOMIE'"
      ]
     },
     "execution_count": 23,
     "metadata": {},
     "output_type": "execute_result"
    }
   ],
   "source": [
    "from rdflib import Graph, Literal, URIRef\n",
    "from unidecode import unidecode\n",
    "import logging\n",
    "\n",
    "\n",
    "# Function to search concepts by literal string\n",
    "def search_concepts_fast(graph, literal_string):\n",
    "    results = []\n",
    "    # Search for the literal in the graph\n",
    "    for s, p, o in graph.triples((None, URIRef('http://www.w3.org/2004/02/skos/core#prefLabel'), Literal(literal_string, lang='nl'))):\n",
    "        results.append(s)\n",
    "    return results\n",
    "\n",
    "def search_concepts_slow(graph, literal_string):\n",
    "    results = []\n",
    "    # Iterate over all triples with the prefLabel property\n",
    "    for s, p, o in graph.triples((None, URIRef('http://www.w3.org/2004/02/skos/core#prefLabel'), None)):\n",
    "        # Check if the object's value matches the literal_string, ignoring case\n",
    "        if o.language == 'nl' and unidecode(o.lower()) == unidecode(literal_string.lower()):\n",
    "            results.append(s)\n",
    "    \n",
    "    if results:\n",
    "        return results\n",
    "    \n",
    "    results = []\n",
    "    # Iterate over all triples with the prefLabel property\n",
    "    for s, p, o in graph.triples((None, URIRef('http://www.w3.org/2004/02/skos/core#altLabel'), None)):\n",
    "        # Check if the object's value matches the literal_string, ignoring case\n",
    "        if o.language == 'nl' and unidecode(o.lower()) == unidecode(literal_string.lower()):\n",
    "            results.append(s)\n",
    "    \n",
    "    if results:\n",
    "        return results\n",
    "    \n",
    "    results = []\n",
    "    # Iterate over all triples with the prefLabel property\n",
    "    for s, p, o in graph.triples((None, URIRef('http://www.w3.org/2004/02/skos/core#prefLabel'), None)):\n",
    "        # Check if the object's value matches the literal_string, ignoring case\n",
    "        if o.language == 'nl' and \"\".join(unidecode(literal_string.lower()).split()) in \"\".join(unidecode(o.lower()).split()):\n",
    "            results.append(s)\n",
    "    \n",
    "    if results:\n",
    "        return results\n",
    "    \n",
    "    results = []\n",
    "    # Iterate over all triples with the prefLabel property\n",
    "    for s, p, o in graph.triples((None, URIRef('http://www.w3.org/2004/02/skos/core#altLabel'), None)):\n",
    "        # Check if the object's value matches the literal_string, ignoring case\n",
    "        if o.language == 'nl' and \"\".join(unidecode(literal_string.lower()).split()) in \"\".join(unidecode(o.lower()).split()):\n",
    "            results.append(s)\n",
    "    \n",
    "    if results:\n",
    "        return results\n",
    "    \n",
    "    return []\n",
    "    \n",
    "\n",
    "\n",
    "# Function to retrieve broader concepts\n",
    "def find_broader_concepts(graph, concept_uri):\n",
    "    broader_concepts = []\n",
    "    for s, p, o in graph.triples((concept_uri, URIRef('http://www.w3.org/2004/02/skos/core#broader'), None)):\n",
    "        broader_concepts.append((s, p, o))\n",
    "        broader_concepts.extend(find_broader_concepts(graph, o))  # Recursively find broader concepts\n",
    "    return broader_concepts\n",
    "\n",
    "# Function to find Top Concept Of the broadest concept\n",
    "def find_top_concept_of(graph, concept_uri):\n",
    "    top_concept_of = []\n",
    "    for s, p, o in graph.triples((concept_uri, URIRef('http://www.w3.org/2004/02/skos/core#topConceptOf'), None)):\n",
    "        top_concept_of.append((s, p, o))\n",
    "        top_concept_of.extend(find_top_concept_of(graph, o))  # Recursively find broader concepts\n",
    "    return top_concept_of\n",
    "\n",
    "# Function to find Domain of a Top Concept\n",
    "def find_domain(graph, top_concept_uri):\n",
    "    domain = []\n",
    "    for s, p, o in graph.triples((top_concept_uri, URIRef('http://publications.europa.eu/ontology/euvoc#domain'), None)):\n",
    "        domain.append((s, p, o))\n",
    "        domain.extend(find_domain(graph, o))  # Recursively find broader concepts\n",
    "    return domain\n",
    "\n",
    "# Function to search concepts by literal string\n",
    "def search_literal(graph, domain_uri):\n",
    "    results = []\n",
    "    # Search for the prefLabel property in the given domain_uri specifically in Dutch\n",
    "    for s, p, o in graph.triples((domain_uri, SKOS.prefLabel, None)):\n",
    "        if o.language == 'nl':\n",
    "            results.append((s, p, str(o)))  # Convert Literal to string for better readability\n",
    "    return results\n",
    "\n",
    "\n",
    "def get_domain(query):\n",
    "    # Example usage\n",
    "    concept_search = query.lower()\n",
    "    concepts = search_concepts_fast(g, concept_search)\n",
    "    if not concepts:\n",
    "        concepts = search_concepts_slow(g, concept_search)\n",
    "    # print(\"Found concepts:\", concepts)\n",
    "    # print(search_literal(g, concepts[0])[0][2])\n",
    "    # print(\"\\n\")\n",
    "\n",
    "    # Concepts error handling\n",
    "    if len(concepts) == 0:\n",
    "        raise ValueError(\"Concept not found\")\n",
    "    elif len(concepts) > 1:\n",
    "        logging.warning(f\"More than 1 concept found? {[search_literal(g, c)[0][2] for c in concepts]}\\nPicking first one.\")\n",
    "\n",
    "    concept = concepts[0]\n",
    "\n",
    "    # Get broader concepts for a found concept\n",
    "    broader = find_broader_concepts(g, concept)\n",
    "    # print(\"Broader concepts:\", broader)\n",
    "\n",
    "    if broader:\n",
    "        # print(search_literal(g, broader[-1][2])[0][2])\n",
    "        concept = broader[-1][2]\n",
    "\n",
    "    # print(\"\\n\")\n",
    "\n",
    "    # Get the top concept of the broadest concept\n",
    "    top = find_top_concept_of(g, concept)\n",
    "    # print(\"Top concepts:\", top)\n",
    "    # print(search_literal(g, top[-1][2])[0][2])\n",
    "\n",
    "    # print(\"\\n\")\n",
    "\n",
    "    # Get the top concept of the broadest concept\n",
    "    domain = find_domain(g, top[-1][2])\n",
    "    # print(\"Domain:\", domain)\n",
    "    # print(search_literal(g, domain[0][2])[0][2])\n",
    "\n",
    "    return search_literal(g, domain[0][2])[0][2]\n",
    "\n",
    "get_domain(\"COMMUNAUTAIRE HULP\")"
   ]
  },
  {
   "cell_type": "code",
   "execution_count": 24,
   "metadata": {},
   "outputs": [
    {
     "name": "stdout",
     "output_type": "stream",
     "text": [
      "4015\n"
     ]
    }
   ],
   "source": [
    "import json\n",
    "import os\n",
    "\n",
    "folder_path = \"../../src/parlementaire_stukken/json\"\n",
    "\n",
    "kamerstukken = []\n",
    "for filename in os.listdir(folder_path):\n",
    "    if filename.endswith(\".json\"):\n",
    "        file_path = os.path.join(folder_path, filename)\n",
    "        with open(file_path, \"r\", encoding=\"utf-8\") as file:\n",
    "            data = json.load(file)\n",
    "        kamerstukken.append((filename, data))\n",
    "print(len(kamerstukken))"
   ]
  },
  {
   "cell_type": "code",
   "execution_count": 34,
   "metadata": {},
   "outputs": [],
   "source": [
    "import json\n",
    "\n",
    "from common.text_corrections import fix_name\n",
    "\n",
    "with open(\"../../members.json\", \"r\") as fp:\n",
    "    name_metadata = json.load(fp)\n",
    "name_to_party = {fix_name(n[\"name\"], swap_first_last_name=True): n[\"party\"] for n in name_metadata}"
   ]
  },
  {
   "cell_type": "code",
   "execution_count": 37,
   "metadata": {},
   "outputs": [
    {
     "name": "stderr",
     "output_type": "stream",
     "text": [
      "  0%|          | 0/4015 [00:00<?, ?it/s]"
     ]
    },
    {
     "name": "stderr",
     "output_type": "stream",
     "text": [
      "  0%|          | 3/4015 [00:00<14:02,  4.76it/s]"
     ]
    },
    {
     "name": "stdout",
     "output_type": "stream",
     "text": [
      "55K0374.json\n"
     ]
    },
    {
     "name": "stderr",
     "output_type": "stream",
     "text": [
      "  1%|          | 27/4015 [00:05<16:04,  4.14it/s]"
     ]
    },
    {
     "name": "stdout",
     "output_type": "stream",
     "text": [
      "55K1899.json\n"
     ]
    },
    {
     "name": "stderr",
     "output_type": "stream",
     "text": [
      "  2%|▏         | 95/4015 [00:13<07:20,  8.91it/s]"
     ]
    },
    {
     "name": "stdout",
     "output_type": "stream",
     "text": [
      "55K0776.json\n",
      "55K2759.json\n",
      "55K3899.json\n"
     ]
    },
    {
     "name": "stderr",
     "output_type": "stream",
     "text": [
      "WARNING:root:More than 1 concept found? ['Eurogroep (NAVO)', 'Eurogroep (eurozone)']\n",
      "Picking first one.\n",
      "  3%|▎         | 117/4015 [00:19<13:21,  4.87it/s]WARNING:root:More than 1 concept found? ['persoon met een lichamelijke beperking', 'persoon met een verstandelijke beperking', 'persoon met een verstandelijke beperking', 'faciliteiten voor mensen met een beperking', 'werknemer met een beperking', 'buitengewoon onderwijs']\n",
      "Picking first one.\n",
      "  3%|▎         | 133/4015 [00:23<14:30,  4.46it/s]WARNING:root:More than 1 concept found? ['overheidsopdrachten', 'Overeenkomst inzake overheidsopdrachten', 'overheidsopdracht voor leveringen', 'overheidsopdracht voor werken', 'groene overheidsopdracht']\n",
      "Picking first one.\n",
      "  4%|▎         | 143/4015 [00:25<13:53,  4.65it/s]"
     ]
    },
    {
     "name": "stdout",
     "output_type": "stream",
     "text": [
      "55K0960.json\n"
     ]
    },
    {
     "name": "stderr",
     "output_type": "stream",
     "text": [
      "  5%|▍         | 191/4015 [00:30<08:19,  7.65it/s]"
     ]
    },
    {
     "name": "stdout",
     "output_type": "stream",
     "text": [
      "55K2075.json\n"
     ]
    },
    {
     "name": "stderr",
     "output_type": "stream",
     "text": [
      "  5%|▌         | 208/4015 [00:39<27:41,  2.29it/s]"
     ]
    },
    {
     "name": "stdout",
     "output_type": "stream",
     "text": [
      "55K0609.json\n",
      "55K1993.json\n"
     ]
    },
    {
     "name": "stderr",
     "output_type": "stream",
     "text": [
      "  6%|▌         | 249/4015 [00:44<11:38,  5.39it/s]WARNING:root:More than 1 concept found? ['personeelsbenoeming', 'benoeming van de leden', 'benoemingsbevoegdheid']\n",
      "Picking first one.\n",
      "  6%|▋         | 256/4015 [00:46<13:23,  4.68it/s]WARNING:root:More than 1 concept found? ['persoon met een lichamelijke beperking', 'persoon met een verstandelijke beperking', 'persoon met een verstandelijke beperking', 'faciliteiten voor mensen met een beperking', 'werknemer met een beperking', 'buitengewoon onderwijs']\n",
      "Picking first one.\n",
      "  8%|▊         | 319/4015 [01:01<11:35,  5.31it/s]"
     ]
    },
    {
     "name": "stdout",
     "output_type": "stream",
     "text": [
      "55K3910.json\n",
      "55K2608.json\n"
     ]
    },
    {
     "name": "stderr",
     "output_type": "stream",
     "text": [
      "  9%|▊         | 344/4015 [01:01<04:58, 12.29it/s]"
     ]
    },
    {
     "name": "stdout",
     "output_type": "stream",
     "text": [
      "55K2040.json\n",
      "55K0923.json\n"
     ]
    },
    {
     "name": "stderr",
     "output_type": "stream",
     "text": [
      " 10%|▉         | 383/4015 [01:05<05:55, 10.22it/s]"
     ]
    },
    {
     "name": "stdout",
     "output_type": "stream",
     "text": [
      "55K0564.json\n"
     ]
    },
    {
     "name": "stderr",
     "output_type": "stream",
     "text": [
      " 10%|▉         | 397/4015 [01:09<09:15,  6.51it/s]"
     ]
    },
    {
     "name": "stdout",
     "output_type": "stream",
     "text": [
      "55K1445.json\n"
     ]
    },
    {
     "name": "stderr",
     "output_type": "stream",
     "text": [
      " 12%|█▏        | 482/4015 [01:12<02:24, 24.43it/s]WARNING:root:More than 1 concept found? ['persoon met een lichamelijke beperking', 'persoon met een verstandelijke beperking', 'persoon met een verstandelijke beperking', 'faciliteiten voor mensen met een beperking', 'werknemer met een beperking', 'buitengewoon onderwijs']\n",
      "Picking first one.\n",
      " 12%|█▏        | 486/4015 [01:15<05:28, 10.75it/s]"
     ]
    },
    {
     "name": "stdout",
     "output_type": "stream",
     "text": [
      "55K1022.json\n"
     ]
    },
    {
     "name": "stderr",
     "output_type": "stream",
     "text": [
      " 13%|█▎        | 528/4015 [01:18<05:00, 11.59it/s]"
     ]
    },
    {
     "name": "stdout",
     "output_type": "stream",
     "text": [
      "55K2101.json\n"
     ]
    },
    {
     "name": "stderr",
     "output_type": "stream",
     "text": [
      " 14%|█▍        | 560/4015 [01:24<11:43,  4.91it/s]"
     ]
    },
    {
     "name": "stdout",
     "output_type": "stream",
     "text": [
      "55K1913.json\n"
     ]
    },
    {
     "name": "stderr",
     "output_type": "stream",
     "text": [
      " 15%|█▍        | 595/4015 [01:27<07:13,  7.88it/s]WARNING:root:More than 1 concept found? ['Eurogroep (NAVO)', 'Eurogroep (eurozone)']\n",
      "Picking first one.\n",
      " 15%|█▍        | 600/4015 [01:30<11:25,  4.98it/s]"
     ]
    },
    {
     "name": "stdout",
     "output_type": "stream",
     "text": [
      "55K2160.json\n"
     ]
    },
    {
     "name": "stderr",
     "output_type": "stream",
     "text": [
      " 16%|█▌        | 625/4015 [01:32<07:19,  7.71it/s]"
     ]
    },
    {
     "name": "stdout",
     "output_type": "stream",
     "text": [
      "55K1998.json\n",
      "55K0834.json\n",
      "55K0220.json\n"
     ]
    },
    {
     "name": "stderr",
     "output_type": "stream",
     "text": [
      " 17%|█▋        | 680/4015 [01:35<04:16, 13.02it/s]"
     ]
    },
    {
     "name": "stdout",
     "output_type": "stream",
     "text": [
      "55K2109.json\n"
     ]
    },
    {
     "name": "stderr",
     "output_type": "stream",
     "text": [
      " 18%|█▊        | 706/4015 [01:36<03:00, 18.37it/s]"
     ]
    },
    {
     "name": "stdout",
     "output_type": "stream",
     "text": [
      "55K0880.json\n"
     ]
    },
    {
     "name": "stderr",
     "output_type": "stream",
     "text": [
      " 18%|█▊        | 726/4015 [01:39<04:49, 11.35it/s]"
     ]
    },
    {
     "name": "stdout",
     "output_type": "stream",
     "text": [
      "55K2583.json\n"
     ]
    },
    {
     "name": "stderr",
     "output_type": "stream",
     "text": [
      " 21%|██        | 834/4015 [01:50<02:42, 19.59it/s]"
     ]
    },
    {
     "name": "stdout",
     "output_type": "stream",
     "text": [
      "55K2539.json\n"
     ]
    },
    {
     "name": "stderr",
     "output_type": "stream",
     "text": [
      " 21%|██        | 838/4015 [01:53<05:46,  9.17it/s]"
     ]
    },
    {
     "name": "stdout",
     "output_type": "stream",
     "text": [
      "55K0811.json\n",
      "55K2483.json\n"
     ]
    },
    {
     "name": "stderr",
     "output_type": "stream",
     "text": [
      " 22%|██▏       | 878/4015 [01:58<05:59,  8.72it/s]"
     ]
    },
    {
     "name": "stdout",
     "output_type": "stream",
     "text": [
      "55K0363.json\n"
     ]
    },
    {
     "name": "stderr",
     "output_type": "stream",
     "text": [
      " 23%|██▎       | 931/4015 [02:02<06:05,  8.43it/s]"
     ]
    },
    {
     "name": "stdout",
     "output_type": "stream",
     "text": [
      "55K0875.json\n"
     ]
    },
    {
     "name": "stderr",
     "output_type": "stream",
     "text": [
      " 24%|██▎       | 946/4015 [02:08<12:36,  4.05it/s]WARNING:root:More than 1 concept found? ['persoon met een lichamelijke beperking', 'persoon met een verstandelijke beperking', 'persoon met een verstandelijke beperking', 'faciliteiten voor mensen met een beperking', 'werknemer met een beperking', 'buitengewoon onderwijs']\n",
      "Picking first one.\n",
      " 24%|██▍       | 965/4015 [02:10<09:09,  5.55it/s]"
     ]
    },
    {
     "name": "stdout",
     "output_type": "stream",
     "text": [
      "55K0390.json\n"
     ]
    },
    {
     "name": "stderr",
     "output_type": "stream",
     "text": [
      " 24%|██▍       | 976/4015 [02:12<09:52,  5.13it/s]"
     ]
    },
    {
     "name": "stdout",
     "output_type": "stream",
     "text": [
      "55K1161.json\n"
     ]
    },
    {
     "name": "stderr",
     "output_type": "stream",
     "text": [
      " 24%|██▍       | 980/4015 [02:13<11:12,  4.51it/s]"
     ]
    },
    {
     "name": "stdout",
     "output_type": "stream",
     "text": [
      "55K1905.json\n"
     ]
    },
    {
     "name": "stderr",
     "output_type": "stream",
     "text": [
      " 25%|██▌       | 1008/4015 [02:17<08:10,  6.13it/s]WARNING:root:More than 1 concept found? ['persoon met een lichamelijke beperking', 'persoon met een verstandelijke beperking', 'persoon met een verstandelijke beperking', 'faciliteiten voor mensen met een beperking', 'werknemer met een beperking', 'buitengewoon onderwijs']\n",
      "Picking first one.\n",
      " 25%|██▌       | 1023/4015 [02:21<09:56,  5.01it/s]"
     ]
    },
    {
     "name": "stdout",
     "output_type": "stream",
     "text": [
      "55K0126.json\n"
     ]
    },
    {
     "name": "stderr",
     "output_type": "stream",
     "text": [
      " 26%|██▌       | 1046/4015 [02:23<06:14,  7.94it/s]WARNING:root:More than 1 concept found? ['persoon met een lichamelijke beperking', 'persoon met een verstandelijke beperking', 'persoon met een verstandelijke beperking', 'faciliteiten voor mensen met een beperking', 'werknemer met een beperking', 'buitengewoon onderwijs']\n",
      "Picking first one.\n",
      " 27%|██▋       | 1093/4015 [02:29<06:21,  7.66it/s]"
     ]
    },
    {
     "name": "stdout",
     "output_type": "stream",
     "text": [
      "55K0859.json\n"
     ]
    },
    {
     "name": "stderr",
     "output_type": "stream",
     "text": [
      " 29%|██▊       | 1152/4015 [02:34<04:21, 10.95it/s]"
     ]
    },
    {
     "name": "stdout",
     "output_type": "stream",
     "text": [
      "55K3159.json\n"
     ]
    },
    {
     "name": "stderr",
     "output_type": "stream",
     "text": [
      " 30%|██▉       | 1185/4015 [02:35<02:09, 21.84it/s]WARNING:root:More than 1 concept found? ['persoon met een lichamelijke beperking', 'persoon met een verstandelijke beperking', 'persoon met een verstandelijke beperking', 'faciliteiten voor mensen met een beperking', 'werknemer met een beperking', 'buitengewoon onderwijs']\n",
      "Picking first one.\n",
      " 31%|███▏      | 1255/4015 [02:44<04:24, 10.45it/s]"
     ]
    },
    {
     "name": "stdout",
     "output_type": "stream",
     "text": [
      "55K0649.json\n"
     ]
    },
    {
     "name": "stderr",
     "output_type": "stream",
     "text": [
      " 32%|███▏      | 1300/4015 [02:51<07:13,  6.26it/s]"
     ]
    },
    {
     "name": "stdout",
     "output_type": "stream",
     "text": [
      "55K0900.json\n"
     ]
    },
    {
     "name": "stderr",
     "output_type": "stream",
     "text": [
      " 33%|███▎      | 1306/4015 [02:51<06:41,  6.75it/s]"
     ]
    },
    {
     "name": "stdout",
     "output_type": "stream",
     "text": [
      "55K3637.json\n"
     ]
    },
    {
     "name": "stderr",
     "output_type": "stream",
     "text": [
      " 33%|███▎      | 1321/4015 [02:53<05:38,  7.96it/s]"
     ]
    },
    {
     "name": "stdout",
     "output_type": "stream",
     "text": [
      "55K2126.json\n",
      "55K1989.json\n"
     ]
    },
    {
     "name": "stderr",
     "output_type": "stream",
     "text": [
      " 33%|███▎      | 1326/4015 [02:53<05:37,  7.98it/s]"
     ]
    },
    {
     "name": "stdout",
     "output_type": "stream",
     "text": [
      "55K2637.json\n"
     ]
    },
    {
     "name": "stderr",
     "output_type": "stream",
     "text": [
      " 34%|███▎      | 1351/4015 [03:00<13:19,  3.33it/s]"
     ]
    },
    {
     "name": "stdout",
     "output_type": "stream",
     "text": [
      "55K0469.json\n"
     ]
    },
    {
     "name": "stderr",
     "output_type": "stream",
     "text": [
      " 34%|███▍      | 1375/4015 [03:02<06:34,  6.70it/s]"
     ]
    },
    {
     "name": "stdout",
     "output_type": "stream",
     "text": [
      "55K0844.json\n"
     ]
    },
    {
     "name": "stderr",
     "output_type": "stream",
     "text": [
      " 35%|███▍      | 1387/4015 [03:03<05:35,  7.82it/s]"
     ]
    },
    {
     "name": "stdout",
     "output_type": "stream",
     "text": [
      "55K2344.json\n"
     ]
    },
    {
     "name": "stderr",
     "output_type": "stream",
     "text": [
      " 36%|███▌      | 1438/4015 [03:06<04:04, 10.55it/s]WARNING:root:More than 1 concept found? ['persoon met een lichamelijke beperking', 'persoon met een verstandelijke beperking', 'persoon met een verstandelijke beperking', 'faciliteiten voor mensen met een beperking', 'werknemer met een beperking', 'buitengewoon onderwijs']\n",
      "Picking first one.\n",
      " 36%|███▌      | 1443/4015 [03:09<06:45,  6.35it/s]"
     ]
    },
    {
     "name": "stdout",
     "output_type": "stream",
     "text": [
      "55K2018.json\n",
      "55K2216.json\n",
      "55K0957.json\n",
      "55K0685.json\n"
     ]
    },
    {
     "name": "stderr",
     "output_type": "stream",
     "text": [
      " 37%|███▋      | 1475/4015 [03:15<10:46,  3.93it/s]"
     ]
    },
    {
     "name": "stdout",
     "output_type": "stream",
     "text": [
      "55K0702.json\n"
     ]
    },
    {
     "name": "stderr",
     "output_type": "stream",
     "text": [
      " 40%|███▉      | 1588/4015 [03:32<09:39,  4.19it/s]"
     ]
    },
    {
     "name": "stdout",
     "output_type": "stream",
     "text": [
      "55K0983.json\n"
     ]
    },
    {
     "name": "stderr",
     "output_type": "stream",
     "text": [
      " 40%|████      | 1622/4015 [03:34<04:18,  9.24it/s]WARNING:root:More than 1 concept found? ['persoon met een lichamelijke beperking', 'persoon met een verstandelijke beperking', 'persoon met een verstandelijke beperking', 'faciliteiten voor mensen met een beperking', 'werknemer met een beperking', 'buitengewoon onderwijs']\n",
      "Picking first one.\n",
      " 42%|████▏     | 1687/4015 [03:43<03:23, 11.42it/s]"
     ]
    },
    {
     "name": "stdout",
     "output_type": "stream",
     "text": [
      "55K0139.json\n"
     ]
    },
    {
     "name": "stderr",
     "output_type": "stream",
     "text": [
      " 43%|████▎     | 1729/4015 [03:48<03:43, 10.22it/s]"
     ]
    },
    {
     "name": "stdout",
     "output_type": "stream",
     "text": [
      "55K2045.json\n",
      "55K3474.json\n",
      "55K2580.json\n"
     ]
    },
    {
     "name": "stderr",
     "output_type": "stream",
     "text": [
      " 44%|████▍     | 1771/4015 [03:50<03:01, 12.34it/s]"
     ]
    },
    {
     "name": "stdout",
     "output_type": "stream",
     "text": [
      "55K2445.json\n"
     ]
    },
    {
     "name": "stderr",
     "output_type": "stream",
     "text": [
      " 44%|████▍     | 1774/4015 [03:51<03:23, 11.00it/s]"
     ]
    },
    {
     "name": "stdout",
     "output_type": "stream",
     "text": [
      "55K3649.json\n"
     ]
    },
    {
     "name": "stderr",
     "output_type": "stream",
     "text": [
      " 45%|████▍     | 1795/4015 [03:53<03:33, 10.39it/s]"
     ]
    },
    {
     "name": "stdout",
     "output_type": "stream",
     "text": [
      "55K1444.json\n",
      "55K2215.json\n"
     ]
    },
    {
     "name": "stderr",
     "output_type": "stream",
     "text": [
      " 45%|████▌     | 1820/4015 [03:56<04:30,  8.11it/s]"
     ]
    },
    {
     "name": "stdout",
     "output_type": "stream",
     "text": [
      "55K2057.json\n",
      "55K2360.json\n",
      "55K2340.json\n"
     ]
    },
    {
     "name": "stderr",
     "output_type": "stream",
     "text": [
      "WARNING:root:More than 1 concept found? ['overheidsopdrachten', 'Overeenkomst inzake overheidsopdrachten', 'overheidsopdracht voor leveringen', 'overheidsopdracht voor werken', 'groene overheidsopdracht']\n",
      "Picking first one.\n",
      " 46%|████▌     | 1852/4015 [03:58<03:28, 10.38it/s]"
     ]
    },
    {
     "name": "stdout",
     "output_type": "stream",
     "text": [
      "55K2561.json\n"
     ]
    },
    {
     "name": "stderr",
     "output_type": "stream",
     "text": [
      " 47%|████▋     | 1872/4015 [04:01<06:29,  5.50it/s]"
     ]
    },
    {
     "name": "stdout",
     "output_type": "stream",
     "text": [
      "55K0796.json\n"
     ]
    },
    {
     "name": "stderr",
     "output_type": "stream",
     "text": [
      " 47%|████▋     | 1899/4015 [04:03<02:46, 12.72it/s]"
     ]
    },
    {
     "name": "stdout",
     "output_type": "stream",
     "text": [
      "55K0298.json\n",
      "55K2943.json\n"
     ]
    },
    {
     "name": "stderr",
     "output_type": "stream",
     "text": [
      " 48%|████▊     | 1916/4015 [04:05<03:50,  9.09it/s]"
     ]
    },
    {
     "name": "stdout",
     "output_type": "stream",
     "text": [
      "55K1944.json\n"
     ]
    },
    {
     "name": "stderr",
     "output_type": "stream",
     "text": [
      " 48%|████▊     | 1922/4015 [04:06<03:49,  9.11it/s]"
     ]
    },
    {
     "name": "stdout",
     "output_type": "stream",
     "text": [
      "55K2661.json\n",
      "55K0971.json\n"
     ]
    },
    {
     "name": "stderr",
     "output_type": "stream",
     "text": [
      " 49%|████▉     | 1964/4015 [04:08<01:52, 18.24it/s]"
     ]
    },
    {
     "name": "stdout",
     "output_type": "stream",
     "text": [
      "55K0015.json\n"
     ]
    },
    {
     "name": "stderr",
     "output_type": "stream",
     "text": [
      " 49%|████▉     | 1973/4015 [04:10<03:31,  9.63it/s]WARNING:root:More than 1 concept found? ['personeelsbenoeming', 'benoeming van de leden', 'benoemingsbevoegdheid']\n",
      "Picking first one.\n",
      " 50%|████▉     | 1999/4015 [04:14<03:53,  8.63it/s]"
     ]
    },
    {
     "name": "stdout",
     "output_type": "stream",
     "text": [
      "55K0659.json\n"
     ]
    },
    {
     "name": "stderr",
     "output_type": "stream",
     "text": [
      " 50%|████▉     | 2004/4015 [04:14<03:58,  8.43it/s]WARNING:root:More than 1 concept found? ['persoon met een lichamelijke beperking', 'persoon met een verstandelijke beperking', 'persoon met een verstandelijke beperking', 'faciliteiten voor mensen met een beperking', 'werknemer met een beperking', 'buitengewoon onderwijs']\n",
      "Picking first one.\n",
      " 50%|████▉     | 2006/4015 [04:17<07:43,  4.34it/s]"
     ]
    },
    {
     "name": "stdout",
     "output_type": "stream",
     "text": [
      "55K3996.json\n"
     ]
    },
    {
     "name": "stderr",
     "output_type": "stream",
     "text": [
      " 50%|█████     | 2017/4015 [04:20<07:48,  4.27it/s]"
     ]
    },
    {
     "name": "stdout",
     "output_type": "stream",
     "text": [
      "55K2339.json\n"
     ]
    },
    {
     "name": "stderr",
     "output_type": "stream",
     "text": [
      " 52%|█████▏    | 2070/4015 [04:25<06:43,  4.82it/s]"
     ]
    },
    {
     "name": "stdout",
     "output_type": "stream",
     "text": [
      "55K2473.json\n"
     ]
    },
    {
     "name": "stderr",
     "output_type": "stream",
     "text": [
      " 52%|█████▏    | 2091/4015 [04:30<07:19,  4.37it/s]"
     ]
    },
    {
     "name": "stdout",
     "output_type": "stream",
     "text": [
      "55K0584.json\n"
     ]
    },
    {
     "name": "stderr",
     "output_type": "stream",
     "text": [
      " 52%|█████▏    | 2106/4015 [04:35<08:18,  3.83it/s]"
     ]
    },
    {
     "name": "stdout",
     "output_type": "stream",
     "text": [
      "55K2433.json\n"
     ]
    },
    {
     "name": "stderr",
     "output_type": "stream",
     "text": [
      " 53%|█████▎    | 2146/4015 [04:39<03:53,  8.01it/s]"
     ]
    },
    {
     "name": "stdout",
     "output_type": "stream",
     "text": [
      "55K3160.json\n",
      "55K1943.json\n",
      "55K0931.json\n"
     ]
    },
    {
     "name": "stderr",
     "output_type": "stream",
     "text": [
      " 54%|█████▍    | 2172/4015 [04:42<04:45,  6.45it/s]WARNING:root:More than 1 concept found? ['personeelsbenoeming', 'benoeming van de leden', 'benoemingsbevoegdheid']\n",
      "Picking first one.\n",
      " 55%|█████▌    | 2224/4015 [04:48<02:37, 11.40it/s]"
     ]
    },
    {
     "name": "stdout",
     "output_type": "stream",
     "text": [
      "55K0864.json\n"
     ]
    },
    {
     "name": "stderr",
     "output_type": "stream",
     "text": [
      " 56%|█████▋    | 2260/4015 [04:49<01:32, 19.02it/s]"
     ]
    },
    {
     "name": "stdout",
     "output_type": "stream",
     "text": [
      "55K3847.json\n"
     ]
    },
    {
     "name": "stderr",
     "output_type": "stream",
     "text": [
      " 56%|█████▋    | 2268/4015 [04:49<01:40, 17.33it/s]"
     ]
    },
    {
     "name": "stdout",
     "output_type": "stream",
     "text": [
      "55K0862.json\n"
     ]
    },
    {
     "name": "stderr",
     "output_type": "stream",
     "text": [
      " 59%|█████▊    | 2350/4015 [04:53<01:17, 21.53it/s]"
     ]
    },
    {
     "name": "stdout",
     "output_type": "stream",
     "text": [
      "55K2480.json\n"
     ]
    },
    {
     "name": "stderr",
     "output_type": "stream",
     "text": [
      " 61%|██████    | 2448/4015 [05:03<01:44, 14.97it/s]"
     ]
    },
    {
     "name": "stdout",
     "output_type": "stream",
     "text": [
      "55K2076.json\n"
     ]
    },
    {
     "name": "stderr",
     "output_type": "stream",
     "text": [
      " 61%|██████▏   | 2461/4015 [05:07<04:10,  6.20it/s]"
     ]
    },
    {
     "name": "stdout",
     "output_type": "stream",
     "text": [
      "55K2437.json\n",
      "55K2569.json\n"
     ]
    },
    {
     "name": "stderr",
     "output_type": "stream",
     "text": [
      " 63%|██████▎   | 2520/4015 [05:12<02:28, 10.07it/s]"
     ]
    },
    {
     "name": "stdout",
     "output_type": "stream",
     "text": [
      "55K2187.json\n"
     ]
    },
    {
     "name": "stderr",
     "output_type": "stream",
     "text": [
      " 65%|██████▍   | 2593/4015 [05:20<04:25,  5.36it/s]"
     ]
    },
    {
     "name": "stdout",
     "output_type": "stream",
     "text": [
      "55K2462.json\n"
     ]
    },
    {
     "name": "stderr",
     "output_type": "stream",
     "text": [
      " 66%|██████▌   | 2633/4015 [05:24<02:30,  9.16it/s]"
     ]
    },
    {
     "name": "stdout",
     "output_type": "stream",
     "text": [
      "55K0724.json\n",
      "55K0737.json\n"
     ]
    },
    {
     "name": "stderr",
     "output_type": "stream",
     "text": [
      " 67%|██████▋   | 2672/4015 [05:26<01:48, 12.36it/s]"
     ]
    },
    {
     "name": "stdout",
     "output_type": "stream",
     "text": [
      "55K2080.json\n"
     ]
    },
    {
     "name": "stderr",
     "output_type": "stream",
     "text": [
      " 68%|██████▊   | 2742/4015 [05:37<05:06,  4.15it/s]"
     ]
    },
    {
     "name": "stdout",
     "output_type": "stream",
     "text": [
      "55K4037.json\n"
     ]
    },
    {
     "name": "stderr",
     "output_type": "stream",
     "text": [
      " 69%|██████▉   | 2775/4015 [05:38<01:50, 11.21it/s]"
     ]
    },
    {
     "name": "stdout",
     "output_type": "stream",
     "text": [
      "55K0976.json\n"
     ]
    },
    {
     "name": "stderr",
     "output_type": "stream",
     "text": [
      " 70%|███████   | 2811/4015 [05:41<01:36, 12.43it/s]"
     ]
    },
    {
     "name": "stdout",
     "output_type": "stream",
     "text": [
      "55K1594.json\n"
     ]
    },
    {
     "name": "stderr",
     "output_type": "stream",
     "text": [
      " 70%|███████   | 2828/4015 [05:44<02:29,  7.92it/s]"
     ]
    },
    {
     "name": "stdout",
     "output_type": "stream",
     "text": [
      "55K0876.json\n"
     ]
    },
    {
     "name": "stderr",
     "output_type": "stream",
     "text": [
      " 71%|███████   | 2839/4015 [05:45<02:25,  8.11it/s]WARNING:root:More than 1 concept found? ['persoon met een lichamelijke beperking', 'persoon met een verstandelijke beperking', 'persoon met een verstandelijke beperking', 'faciliteiten voor mensen met een beperking', 'werknemer met een beperking', 'buitengewoon onderwijs']\n",
      "Picking first one.\n",
      " 72%|███████▏  | 2879/4015 [05:53<02:07,  8.90it/s]"
     ]
    },
    {
     "name": "stdout",
     "output_type": "stream",
     "text": [
      "55K2599.json\n"
     ]
    },
    {
     "name": "stderr",
     "output_type": "stream",
     "text": [
      " 73%|███████▎  | 2919/4015 [05:57<02:01,  9.01it/s]WARNING:root:More than 1 concept found? ['overheidsopdrachten', 'Overeenkomst inzake overheidsopdrachten', 'overheidsopdracht voor leveringen', 'overheidsopdracht voor werken', 'groene overheidsopdracht']\n",
      "Picking first one.\n",
      " 73%|███████▎  | 2924/4015 [05:59<03:06,  5.85it/s]"
     ]
    },
    {
     "name": "stdout",
     "output_type": "stream",
     "text": [
      "55K1927.json\n"
     ]
    },
    {
     "name": "stderr",
     "output_type": "stream",
     "text": [
      " 73%|███████▎  | 2942/4015 [06:02<02:48,  6.38it/s]"
     ]
    },
    {
     "name": "stdout",
     "output_type": "stream",
     "text": [
      "55K0753.json\n",
      "55K0590.json\n"
     ]
    },
    {
     "name": "stderr",
     "output_type": "stream",
     "text": [
      " 75%|███████▌  | 3026/4015 [06:05<01:05, 15.04it/s]"
     ]
    },
    {
     "name": "stdout",
     "output_type": "stream",
     "text": [
      "55K2636.json\n"
     ]
    },
    {
     "name": "stderr",
     "output_type": "stream",
     "text": [
      " 76%|███████▌  | 3044/4015 [06:10<03:05,  5.23it/s]"
     ]
    },
    {
     "name": "stdout",
     "output_type": "stream",
     "text": [
      "55K2925.json\n",
      "55K0962.json\n",
      "55K2203.json\n"
     ]
    },
    {
     "name": "stderr",
     "output_type": "stream",
     "text": [
      " 77%|███████▋  | 3089/4015 [06:11<01:09, 13.24it/s]"
     ]
    },
    {
     "name": "stdout",
     "output_type": "stream",
     "text": [
      "55K2085.json\n"
     ]
    },
    {
     "name": "stderr",
     "output_type": "stream",
     "text": [
      " 78%|███████▊  | 3121/4015 [06:14<01:10, 12.72it/s]WARNING:root:More than 1 concept found? ['persoon met een lichamelijke beperking', 'persoon met een verstandelijke beperking', 'persoon met een verstandelijke beperking', 'faciliteiten voor mensen met een beperking', 'werknemer met een beperking', 'buitengewoon onderwijs']\n",
      "Picking first one.\n",
      " 79%|███████▊  | 3157/4015 [06:23<02:02,  7.00it/s]"
     ]
    },
    {
     "name": "stdout",
     "output_type": "stream",
     "text": [
      "55K0788.json\n"
     ]
    },
    {
     "name": "stderr",
     "output_type": "stream",
     "text": [
      " 80%|███████▉  | 3195/4015 [06:27<01:42,  8.01it/s]"
     ]
    },
    {
     "name": "stdout",
     "output_type": "stream",
     "text": [
      "55K2132.json\n",
      "55K0953.json\n"
     ]
    },
    {
     "name": "stderr",
     "output_type": "stream",
     "text": [
      " 80%|███████▉  | 3204/4015 [06:28<01:27,  9.24it/s]"
     ]
    },
    {
     "name": "stdout",
     "output_type": "stream",
     "text": [
      "55K2421.json\n"
     ]
    },
    {
     "name": "stderr",
     "output_type": "stream",
     "text": [
      " 80%|████████  | 3227/4015 [06:33<02:38,  4.98it/s]"
     ]
    },
    {
     "name": "stdout",
     "output_type": "stream",
     "text": [
      "55K3158.json\n"
     ]
    },
    {
     "name": "stderr",
     "output_type": "stream",
     "text": [
      " 81%|████████  | 3236/4015 [06:34<01:50,  7.04it/s]"
     ]
    },
    {
     "name": "stdout",
     "output_type": "stream",
     "text": [
      "55K0684.json\n"
     ]
    },
    {
     "name": "stderr",
     "output_type": "stream",
     "text": [
      " 81%|████████▏ | 3263/4015 [06:37<01:17,  9.71it/s]WARNING:root:More than 1 concept found? ['overheidsopdrachten', 'Overeenkomst inzake overheidsopdrachten', 'overheidsopdracht voor leveringen', 'overheidsopdracht voor werken', 'groene overheidsopdracht']\n",
      "Picking first one.\n",
      " 81%|████████▏ | 3265/4015 [06:38<02:05,  6.00it/s]"
     ]
    },
    {
     "name": "stdout",
     "output_type": "stream",
     "text": [
      "55K2607.json\n",
      "55K1946.json\n"
     ]
    },
    {
     "name": "stderr",
     "output_type": "stream",
     "text": [
      " 82%|████████▏ | 3297/4015 [06:42<01:27,  8.22it/s]"
     ]
    },
    {
     "name": "stdout",
     "output_type": "stream",
     "text": [
      "55K2393.json\n"
     ]
    },
    {
     "name": "stderr",
     "output_type": "stream",
     "text": [
      " 83%|████████▎ | 3321/4015 [06:43<00:53, 12.96it/s]"
     ]
    },
    {
     "name": "stdout",
     "output_type": "stream",
     "text": [
      "55K1443.json\n"
     ]
    },
    {
     "name": "stderr",
     "output_type": "stream",
     "text": [
      " 83%|████████▎ | 3331/4015 [06:44<01:09,  9.85it/s]WARNING:root:More than 1 concept found? ['persoon met een lichamelijke beperking', 'persoon met een verstandelijke beperking', 'persoon met een verstandelijke beperking', 'faciliteiten voor mensen met een beperking', 'werknemer met een beperking', 'buitengewoon onderwijs']\n",
      "Picking first one.\n",
      " 83%|████████▎ | 3333/4015 [06:48<03:31,  3.22it/s]"
     ]
    },
    {
     "name": "stdout",
     "output_type": "stream",
     "text": [
      "55K2214.json\n"
     ]
    },
    {
     "name": "stderr",
     "output_type": "stream",
     "text": [
      " 83%|████████▎ | 3338/4015 [06:51<04:10,  2.70it/s]"
     ]
    },
    {
     "name": "stdout",
     "output_type": "stream",
     "text": [
      "55K2098.json\n"
     ]
    },
    {
     "name": "stderr",
     "output_type": "stream",
     "text": [
      " 85%|████████▌ | 3420/4015 [06:56<01:06,  8.89it/s]"
     ]
    },
    {
     "name": "stdout",
     "output_type": "stream",
     "text": [
      "55K1544.json\n"
     ]
    },
    {
     "name": "stderr",
     "output_type": "stream",
     "text": [
      " 86%|████████▌ | 3439/4015 [06:59<01:20,  7.20it/s]"
     ]
    },
    {
     "name": "stdout",
     "output_type": "stream",
     "text": [
      "55K1610.json\n"
     ]
    },
    {
     "name": "stderr",
     "output_type": "stream",
     "text": [
      " 86%|████████▌ | 3459/4015 [07:01<01:24,  6.57it/s]"
     ]
    },
    {
     "name": "stdout",
     "output_type": "stream",
     "text": [
      "55K0377.json\n"
     ]
    },
    {
     "name": "stderr",
     "output_type": "stream",
     "text": [
      " 87%|████████▋ | 3496/4015 [07:03<00:38, 13.54it/s]"
     ]
    },
    {
     "name": "stdout",
     "output_type": "stream",
     "text": [
      "55K2518.json\n",
      "55K0385.json\n"
     ]
    },
    {
     "name": "stderr",
     "output_type": "stream",
     "text": [
      " 88%|████████▊ | 3552/4015 [07:07<00:26, 17.31it/s]"
     ]
    },
    {
     "name": "stdout",
     "output_type": "stream",
     "text": [
      "55K2617.json\n"
     ]
    },
    {
     "name": "stderr",
     "output_type": "stream",
     "text": [
      " 89%|████████▉ | 3573/4015 [07:08<00:30, 14.32it/s]"
     ]
    },
    {
     "name": "stdout",
     "output_type": "stream",
     "text": [
      "55K2731.json\n"
     ]
    },
    {
     "name": "stderr",
     "output_type": "stream",
     "text": [
      " 90%|█████████ | 3616/4015 [07:16<00:55,  7.24it/s]"
     ]
    },
    {
     "name": "stdout",
     "output_type": "stream",
     "text": [
      "55K2843.json\n"
     ]
    },
    {
     "name": "stderr",
     "output_type": "stream",
     "text": [
      "WARNING:root:More than 1 concept found? ['persoon met een lichamelijke beperking', 'persoon met een verstandelijke beperking', 'persoon met een verstandelijke beperking', 'faciliteiten voor mensen met een beperking', 'werknemer met een beperking', 'buitengewoon onderwijs']\n",
      "Picking first one.\n",
      " 91%|█████████ | 3636/4015 [07:23<01:53,  3.34it/s]WARNING:root:More than 1 concept found? ['persoon met een lichamelijke beperking', 'persoon met een verstandelijke beperking', 'persoon met een verstandelijke beperking', 'faciliteiten voor mensen met een beperking', 'werknemer met een beperking', 'buitengewoon onderwijs']\n",
      "Picking first one.\n",
      " 91%|█████████ | 3637/4015 [07:25<02:57,  2.13it/s]WARNING:root:More than 1 concept found? ['personeelsbenoeming', 'benoeming van de leden', 'benoemingsbevoegdheid']\n",
      "Picking first one.\n",
      " 91%|█████████ | 3656/4015 [07:31<01:56,  3.09it/s]"
     ]
    },
    {
     "name": "stdout",
     "output_type": "stream",
     "text": [
      "55K0917.json\n",
      "55K2921.json\n"
     ]
    },
    {
     "name": "stderr",
     "output_type": "stream",
     "text": [
      " 92%|█████████▏| 3709/4015 [07:34<00:31,  9.57it/s]WARNING:root:More than 1 concept found? ['personeelsbenoeming', 'benoeming van de leden', 'benoemingsbevoegdheid']\n",
      "Picking first one.\n",
      " 93%|█████████▎| 3723/4015 [07:39<00:53,  5.48it/s]WARNING:root:More than 1 concept found? ['Europese Autoriteit voor verzekeringen en bedrijfspensioenen', 'cumuleren van pensioenen']\n",
      "Picking first one.\n",
      " 93%|█████████▎| 3725/4015 [07:41<01:09,  4.20it/s]"
     ]
    },
    {
     "name": "stdout",
     "output_type": "stream",
     "text": [
      "55K2223.json\n"
     ]
    },
    {
     "name": "stderr",
     "output_type": "stream",
     "text": [
      " 93%|█████████▎| 3754/4015 [07:42<00:28,  9.00it/s]"
     ]
    },
    {
     "name": "stdout",
     "output_type": "stream",
     "text": [
      "55K0751.json\n"
     ]
    },
    {
     "name": "stderr",
     "output_type": "stream",
     "text": [
      " 95%|█████████▌| 3825/4015 [07:53<00:33,  5.72it/s]"
     ]
    },
    {
     "name": "stdout",
     "output_type": "stream",
     "text": [
      "55K2211.json\n"
     ]
    },
    {
     "name": "stderr",
     "output_type": "stream",
     "text": [
      "WARNING:root:More than 1 concept found? ['Eurogroep (NAVO)', 'Eurogroep (eurozone)']\n",
      "Picking first one.\n",
      " 97%|█████████▋| 3876/4015 [08:00<00:22,  6.13it/s]WARNING:root:More than 1 concept found? ['overheidsopdrachten', 'Overeenkomst inzake overheidsopdrachten', 'overheidsopdracht voor leveringen', 'overheidsopdracht voor werken', 'groene overheidsopdracht']\n",
      "Picking first one.\n",
      " 97%|█████████▋| 3886/4015 [08:05<00:35,  3.60it/s]"
     ]
    },
    {
     "name": "stdout",
     "output_type": "stream",
     "text": [
      "55K2443.json\n"
     ]
    },
    {
     "name": "stderr",
     "output_type": "stream",
     "text": [
      " 97%|█████████▋| 3897/4015 [08:07<00:29,  3.96it/s]"
     ]
    },
    {
     "name": "stdout",
     "output_type": "stream",
     "text": [
      "55K2949.json\n"
     ]
    },
    {
     "name": "stderr",
     "output_type": "stream",
     "text": [
      " 97%|█████████▋| 3907/4015 [08:09<00:25,  4.21it/s]"
     ]
    },
    {
     "name": "stdout",
     "output_type": "stream",
     "text": [
      "55K2408.json\n"
     ]
    },
    {
     "name": "stderr",
     "output_type": "stream",
     "text": [
      "100%|██████████| 4015/4015 [08:17<00:00,  8.07it/s]\n"
     ]
    }
   ],
   "source": [
    "# Pseudocode\n",
    "from collections import defaultdict\n",
    "from tqdm import tqdm\n",
    "from common.text_corrections import fix_name\n",
    "\n",
    "\n",
    "parties_to_domains = defaultdict(lambda: defaultdict(int))\n",
    "for stukname, kamerstuk in tqdm(kamerstukken):\n",
    "    try:\n",
    "        hoofddescriptor = kamerstuk[\"Descriptoren, trefwoorden\"][\"Eurovoc-hoofddescriptor\"][\"NL\"]\n",
    "        auteurs = kamerstuk[\"Kamer en/of Senaat\"][\"Hoofddocument\"][-1][\"Auteur\"]\n",
    "\n",
    "        try:\n",
    "            domain = get_domain(hoofddescriptor)\n",
    "        except ValueError:\n",
    "            domain = hoofddescriptor\n",
    "        parties_seen = set()\n",
    "        for auteur in auteurs:\n",
    "            if auteur[\"Partij\"] == \"ZZZ\":\n",
    "                parties_to_domains[\"ZZZ\"][domain] += 1\n",
    "            else:\n",
    "                name = fix_name(f\"{auteur['Naam']} {auteur['Voornaam']}\", swap_first_last_name=False)\n",
    "                if name in name_to_party:\n",
    "                    party = name_to_party[name]\n",
    "                else:\n",
    "                    party = auteur[\"Partij\"]\n",
    "                if party not in parties_seen:\n",
    "                    parties_to_domains[party][domain] += 1\n",
    "                    parties_seen.add(party)\n",
    "    except KeyError:\n",
    "        print(stukname)\n"
   ]
  },
  {
   "cell_type": "code",
   "execution_count": 38,
   "metadata": {},
   "outputs": [
    {
     "data": {
      "text/plain": [
       "defaultdict(<function __main__.<lambda>()>,\n",
       "            {'ZZZ': defaultdict(int,\n",
       "                         {'08 INTERNATIONALE BETREKKINGEN': 98,\n",
       "                          '66 ENERGIE': 55,\n",
       "                          '28 SOCIALE VRAAGSTUKKEN': 158,\n",
       "                          '32 OPVOEDING, ONDERWIJS EN COMMUNICATIE': 31,\n",
       "                          '04 POLITIEK': 87,\n",
       "                          '12 RECHT': 121,\n",
       "                          '24 FINANCIËN': 146,\n",
       "                          '44 WERKGELEGENHEID EN ARBEID': 49,\n",
       "                          '48 TRANSPORT': 21,\n",
       "                          '52 MILIEU': 22,\n",
       "                          '40 ONDERNEMING EN CONCURRENTIE': 11,\n",
       "                          'GEESTELIJK GEHANDICAPTE': 1,\n",
       "                          '72 GEOGRAFIE': 3,\n",
       "                          '16 ECONOMIE': 19,\n",
       "                          '20 ECONOMIE, VERKEER EN HANDELSVERKEER': 20,\n",
       "                          '68 INDUSTRIE': 8,\n",
       "                          'PROGRAMMAWET': 5,\n",
       "                          '76 INTERNATIONALE ORGANISATIES': 10,\n",
       "                          '36 WETENSCHAPPEN': 3,\n",
       "                          '10 EUROPESE UNIE': 7,\n",
       "                          'NOTARIAAT': 1,\n",
       "                          'OPENBAARHEID VAN BESTUUR': 1,\n",
       "                          'RECHTERLIJKE INRICHTING': 3,\n",
       "                          '56 LANDBOUW, BOSBOUW, EN VISSERIJ': 7,\n",
       "                          '64 PRODUCTIE, TECHNOLOGIE EN ONDERZOEK': 4,\n",
       "                          'FACILITEITEN VOOR GEHANDICAPTEN': 3,\n",
       "                          'BELGISCH REKENHOF': 3,\n",
       "                          'HOGE RAAD VOOR DE JUSTITIE': 1,\n",
       "                          'RISICOPREVENTIE': 1,\n",
       "                          'CREG': 1,\n",
       "                          'JUSTITIELE SAMENWERKING EU': 1}),\n",
       "             'CD&V': defaultdict(int,\n",
       "                         {'76 INTERNATIONALE ORGANISATIES': 2,\n",
       "                          '28 SOCIALE VRAAGSTUKKEN': 386,\n",
       "                          '10 EUROPESE UNIE': 16,\n",
       "                          '04 POLITIEK': 97,\n",
       "                          '66 ENERGIE': 19,\n",
       "                          '40 ONDERNEMING EN CONCURRENTIE': 35,\n",
       "                          '12 RECHT': 128,\n",
       "                          '08 INTERNATIONALE BETREKKINGEN': 44,\n",
       "                          '72 GEOGRAFIE': 15,\n",
       "                          '48 TRANSPORT': 54,\n",
       "                          '32 OPVOEDING, ONDERWIJS EN COMMUNICATIE': 58,\n",
       "                          '24 FINANCIËN': 109,\n",
       "                          '16 ECONOMIE': 33,\n",
       "                          '20 ECONOMIE, VERKEER EN HANDELSVERKEER': 31,\n",
       "                          '44 WERKGELEGENHEID EN ARBEID': 59,\n",
       "                          'DEMOCRATISCHE REPUBLIEK KONGO': 3,\n",
       "                          '68 INDUSTRIE': 6,\n",
       "                          'COMITE P EN I': 1,\n",
       "                          'RECHTERLIJKE INRICHTING': 1,\n",
       "                          '36 WETENSCHAPPEN': 2,\n",
       "                          '52 MILIEU': 3,\n",
       "                          '60 LANDBOUWVOEDINGSMIDDELEN': 7}),\n",
       "             'VB': defaultdict(int,\n",
       "                         {'08 INTERNATIONALE BETREKKINGEN': 75,\n",
       "                          '28 SOCIALE VRAAGSTUKKEN': 164,\n",
       "                          '04 POLITIEK': 266,\n",
       "                          '40 ONDERNEMING EN CONCURRENTIE': 8,\n",
       "                          '66 ENERGIE': 20,\n",
       "                          '48 TRANSPORT': 35,\n",
       "                          '72 GEOGRAFIE': 62,\n",
       "                          '12 RECHT': 178,\n",
       "                          '44 WERKGELEGENHEID EN ARBEID': 26,\n",
       "                          '32 OPVOEDING, ONDERWIJS EN COMMUNICATIE': 17,\n",
       "                          '24 FINANCIËN': 29,\n",
       "                          '60 LANDBOUWVOEDINGSMIDDELEN': 4,\n",
       "                          '76 INTERNATIONALE ORGANISATIES': 7,\n",
       "                          'OPENBAARHEID VAN BESTUUR': 3,\n",
       "                          '52 MILIEU': 4,\n",
       "                          '20 ECONOMIE, VERKEER EN HANDELSVERKEER': 3,\n",
       "                          '16 ECONOMIE': 17,\n",
       "                          'TIBETKWESTIE': 6,\n",
       "                          'VLUCHTELINGENCENTRUM': 5}),\n",
       "             'Les Engagés': defaultdict(int,\n",
       "                         {'48 TRANSPORT': 29,\n",
       "                          '44 WERKGELEGENHEID EN ARBEID': 29,\n",
       "                          '28 SOCIALE VRAAGSTUKKEN': 133,\n",
       "                          '24 FINANCIËN': 102,\n",
       "                          '08 INTERNATIONALE BETREKKINGEN': 17,\n",
       "                          '16 ECONOMIE': 19,\n",
       "                          '12 RECHT': 61,\n",
       "                          '04 POLITIEK': 83,\n",
       "                          '20 ECONOMIE, VERKEER EN HANDELSVERKEER': 11,\n",
       "                          '60 LANDBOUWVOEDINGSMIDDELEN': 9,\n",
       "                          '52 MILIEU': 15,\n",
       "                          '32 OPVOEDING, ONDERWIJS EN COMMUNICATIE': 8,\n",
       "                          '10 EUROPESE UNIE': 1,\n",
       "                          '72 GEOGRAFIE': 11,\n",
       "                          '68 INDUSTRIE': 5,\n",
       "                          '66 ENERGIE': 6,\n",
       "                          '56 LANDBOUW, BOSBOUW, EN VISSERIJ': 11}),\n",
       "             'Vooruit': defaultdict(int,\n",
       "                         {'08 INTERNATIONALE BETREKKINGEN': 54,\n",
       "                          '28 SOCIALE VRAAGSTUKKEN': 227,\n",
       "                          '10 EUROPESE UNIE': 6,\n",
       "                          '04 POLITIEK': 45,\n",
       "                          '66 ENERGIE': 27,\n",
       "                          '12 RECHT': 112,\n",
       "                          '52 MILIEU': 14,\n",
       "                          '32 OPVOEDING, ONDERWIJS EN COMMUNICATIE': 24,\n",
       "                          '24 FINANCIËN': 78,\n",
       "                          '72 GEOGRAFIE': 10,\n",
       "                          '20 ECONOMIE, VERKEER EN HANDELSVERKEER': 17,\n",
       "                          '48 TRANSPORT': 25,\n",
       "                          '60 LANDBOUWVOEDINGSMIDDELEN': 1,\n",
       "                          '16 ECONOMIE': 17,\n",
       "                          '44 WERKGELEGENHEID EN ARBEID': 60,\n",
       "                          '40 ONDERNEMING EN CONCURRENTIE': 15,\n",
       "                          '56 LANDBOUW, BOSBOUW, EN VISSERIJ': 3,\n",
       "                          'DEMOCRATISCHE REPUBLIEK KONGO': 2,\n",
       "                          'COMITE P EN I': 1,\n",
       "                          '68 INDUSTRIE': 5,\n",
       "                          '76 INTERNATIONALE ORGANISATIES': 2}),\n",
       "             'Open Vld': defaultdict(int,\n",
       "                         {'12 RECHT': 134,\n",
       "                          '28 SOCIALE VRAAGSTUKKEN': 129,\n",
       "                          '04 POLITIEK': 98,\n",
       "                          '44 WERKGELEGENHEID EN ARBEID': 54,\n",
       "                          '76 INTERNATIONALE ORGANISATIES': 2,\n",
       "                          '08 INTERNATIONALE BETREKKINGEN': 27,\n",
       "                          '72 GEOGRAFIE': 15,\n",
       "                          '60 LANDBOUWVOEDINGSMIDDELEN': 2,\n",
       "                          '48 TRANSPORT': 29,\n",
       "                          '24 FINANCIËN': 32,\n",
       "                          '16 ECONOMIE': 22,\n",
       "                          '10 EUROPESE UNIE': 13,\n",
       "                          '66 ENERGIE': 11,\n",
       "                          '52 MILIEU': 11,\n",
       "                          'COMITE P EN COMITE I': 1,\n",
       "                          '64 PRODUCTIE, TECHNOLOGIE EN ONDERZOEK': 4,\n",
       "                          '32 OPVOEDING, ONDERWIJS EN COMMUNICATIE': 7,\n",
       "                          '56 LANDBOUW, BOSBOUW, EN VISSERIJ': 1,\n",
       "                          '20 ECONOMIE, VERKEER EN HANDELSVERKEER': 8,\n",
       "                          '40 ONDERNEMING EN CONCURRENTIE': 9,\n",
       "                          'DEMOCRATISCHE REPUBLIEK KONGO': 1,\n",
       "                          'COMITE P EN I': 1,\n",
       "                          'GEESTELIJK GEHANDICAPTE': 3,\n",
       "                          '68 INDUSTRIE': 3}),\n",
       "             'N-VA': defaultdict(int,\n",
       "                         {'28 SOCIALE VRAAGSTUKKEN': 383,\n",
       "                          '60 LANDBOUWVOEDINGSMIDDELEN': 10,\n",
       "                          '48 TRANSPORT': 120,\n",
       "                          '04 POLITIEK': 316,\n",
       "                          '32 OPVOEDING, ONDERWIJS EN COMMUNICATIE': 47,\n",
       "                          'NMBS': 6,\n",
       "                          '08 INTERNATIONALE BETREKKINGEN': 119,\n",
       "                          '12 RECHT': 313,\n",
       "                          '20 ECONOMIE, VERKEER EN HANDELSVERKEER': 26,\n",
       "                          'OPENBAARHEID VAN BESTUUR': 10,\n",
       "                          '24 FINANCIËN': 102,\n",
       "                          '44 WERKGELEGENHEID EN ARBEID': 79,\n",
       "                          '10 EUROPESE UNIE': 25,\n",
       "                          '16 ECONOMIE': 18,\n",
       "                          '64 PRODUCTIE, TECHNOLOGIE EN ONDERZOEK': 4,\n",
       "                          '66 ENERGIE': 70,\n",
       "                          '76 INTERNATIONALE ORGANISATIES': 15,\n",
       "                          '40 ONDERNEMING EN CONCURRENTIE': 24,\n",
       "                          '72 GEOGRAFIE': 62,\n",
       "                          '68 INDUSTRIE': 1,\n",
       "                          'RECHTERLIJKE INRICHTING': 1,\n",
       "                          '52 MILIEU': 5,\n",
       "                          'BELGISCH GRONDWETTELIJK HOF': 3,\n",
       "                          '56 LANDBOUW, BOSBOUW, EN VISSERIJ': 5,\n",
       "                          'QUATAR': 3}),\n",
       "             'MR': defaultdict(int,\n",
       "                         {'24 FINANCIËN': 61,\n",
       "                          '28 SOCIALE VRAAGSTUKKEN': 231,\n",
       "                          '72 GEOGRAFIE': 32,\n",
       "                          '04 POLITIEK': 138,\n",
       "                          '40 ONDERNEMING EN CONCURRENTIE': 19,\n",
       "                          '66 ENERGIE': 15,\n",
       "                          '44 WERKGELEGENHEID EN ARBEID': 33,\n",
       "                          '12 RECHT': 108,\n",
       "                          '76 INTERNATIONALE ORGANISATIES': 9,\n",
       "                          '16 ECONOMIE': 33,\n",
       "                          '08 INTERNATIONALE BETREKKINGEN': 66,\n",
       "                          '52 MILIEU': 11,\n",
       "                          'DEMOCRATISCHE REPUBLIEK KONGO': 2,\n",
       "                          '32 OPVOEDING, ONDERWIJS EN COMMUNICATIE': 16,\n",
       "                          '48 TRANSPORT': 42,\n",
       "                          '64 PRODUCTIE, TECHNOLOGIE EN ONDERZOEK': 1,\n",
       "                          '10 EUROPESE UNIE': 5,\n",
       "                          '68 INDUSTRIE': 1,\n",
       "                          'COMITE P EN I': 1,\n",
       "                          'RECHTERLIJKE INRICHTING': 1,\n",
       "                          '60 LANDBOUWVOEDINGSMIDDELEN': 3,\n",
       "                          '20 ECONOMIE, VERKEER EN HANDELSVERKEER': 18}),\n",
       "             'Groen': defaultdict(int,\n",
       "                         {'24 FINANCIËN': 46,\n",
       "                          '28 SOCIALE VRAAGSTUKKEN': 151,\n",
       "                          '04 POLITIEK': 76,\n",
       "                          '32 OPVOEDING, ONDERWIJS EN COMMUNICATIE': 31,\n",
       "                          '12 RECHT': 76,\n",
       "                          '52 MILIEU': 43,\n",
       "                          '08 INTERNATIONALE BETREKKINGEN': 45,\n",
       "                          '72 GEOGRAFIE': 18,\n",
       "                          '40 ONDERNEMING EN CONCURRENTIE': 5,\n",
       "                          '10 EUROPESE UNIE': 13,\n",
       "                          '16 ECONOMIE': 14,\n",
       "                          '48 TRANSPORT': 45,\n",
       "                          '36 WETENSCHAPPEN': 1,\n",
       "                          '20 ECONOMIE, VERKEER EN HANDELSVERKEER': 6,\n",
       "                          '44 WERKGELEGENHEID EN ARBEID': 29,\n",
       "                          '66 ENERGIE': 20,\n",
       "                          'DEMOCRATISCHE REPUBLIEK KONGO': 2,\n",
       "                          'BUITENGRENS VAN DE GEMEENSCHAP': 1,\n",
       "                          'OPENBAARHEID VAN BESTUUR': 1,\n",
       "                          '68 INDUSTRIE': 1,\n",
       "                          'COMITE P EN I': 1,\n",
       "                          'INTERNERING': 4,\n",
       "                          'TAX SHELTER': 1,\n",
       "                          '76 INTERNATIONALE ORGANISATIES': 2,\n",
       "                          'QUATAR': 1,\n",
       "                          '60 LANDBOUWVOEDINGSMIDDELEN': 4,\n",
       "                          '56 LANDBOUW, BOSBOUW, EN VISSERIJ': 2}),\n",
       "             'Ecolo': defaultdict(int,\n",
       "                         {'24 FINANCIËN': 63,\n",
       "                          '28 SOCIALE VRAAGSTUKKEN': 199,\n",
       "                          '44 WERKGELEGENHEID EN ARBEID': 43,\n",
       "                          '04 POLITIEK': 98,\n",
       "                          '32 OPVOEDING, ONDERWIJS EN COMMUNICATIE': 43,\n",
       "                          '52 MILIEU': 68,\n",
       "                          '08 INTERNATIONALE BETREKKINGEN': 71,\n",
       "                          '72 GEOGRAFIE': 22,\n",
       "                          '40 ONDERNEMING EN CONCURRENTIE': 5,\n",
       "                          '16 ECONOMIE': 12,\n",
       "                          '48 TRANSPORT': 56,\n",
       "                          '36 WETENSCHAPPEN': 1,\n",
       "                          '12 RECHT': 109,\n",
       "                          '66 ENERGIE': 40,\n",
       "                          '20 ECONOMIE, VERKEER EN HANDELSVERKEER': 9,\n",
       "                          'DEMOCRATISCHE REPUBLIEK KONGO': 2,\n",
       "                          'BUITENGRENS VAN DE GEMEENSCHAP': 1,\n",
       "                          'OPENBAARHEID VAN BESTUUR': 2,\n",
       "                          '10 EUROPESE UNIE': 6,\n",
       "                          '68 INDUSTRIE': 1,\n",
       "                          'COMITE P EN I': 1,\n",
       "                          'INTERNERING': 5,\n",
       "                          'TAX SHELTER': 1,\n",
       "                          '76 INTERNATIONALE ORGANISATIES': 2,\n",
       "                          'QUATAR': 1,\n",
       "                          '60 LANDBOUWVOEDINGSMIDDELEN': 6,\n",
       "                          '56 LANDBOUW, BOSBOUW, EN VISSERIJ': 4}),\n",
       "             'PS': defaultdict(int,\n",
       "                         {'28 SOCIALE VRAAGSTUKKEN': 545,\n",
       "                          '24 FINANCIËN': 183,\n",
       "                          '04 POLITIEK': 167,\n",
       "                          '66 ENERGIE': 58,\n",
       "                          '08 INTERNATIONALE BETREKKINGEN': 86,\n",
       "                          '12 RECHT': 284,\n",
       "                          '10 EUROPESE UNIE': 51,\n",
       "                          '52 MILIEU': 49,\n",
       "                          '32 OPVOEDING, ONDERWIJS EN COMMUNICATIE': 57,\n",
       "                          '48 TRANSPORT': 57,\n",
       "                          '20 ECONOMIE, VERKEER EN HANDELSVERKEER': 78,\n",
       "                          '72 GEOGRAFIE': 42,\n",
       "                          '16 ECONOMIE': 61,\n",
       "                          '44 WERKGELEGENHEID EN ARBEID': 163,\n",
       "                          '40 ONDERNEMING EN CONCURRENTIE': 36,\n",
       "                          '76 INTERNATIONALE ORGANISATIES': 16,\n",
       "                          'BUITENGRENS VAN DE GEMEENSCHAP': 1,\n",
       "                          '60 LANDBOUWVOEDINGSMIDDELEN': 4,\n",
       "                          '68 INDUSTRIE': 7,\n",
       "                          '56 LANDBOUW, BOSBOUW, EN VISSERIJ': 10,\n",
       "                          'DEMOCRATISCHE REPUBLIEK KONGO': 8,\n",
       "                          'COMITE P EN I': 1,\n",
       "                          'SCHENDING VAN HET COMMUNAUTAIR RECHT': 1,\n",
       "                          'EG COMMISSIE': 1}),\n",
       "             'PTB': defaultdict(int,\n",
       "                         {'24 FINANCIËN': 65,\n",
       "                          '04 POLITIEK': 119,\n",
       "                          '66 ENERGIE': 46,\n",
       "                          '48 TRANSPORT': 33,\n",
       "                          '44 WERKGELEGENHEID EN ARBEID': 78,\n",
       "                          '08 INTERNATIONALE BETREKKINGEN': 35,\n",
       "                          '28 SOCIALE VRAAGSTUKKEN': 115,\n",
       "                          '72 GEOGRAFIE': 14,\n",
       "                          '32 OPVOEDING, ONDERWIJS EN COMMUNICATIE': 21,\n",
       "                          '16 ECONOMIE': 21,\n",
       "                          '52 MILIEU': 17,\n",
       "                          '12 RECHT': 47,\n",
       "                          '20 ECONOMIE, VERKEER EN HANDELSVERKEER': 7,\n",
       "                          'GEMEENSCHAPPELIJK DEFENSIEBELEID': 3,\n",
       "                          '10 EUROPESE UNIE': 9}),\n",
       "             'PVDA': defaultdict(int,\n",
       "                         {'24 FINANCIËN': 28,\n",
       "                          '66 ENERGIE': 22,\n",
       "                          '44 WERKGELEGENHEID EN ARBEID': 17,\n",
       "                          '08 INTERNATIONALE BETREKKINGEN': 18,\n",
       "                          '28 SOCIALE VRAAGSTUKKEN': 33,\n",
       "                          '72 GEOGRAFIE': 4,\n",
       "                          '04 POLITIEK': 24,\n",
       "                          '32 OPVOEDING, ONDERWIJS EN COMMUNICATIE': 7,\n",
       "                          '16 ECONOMIE': 10,\n",
       "                          '48 TRANSPORT': 4,\n",
       "                          '52 MILIEU': 11,\n",
       "                          '12 RECHT': 19,\n",
       "                          '20 ECONOMIE, VERKEER EN HANDELSVERKEER': 1,\n",
       "                          'GEMEENSCHAPPELIJK DEFENSIEBELEID': 3,\n",
       "                          '10 EUROPESE UNIE': 2}),\n",
       "             'DéFI': defaultdict(int,\n",
       "                         {'24 FINANCIËN': 11,\n",
       "                          '28 SOCIALE VRAAGSTUKKEN': 56,\n",
       "                          '08 INTERNATIONALE BETREKKINGEN': 17,\n",
       "                          '32 OPVOEDING, ONDERWIJS EN COMMUNICATIE': 8,\n",
       "                          'RECHTERLIJKE INRICHTING': 4,\n",
       "                          '04 POLITIEK': 26,\n",
       "                          '12 RECHT': 44,\n",
       "                          '48 TRANSPORT': 4,\n",
       "                          '52 MILIEU': 8,\n",
       "                          '44 WERKGELEGENHEID EN ARBEID': 2,\n",
       "                          '68 INDUSTRIE': 1,\n",
       "                          '72 GEOGRAFIE': 6,\n",
       "                          '66 ENERGIE': 4}),\n",
       "             'cd&v': defaultdict(int,\n",
       "                         {'04 POLITIEK': 1, '28 SOCIALE VRAAGSTUKKEN': 1})})"
      ]
     },
     "execution_count": 38,
     "metadata": {},
     "output_type": "execute_result"
    }
   ],
   "source": [
    "parties_to_domains"
   ]
  },
  {
   "cell_type": "code",
   "execution_count": 42,
   "metadata": {},
   "outputs": [
    {
     "data": {
      "application/vnd.plotly.v1+json": {
       "config": {
        "plotlyServerURL": "https://plot.ly"
       },
       "data": [
        {
         "name": "ZZZ",
         "type": "bar",
         "x": [
          "08 INTERNATIONALE BETREKKINGEN",
          "66 ENERGIE",
          "28 SOCIALE VRAAGSTUKKEN",
          "32 OPVOEDING, ONDERWIJS EN COMMUNICATIE",
          "04 POLITIEK",
          "12 RECHT",
          "24 FINANCIËN",
          "44 WERKGELEGENHEID EN ARBEID",
          "48 TRANSPORT",
          "52 MILIEU",
          "40 ONDERNEMING EN CONCURRENTIE",
          "GEESTELIJK GEHANDICAPTE",
          "72 GEOGRAFIE",
          "16 ECONOMIE",
          "20 ECONOMIE, VERKEER EN HANDELSVERKEER",
          "68 INDUSTRIE",
          "PROGRAMMAWET",
          "76 INTERNATIONALE ORGANISATIES",
          "36 WETENSCHAPPEN",
          "10 EUROPESE UNIE",
          "NOTARIAAT",
          "OPENBAARHEID VAN BESTUUR",
          "RECHTERLIJKE INRICHTING",
          "56 LANDBOUW, BOSBOUW, EN VISSERIJ",
          "64 PRODUCTIE, TECHNOLOGIE EN ONDERZOEK",
          "FACILITEITEN VOOR GEHANDICAPTEN",
          "BELGISCH REKENHOF",
          "HOGE RAAD VOOR DE JUSTITIE",
          "RISICOPREVENTIE",
          "CREG",
          "JUSTITIELE SAMENWERKING EU"
         ],
         "y": [
          98,
          55,
          158,
          31,
          87,
          121,
          146,
          49,
          21,
          22,
          11,
          1,
          3,
          19,
          20,
          8,
          5,
          10,
          3,
          7,
          1,
          1,
          3,
          7,
          4,
          3,
          3,
          1,
          1,
          1,
          1
         ]
        },
        {
         "name": "CD&V",
         "type": "bar",
         "x": [
          "76 INTERNATIONALE ORGANISATIES",
          "28 SOCIALE VRAAGSTUKKEN",
          "10 EUROPESE UNIE",
          "04 POLITIEK",
          "66 ENERGIE",
          "40 ONDERNEMING EN CONCURRENTIE",
          "12 RECHT",
          "08 INTERNATIONALE BETREKKINGEN",
          "72 GEOGRAFIE",
          "48 TRANSPORT",
          "32 OPVOEDING, ONDERWIJS EN COMMUNICATIE",
          "24 FINANCIËN",
          "16 ECONOMIE",
          "20 ECONOMIE, VERKEER EN HANDELSVERKEER",
          "44 WERKGELEGENHEID EN ARBEID",
          "DEMOCRATISCHE REPUBLIEK KONGO",
          "68 INDUSTRIE",
          "COMITE P EN I",
          "RECHTERLIJKE INRICHTING",
          "36 WETENSCHAPPEN",
          "52 MILIEU",
          "60 LANDBOUWVOEDINGSMIDDELEN"
         ],
         "y": [
          2,
          386,
          16,
          97,
          19,
          35,
          128,
          44,
          15,
          54,
          58,
          109,
          33,
          31,
          59,
          3,
          6,
          1,
          1,
          2,
          3,
          7
         ]
        },
        {
         "name": "VB",
         "type": "bar",
         "x": [
          "08 INTERNATIONALE BETREKKINGEN",
          "28 SOCIALE VRAAGSTUKKEN",
          "04 POLITIEK",
          "40 ONDERNEMING EN CONCURRENTIE",
          "66 ENERGIE",
          "48 TRANSPORT",
          "72 GEOGRAFIE",
          "12 RECHT",
          "44 WERKGELEGENHEID EN ARBEID",
          "32 OPVOEDING, ONDERWIJS EN COMMUNICATIE",
          "24 FINANCIËN",
          "60 LANDBOUWVOEDINGSMIDDELEN",
          "76 INTERNATIONALE ORGANISATIES",
          "OPENBAARHEID VAN BESTUUR",
          "52 MILIEU",
          "20 ECONOMIE, VERKEER EN HANDELSVERKEER",
          "16 ECONOMIE",
          "TIBETKWESTIE",
          "VLUCHTELINGENCENTRUM"
         ],
         "y": [
          75,
          164,
          266,
          8,
          20,
          35,
          62,
          178,
          26,
          17,
          29,
          4,
          7,
          3,
          4,
          3,
          17,
          6,
          5
         ]
        },
        {
         "name": "Les Engagés",
         "type": "bar",
         "x": [
          "48 TRANSPORT",
          "44 WERKGELEGENHEID EN ARBEID",
          "28 SOCIALE VRAAGSTUKKEN",
          "24 FINANCIËN",
          "08 INTERNATIONALE BETREKKINGEN",
          "16 ECONOMIE",
          "12 RECHT",
          "04 POLITIEK",
          "20 ECONOMIE, VERKEER EN HANDELSVERKEER",
          "60 LANDBOUWVOEDINGSMIDDELEN",
          "52 MILIEU",
          "32 OPVOEDING, ONDERWIJS EN COMMUNICATIE",
          "10 EUROPESE UNIE",
          "72 GEOGRAFIE",
          "68 INDUSTRIE",
          "66 ENERGIE",
          "56 LANDBOUW, BOSBOUW, EN VISSERIJ"
         ],
         "y": [
          29,
          29,
          133,
          102,
          17,
          19,
          61,
          83,
          11,
          9,
          15,
          8,
          1,
          11,
          5,
          6,
          11
         ]
        },
        {
         "name": "Vooruit",
         "type": "bar",
         "x": [
          "08 INTERNATIONALE BETREKKINGEN",
          "28 SOCIALE VRAAGSTUKKEN",
          "10 EUROPESE UNIE",
          "04 POLITIEK",
          "66 ENERGIE",
          "12 RECHT",
          "52 MILIEU",
          "32 OPVOEDING, ONDERWIJS EN COMMUNICATIE",
          "24 FINANCIËN",
          "72 GEOGRAFIE",
          "20 ECONOMIE, VERKEER EN HANDELSVERKEER",
          "48 TRANSPORT",
          "60 LANDBOUWVOEDINGSMIDDELEN",
          "16 ECONOMIE",
          "44 WERKGELEGENHEID EN ARBEID",
          "40 ONDERNEMING EN CONCURRENTIE",
          "56 LANDBOUW, BOSBOUW, EN VISSERIJ",
          "DEMOCRATISCHE REPUBLIEK KONGO",
          "COMITE P EN I",
          "68 INDUSTRIE",
          "76 INTERNATIONALE ORGANISATIES"
         ],
         "y": [
          54,
          227,
          6,
          45,
          27,
          112,
          14,
          24,
          78,
          10,
          17,
          25,
          1,
          17,
          60,
          15,
          3,
          2,
          1,
          5,
          2
         ]
        },
        {
         "name": "Open Vld",
         "type": "bar",
         "x": [
          "12 RECHT",
          "28 SOCIALE VRAAGSTUKKEN",
          "04 POLITIEK",
          "44 WERKGELEGENHEID EN ARBEID",
          "76 INTERNATIONALE ORGANISATIES",
          "08 INTERNATIONALE BETREKKINGEN",
          "72 GEOGRAFIE",
          "60 LANDBOUWVOEDINGSMIDDELEN",
          "48 TRANSPORT",
          "24 FINANCIËN",
          "16 ECONOMIE",
          "10 EUROPESE UNIE",
          "66 ENERGIE",
          "52 MILIEU",
          "COMITE P EN COMITE I",
          "64 PRODUCTIE, TECHNOLOGIE EN ONDERZOEK",
          "32 OPVOEDING, ONDERWIJS EN COMMUNICATIE",
          "56 LANDBOUW, BOSBOUW, EN VISSERIJ",
          "20 ECONOMIE, VERKEER EN HANDELSVERKEER",
          "40 ONDERNEMING EN CONCURRENTIE",
          "DEMOCRATISCHE REPUBLIEK KONGO",
          "COMITE P EN I",
          "GEESTELIJK GEHANDICAPTE",
          "68 INDUSTRIE"
         ],
         "y": [
          134,
          129,
          98,
          54,
          2,
          27,
          15,
          2,
          29,
          32,
          22,
          13,
          11,
          11,
          1,
          4,
          7,
          1,
          8,
          9,
          1,
          1,
          3,
          3
         ]
        },
        {
         "name": "N-VA",
         "type": "bar",
         "x": [
          "28 SOCIALE VRAAGSTUKKEN",
          "60 LANDBOUWVOEDINGSMIDDELEN",
          "48 TRANSPORT",
          "04 POLITIEK",
          "32 OPVOEDING, ONDERWIJS EN COMMUNICATIE",
          "NMBS",
          "08 INTERNATIONALE BETREKKINGEN",
          "12 RECHT",
          "20 ECONOMIE, VERKEER EN HANDELSVERKEER",
          "OPENBAARHEID VAN BESTUUR",
          "24 FINANCIËN",
          "44 WERKGELEGENHEID EN ARBEID",
          "10 EUROPESE UNIE",
          "16 ECONOMIE",
          "64 PRODUCTIE, TECHNOLOGIE EN ONDERZOEK",
          "66 ENERGIE",
          "76 INTERNATIONALE ORGANISATIES",
          "40 ONDERNEMING EN CONCURRENTIE",
          "72 GEOGRAFIE",
          "68 INDUSTRIE",
          "RECHTERLIJKE INRICHTING",
          "52 MILIEU",
          "BELGISCH GRONDWETTELIJK HOF",
          "56 LANDBOUW, BOSBOUW, EN VISSERIJ",
          "QUATAR"
         ],
         "y": [
          383,
          10,
          120,
          316,
          47,
          6,
          119,
          313,
          26,
          10,
          102,
          79,
          25,
          18,
          4,
          70,
          15,
          24,
          62,
          1,
          1,
          5,
          3,
          5,
          3
         ]
        },
        {
         "name": "MR",
         "type": "bar",
         "x": [
          "24 FINANCIËN",
          "28 SOCIALE VRAAGSTUKKEN",
          "72 GEOGRAFIE",
          "04 POLITIEK",
          "40 ONDERNEMING EN CONCURRENTIE",
          "66 ENERGIE",
          "44 WERKGELEGENHEID EN ARBEID",
          "12 RECHT",
          "76 INTERNATIONALE ORGANISATIES",
          "16 ECONOMIE",
          "08 INTERNATIONALE BETREKKINGEN",
          "52 MILIEU",
          "DEMOCRATISCHE REPUBLIEK KONGO",
          "32 OPVOEDING, ONDERWIJS EN COMMUNICATIE",
          "48 TRANSPORT",
          "64 PRODUCTIE, TECHNOLOGIE EN ONDERZOEK",
          "10 EUROPESE UNIE",
          "68 INDUSTRIE",
          "COMITE P EN I",
          "RECHTERLIJKE INRICHTING",
          "60 LANDBOUWVOEDINGSMIDDELEN",
          "20 ECONOMIE, VERKEER EN HANDELSVERKEER"
         ],
         "y": [
          61,
          231,
          32,
          138,
          19,
          15,
          33,
          108,
          9,
          33,
          66,
          11,
          2,
          16,
          42,
          1,
          5,
          1,
          1,
          1,
          3,
          18
         ]
        },
        {
         "name": "Groen",
         "type": "bar",
         "x": [
          "24 FINANCIËN",
          "28 SOCIALE VRAAGSTUKKEN",
          "04 POLITIEK",
          "32 OPVOEDING, ONDERWIJS EN COMMUNICATIE",
          "12 RECHT",
          "52 MILIEU",
          "08 INTERNATIONALE BETREKKINGEN",
          "72 GEOGRAFIE",
          "40 ONDERNEMING EN CONCURRENTIE",
          "10 EUROPESE UNIE",
          "16 ECONOMIE",
          "48 TRANSPORT",
          "36 WETENSCHAPPEN",
          "20 ECONOMIE, VERKEER EN HANDELSVERKEER",
          "44 WERKGELEGENHEID EN ARBEID",
          "66 ENERGIE",
          "DEMOCRATISCHE REPUBLIEK KONGO",
          "BUITENGRENS VAN DE GEMEENSCHAP",
          "OPENBAARHEID VAN BESTUUR",
          "68 INDUSTRIE",
          "COMITE P EN I",
          "INTERNERING",
          "TAX SHELTER",
          "76 INTERNATIONALE ORGANISATIES",
          "QUATAR",
          "60 LANDBOUWVOEDINGSMIDDELEN",
          "56 LANDBOUW, BOSBOUW, EN VISSERIJ"
         ],
         "y": [
          46,
          151,
          76,
          31,
          76,
          43,
          45,
          18,
          5,
          13,
          14,
          45,
          1,
          6,
          29,
          20,
          2,
          1,
          1,
          1,
          1,
          4,
          1,
          2,
          1,
          4,
          2
         ]
        },
        {
         "name": "Ecolo",
         "type": "bar",
         "x": [
          "24 FINANCIËN",
          "28 SOCIALE VRAAGSTUKKEN",
          "44 WERKGELEGENHEID EN ARBEID",
          "04 POLITIEK",
          "32 OPVOEDING, ONDERWIJS EN COMMUNICATIE",
          "52 MILIEU",
          "08 INTERNATIONALE BETREKKINGEN",
          "72 GEOGRAFIE",
          "40 ONDERNEMING EN CONCURRENTIE",
          "16 ECONOMIE",
          "48 TRANSPORT",
          "36 WETENSCHAPPEN",
          "12 RECHT",
          "66 ENERGIE",
          "20 ECONOMIE, VERKEER EN HANDELSVERKEER",
          "DEMOCRATISCHE REPUBLIEK KONGO",
          "BUITENGRENS VAN DE GEMEENSCHAP",
          "OPENBAARHEID VAN BESTUUR",
          "10 EUROPESE UNIE",
          "68 INDUSTRIE",
          "COMITE P EN I",
          "INTERNERING",
          "TAX SHELTER",
          "76 INTERNATIONALE ORGANISATIES",
          "QUATAR",
          "60 LANDBOUWVOEDINGSMIDDELEN",
          "56 LANDBOUW, BOSBOUW, EN VISSERIJ"
         ],
         "y": [
          63,
          199,
          43,
          98,
          43,
          68,
          71,
          22,
          5,
          12,
          56,
          1,
          109,
          40,
          9,
          2,
          1,
          2,
          6,
          1,
          1,
          5,
          1,
          2,
          1,
          6,
          4
         ]
        },
        {
         "name": "PS",
         "type": "bar",
         "x": [
          "28 SOCIALE VRAAGSTUKKEN",
          "24 FINANCIËN",
          "04 POLITIEK",
          "66 ENERGIE",
          "08 INTERNATIONALE BETREKKINGEN",
          "12 RECHT",
          "10 EUROPESE UNIE",
          "52 MILIEU",
          "32 OPVOEDING, ONDERWIJS EN COMMUNICATIE",
          "48 TRANSPORT",
          "20 ECONOMIE, VERKEER EN HANDELSVERKEER",
          "72 GEOGRAFIE",
          "16 ECONOMIE",
          "44 WERKGELEGENHEID EN ARBEID",
          "40 ONDERNEMING EN CONCURRENTIE",
          "76 INTERNATIONALE ORGANISATIES",
          "BUITENGRENS VAN DE GEMEENSCHAP",
          "60 LANDBOUWVOEDINGSMIDDELEN",
          "68 INDUSTRIE",
          "56 LANDBOUW, BOSBOUW, EN VISSERIJ",
          "DEMOCRATISCHE REPUBLIEK KONGO",
          "COMITE P EN I",
          "SCHENDING VAN HET COMMUNAUTAIR RECHT",
          "EG COMMISSIE"
         ],
         "y": [
          545,
          183,
          167,
          58,
          86,
          284,
          51,
          49,
          57,
          57,
          78,
          42,
          61,
          163,
          36,
          16,
          1,
          4,
          7,
          10,
          8,
          1,
          1,
          1
         ]
        },
        {
         "name": "PTB",
         "type": "bar",
         "x": [
          "24 FINANCIËN",
          "04 POLITIEK",
          "66 ENERGIE",
          "48 TRANSPORT",
          "44 WERKGELEGENHEID EN ARBEID",
          "08 INTERNATIONALE BETREKKINGEN",
          "28 SOCIALE VRAAGSTUKKEN",
          "72 GEOGRAFIE",
          "32 OPVOEDING, ONDERWIJS EN COMMUNICATIE",
          "16 ECONOMIE",
          "52 MILIEU",
          "12 RECHT",
          "20 ECONOMIE, VERKEER EN HANDELSVERKEER",
          "GEMEENSCHAPPELIJK DEFENSIEBELEID",
          "10 EUROPESE UNIE"
         ],
         "y": [
          65,
          119,
          46,
          33,
          78,
          35,
          115,
          14,
          21,
          21,
          17,
          47,
          7,
          3,
          9
         ]
        },
        {
         "name": "PVDA",
         "type": "bar",
         "x": [
          "24 FINANCIËN",
          "66 ENERGIE",
          "44 WERKGELEGENHEID EN ARBEID",
          "08 INTERNATIONALE BETREKKINGEN",
          "28 SOCIALE VRAAGSTUKKEN",
          "72 GEOGRAFIE",
          "04 POLITIEK",
          "32 OPVOEDING, ONDERWIJS EN COMMUNICATIE",
          "16 ECONOMIE",
          "48 TRANSPORT",
          "52 MILIEU",
          "12 RECHT",
          "20 ECONOMIE, VERKEER EN HANDELSVERKEER",
          "GEMEENSCHAPPELIJK DEFENSIEBELEID",
          "10 EUROPESE UNIE"
         ],
         "y": [
          28,
          22,
          17,
          18,
          33,
          4,
          24,
          7,
          10,
          4,
          11,
          19,
          1,
          3,
          2
         ]
        },
        {
         "name": "DéFI",
         "type": "bar",
         "x": [
          "24 FINANCIËN",
          "28 SOCIALE VRAAGSTUKKEN",
          "08 INTERNATIONALE BETREKKINGEN",
          "32 OPVOEDING, ONDERWIJS EN COMMUNICATIE",
          "RECHTERLIJKE INRICHTING",
          "04 POLITIEK",
          "12 RECHT",
          "48 TRANSPORT",
          "52 MILIEU",
          "44 WERKGELEGENHEID EN ARBEID",
          "68 INDUSTRIE",
          "72 GEOGRAFIE",
          "66 ENERGIE"
         ],
         "y": [
          11,
          56,
          17,
          8,
          4,
          26,
          44,
          4,
          8,
          2,
          1,
          6,
          4
         ]
        },
        {
         "name": "cd&v",
         "type": "bar",
         "x": [
          "04 POLITIEK",
          "28 SOCIALE VRAAGSTUKKEN"
         ],
         "y": [
          1,
          1
         ]
        }
       ],
       "layout": {
        "barmode": "group",
        "height": 800,
        "template": {
         "data": {
          "bar": [
           {
            "error_x": {
             "color": "#2a3f5f"
            },
            "error_y": {
             "color": "#2a3f5f"
            },
            "marker": {
             "line": {
              "color": "#E5ECF6",
              "width": 0.5
             },
             "pattern": {
              "fillmode": "overlay",
              "size": 10,
              "solidity": 0.2
             }
            },
            "type": "bar"
           }
          ],
          "barpolar": [
           {
            "marker": {
             "line": {
              "color": "#E5ECF6",
              "width": 0.5
             },
             "pattern": {
              "fillmode": "overlay",
              "size": 10,
              "solidity": 0.2
             }
            },
            "type": "barpolar"
           }
          ],
          "carpet": [
           {
            "aaxis": {
             "endlinecolor": "#2a3f5f",
             "gridcolor": "white",
             "linecolor": "white",
             "minorgridcolor": "white",
             "startlinecolor": "#2a3f5f"
            },
            "baxis": {
             "endlinecolor": "#2a3f5f",
             "gridcolor": "white",
             "linecolor": "white",
             "minorgridcolor": "white",
             "startlinecolor": "#2a3f5f"
            },
            "type": "carpet"
           }
          ],
          "choropleth": [
           {
            "colorbar": {
             "outlinewidth": 0,
             "ticks": ""
            },
            "type": "choropleth"
           }
          ],
          "contour": [
           {
            "colorbar": {
             "outlinewidth": 0,
             "ticks": ""
            },
            "colorscale": [
             [
              0,
              "#0d0887"
             ],
             [
              0.1111111111111111,
              "#46039f"
             ],
             [
              0.2222222222222222,
              "#7201a8"
             ],
             [
              0.3333333333333333,
              "#9c179e"
             ],
             [
              0.4444444444444444,
              "#bd3786"
             ],
             [
              0.5555555555555556,
              "#d8576b"
             ],
             [
              0.6666666666666666,
              "#ed7953"
             ],
             [
              0.7777777777777778,
              "#fb9f3a"
             ],
             [
              0.8888888888888888,
              "#fdca26"
             ],
             [
              1,
              "#f0f921"
             ]
            ],
            "type": "contour"
           }
          ],
          "contourcarpet": [
           {
            "colorbar": {
             "outlinewidth": 0,
             "ticks": ""
            },
            "type": "contourcarpet"
           }
          ],
          "heatmap": [
           {
            "colorbar": {
             "outlinewidth": 0,
             "ticks": ""
            },
            "colorscale": [
             [
              0,
              "#0d0887"
             ],
             [
              0.1111111111111111,
              "#46039f"
             ],
             [
              0.2222222222222222,
              "#7201a8"
             ],
             [
              0.3333333333333333,
              "#9c179e"
             ],
             [
              0.4444444444444444,
              "#bd3786"
             ],
             [
              0.5555555555555556,
              "#d8576b"
             ],
             [
              0.6666666666666666,
              "#ed7953"
             ],
             [
              0.7777777777777778,
              "#fb9f3a"
             ],
             [
              0.8888888888888888,
              "#fdca26"
             ],
             [
              1,
              "#f0f921"
             ]
            ],
            "type": "heatmap"
           }
          ],
          "heatmapgl": [
           {
            "colorbar": {
             "outlinewidth": 0,
             "ticks": ""
            },
            "colorscale": [
             [
              0,
              "#0d0887"
             ],
             [
              0.1111111111111111,
              "#46039f"
             ],
             [
              0.2222222222222222,
              "#7201a8"
             ],
             [
              0.3333333333333333,
              "#9c179e"
             ],
             [
              0.4444444444444444,
              "#bd3786"
             ],
             [
              0.5555555555555556,
              "#d8576b"
             ],
             [
              0.6666666666666666,
              "#ed7953"
             ],
             [
              0.7777777777777778,
              "#fb9f3a"
             ],
             [
              0.8888888888888888,
              "#fdca26"
             ],
             [
              1,
              "#f0f921"
             ]
            ],
            "type": "heatmapgl"
           }
          ],
          "histogram": [
           {
            "marker": {
             "pattern": {
              "fillmode": "overlay",
              "size": 10,
              "solidity": 0.2
             }
            },
            "type": "histogram"
           }
          ],
          "histogram2d": [
           {
            "colorbar": {
             "outlinewidth": 0,
             "ticks": ""
            },
            "colorscale": [
             [
              0,
              "#0d0887"
             ],
             [
              0.1111111111111111,
              "#46039f"
             ],
             [
              0.2222222222222222,
              "#7201a8"
             ],
             [
              0.3333333333333333,
              "#9c179e"
             ],
             [
              0.4444444444444444,
              "#bd3786"
             ],
             [
              0.5555555555555556,
              "#d8576b"
             ],
             [
              0.6666666666666666,
              "#ed7953"
             ],
             [
              0.7777777777777778,
              "#fb9f3a"
             ],
             [
              0.8888888888888888,
              "#fdca26"
             ],
             [
              1,
              "#f0f921"
             ]
            ],
            "type": "histogram2d"
           }
          ],
          "histogram2dcontour": [
           {
            "colorbar": {
             "outlinewidth": 0,
             "ticks": ""
            },
            "colorscale": [
             [
              0,
              "#0d0887"
             ],
             [
              0.1111111111111111,
              "#46039f"
             ],
             [
              0.2222222222222222,
              "#7201a8"
             ],
             [
              0.3333333333333333,
              "#9c179e"
             ],
             [
              0.4444444444444444,
              "#bd3786"
             ],
             [
              0.5555555555555556,
              "#d8576b"
             ],
             [
              0.6666666666666666,
              "#ed7953"
             ],
             [
              0.7777777777777778,
              "#fb9f3a"
             ],
             [
              0.8888888888888888,
              "#fdca26"
             ],
             [
              1,
              "#f0f921"
             ]
            ],
            "type": "histogram2dcontour"
           }
          ],
          "mesh3d": [
           {
            "colorbar": {
             "outlinewidth": 0,
             "ticks": ""
            },
            "type": "mesh3d"
           }
          ],
          "parcoords": [
           {
            "line": {
             "colorbar": {
              "outlinewidth": 0,
              "ticks": ""
             }
            },
            "type": "parcoords"
           }
          ],
          "pie": [
           {
            "automargin": true,
            "type": "pie"
           }
          ],
          "scatter": [
           {
            "fillpattern": {
             "fillmode": "overlay",
             "size": 10,
             "solidity": 0.2
            },
            "type": "scatter"
           }
          ],
          "scatter3d": [
           {
            "line": {
             "colorbar": {
              "outlinewidth": 0,
              "ticks": ""
             }
            },
            "marker": {
             "colorbar": {
              "outlinewidth": 0,
              "ticks": ""
             }
            },
            "type": "scatter3d"
           }
          ],
          "scattercarpet": [
           {
            "marker": {
             "colorbar": {
              "outlinewidth": 0,
              "ticks": ""
             }
            },
            "type": "scattercarpet"
           }
          ],
          "scattergeo": [
           {
            "marker": {
             "colorbar": {
              "outlinewidth": 0,
              "ticks": ""
             }
            },
            "type": "scattergeo"
           }
          ],
          "scattergl": [
           {
            "marker": {
             "colorbar": {
              "outlinewidth": 0,
              "ticks": ""
             }
            },
            "type": "scattergl"
           }
          ],
          "scattermapbox": [
           {
            "marker": {
             "colorbar": {
              "outlinewidth": 0,
              "ticks": ""
             }
            },
            "type": "scattermapbox"
           }
          ],
          "scatterpolar": [
           {
            "marker": {
             "colorbar": {
              "outlinewidth": 0,
              "ticks": ""
             }
            },
            "type": "scatterpolar"
           }
          ],
          "scatterpolargl": [
           {
            "marker": {
             "colorbar": {
              "outlinewidth": 0,
              "ticks": ""
             }
            },
            "type": "scatterpolargl"
           }
          ],
          "scatterternary": [
           {
            "marker": {
             "colorbar": {
              "outlinewidth": 0,
              "ticks": ""
             }
            },
            "type": "scatterternary"
           }
          ],
          "surface": [
           {
            "colorbar": {
             "outlinewidth": 0,
             "ticks": ""
            },
            "colorscale": [
             [
              0,
              "#0d0887"
             ],
             [
              0.1111111111111111,
              "#46039f"
             ],
             [
              0.2222222222222222,
              "#7201a8"
             ],
             [
              0.3333333333333333,
              "#9c179e"
             ],
             [
              0.4444444444444444,
              "#bd3786"
             ],
             [
              0.5555555555555556,
              "#d8576b"
             ],
             [
              0.6666666666666666,
              "#ed7953"
             ],
             [
              0.7777777777777778,
              "#fb9f3a"
             ],
             [
              0.8888888888888888,
              "#fdca26"
             ],
             [
              1,
              "#f0f921"
             ]
            ],
            "type": "surface"
           }
          ],
          "table": [
           {
            "cells": {
             "fill": {
              "color": "#EBF0F8"
             },
             "line": {
              "color": "white"
             }
            },
            "header": {
             "fill": {
              "color": "#C8D4E3"
             },
             "line": {
              "color": "white"
             }
            },
            "type": "table"
           }
          ]
         },
         "layout": {
          "annotationdefaults": {
           "arrowcolor": "#2a3f5f",
           "arrowhead": 0,
           "arrowwidth": 1
          },
          "autotypenumbers": "strict",
          "coloraxis": {
           "colorbar": {
            "outlinewidth": 0,
            "ticks": ""
           }
          },
          "colorscale": {
           "diverging": [
            [
             0,
             "#8e0152"
            ],
            [
             0.1,
             "#c51b7d"
            ],
            [
             0.2,
             "#de77ae"
            ],
            [
             0.3,
             "#f1b6da"
            ],
            [
             0.4,
             "#fde0ef"
            ],
            [
             0.5,
             "#f7f7f7"
            ],
            [
             0.6,
             "#e6f5d0"
            ],
            [
             0.7,
             "#b8e186"
            ],
            [
             0.8,
             "#7fbc41"
            ],
            [
             0.9,
             "#4d9221"
            ],
            [
             1,
             "#276419"
            ]
           ],
           "sequential": [
            [
             0,
             "#0d0887"
            ],
            [
             0.1111111111111111,
             "#46039f"
            ],
            [
             0.2222222222222222,
             "#7201a8"
            ],
            [
             0.3333333333333333,
             "#9c179e"
            ],
            [
             0.4444444444444444,
             "#bd3786"
            ],
            [
             0.5555555555555556,
             "#d8576b"
            ],
            [
             0.6666666666666666,
             "#ed7953"
            ],
            [
             0.7777777777777778,
             "#fb9f3a"
            ],
            [
             0.8888888888888888,
             "#fdca26"
            ],
            [
             1,
             "#f0f921"
            ]
           ],
           "sequentialminus": [
            [
             0,
             "#0d0887"
            ],
            [
             0.1111111111111111,
             "#46039f"
            ],
            [
             0.2222222222222222,
             "#7201a8"
            ],
            [
             0.3333333333333333,
             "#9c179e"
            ],
            [
             0.4444444444444444,
             "#bd3786"
            ],
            [
             0.5555555555555556,
             "#d8576b"
            ],
            [
             0.6666666666666666,
             "#ed7953"
            ],
            [
             0.7777777777777778,
             "#fb9f3a"
            ],
            [
             0.8888888888888888,
             "#fdca26"
            ],
            [
             1,
             "#f0f921"
            ]
           ]
          },
          "colorway": [
           "#636efa",
           "#EF553B",
           "#00cc96",
           "#ab63fa",
           "#FFA15A",
           "#19d3f3",
           "#FF6692",
           "#B6E880",
           "#FF97FF",
           "#FECB52"
          ],
          "font": {
           "color": "#2a3f5f"
          },
          "geo": {
           "bgcolor": "white",
           "lakecolor": "white",
           "landcolor": "#E5ECF6",
           "showlakes": true,
           "showland": true,
           "subunitcolor": "white"
          },
          "hoverlabel": {
           "align": "left"
          },
          "hovermode": "closest",
          "mapbox": {
           "style": "light"
          },
          "paper_bgcolor": "white",
          "plot_bgcolor": "#E5ECF6",
          "polar": {
           "angularaxis": {
            "gridcolor": "white",
            "linecolor": "white",
            "ticks": ""
           },
           "bgcolor": "#E5ECF6",
           "radialaxis": {
            "gridcolor": "white",
            "linecolor": "white",
            "ticks": ""
           }
          },
          "scene": {
           "xaxis": {
            "backgroundcolor": "#E5ECF6",
            "gridcolor": "white",
            "gridwidth": 2,
            "linecolor": "white",
            "showbackground": true,
            "ticks": "",
            "zerolinecolor": "white"
           },
           "yaxis": {
            "backgroundcolor": "#E5ECF6",
            "gridcolor": "white",
            "gridwidth": 2,
            "linecolor": "white",
            "showbackground": true,
            "ticks": "",
            "zerolinecolor": "white"
           },
           "zaxis": {
            "backgroundcolor": "#E5ECF6",
            "gridcolor": "white",
            "gridwidth": 2,
            "linecolor": "white",
            "showbackground": true,
            "ticks": "",
            "zerolinecolor": "white"
           }
          },
          "shapedefaults": {
           "line": {
            "color": "#2a3f5f"
           }
          },
          "ternary": {
           "aaxis": {
            "gridcolor": "white",
            "linecolor": "white",
            "ticks": ""
           },
           "baxis": {
            "gridcolor": "white",
            "linecolor": "white",
            "ticks": ""
           },
           "bgcolor": "#E5ECF6",
           "caxis": {
            "gridcolor": "white",
            "linecolor": "white",
            "ticks": ""
           }
          },
          "title": {
           "x": 0.05
          },
          "xaxis": {
           "automargin": true,
           "gridcolor": "white",
           "linecolor": "white",
           "ticks": "",
           "title": {
            "standoff": 15
           },
           "zerolinecolor": "white",
           "zerolinewidth": 2
          },
          "yaxis": {
           "automargin": true,
           "gridcolor": "white",
           "linecolor": "white",
           "ticks": "",
           "title": {
            "standoff": 15
           },
           "zerolinecolor": "white",
           "zerolinewidth": 2
          }
         }
        },
        "title": {
         "text": "Absolute Amounts per Subject by Party"
        },
        "xaxis": {
         "categoryorder": "total descending",
         "title": {
          "text": "Subject"
         }
        },
        "yaxis": {
         "title": {
          "text": "Amount"
         }
        }
       }
      }
     },
     "metadata": {},
     "output_type": "display_data"
    }
   ],
   "source": [
    "import plotly.graph_objects as go\n",
    "\n",
    "# Setup data for absolute amounts\n",
    "def plot_absolute(data):\n",
    "    fig = go.Figure()\n",
    "    for party, subjects in data.items():\n",
    "        fig.add_trace(go.Bar(\n",
    "            name=party,\n",
    "            x=list(subjects.keys()),\n",
    "            y=list(subjects.values()),\n",
    "        ))\n",
    "    fig.update_layout(\n",
    "        title=\"Absolute Amounts per Subject by Party\",\n",
    "        xaxis_title=\"Subject\",\n",
    "        yaxis_title=\"Amount\",\n",
    "        barmode='group',\n",
    "        xaxis={'categoryorder':'total descending'},\n",
    "        height=800\n",
    "    )\n",
    "    fig.show()\n",
    "\n",
    "plot_absolute(parties_to_domains)"
   ]
  },
  {
   "cell_type": "code",
   "execution_count": 48,
   "metadata": {},
   "outputs": [
    {
     "data": {
      "application/vnd.plotly.v1+json": {
       "config": {
        "plotlyServerURL": "https://plot.ly"
       },
       "data": [
        {
         "marker": {
          "color": "#1D1D1D"
         },
         "name": "ZZZ",
         "type": "bar",
         "x": [
          "08 INTERNATIONALE BETREKKINGEN",
          "66 ENERGIE",
          "28 SOCIALE VRAAGSTUKKEN",
          "32 OPVOEDING, ONDERWIJS EN COMMUNICATIE",
          "04 POLITIEK",
          "12 RECHT",
          "24 FINANCIËN",
          "44 WERKGELEGENHEID EN ARBEID",
          "48 TRANSPORT",
          "52 MILIEU",
          "40 ONDERNEMING EN CONCURRENTIE",
          "GEESTELIJK GEHANDICAPTE",
          "72 GEOGRAFIE",
          "16 ECONOMIE",
          "20 ECONOMIE, VERKEER EN HANDELSVERKEER",
          "68 INDUSTRIE",
          "PROGRAMMAWET",
          "76 INTERNATIONALE ORGANISATIES",
          "36 WETENSCHAPPEN",
          "10 EUROPESE UNIE",
          "NOTARIAAT",
          "OPENBAARHEID VAN BESTUUR",
          "RECHTERLIJKE INRICHTING",
          "56 LANDBOUW, BOSBOUW, EN VISSERIJ",
          "64 PRODUCTIE, TECHNOLOGIE EN ONDERZOEK",
          "FACILITEITEN VOOR GEHANDICAPTEN",
          "BELGISCH REKENHOF",
          "HOGE RAAD VOOR DE JUSTITIE",
          "RISICOPREVENTIE",
          "CREG",
          "JUSTITIELE SAMENWERKING EU"
         ],
         "y": [
          0.10876803551609324,
          0.06104328523862375,
          0.1753607103218646,
          0.03440621531631521,
          0.09655937846836848,
          0.13429522752497225,
          0.16204217536071033,
          0.05438401775804662,
          0.023307436182019976,
          0.0244173140954495,
          0.01220865704772475,
          0.0011098779134295228,
          0.003329633740288568,
          0.021087680355160933,
          0.022197558268590455,
          0.008879023307436182,
          0.005549389567147614,
          0.011098779134295227,
          0.003329633740288568,
          0.00776914539400666,
          0.0011098779134295228,
          0.0011098779134295228,
          0.003329633740288568,
          0.00776914539400666,
          0.004439511653718091,
          0.003329633740288568,
          0.003329633740288568,
          0.0011098779134295228,
          0.0011098779134295228,
          0.0011098779134295228,
          0.0011098779134295228
         ]
        },
        {
         "marker": {
          "color": "#FF6347"
         },
         "name": "CD&V",
         "type": "bar",
         "x": [
          "76 INTERNATIONALE ORGANISATIES",
          "28 SOCIALE VRAAGSTUKKEN",
          "10 EUROPESE UNIE",
          "04 POLITIEK",
          "66 ENERGIE",
          "40 ONDERNEMING EN CONCURRENTIE",
          "12 RECHT",
          "08 INTERNATIONALE BETREKKINGEN",
          "72 GEOGRAFIE",
          "48 TRANSPORT",
          "32 OPVOEDING, ONDERWIJS EN COMMUNICATIE",
          "24 FINANCIËN",
          "16 ECONOMIE",
          "20 ECONOMIE, VERKEER EN HANDELSVERKEER",
          "44 WERKGELEGENHEID EN ARBEID",
          "DEMOCRATISCHE REPUBLIEK KONGO",
          "68 INDUSTRIE",
          "COMITE P EN I",
          "RECHTERLIJKE INRICHTING",
          "36 WETENSCHAPPEN",
          "52 MILIEU",
          "60 LANDBOUWVOEDINGSMIDDELEN"
         ],
         "y": [
          0.0018034265103697023,
          0.3480613165013526,
          0.014427412082957619,
          0.08746618575293057,
          0.017132551848512173,
          0.031559963931469794,
          0.11541929666366095,
          0.03967538322813345,
          0.013525698827772768,
          0.04869251577998197,
          0.05229936880072137,
          0.09828674481514878,
          0.029756537421100092,
          0.027953110910730387,
          0.05320108205590622,
          0.002705139765554554,
          0.005410279531109108,
          0.0009017132551848512,
          0.0009017132551848512,
          0.0018034265103697023,
          0.002705139765554554,
          0.0063119927862939585
         ]
        },
        {
         "marker": {
          "color": "#000000"
         },
         "name": "VB",
         "type": "bar",
         "x": [
          "08 INTERNATIONALE BETREKKINGEN",
          "28 SOCIALE VRAAGSTUKKEN",
          "04 POLITIEK",
          "40 ONDERNEMING EN CONCURRENTIE",
          "66 ENERGIE",
          "48 TRANSPORT",
          "72 GEOGRAFIE",
          "12 RECHT",
          "44 WERKGELEGENHEID EN ARBEID",
          "32 OPVOEDING, ONDERWIJS EN COMMUNICATIE",
          "24 FINANCIËN",
          "60 LANDBOUWVOEDINGSMIDDELEN",
          "76 INTERNATIONALE ORGANISATIES",
          "OPENBAARHEID VAN BESTUUR",
          "52 MILIEU",
          "20 ECONOMIE, VERKEER EN HANDELSVERKEER",
          "16 ECONOMIE",
          "TIBETKWESTIE",
          "VLUCHTELINGENCENTRUM"
         ],
         "y": [
          0.08073196986006459,
          0.17653390742734124,
          0.28632938643702904,
          0.008611410118406888,
          0.021528525296017224,
          0.03767491926803014,
          0.06673842841765339,
          0.1916038751345533,
          0.02798708288482239,
          0.01829924650161464,
          0.031216361679224973,
          0.004305705059203444,
          0.007534983853606028,
          0.0032292787944025836,
          0.004305705059203444,
          0.0032292787944025836,
          0.01829924650161464,
          0.006458557588805167,
          0.005382131324004306
         ]
        },
        {
         "marker": {
          "color": "#FF8C00"
         },
         "name": "Les Engagés",
         "type": "bar",
         "x": [
          "48 TRANSPORT",
          "44 WERKGELEGENHEID EN ARBEID",
          "28 SOCIALE VRAAGSTUKKEN",
          "24 FINANCIËN",
          "08 INTERNATIONALE BETREKKINGEN",
          "16 ECONOMIE",
          "12 RECHT",
          "04 POLITIEK",
          "20 ECONOMIE, VERKEER EN HANDELSVERKEER",
          "60 LANDBOUWVOEDINGSMIDDELEN",
          "52 MILIEU",
          "32 OPVOEDING, ONDERWIJS EN COMMUNICATIE",
          "10 EUROPESE UNIE",
          "72 GEOGRAFIE",
          "68 INDUSTRIE",
          "66 ENERGIE",
          "56 LANDBOUW, BOSBOUW, EN VISSERIJ"
         ],
         "y": [
          0.05272727272727273,
          0.05272727272727273,
          0.24181818181818182,
          0.18545454545454546,
          0.03090909090909091,
          0.034545454545454546,
          0.11090909090909092,
          0.1509090909090909,
          0.02,
          0.016363636363636365,
          0.02727272727272727,
          0.014545454545454545,
          0.0018181818181818182,
          0.02,
          0.00909090909090909,
          0.01090909090909091,
          0.02
         ]
        },
        {
         "marker": {
          "color": "#DC143C"
         },
         "name": "Vooruit",
         "type": "bar",
         "x": [
          "08 INTERNATIONALE BETREKKINGEN",
          "28 SOCIALE VRAAGSTUKKEN",
          "10 EUROPESE UNIE",
          "04 POLITIEK",
          "66 ENERGIE",
          "12 RECHT",
          "52 MILIEU",
          "32 OPVOEDING, ONDERWIJS EN COMMUNICATIE",
          "24 FINANCIËN",
          "72 GEOGRAFIE",
          "20 ECONOMIE, VERKEER EN HANDELSVERKEER",
          "48 TRANSPORT",
          "60 LANDBOUWVOEDINGSMIDDELEN",
          "16 ECONOMIE",
          "44 WERKGELEGENHEID EN ARBEID",
          "40 ONDERNEMING EN CONCURRENTIE",
          "56 LANDBOUW, BOSBOUW, EN VISSERIJ",
          "DEMOCRATISCHE REPUBLIEK KONGO",
          "COMITE P EN I",
          "68 INDUSTRIE",
          "76 INTERNATIONALE ORGANISATIES"
         ],
         "y": [
          0.07248322147651007,
          0.3046979865771812,
          0.008053691275167786,
          0.06040268456375839,
          0.036241610738255034,
          0.15033557046979865,
          0.01879194630872483,
          0.032214765100671144,
          0.10469798657718121,
          0.013422818791946308,
          0.022818791946308724,
          0.03355704697986577,
          0.0013422818791946308,
          0.022818791946308724,
          0.08053691275167785,
          0.020134228187919462,
          0.004026845637583893,
          0.0026845637583892616,
          0.0013422818791946308,
          0.006711409395973154,
          0.0026845637583892616
         ]
        },
        {
         "marker": {
          "color": "#1E90FF"
         },
         "name": "Open Vld",
         "type": "bar",
         "x": [
          "12 RECHT",
          "28 SOCIALE VRAAGSTUKKEN",
          "04 POLITIEK",
          "44 WERKGELEGENHEID EN ARBEID",
          "76 INTERNATIONALE ORGANISATIES",
          "08 INTERNATIONALE BETREKKINGEN",
          "72 GEOGRAFIE",
          "60 LANDBOUWVOEDINGSMIDDELEN",
          "48 TRANSPORT",
          "24 FINANCIËN",
          "16 ECONOMIE",
          "10 EUROPESE UNIE",
          "66 ENERGIE",
          "52 MILIEU",
          "COMITE P EN COMITE I",
          "64 PRODUCTIE, TECHNOLOGIE EN ONDERZOEK",
          "32 OPVOEDING, ONDERWIJS EN COMMUNICATIE",
          "56 LANDBOUW, BOSBOUW, EN VISSERIJ",
          "20 ECONOMIE, VERKEER EN HANDELSVERKEER",
          "40 ONDERNEMING EN CONCURRENTIE",
          "DEMOCRATISCHE REPUBLIEK KONGO",
          "COMITE P EN I",
          "GEESTELIJK GEHANDICAPTE",
          "68 INDUSTRIE"
         ],
         "y": [
          0.2171799027552674,
          0.20907617504051865,
          0.15883306320907617,
          0.08752025931928688,
          0.0032414910858995136,
          0.04376012965964344,
          0.024311183144246355,
          0.0032414910858995136,
          0.04700162074554295,
          0.05186385737439222,
          0.03565640194489465,
          0.02106969205834684,
          0.017828200972447326,
          0.017828200972447326,
          0.0016207455429497568,
          0.006482982171799027,
          0.011345218800648298,
          0.0016207455429497568,
          0.012965964343598054,
          0.014586709886547812,
          0.0016207455429497568,
          0.0016207455429497568,
          0.004862236628849271,
          0.004862236628849271
         ]
        },
        {
         "marker": {
          "color": "#FFD700"
         },
         "name": "N-VA",
         "type": "bar",
         "x": [
          "28 SOCIALE VRAAGSTUKKEN",
          "60 LANDBOUWVOEDINGSMIDDELEN",
          "48 TRANSPORT",
          "04 POLITIEK",
          "32 OPVOEDING, ONDERWIJS EN COMMUNICATIE",
          "NMBS",
          "08 INTERNATIONALE BETREKKINGEN",
          "12 RECHT",
          "20 ECONOMIE, VERKEER EN HANDELSVERKEER",
          "OPENBAARHEID VAN BESTUUR",
          "24 FINANCIËN",
          "44 WERKGELEGENHEID EN ARBEID",
          "10 EUROPESE UNIE",
          "16 ECONOMIE",
          "64 PRODUCTIE, TECHNOLOGIE EN ONDERZOEK",
          "66 ENERGIE",
          "76 INTERNATIONALE ORGANISATIES",
          "40 ONDERNEMING EN CONCURRENTIE",
          "72 GEOGRAFIE",
          "68 INDUSTRIE",
          "RECHTERLIJKE INRICHTING",
          "52 MILIEU",
          "BELGISCH GRONDWETTELIJK HOF",
          "56 LANDBOUW, BOSBOUW, EN VISSERIJ",
          "QUATAR"
         ],
         "y": [
          0.21675155631013016,
          0.005659309564233163,
          0.06791171477079797,
          0.17883418222976796,
          0.02659875495189587,
          0.003395585738539898,
          0.06734578381437464,
          0.17713638936049803,
          0.014714204867006225,
          0.005659309564233163,
          0.057724957555178265,
          0.04470854555744199,
          0.014148273910582909,
          0.010186757215619695,
          0.0022637238256932655,
          0.039615166949632144,
          0.008488964346349746,
          0.013582342954159592,
          0.03508771929824561,
          0.0005659309564233164,
          0.0005659309564233164,
          0.0028296547821165816,
          0.001697792869269949,
          0.0028296547821165816,
          0.001697792869269949
         ]
        },
        {
         "marker": {
          "color": "#87CEEB"
         },
         "name": "MR",
         "type": "bar",
         "x": [
          "24 FINANCIËN",
          "28 SOCIALE VRAAGSTUKKEN",
          "72 GEOGRAFIE",
          "04 POLITIEK",
          "40 ONDERNEMING EN CONCURRENTIE",
          "66 ENERGIE",
          "44 WERKGELEGENHEID EN ARBEID",
          "12 RECHT",
          "76 INTERNATIONALE ORGANISATIES",
          "16 ECONOMIE",
          "08 INTERNATIONALE BETREKKINGEN",
          "52 MILIEU",
          "DEMOCRATISCHE REPUBLIEK KONGO",
          "32 OPVOEDING, ONDERWIJS EN COMMUNICATIE",
          "48 TRANSPORT",
          "64 PRODUCTIE, TECHNOLOGIE EN ONDERZOEK",
          "10 EUROPESE UNIE",
          "68 INDUSTRIE",
          "COMITE P EN I",
          "RECHTERLIJKE INRICHTING",
          "60 LANDBOUWVOEDINGSMIDDELEN",
          "20 ECONOMIE, VERKEER EN HANDELSVERKEER"
         ],
         "y": [
          0.07210401891252956,
          0.2730496453900709,
          0.037825059101654845,
          0.16312056737588654,
          0.022458628841607566,
          0.01773049645390071,
          0.03900709219858156,
          0.1276595744680851,
          0.010638297872340425,
          0.03900709219858156,
          0.07801418439716312,
          0.013002364066193853,
          0.002364066193853428,
          0.018912529550827423,
          0.04964539007092199,
          0.001182033096926714,
          0.00591016548463357,
          0.001182033096926714,
          0.001182033096926714,
          0.001182033096926714,
          0.0035460992907801418,
          0.02127659574468085
         ]
        },
        {
         "marker": {
          "color": "#32CD32"
         },
         "name": "Groen",
         "type": "bar",
         "x": [
          "24 FINANCIËN",
          "28 SOCIALE VRAAGSTUKKEN",
          "04 POLITIEK",
          "32 OPVOEDING, ONDERWIJS EN COMMUNICATIE",
          "12 RECHT",
          "52 MILIEU",
          "08 INTERNATIONALE BETREKKINGEN",
          "72 GEOGRAFIE",
          "40 ONDERNEMING EN CONCURRENTIE",
          "10 EUROPESE UNIE",
          "16 ECONOMIE",
          "48 TRANSPORT",
          "36 WETENSCHAPPEN",
          "20 ECONOMIE, VERKEER EN HANDELSVERKEER",
          "44 WERKGELEGENHEID EN ARBEID",
          "66 ENERGIE",
          "DEMOCRATISCHE REPUBLIEK KONGO",
          "BUITENGRENS VAN DE GEMEENSCHAP",
          "OPENBAARHEID VAN BESTUUR",
          "68 INDUSTRIE",
          "COMITE P EN I",
          "INTERNERING",
          "TAX SHELTER",
          "76 INTERNATIONALE ORGANISATIES",
          "QUATAR",
          "60 LANDBOUWVOEDINGSMIDDELEN",
          "56 LANDBOUW, BOSBOUW, EN VISSERIJ"
         ],
         "y": [
          0.07198748043818466,
          0.23630672926447574,
          0.1189358372456964,
          0.048513302034428794,
          0.1189358372456964,
          0.06729264475743349,
          0.07042253521126761,
          0.028169014084507043,
          0.00782472613458529,
          0.02034428794992175,
          0.02190923317683881,
          0.07042253521126761,
          0.001564945226917058,
          0.009389671361502348,
          0.04538341158059468,
          0.03129890453834116,
          0.003129890453834116,
          0.001564945226917058,
          0.001564945226917058,
          0.001564945226917058,
          0.001564945226917058,
          0.006259780907668232,
          0.001564945226917058,
          0.003129890453834116,
          0.001564945226917058,
          0.006259780907668232,
          0.003129890453834116
         ]
        },
        {
         "marker": {
          "color": "#228B22"
         },
         "name": "Ecolo",
         "type": "bar",
         "x": [
          "24 FINANCIËN",
          "28 SOCIALE VRAAGSTUKKEN",
          "44 WERKGELEGENHEID EN ARBEID",
          "04 POLITIEK",
          "32 OPVOEDING, ONDERWIJS EN COMMUNICATIE",
          "52 MILIEU",
          "08 INTERNATIONALE BETREKKINGEN",
          "72 GEOGRAFIE",
          "40 ONDERNEMING EN CONCURRENTIE",
          "16 ECONOMIE",
          "48 TRANSPORT",
          "36 WETENSCHAPPEN",
          "12 RECHT",
          "66 ENERGIE",
          "20 ECONOMIE, VERKEER EN HANDELSVERKEER",
          "DEMOCRATISCHE REPUBLIEK KONGO",
          "BUITENGRENS VAN DE GEMEENSCHAP",
          "OPENBAARHEID VAN BESTUUR",
          "10 EUROPESE UNIE",
          "68 INDUSTRIE",
          "COMITE P EN I",
          "INTERNERING",
          "TAX SHELTER",
          "76 INTERNATIONALE ORGANISATIES",
          "QUATAR",
          "60 LANDBOUWVOEDINGSMIDDELEN",
          "56 LANDBOUW, BOSBOUW, EN VISSERIJ"
         ],
         "y": [
          0.07233065442020666,
          0.22847301951779564,
          0.04936854190585534,
          0.11251435132032148,
          0.04936854190585534,
          0.07807118254879448,
          0.08151549942594719,
          0.02525832376578645,
          0.0057405281285878304,
          0.013777267508610792,
          0.0642939150401837,
          0.001148105625717566,
          0.1251435132032147,
          0.045924225028702644,
          0.010332950631458095,
          0.002296211251435132,
          0.001148105625717566,
          0.002296211251435132,
          0.006888633754305396,
          0.001148105625717566,
          0.001148105625717566,
          0.0057405281285878304,
          0.001148105625717566,
          0.002296211251435132,
          0.001148105625717566,
          0.006888633754305396,
          0.004592422502870264
         ]
        },
        {
         "marker": {
          "color": "#B22222"
         },
         "name": "PS",
         "type": "bar",
         "x": [
          "28 SOCIALE VRAAGSTUKKEN",
          "24 FINANCIËN",
          "04 POLITIEK",
          "66 ENERGIE",
          "08 INTERNATIONALE BETREKKINGEN",
          "12 RECHT",
          "10 EUROPESE UNIE",
          "52 MILIEU",
          "32 OPVOEDING, ONDERWIJS EN COMMUNICATIE",
          "48 TRANSPORT",
          "20 ECONOMIE, VERKEER EN HANDELSVERKEER",
          "72 GEOGRAFIE",
          "16 ECONOMIE",
          "44 WERKGELEGENHEID EN ARBEID",
          "40 ONDERNEMING EN CONCURRENTIE",
          "76 INTERNATIONALE ORGANISATIES",
          "BUITENGRENS VAN DE GEMEENSCHAP",
          "60 LANDBOUWVOEDINGSMIDDELEN",
          "68 INDUSTRIE",
          "56 LANDBOUW, BOSBOUW, EN VISSERIJ",
          "DEMOCRATISCHE REPUBLIEK KONGO",
          "COMITE P EN I",
          "SCHENDING VAN HET COMMUNAUTAIR RECHT",
          "EG COMMISSIE"
         ],
         "y": [
          0.27721261444557477,
          0.0930824008138352,
          0.0849440488301119,
          0.029501525940996948,
          0.04374364191251272,
          0.14445574771108852,
          0.025940996948118005,
          0.024923702950152594,
          0.02899287894201424,
          0.02899287894201424,
          0.03967446592065107,
          0.021363173957273652,
          0.031027466937945065,
          0.08290946083418108,
          0.018311291963377416,
          0.008138351983723296,
          0.000508646998982706,
          0.002034587995930824,
          0.003560528992878942,
          0.00508646998982706,
          0.004069175991861648,
          0.000508646998982706,
          0.000508646998982706,
          0.000508646998982706
         ]
        },
        {
         "marker": {
          "color": "#CD5C5C"
         },
         "name": "PTB",
         "type": "bar",
         "x": [
          "24 FINANCIËN",
          "04 POLITIEK",
          "66 ENERGIE",
          "48 TRANSPORT",
          "44 WERKGELEGENHEID EN ARBEID",
          "08 INTERNATIONALE BETREKKINGEN",
          "28 SOCIALE VRAAGSTUKKEN",
          "72 GEOGRAFIE",
          "32 OPVOEDING, ONDERWIJS EN COMMUNICATIE",
          "16 ECONOMIE",
          "52 MILIEU",
          "12 RECHT",
          "20 ECONOMIE, VERKEER EN HANDELSVERKEER",
          "GEMEENSCHAPPELIJK DEFENSIEBELEID",
          "10 EUROPESE UNIE"
         ],
         "y": [
          0.10317460317460317,
          0.18888888888888888,
          0.07301587301587302,
          0.05238095238095238,
          0.12380952380952381,
          0.05555555555555555,
          0.18253968253968253,
          0.022222222222222223,
          0.03333333333333333,
          0.03333333333333333,
          0.026984126984126985,
          0.0746031746031746,
          0.011111111111111112,
          0.004761904761904762,
          0.014285714285714285
         ]
        },
        {
         "marker": {
          "color": "#FF0000"
         },
         "name": "PVDA",
         "type": "bar",
         "x": [
          "24 FINANCIËN",
          "66 ENERGIE",
          "44 WERKGELEGENHEID EN ARBEID",
          "08 INTERNATIONALE BETREKKINGEN",
          "28 SOCIALE VRAAGSTUKKEN",
          "72 GEOGRAFIE",
          "04 POLITIEK",
          "32 OPVOEDING, ONDERWIJS EN COMMUNICATIE",
          "16 ECONOMIE",
          "48 TRANSPORT",
          "52 MILIEU",
          "12 RECHT",
          "20 ECONOMIE, VERKEER EN HANDELSVERKEER",
          "GEMEENSCHAPPELIJK DEFENSIEBELEID",
          "10 EUROPESE UNIE"
         ],
         "y": [
          0.13793103448275862,
          0.10837438423645321,
          0.08374384236453201,
          0.08866995073891626,
          0.1625615763546798,
          0.019704433497536946,
          0.11822660098522167,
          0.034482758620689655,
          0.04926108374384237,
          0.019704433497536946,
          0.054187192118226604,
          0.09359605911330049,
          0.0049261083743842365,
          0.014778325123152709,
          0.009852216748768473
         ]
        },
        {
         "marker": {
          "color": "#FFA500"
         },
         "name": "DéFI",
         "type": "bar",
         "x": [
          "24 FINANCIËN",
          "28 SOCIALE VRAAGSTUKKEN",
          "08 INTERNATIONALE BETREKKINGEN",
          "32 OPVOEDING, ONDERWIJS EN COMMUNICATIE",
          "RECHTERLIJKE INRICHTING",
          "04 POLITIEK",
          "12 RECHT",
          "48 TRANSPORT",
          "52 MILIEU",
          "44 WERKGELEGENHEID EN ARBEID",
          "68 INDUSTRIE",
          "72 GEOGRAFIE",
          "66 ENERGIE"
         ],
         "y": [
          0.05759162303664921,
          0.2931937172774869,
          0.08900523560209424,
          0.041884816753926704,
          0.020942408376963352,
          0.13612565445026178,
          0.23036649214659685,
          0.020942408376963352,
          0.041884816753926704,
          0.010471204188481676,
          0.005235602094240838,
          0.031413612565445025,
          0.020942408376963352
         ]
        },
        {
         "marker": {
          "color": "#FFF"
         },
         "name": "cd&v",
         "type": "bar",
         "x": [
          "04 POLITIEK",
          "28 SOCIALE VRAAGSTUKKEN"
         ],
         "y": [
          0.5,
          0.5
         ]
        }
       ],
       "layout": {
        "barmode": "group",
        "height": 1080,
        "template": {
         "data": {
          "bar": [
           {
            "error_x": {
             "color": "#2a3f5f"
            },
            "error_y": {
             "color": "#2a3f5f"
            },
            "marker": {
             "line": {
              "color": "#E5ECF6",
              "width": 0.5
             },
             "pattern": {
              "fillmode": "overlay",
              "size": 10,
              "solidity": 0.2
             }
            },
            "type": "bar"
           }
          ],
          "barpolar": [
           {
            "marker": {
             "line": {
              "color": "#E5ECF6",
              "width": 0.5
             },
             "pattern": {
              "fillmode": "overlay",
              "size": 10,
              "solidity": 0.2
             }
            },
            "type": "barpolar"
           }
          ],
          "carpet": [
           {
            "aaxis": {
             "endlinecolor": "#2a3f5f",
             "gridcolor": "white",
             "linecolor": "white",
             "minorgridcolor": "white",
             "startlinecolor": "#2a3f5f"
            },
            "baxis": {
             "endlinecolor": "#2a3f5f",
             "gridcolor": "white",
             "linecolor": "white",
             "minorgridcolor": "white",
             "startlinecolor": "#2a3f5f"
            },
            "type": "carpet"
           }
          ],
          "choropleth": [
           {
            "colorbar": {
             "outlinewidth": 0,
             "ticks": ""
            },
            "type": "choropleth"
           }
          ],
          "contour": [
           {
            "colorbar": {
             "outlinewidth": 0,
             "ticks": ""
            },
            "colorscale": [
             [
              0,
              "#0d0887"
             ],
             [
              0.1111111111111111,
              "#46039f"
             ],
             [
              0.2222222222222222,
              "#7201a8"
             ],
             [
              0.3333333333333333,
              "#9c179e"
             ],
             [
              0.4444444444444444,
              "#bd3786"
             ],
             [
              0.5555555555555556,
              "#d8576b"
             ],
             [
              0.6666666666666666,
              "#ed7953"
             ],
             [
              0.7777777777777778,
              "#fb9f3a"
             ],
             [
              0.8888888888888888,
              "#fdca26"
             ],
             [
              1,
              "#f0f921"
             ]
            ],
            "type": "contour"
           }
          ],
          "contourcarpet": [
           {
            "colorbar": {
             "outlinewidth": 0,
             "ticks": ""
            },
            "type": "contourcarpet"
           }
          ],
          "heatmap": [
           {
            "colorbar": {
             "outlinewidth": 0,
             "ticks": ""
            },
            "colorscale": [
             [
              0,
              "#0d0887"
             ],
             [
              0.1111111111111111,
              "#46039f"
             ],
             [
              0.2222222222222222,
              "#7201a8"
             ],
             [
              0.3333333333333333,
              "#9c179e"
             ],
             [
              0.4444444444444444,
              "#bd3786"
             ],
             [
              0.5555555555555556,
              "#d8576b"
             ],
             [
              0.6666666666666666,
              "#ed7953"
             ],
             [
              0.7777777777777778,
              "#fb9f3a"
             ],
             [
              0.8888888888888888,
              "#fdca26"
             ],
             [
              1,
              "#f0f921"
             ]
            ],
            "type": "heatmap"
           }
          ],
          "heatmapgl": [
           {
            "colorbar": {
             "outlinewidth": 0,
             "ticks": ""
            },
            "colorscale": [
             [
              0,
              "#0d0887"
             ],
             [
              0.1111111111111111,
              "#46039f"
             ],
             [
              0.2222222222222222,
              "#7201a8"
             ],
             [
              0.3333333333333333,
              "#9c179e"
             ],
             [
              0.4444444444444444,
              "#bd3786"
             ],
             [
              0.5555555555555556,
              "#d8576b"
             ],
             [
              0.6666666666666666,
              "#ed7953"
             ],
             [
              0.7777777777777778,
              "#fb9f3a"
             ],
             [
              0.8888888888888888,
              "#fdca26"
             ],
             [
              1,
              "#f0f921"
             ]
            ],
            "type": "heatmapgl"
           }
          ],
          "histogram": [
           {
            "marker": {
             "pattern": {
              "fillmode": "overlay",
              "size": 10,
              "solidity": 0.2
             }
            },
            "type": "histogram"
           }
          ],
          "histogram2d": [
           {
            "colorbar": {
             "outlinewidth": 0,
             "ticks": ""
            },
            "colorscale": [
             [
              0,
              "#0d0887"
             ],
             [
              0.1111111111111111,
              "#46039f"
             ],
             [
              0.2222222222222222,
              "#7201a8"
             ],
             [
              0.3333333333333333,
              "#9c179e"
             ],
             [
              0.4444444444444444,
              "#bd3786"
             ],
             [
              0.5555555555555556,
              "#d8576b"
             ],
             [
              0.6666666666666666,
              "#ed7953"
             ],
             [
              0.7777777777777778,
              "#fb9f3a"
             ],
             [
              0.8888888888888888,
              "#fdca26"
             ],
             [
              1,
              "#f0f921"
             ]
            ],
            "type": "histogram2d"
           }
          ],
          "histogram2dcontour": [
           {
            "colorbar": {
             "outlinewidth": 0,
             "ticks": ""
            },
            "colorscale": [
             [
              0,
              "#0d0887"
             ],
             [
              0.1111111111111111,
              "#46039f"
             ],
             [
              0.2222222222222222,
              "#7201a8"
             ],
             [
              0.3333333333333333,
              "#9c179e"
             ],
             [
              0.4444444444444444,
              "#bd3786"
             ],
             [
              0.5555555555555556,
              "#d8576b"
             ],
             [
              0.6666666666666666,
              "#ed7953"
             ],
             [
              0.7777777777777778,
              "#fb9f3a"
             ],
             [
              0.8888888888888888,
              "#fdca26"
             ],
             [
              1,
              "#f0f921"
             ]
            ],
            "type": "histogram2dcontour"
           }
          ],
          "mesh3d": [
           {
            "colorbar": {
             "outlinewidth": 0,
             "ticks": ""
            },
            "type": "mesh3d"
           }
          ],
          "parcoords": [
           {
            "line": {
             "colorbar": {
              "outlinewidth": 0,
              "ticks": ""
             }
            },
            "type": "parcoords"
           }
          ],
          "pie": [
           {
            "automargin": true,
            "type": "pie"
           }
          ],
          "scatter": [
           {
            "fillpattern": {
             "fillmode": "overlay",
             "size": 10,
             "solidity": 0.2
            },
            "type": "scatter"
           }
          ],
          "scatter3d": [
           {
            "line": {
             "colorbar": {
              "outlinewidth": 0,
              "ticks": ""
             }
            },
            "marker": {
             "colorbar": {
              "outlinewidth": 0,
              "ticks": ""
             }
            },
            "type": "scatter3d"
           }
          ],
          "scattercarpet": [
           {
            "marker": {
             "colorbar": {
              "outlinewidth": 0,
              "ticks": ""
             }
            },
            "type": "scattercarpet"
           }
          ],
          "scattergeo": [
           {
            "marker": {
             "colorbar": {
              "outlinewidth": 0,
              "ticks": ""
             }
            },
            "type": "scattergeo"
           }
          ],
          "scattergl": [
           {
            "marker": {
             "colorbar": {
              "outlinewidth": 0,
              "ticks": ""
             }
            },
            "type": "scattergl"
           }
          ],
          "scattermapbox": [
           {
            "marker": {
             "colorbar": {
              "outlinewidth": 0,
              "ticks": ""
             }
            },
            "type": "scattermapbox"
           }
          ],
          "scatterpolar": [
           {
            "marker": {
             "colorbar": {
              "outlinewidth": 0,
              "ticks": ""
             }
            },
            "type": "scatterpolar"
           }
          ],
          "scatterpolargl": [
           {
            "marker": {
             "colorbar": {
              "outlinewidth": 0,
              "ticks": ""
             }
            },
            "type": "scatterpolargl"
           }
          ],
          "scatterternary": [
           {
            "marker": {
             "colorbar": {
              "outlinewidth": 0,
              "ticks": ""
             }
            },
            "type": "scatterternary"
           }
          ],
          "surface": [
           {
            "colorbar": {
             "outlinewidth": 0,
             "ticks": ""
            },
            "colorscale": [
             [
              0,
              "#0d0887"
             ],
             [
              0.1111111111111111,
              "#46039f"
             ],
             [
              0.2222222222222222,
              "#7201a8"
             ],
             [
              0.3333333333333333,
              "#9c179e"
             ],
             [
              0.4444444444444444,
              "#bd3786"
             ],
             [
              0.5555555555555556,
              "#d8576b"
             ],
             [
              0.6666666666666666,
              "#ed7953"
             ],
             [
              0.7777777777777778,
              "#fb9f3a"
             ],
             [
              0.8888888888888888,
              "#fdca26"
             ],
             [
              1,
              "#f0f921"
             ]
            ],
            "type": "surface"
           }
          ],
          "table": [
           {
            "cells": {
             "fill": {
              "color": "#EBF0F8"
             },
             "line": {
              "color": "white"
             }
            },
            "header": {
             "fill": {
              "color": "#C8D4E3"
             },
             "line": {
              "color": "white"
             }
            },
            "type": "table"
           }
          ]
         },
         "layout": {
          "annotationdefaults": {
           "arrowcolor": "#2a3f5f",
           "arrowhead": 0,
           "arrowwidth": 1
          },
          "autotypenumbers": "strict",
          "coloraxis": {
           "colorbar": {
            "outlinewidth": 0,
            "ticks": ""
           }
          },
          "colorscale": {
           "diverging": [
            [
             0,
             "#8e0152"
            ],
            [
             0.1,
             "#c51b7d"
            ],
            [
             0.2,
             "#de77ae"
            ],
            [
             0.3,
             "#f1b6da"
            ],
            [
             0.4,
             "#fde0ef"
            ],
            [
             0.5,
             "#f7f7f7"
            ],
            [
             0.6,
             "#e6f5d0"
            ],
            [
             0.7,
             "#b8e186"
            ],
            [
             0.8,
             "#7fbc41"
            ],
            [
             0.9,
             "#4d9221"
            ],
            [
             1,
             "#276419"
            ]
           ],
           "sequential": [
            [
             0,
             "#0d0887"
            ],
            [
             0.1111111111111111,
             "#46039f"
            ],
            [
             0.2222222222222222,
             "#7201a8"
            ],
            [
             0.3333333333333333,
             "#9c179e"
            ],
            [
             0.4444444444444444,
             "#bd3786"
            ],
            [
             0.5555555555555556,
             "#d8576b"
            ],
            [
             0.6666666666666666,
             "#ed7953"
            ],
            [
             0.7777777777777778,
             "#fb9f3a"
            ],
            [
             0.8888888888888888,
             "#fdca26"
            ],
            [
             1,
             "#f0f921"
            ]
           ],
           "sequentialminus": [
            [
             0,
             "#0d0887"
            ],
            [
             0.1111111111111111,
             "#46039f"
            ],
            [
             0.2222222222222222,
             "#7201a8"
            ],
            [
             0.3333333333333333,
             "#9c179e"
            ],
            [
             0.4444444444444444,
             "#bd3786"
            ],
            [
             0.5555555555555556,
             "#d8576b"
            ],
            [
             0.6666666666666666,
             "#ed7953"
            ],
            [
             0.7777777777777778,
             "#fb9f3a"
            ],
            [
             0.8888888888888888,
             "#fdca26"
            ],
            [
             1,
             "#f0f921"
            ]
           ]
          },
          "colorway": [
           "#636efa",
           "#EF553B",
           "#00cc96",
           "#ab63fa",
           "#FFA15A",
           "#19d3f3",
           "#FF6692",
           "#B6E880",
           "#FF97FF",
           "#FECB52"
          ],
          "font": {
           "color": "#2a3f5f"
          },
          "geo": {
           "bgcolor": "white",
           "lakecolor": "white",
           "landcolor": "#E5ECF6",
           "showlakes": true,
           "showland": true,
           "subunitcolor": "white"
          },
          "hoverlabel": {
           "align": "left"
          },
          "hovermode": "closest",
          "mapbox": {
           "style": "light"
          },
          "paper_bgcolor": "white",
          "plot_bgcolor": "#E5ECF6",
          "polar": {
           "angularaxis": {
            "gridcolor": "white",
            "linecolor": "white",
            "ticks": ""
           },
           "bgcolor": "#E5ECF6",
           "radialaxis": {
            "gridcolor": "white",
            "linecolor": "white",
            "ticks": ""
           }
          },
          "scene": {
           "xaxis": {
            "backgroundcolor": "#E5ECF6",
            "gridcolor": "white",
            "gridwidth": 2,
            "linecolor": "white",
            "showbackground": true,
            "ticks": "",
            "zerolinecolor": "white"
           },
           "yaxis": {
            "backgroundcolor": "#E5ECF6",
            "gridcolor": "white",
            "gridwidth": 2,
            "linecolor": "white",
            "showbackground": true,
            "ticks": "",
            "zerolinecolor": "white"
           },
           "zaxis": {
            "backgroundcolor": "#E5ECF6",
            "gridcolor": "white",
            "gridwidth": 2,
            "linecolor": "white",
            "showbackground": true,
            "ticks": "",
            "zerolinecolor": "white"
           }
          },
          "shapedefaults": {
           "line": {
            "color": "#2a3f5f"
           }
          },
          "ternary": {
           "aaxis": {
            "gridcolor": "white",
            "linecolor": "white",
            "ticks": ""
           },
           "baxis": {
            "gridcolor": "white",
            "linecolor": "white",
            "ticks": ""
           },
           "bgcolor": "#E5ECF6",
           "caxis": {
            "gridcolor": "white",
            "linecolor": "white",
            "ticks": ""
           }
          },
          "title": {
           "x": 0.05
          },
          "xaxis": {
           "automargin": true,
           "gridcolor": "white",
           "linecolor": "white",
           "ticks": "",
           "title": {
            "standoff": 15
           },
           "zerolinecolor": "white",
           "zerolinewidth": 2
          },
          "yaxis": {
           "automargin": true,
           "gridcolor": "white",
           "linecolor": "white",
           "ticks": "",
           "title": {
            "standoff": 15
           },
           "zerolinecolor": "white",
           "zerolinewidth": 2
          }
         }
        },
        "title": {
         "text": "Relative Amounts per Subject by Party"
        },
        "width": 1920,
        "xaxis": {
         "categoryorder": "total descending",
         "title": {
          "text": "Subject"
         }
        },
        "yaxis": {
         "title": {
          "text": "Percentage"
         }
        }
       }
      }
     },
     "metadata": {},
     "output_type": "display_data"
    }
   ],
   "source": [
    "colors = {\n",
    "    \"DéFI\": \"#FFA500\",       # Orange\n",
    "    \"N-VA\": \"#FFD700\",       # Yellow\n",
    "    \"Les Engagés\": \"#FF8C00\",# Darker Orange\n",
    "    \"VB\": \"#000000\",         # Black\n",
    "    \"PVDA\": \"#FF0000\",       # Bright Red\n",
    "    \"Open Vld\": \"#1E90FF\",   # Dodger Blue\n",
    "    \"PTB\": \"#CD5C5C\",        # Indian Red\n",
    "    \"MR\": \"#87CEEB\",         # Sky Blue\n",
    "    \"Vooruit\": \"#DC143C\",    # Crimson\n",
    "    \"Ecolo\": \"#228B22\",      # Forest Green\n",
    "    \"Groen\": \"#32CD32\",      # Lime Green\n",
    "    \"CD&V\": \"#FF6347\",       # Tomato\n",
    "    \"PS\": \"#B22222\",         # Firebrick Red\n",
    "    \"cd&v\": \"#FFF\",          # White\n",
    "    \"ZZZ\": \"#1D1D1D\"         # Grey\n",
    "}\n",
    "\n",
    "\n",
    "def calculate_relative(data):\n",
    "    relative_data = {}\n",
    "    for party, subjects in data.items():\n",
    "        total = sum(subjects.values())\n",
    "        relative_data[party] = {subject: value / total for subject, value in subjects.items()}\n",
    "    return relative_data\n",
    "\n",
    "def plot_relative(data):\n",
    "    relative_data = calculate_relative(data)\n",
    "    fig = go.Figure()\n",
    "    for party, subjects in relative_data.items():\n",
    "        fig.add_trace(go.Bar(\n",
    "            name=party,\n",
    "            x=list(subjects.keys()),\n",
    "            y=list(subjects.values()),\n",
    "            marker_color=colors[party]\n",
    "        ))\n",
    "    fig.update_layout(\n",
    "        title=\"Relative Amounts per Subject by Party\",\n",
    "        xaxis_title=\"Subject\",\n",
    "        yaxis_title=\"Percentage\",\n",
    "        barmode='group',\n",
    "        xaxis={'categoryorder':'total descending'},\n",
    "        height=1080,\n",
    "        width=1920\n",
    "    )\n",
    "    fig.show()\n",
    "\n",
    "plot_relative(parties_to_domains)"
   ]
  },
  {
   "cell_type": "code",
   "execution_count": null,
   "metadata": {},
   "outputs": [],
   "source": []
  }
 ],
 "metadata": {
  "kernelspec": {
   "display_name": ".venv",
   "language": "python",
   "name": "python3"
  },
  "language_info": {
   "codemirror_mode": {
    "name": "ipython",
    "version": 3
   },
   "file_extension": ".py",
   "mimetype": "text/x-python",
   "name": "python",
   "nbconvert_exporter": "python",
   "pygments_lexer": "ipython3",
   "version": "3.12.3"
  }
 },
 "nbformat": 4,
 "nbformat_minor": 2
}
